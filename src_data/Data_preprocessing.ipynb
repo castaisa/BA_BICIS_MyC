{
 "cells": [
  {
   "cell_type": "markdown",
   "metadata": {},
   "source": [
    "# Preprocesamiento de los datos"
   ]
  },
  {
   "cell_type": "code",
   "execution_count": null,
   "id": "2c6891db",
   "metadata": {},
   "outputs": [],
   "source": [
    "import numpy as np\n",
    "import pandas as pd\n",
    "import matplotlib.pyplot as plt\n",
    "import seaborn as sns\n",
    "import os\n",
    "import importlib"
   ]
  },
  {
   "cell_type": "code",
   "execution_count": 13,
   "id": "39f2924b",
   "metadata": {},
   "outputs": [],
   "source": [
    "import basic_preprocessing as bp\n",
    "import auxiliares_data as aux_d\n",
    "import crear_dataset as cd"
   ]
  },
  {
   "cell_type": "markdown",
   "id": "a12a414a",
   "metadata": {},
   "source": [
    "## Parte 1: Limpieza de datos\n",
    "### Usuarios\n",
    "Cambios para limpiar los datos de usuarios:\n",
    "- eliminar la última columna que no esta en 2024\n",
    "- pasar al mismo formato (sacar comillas donde corresponde)\n",
    "- eliminar primera fila con los nombres de las features\n",
    "- cortar hasta agosto 2024"
   ]
  },
  {
   "cell_type": "code",
   "execution_count": 3,
   "id": "9dfb92f6",
   "metadata": {
    "vscode": {
     "languageId": "perl"
    }
   },
   "outputs": [],
   "source": [
    "# Definimos los paths para los archivos de usuarios de cada año usando os.path.join\n",
    "BASE_DIR = os.getcwd()\n",
    "\n",
    "usuarios_2023_path = os.path.join(BASE_DIR, '..', 'data', 'raw', 'usuarios', 'usuarios_ecobici_2023.csv')\n",
    "usuarios_2022_path = os.path.join(BASE_DIR, '..', 'data', 'raw', 'usuarios', 'usuarios_ecobici_2022.csv')\n",
    "usuarios_2021_path = os.path.join(BASE_DIR, '..', 'data', 'raw', 'usuarios', 'usuarios_ecobici_2021.csv')\n",
    "usuarios_2020_path = os.path.join(BASE_DIR, '..', 'data', 'raw', 'usuarios', 'usuarios_ecobici_2020.csv')\n",
    "usuarios_2024_path = os.path.join(BASE_DIR, '..', 'data', 'raw', 'usuarios', 'usuarios_ecobici_2024.csv')"
   ]
  },
  {
   "cell_type": "code",
   "execution_count": 5,
   "id": "97840035",
   "metadata": {
    "vscode": {
     "languageId": "perl"
    }
   },
   "outputs": [
    {
     "name": "stderr",
     "output_type": "stream",
     "text": [
      "c:\\Users\\felic\\OneDrive\\Documentos\\GitHub\\TPsM-todos\\BA_BICIS_MyC\\src_data\\basic_preprocessing.py:5: DtypeWarning: Columns (2) have mixed types. Specify dtype option on import or set low_memory=False.\n",
      "  df = pd.read_csv(csv_path)\n"
     ]
    }
   ],
   "source": [
    "importlib.reload(bp)\n",
    "df_users, users_cut = bp.unite_usuarios(\n",
    "    usuarios_2024_path,\n",
    "    usuarios_2023_path,\n",
    "    usuarios_2022_path,\n",
    "    usuarios_2021_path,\n",
    "    usuarios_2020_path\n",
    ")\n",
    "\n",
    "# guardamos df_users en un archivo csv\n",
    "df_users.to_csv(os.path.join(BASE_DIR, '..', 'data', 'clean', 'usuarios_ecobici.csv'), index=False)"
   ]
  },
  {
   "cell_type": "markdown",
   "id": "464f0bc4",
   "metadata": {},
   "source": [
    "### Recorridos\n",
    "\n",
    "Cambios para limpiar los datos del recorrido:\n",
    "\n"
   ]
  },
  {
   "cell_type": "code",
   "execution_count": 6,
   "id": "132f9a4d",
   "metadata": {
    "vscode": {
     "languageId": "perl"
    }
   },
   "outputs": [],
   "source": [
    "#Definimos los paths para los archivos de recorridos de cada año usando os.path.join\n",
    "recorridos_2024_path = os.path.join(BASE_DIR, '..', 'data', 'raw', 'recorridos', 'trips_2024.csv')\n",
    "recorridos_2023_path = os.path.join(BASE_DIR, '..', 'data', 'raw', 'recorridos', 'trips_2023.csv')\n",
    "recorridos_2022_path = os.path.join(BASE_DIR, '..', 'data', 'raw', 'recorridos', 'trips_2022.csv')\n",
    "recorridos_2021_path = os.path.join(BASE_DIR, '..', 'data', 'raw', 'recorridos', 'trips_2021.csv')\n",
    "recorridos_2020_path = os.path.join(BASE_DIR, '..', 'data', 'raw', 'recorridos', 'trips_2020.csv')"
   ]
  },
  {
   "cell_type": "code",
   "execution_count": 59,
   "metadata": {
    "vscode": {
     "languageId": "perl"
    }
   },
   "outputs": [
    {
     "name": "stderr",
     "output_type": "stream",
     "text": [
      "c:\\Users\\felic\\OneDrive\\Documentos\\GitHub\\TPsM-todos\\BA_BICIS_MyC\\src_data\\basic_preprocessing.py:143: DtypeWarning: Columns (13,14) have mixed types. Specify dtype option on import or set low_memory=False.\n",
      "  df_2023 = pd.read_csv(csv_2023, **read_csv_params)\n"
     ]
    },
    {
     "name": "stdout",
     "output_type": "stream",
     "text": [
      "Rango de fechas original:\n",
      "2024-01-01 00:06:50 a 2024-12-31 23:58:25\n",
      "Fecha límite aplicada: 2024-08-31 23:59:59\n",
      "Rango de fechas después de cortar:\n",
      "2024-01-01 00:06:50 a 2024-08-31 23:54:32\n",
      "Filas eliminadas: 1403639\n"
     ]
    }
   ],
   "source": [
    "importlib.reload(bp)\n",
    "df_recs, eliminados_rec = bp.limpiar_recorridos(\n",
    "    recorridos_2024_path,\n",
    "    recorridos_2023_path,\n",
    "    recorridos_2022_path,\n",
    "    recorridos_2021_path,\n",
    "    None #recorridos_2020_path\n",
    ")\n",
    "\n",
    "# guardamos df_recs en un archivo csv\n",
    "df_recs.to_csv(os.path.join(BASE_DIR, '..', 'data', 'clean', 'recorridos_ecobici.csv'), index=False)"
   ]
  },
  {
   "cell_type": "code",
   "execution_count": 60,
   "metadata": {
    "vscode": {
     "languageId": "perl"
    }
   },
   "outputs": [
    {
     "name": "stdout",
     "output_type": "stream",
     "text": [
      "  id_usuario genero_usuario edad_usuario fecha_alta hora_alta\n",
      "0     629007         FEMALE         25.0 2020-01-01  18:08:32\n",
      "1     628464         FEMALE         57.0 2020-01-01  10:11:03\n",
      "2     628448           MALE         64.0 2020-01-01  09:49:05\n",
      "3     628373           MALE         22.0 2020-01-01  01:31:03\n",
      "4     628976           MALE         33.0 2020-01-01  17:47:35\n"
     ]
    },
    {
     "name": "stdout",
     "output_type": "stream",
     "text": [
      "Estadísticas del merge:\n",
      "Total recorridos: 10560871\n",
      "Recorridos con información de usuario: 6068228\n",
      "Recorridos sin información de usuario: 4492643\n",
      "Porcentaje de match: 57.46%\n"
     ]
    }
   ],
   "source": [
    "#Unificamos los datasets de usuarios y recorridos\n",
    "importlib.reload(bp)\n",
    "print(df_users.head())\n",
    "\n",
    "df_unificado = bp.unificar_datasets(df_recs, df_users)\n",
    "\n",
    "# guardamos df_unificado en un archivo csv\n",
    "df_unificado.to_csv(os.path.join(BASE_DIR, '..', 'data', 'clean', 'usuarios_recorridos_ecobici.csv'), index=False)"
   ]
  },
  {
   "cell_type": "code",
   "execution_count": 61,
   "metadata": {
    "vscode": {
     "languageId": "perl"
    }
   },
   "outputs": [
    {
     "data": {
      "application/vnd.microsoft.datawrangler.viewer.v0+json": {
       "columns": [
        {
         "name": "index",
         "rawType": "int64",
         "type": "integer"
        },
        {
         "name": "Id_recorrido",
         "rawType": "object",
         "type": "unknown"
        },
        {
         "name": "duracion_recorrido",
         "rawType": "object",
         "type": "unknown"
        },
        {
         "name": "fecha_origen_recorrido",
         "rawType": "object",
         "type": "unknown"
        },
        {
         "name": "id_estacion_origen",
         "rawType": "Int64",
         "type": "integer"
        },
        {
         "name": "nombre_estacion_origen",
         "rawType": "object",
         "type": "string"
        },
        {
         "name": "direccion_estacion_origen",
         "rawType": "object",
         "type": "string"
        },
        {
         "name": "long_estacion_origen",
         "rawType": "float64",
         "type": "float"
        },
        {
         "name": "lat_estacion_origen",
         "rawType": "float64",
         "type": "float"
        },
        {
         "name": "fecha_destino_recorrido",
         "rawType": "object",
         "type": "string"
        },
        {
         "name": "id_estacion_destino",
         "rawType": "Int64",
         "type": "integer"
        },
        {
         "name": "nombre_estacion_destino",
         "rawType": "object",
         "type": "string"
        },
        {
         "name": "direccion_estacion_destino",
         "rawType": "object",
         "type": "string"
        },
        {
         "name": "long_estacion_destino",
         "rawType": "object",
         "type": "unknown"
        },
        {
         "name": "lat_estacion_destino",
         "rawType": "object",
         "type": "unknown"
        },
        {
         "name": "id_usuario",
         "rawType": "object",
         "type": "string"
        },
        {
         "name": "modelo_bicicleta",
         "rawType": "object",
         "type": "string"
        },
        {
         "name": "género",
         "rawType": "object",
         "type": "unknown"
        },
        {
         "name": "edad_usuario",
         "rawType": "object",
         "type": "unknown"
        },
        {
         "name": "fecha_alta",
         "rawType": "datetime64[ns]",
         "type": "datetime"
        },
        {
         "name": "hora_alta",
         "rawType": "object",
         "type": "unknown"
        }
       ],
       "ref": "a68eebfc-4ae6-49e4-b59f-8988b2f992c4",
       "rows": [
        [
         "0",
         "18999377",
         "565",
         "2023-09-05 14:59:57",
         "262",
         "349 - Plaza Saenz Peña",
         "Andrés Lamas 1699",
         "-58.4672969335981",
         "-34.6097088334705",
         "2023-09-05 15:09:22",
         "342",
         "218 - Campana",
         "1523 Campana",
         "-58.484297",
         "-34.616813",
         "182948",
         "FIT",
         "FEMALE",
         null,
         null,
         null
        ],
        [
         "1",
         "11378975",
         "632",
         "2021-06-26 06:00:57",
         "91",
         "091 - Pasco",
         "708 Pasco & Chile",
         "-58.397602",
         "-34.6174482",
         "2021-06-26 06:11:29",
         "24",
         "024 - ALSINA",
         "Adolfo Alsina& Bernardo De Irigoyen",
         "-34.610583",
         "-34.610583,-58.3808943",
         "640310",
         "ICONIC",
         "FEMALE",
         "23.0",
         "2020-01-15 00:00:00",
         "17:43:41"
        ],
        [
         "2",
         "14244217",
         "359",
         "2022-04-21 19:56:04",
         "73",
         "073 - Ruy Díaz de Guzmán",
         "Avenida Martin Garcia y Ruy Díaz de Guzmán",
         "-58.3718235",
         "-34.6306814",
         "2022-04-21 20:02:03",
         "433",
         "273 - Plazoleta Colombia",
         "1619 Brandsen",
         "-58.373726",
         "-34.637697",
         "404564",
         "ICONIC",
         "OTHER",
         null,
         null,
         null
        ],
        [
         "3",
         "17267286",
         "797",
         "2023-02-17 04:04:51",
         "187",
         "261 - QUINTEROS LIDORO",
         "1483 Quinteros, Lidoro J. Av.",
         "-58.450897",
         "-34.552571",
         "2023-02-17 04:18:08",
         "187",
         "261 - QUINTEROS LIDORO",
         "1483 Quinteros, Lidoro J. Av.",
         "-58.450897",
         "-34.552571",
         "918518",
         "ICONIC",
         "MALE",
         "40",
         "2022-11-05 00:00:00",
         "17:08:56"
        ],
        [
         "4",
         "17793583",
         "1,366",
         "2023-04-11 20:20:31",
         "65",
         "065 - Julián Álvarez",
         "3822 Guemes",
         "-58.4157873",
         "-34.5873124",
         "2023-04-11 20:43:17",
         "25",
         "025 - Plaza Guemes",
         "Salguero, Jeronimo & Mansilla, Lucio Norberto, General",
         "-58.4161178",
         "-34.5894269",
         "976759",
         "FIT",
         "FEMALE",
         "19",
         "2023-04-11 00:00:00",
         "19:49:46"
        ],
        [
         "5",
         "11406946",
         "332",
         "2021-07-01 11:46:15",
         "116",
         "116 - HOSPITAL ALEMÁN",
         "Beruti & Ecuador",
         "-58.4025894",
         "-34.5921708",
         "2021-07-01 11:51:47",
         "30",
         "030 - Peña",
         "Peña & Azcuenaga",
         "-34.5908211",
         "-34.5908211,-58.3973698",
         "21223",
         "ICONIC",
         "NA",
         null,
         null,
         null
        ],
        [
         "6",
         "20242071",
         "4594",
         "2024-01-07 01:04:18",
         "485",
         "230 - PASEO DE LA COSTANERA II",
         "Av. Costanera Rafael Obligado 5100",
         "-58.42143999999999",
         "-34.553465",
         "2024-01-07 02:20:52",
         "485",
         "230 - PASEO DE LA COSTANERA II",
         "Av. Costanera Rafael Obligado 5100",
         "-58.42143999999999",
         "-34.553465",
         "1087773",
         "FIT",
         "MALE",
         "32",
         "2024-01-07 00:00:00",
         "00:59:06"
        ],
        [
         "7",
         "20642334",
         "21",
         "2024-02-13 19:13:06",
         "516",
         "368 - PLAZA DE LA SHOÁ",
         "Av. Del Libertador 3899",
         "-58.423346900000006",
         "-34.5709984",
         "2024-02-13 19:13:27",
         "516",
         "368 - PLAZA DE LA SHOÁ",
         "Av. Del Libertador 3899",
         "-58.423346900000006",
         "-34.5709984",
         "1110573",
         "FIT",
         "MALE",
         "20",
         "2024-02-13 00:00:00",
         "16:46:40"
        ],
        [
         "8",
         "13793993",
         "845",
         "2022-03-11 18:39:34",
         "204",
         "167 - Hipólito Yrigoyen",
         "4300 Yrigoyen, Hipolito Av.",
         "-58.427818",
         "-34.614948",
         "2022-03-11 18:53:39",
         "54",
         "054 - Acuña de Figueroa",
         "Lavalle 4015",
         "-58.4220694",
         "-34.5982097",
         "730403",
         "FIT",
         "MALE",
         "22.0",
         "2020-12-07 00:00:00",
         "19:14:45"
        ],
        [
         "9",
         "20760486",
         "107",
         "2024-02-22 16:57:02",
         "418",
         "345 - Plaza Mafalda",
         "Conde & Concepción Arenal",
         "-58.44458039999999",
         "-34.5809383",
         "2024-02-22 16:58:49",
         "418",
         "345 - Plaza Mafalda",
         "Conde & Concepción Arenal",
         "-58.44458039999999",
         "-34.5809383",
         "739824",
         "FIT",
         "MALE",
         "49",
         "2021-01-15 00:00:00",
         "10:13:14"
        ],
        [
         "10",
         "21591382",
         "1369",
         "2024-05-03 10:18:22",
         "262",
         "349 - Plaza Saenz Peña",
         "Andrés Lamas 1699",
         "-58.46729693359809",
         "-34.6097088334705",
         "2024-05-03 10:41:11",
         "453",
         "028 - Plaza de la Bandera",
         "Av. Gaona 5181",
         "-58.49448539999998",
         "-34.6294802",
         "1106085",
         "FIT",
         "FEMALE",
         "21",
         "2024-02-05 00:00:00",
         "21:13:33"
        ],
        [
         "11",
         "10128857",
         "1,633",
         "2021-02-14 14:29:47",
         "435",
         "227 -Club Ciudad de Buenos Aires",
         "Miguel Sanchez y Av Libertadores",
         "-58.459499",
         "-34.544503",
         "2021-02-14 14:57:00",
         "358",
         "249 - Balbín",
         "2519 Conesa",
         "-34.561486",
         "-34.561486,-58.465586",
         "131374",
         "ICONIC",
         "MALE",
         null,
         null,
         null
        ],
        [
         "12",
         "17199421",
         "955",
         "2023-02-10 00:15:37",
         "191",
         "191 - Rivadavia y 9 de Julio",
         "Pellegrini Y Rivadavia Av.",
         "-58.3808358",
         "-34.6079305",
         "2023-02-10 00:31:32",
         "76",
         "076 - Ayacucho",
         "Ayacucho &Peron, Juan Domingo, Tte. General",
         "-58.3950548",
         "-34.6074084",
         "952421",
         "ICONIC",
         "FEMALE",
         "20",
         "2023-02-01 00:00:00",
         "20:32:51"
        ],
        [
         "13",
         "20611616",
         "1073",
         "2024-02-09 00:47:19",
         "324",
         "280 - JURAMENTO",
         "5209 Juramento",
         "-58.4840556",
         "-34.578933",
         "2024-02-09 01:05:12",
         "532",
         "072 - INSTITUTO POLITÉCNICO MODELO",
         "Av Constituyentes 5880",
         "-58.5039082871025",
         "-34.573033051099245",
         "1103033",
         "FIT",
         "FEMALE",
         "21",
         "2024-01-29 00:00:00",
         "23:59:56"
        ],
        [
         "14",
         "15160976",
         "451",
         "2022-08-06 10:21:19",
         "120",
         "120 - HOSPITAL RAMOS MEJIA",
         "3084 Agrelo",
         "-58.4092876",
         "-34.617509",
         "2022-08-06 10:28:50",
         "13",
         "013 - ONCE",
         "Av. Pueyrredon & Av. Rivadavia",
         "-58.406",
         "-34.61009",
         "774665",
         "FIT",
         "MALE",
         "37",
         "2021-06-29 00:00:00",
         "08:34:04"
        ],
        [
         "15",
         "19154461",
         "392",
         "2023-09-21 16:56:16",
         "33",
         "033 - Facultad de Medicina",
         "Pres. José Evaristo Uriburu 987",
         "-58.3989807",
         "-34.5970909",
         "2023-09-21 17:02:48",
         "76",
         "076 - Ayacucho",
         "Ayacucho &Peron, Juan Domingo, Tte. General",
         "-58.3950548",
         "-34.6074084",
         "773168",
         "ICONIC",
         "MALE",
         "33",
         "2021-06-14 00:00:00",
         "16:10:51"
        ],
        [
         "16",
         "18755198",
         "1,957",
         "2023-08-08 15:10:32",
         "41",
         "041 - PARQUE PATRICIOS II",
         "Av Caseros 3015",
         "-58.4058883",
         "-34.6371232",
         "2023-08-08 15:43:09",
         "21",
         "021 - Parque Patricios",
         "Iguazu & Uspallata",
         "-58.406432",
         "-34.640111",
         "954318",
         "FIT",
         "FEMALE",
         "41",
         "2023-02-06 00:00:00",
         "13:44:04"
        ],
        [
         "17",
         "20726530",
         "3353",
         "2024-02-20 13:51:55",
         "255",
         "374 - Puan",
         "Yerbal 1290",
         "-58.448547000000005",
         "-34.622092",
         "2024-02-20 14:47:48",
         "254",
         "276 - PRIMERA JUNTA",
         "Av. Rivadavia 5408 ",
         "-58.4413509067459",
         "-34.62079441851816",
         "1070024",
         "FIT",
         "MALE",
         "37",
         "2023-12-01 00:00:00",
         "19:50:21"
        ],
        [
         "18",
         "18432441",
         "1,051",
         "2023-06-27 10:05:59",
         "33",
         "033 - Facultad de Medicina",
         "Pres. José Evaristo Uriburu 987",
         "-58.3989807",
         "-34.5970909",
         "2023-06-27 10:23:30",
         "33",
         "033 - Facultad de Medicina",
         "Pres. José Evaristo Uriburu 987",
         "-58.3989807",
         "-34.5970909",
         "879439",
         "FIT",
         "FEMALE",
         "22",
         "2022-08-08 00:00:00",
         "15:37:04"
        ],
        [
         "19",
         "19120004",
         "2,051",
         "2023-09-18 15:08:17",
         "91",
         "091 - Pasco",
         "708 Pasco & Chile",
         "-58.397602",
         "-34.6174482",
         "2023-09-18 15:42:28",
         "156",
         "156 - Plaza Alemania",
         "2939 Cavia",
         "-58.4074696",
         "-34.5775895",
         "688215",
         "FIT",
         "MALE",
         "39.0",
         "2020-08-30 00:00:00",
         "13:42:59"
        ],
        [
         "20",
         "15634567",
         "1,904",
         "2022-09-17 18:33:21",
         "167",
         "275 - PLAZA 24 DE SEPTIEMBRE",
         "1355 San Martin Av.",
         "-58.44854",
         "-34.606984",
         "2022-09-17 19:05:05",
         "96",
         "096 - Carlos Gardel",
         "3302 Guardia Vieja & Aguero",
         "-58.4116586",
         "-34.6027814",
         "327485",
         "ICONIC",
         "FEMALE",
         null,
         null,
         null
        ],
        [
         "21",
         "14158601",
         "2,298",
         "2022-04-13 13:57:29",
         "273",
         "223 - GAINZA",
         "494 Gainza, Martin De, Gral.",
         "-58.446751",
         "-34.616758",
         "2022-04-13 14:35:47",
         "131",
         "131- HOSPITAL DE CLÍNICAS",
         "Uriburu Jose E., Pres. & Paraguay",
         "-58.3990158",
         "-34.5984043",
         "760172",
         "FIT",
         "MALE",
         "34",
         "2021-03-22 00:00:00",
         "10:47:22"
        ],
        [
         "22",
         "22069534",
         "408",
         "2024-06-14 15:52:19",
         "137",
         "137 - AZOPARDO Y CHILE",
         "AZOPARDO 700",
         "-58.3674923",
         "-34.6155977",
         "2024-06-14 15:59:07",
         "128",
         "128 - PARQUE DEL BAJO",
         "Tte. Gral. Juan Domingo Perón 133",
         "-58.36882117",
         "-34.60515159",
         "88705",
         "FIT",
         "OTHER",
         null,
         null,
         null
        ],
        [
         "23",
         "10861227",
         "441",
         "2021-04-21 13:06:02",
         "29",
         "029 - Parque Centenario",
         "Av. Patricias Argentinas & Estivao",
         "-58.4335573",
         "-34.6079414",
         "2021-04-21 13:13:23",
         "197",
         "197 - PLAZA CIUDAD DE UDINE",
         "Mercedes 1480",
         "-34.620998",
         "-34.620998,-58.493044",
         "715768",
         "ICONIC",
         "MALE",
         "25.0",
         "2020-10-31 00:00:00",
         "15:39:00"
        ],
        [
         "24",
         "12580304",
         "733",
         "2021-11-08 13:48:37",
         "4",
         "004 - Plaza Roma",
         "Lavalle & Bouchard",
         "-58.368781",
         "-34.601822",
         "2021-11-08 14:00:50",
         "191",
         "191 - Rivadavia y 9 de Julio",
         "Pellegrini Y Rivadavia Av.",
         "-34.6079305",
         "-34.6079305,-58.3808358",
         "64044",
         "FIT",
         "MALE",
         null,
         null,
         null
        ],
        [
         "25",
         "13728845",
         "2,102",
         "2022-03-06 14:16:41",
         "152",
         "152 - JULIETA LANTERI",
         "Vera Peñaloza, Rosario 599 & Lanteri Julieta",
         "-58.3596311",
         "-34.6181645",
         "2022-03-06 14:51:43",
         "38",
         "038 - Plaza Libertad",
         "Cerrito 990 y Av. Marcelo T. De Alvear",
         "-58.3828403",
         "-34.5970497",
         "733465",
         "ICONIC",
         "MALE",
         "70.0",
         "2020-12-19 00:00:00",
         "15:13:19"
        ],
        [
         "26",
         "10487130",
         "2,191",
         "2021-03-11 17:48:04",
         "29",
         "029 - Parque Centenario",
         "Av. Patricias Argentinas & Estivao",
         "-58.4335573",
         "-34.6079414",
         "2021-03-11 18:24:35",
         "191",
         "191 - Rivadavia y 9 de Julio",
         "Pellegrini Y Rivadavia Av.",
         "-34.6079305",
         "-34.6079305,-58.3808358",
         "66023",
         "ICONIC",
         "FEMALE",
         null,
         null,
         null
        ],
        [
         "27",
         "15465715",
         "1,158",
         "2022-09-04 14:50:33",
         "200",
         "200 - AUSTRIA Y FRENCH",
         "Austria 2075",
         "-58.4053617",
         "-34.5890696",
         "2022-09-04 15:09:51",
         "156",
         "156 - Plaza Alemania",
         "2939 Cavia",
         "-58.4074696",
         "-34.5775895",
         "227466",
         "FIT",
         "OTHER",
         null,
         null,
         null
        ],
        [
         "28",
         "22778633",
         "1870",
         "2024-08-27 14:43:50",
         "453",
         "028 - Plaza de la Bandera",
         "Av. Gaona 5181",
         "-58.49448539999998",
         "-34.6294802",
         "2024-08-27 15:15:00",
         "374",
         "367 - Eva Perón",
         "Primera Junta 3898",
         "-58.46979999999999",
         "-34.6471",
         "1163467",
         "FIT",
         "FEMALE",
         "42",
         "2024-06-07 00:00:00",
         "14:35:36"
        ],
        [
         "29",
         "14527071",
         "508",
         "2022-05-20 07:40:24",
         "161",
         "161 - Humahuaca",
         "3912 Humahuaca",
         "-58.4196761",
         "-34.6020779",
         "2022-05-20 07:48:52",
         "66",
         "066 - Billinghurst",
         "3508 Carcova",
         "-58.4138713",
         "-34.5945475",
         "105694",
         "ICONIC",
         "MALE",
         null,
         null,
         null
        ],
        [
         "30",
         "20916177",
         "32",
         "2024-03-05 15:44:49",
         "107",
         "107 - HOSPITAL GARRAHAN",
         "Brasil 2290",
         "-58.39584399999999",
         "-34.63037718",
         "2024-03-05 15:45:21",
         "107",
         "107 - HOSPITAL GARRAHAN",
         "Brasil 2290",
         "-58.39584399999999",
         "-34.63037718",
         "132408",
         "FIT",
         "OTHER",
         null,
         null,
         null
        ],
        [
         "31",
         "14655495",
         "1,512",
         "2022-06-04 22:16:30",
         "22",
         "022 - Arenales",
         "Cerrito & Arenales",
         "-58.3825498",
         "-34.5938629",
         "2022-06-04 22:41:42",
         "8",
         "008 - Congreso",
         "Cevallos, Virrey& Yrigoyen, Hipolito Av.",
         "-58.3893364",
         "-34.6094218",
         "697099",
         "FIT",
         "MALE",
         "24.0",
         "2020-09-19 00:00:00",
         "14:42:24"
        ],
        [
         "32",
         "14048924",
         "1,990",
         "2022-04-04 17:25:25",
         "5",
         "005 - Plaza Italia",
         "Av. Sarmiento 2601",
         "-58.4209542",
         "-34.5805497",
         "2022-04-04 17:58:35",
         "416",
         "257 - Plaza Francisco Ramirez",
         "2700 Pedraza, Manuela",
         "-58.469133",
         "-34.553262",
         "687357",
         "ICONIC",
         "MALE",
         "54.0",
         "2020-08-28 00:00:00",
         "16:07:59"
        ],
        [
         "33",
         "14834130",
         "838",
         "2022-06-28 09:22:19",
         "215",
         "113 - Guatemala",
         "Guatemala 4773",
         "-58.424996",
         "-34.585878",
         "2022-06-28 09:36:17",
         "364",
         "381 - Matienzo Y Arce",
         "1798 Matienzo, Benjamin, Teniente",
         "-58.43447",
         "-34.568693",
         "692546",
         "ICONIC",
         "MALE",
         "43.0",
         "2020-09-10 00:00:00",
         "16:06:25"
        ],
        [
         "34",
         "18092080",
         "2,588",
         "2023-05-13 16:23:06",
         "96",
         "096 - Carlos Gardel",
         "3302 Guardia Vieja & Aguero",
         "-58.4116586",
         "-34.6027814",
         "2023-05-13 17:06:14",
         "432",
         "187 - Jose Maria Moreno",
         "141 Jose Maria Moreno",
         "-58.435801",
         "-34.619879",
         "448797",
         "FIT",
         "OTHER",
         null,
         null,
         null
        ],
        [
         "35",
         "21840727",
         "523",
         "2024-05-27 11:54:22",
         "449",
         "352 - San Jose de Flores",
         "Av. Rivadavia 6955",
         "-58.463297377",
         "-34.62883578",
         "2024-05-27 12:03:05",
         "254",
         "276 - PRIMERA JUNTA",
         "Av. Rivadavia 5408 ",
         "-58.4413509067459",
         "-34.62079441851816",
         "666256",
         "ICONIC",
         "MALE",
         "25.0",
         "2020-05-20 00:00:00",
         "11:25:18"
        ],
        [
         "36",
         "20525582",
         "20",
         "2024-01-31 19:12:37",
         "504",
         "214 - MORÓN",
         "Morón 3089",
         "-58.47518040000001",
         "-34.6247196",
         "2024-01-31 19:12:57",
         "504",
         "214 - MORÓN",
         "Morón 3089",
         "-58.47518040000001",
         "-34.6247196",
         "223344",
         "FIT",
         "FEMALE",
         null,
         null,
         null
        ],
        [
         "37",
         "18292709",
         "938",
         "2023-06-07 17:03:34",
         "234",
         "344 - UNIVERSIDAD DI TELLA",
         "Figueroa Alcorta 7350",
         "-58.4469439",
         "-34.5480059",
         "2023-06-07 17:19:12",
         "275",
         "256 - PLAZA NORUEGA",
         "Amenabar y Mendoza",
         "-58.459289",
         "-34.562277",
         "973412",
         "ICONIC",
         "MALE",
         "26",
         "2023-04-04 00:00:00",
         "14:42:50"
        ],
        [
         "38",
         "15312646",
         "2,529",
         "2022-08-22 10:16:48",
         "318",
         "285 - ESPINOSA",
         "1785 Espinosa",
         "-58.457317",
         "-34.603936",
         "2022-08-22 10:58:57",
         "95",
         "095 - ESMERALDA",
         "ESMERALDA 516",
         "-58.3781678",
         "-34.6021121",
         "68763",
         "ICONIC",
         "FEMALE",
         null,
         null,
         null
        ],
        [
         "39",
         "18316635",
         "532",
         "2023-06-09 22:09:17",
         "215",
         "113 - Guatemala",
         "Guatemala 4773",
         "-58.424996",
         "-34.585878",
         "2023-06-09 22:18:09",
         "329",
         "100 - Plaza Gurruchaga",
         "1078 Gurruchaga",
         "-58.435187",
         "-34.593141",
         "874166",
         "FIT",
         "MALE",
         "52",
         "2022-07-21 00:00:00",
         "13:00:21"
        ],
        [
         "40",
         "15408923",
         "735",
         "2022-08-30 09:33:02",
         "2",
         "002 - Retiro I",
         "AV. Dr. José María Ramos Mejía 1300",
         "-58.37470989",
         "-34.59242413",
         "2022-08-30 09:45:17",
         "26",
         "026 - JUANA MANSO I",
         "Manso Juana & De La Barra, Emma",
         "-58.3638723",
         "-34.600752",
         "836195",
         "ICONIC",
         "MALE",
         "38",
         "2022-02-22 00:00:00",
         "08:06:47"
        ],
        [
         "41",
         "12109866",
         "335",
         "2021-09-23 06:23:22",
         "46",
         "046 - Chile",
         "Calle Perú, 718",
         "-58.3743749",
         "-34.6163012",
         "2021-09-23 06:28:57",
         "137",
         "137 - AZOPARDO Y CHILE",
         "AZOPARDO 700",
         "-34.6155977",
         "-34.6155977,-58.3674923",
         "786267",
         "ICONIC",
         "FEMALE",
         "28",
         "2021-08-23 00:00:00",
         "20:50:41"
        ],
        [
         "42",
         "10988090",
         "1,464",
         "2021-05-04 20:03:40",
         "8",
         "008 - Congreso",
         "Cevallos, Virrey& Yrigoyen, Hipolito Av.",
         "-58.3893364",
         "-34.6094218",
         "2021-05-04 20:28:04",
         "41",
         "041 - PARQUE PATRICIOS II",
         "Av Caseros 3015",
         "-34.6371232",
         "-34.6371232,-58.4058883",
         "582524",
         "ICONIC",
         "MALE",
         null,
         null,
         null
        ],
        [
         "43",
         "20652797",
         "1111",
         "2024-02-14 16:29:40",
         "86",
         "086 - SAAVEDRA",
         "1019 Saavedra",
         "-58.4016808",
         "-34.6212681",
         "2024-02-14 16:48:11",
         "8",
         "008 - Congreso",
         "Cevallos, Virrey& Yrigoyen, Hipolito Av.",
         "-58.3893364",
         "-34.6094218",
         "1054558",
         "FIT",
         "FEMALE",
         "69",
         "2023-11-06 00:00:00",
         "17:19:02"
        ],
        [
         "44",
         "15652917",
         "634",
         "2022-09-19 18:22:06",
         "204",
         "167 - Hipólito Yrigoyen",
         "4300 Yrigoyen, Hipolito Av.",
         "-58.427818",
         "-34.614948",
         "2022-09-19 18:32:40",
         "273",
         "223 - GAINZA",
         "494 Gainza, Martin De, Gral.",
         "-58.446751",
         "-34.616758",
         "828574",
         "FIT",
         "FEMALE",
         "25",
         "2022-01-24 00:00:00",
         "21:28:12"
        ],
        [
         "45",
         "16565769",
         "533",
         "2022-12-06 15:06:44",
         "376",
         "324 - Las Victorias",
         "4083 Vallese, Felipe",
         "-58.487078",
         "-34.626778",
         "2022-12-06 15:15:37",
         "342",
         "218 - Campana",
         "1523 Campana",
         "-58.484297",
         "-34.616813",
         "352969",
         "FIT",
         "MALE",
         null,
         null,
         null
        ],
        [
         "46",
         "10030169",
         "1,024",
         "2021-02-06 01:25:25",
         "14",
         "014 - Pacifico",
         "Santa Fe Av. & Bullrich, Int. Av.",
         "-58.426387",
         "-34.577424",
         "2021-02-06 01:42:29",
         "20",
         "020 - DISTRITO AUDIOVISUAL",
         "Conde & Concepción Arenal",
         "-34.5809751",
         "-34.5809751,-58.4443269",
         "59216",
         "ICONIC",
         "OTHER",
         null,
         null,
         null
        ],
        [
         "47",
         "22766680",
         "836",
         "2024-08-26 16:42:48",
         "104",
         "104 - Federico Lacroze",
         "Av. Guzman 1100 & Av. Corrientes",
         "-58.45521200000001",
         "-34.587617",
         "2024-08-26 16:56:44",
         "387",
         "278 - Donato Alvarez",
         "1540 Garcia, Juan Agustin",
         "-58.465568000000005",
         "-34.602028",
         "46047",
         "FIT",
         "FEMALE",
         null,
         null,
         null
        ],
        [
         "48",
         "21861587",
         "555",
         "2024-05-28 23:56:51",
         "61",
         "098 - BENITO JUAREZ",
         "Benito Juarez 2231",
         "-58.50517690000001",
         "-34.6189273",
         "2024-05-29 00:06:06",
         "473",
         "216 - EMILIO LAMARCA",
         "EMILIO LAMARCA 2066",
         "-58.4933583",
         "-34.6134032",
         "813578",
         "FIT",
         "MALE",
         "29",
         "2021-11-25 00:00:00",
         "00:04:50"
        ],
        [
         "49",
         "14782642",
         "1,509",
         "2022-06-21 13:45:09",
         "45",
         "045 - Uruguay",
         "561 Uruguay & Av. Tucuman",
         "-58.3866934",
         "-34.6018635",
         "2022-06-21 14:10:18",
         "33",
         "033 - Facultad de Medicina",
         "Pres. José Evaristo Uriburu 987",
         "-58.3989807",
         "-34.5970909",
         "801653",
         "FIT",
         "MALE",
         "38",
         "2021-10-16 00:00:00",
         "16:16:54"
        ]
       ],
       "shape": {
        "columns": 20,
        "rows": 1000
       }
      },
      "text/html": [
       "<div>\n",
       "<style scoped>\n",
       "    .dataframe tbody tr th:only-of-type {\n",
       "        vertical-align: middle;\n",
       "    }\n",
       "\n",
       "    .dataframe tbody tr th {\n",
       "        vertical-align: top;\n",
       "    }\n",
       "\n",
       "    .dataframe thead th {\n",
       "        text-align: right;\n",
       "    }\n",
       "</style>\n",
       "<table border=\"1\" class=\"dataframe\">\n",
       "  <thead>\n",
       "    <tr style=\"text-align: right;\">\n",
       "      <th></th>\n",
       "      <th>Id_recorrido</th>\n",
       "      <th>duracion_recorrido</th>\n",
       "      <th>fecha_origen_recorrido</th>\n",
       "      <th>id_estacion_origen</th>\n",
       "      <th>nombre_estacion_origen</th>\n",
       "      <th>direccion_estacion_origen</th>\n",
       "      <th>long_estacion_origen</th>\n",
       "      <th>lat_estacion_origen</th>\n",
       "      <th>fecha_destino_recorrido</th>\n",
       "      <th>id_estacion_destino</th>\n",
       "      <th>nombre_estacion_destino</th>\n",
       "      <th>direccion_estacion_destino</th>\n",
       "      <th>long_estacion_destino</th>\n",
       "      <th>lat_estacion_destino</th>\n",
       "      <th>id_usuario</th>\n",
       "      <th>modelo_bicicleta</th>\n",
       "      <th>género</th>\n",
       "      <th>edad_usuario</th>\n",
       "      <th>fecha_alta</th>\n",
       "      <th>hora_alta</th>\n",
       "    </tr>\n",
       "  </thead>\n",
       "  <tbody>\n",
       "    <tr>\n",
       "      <th>0</th>\n",
       "      <td>18999377</td>\n",
       "      <td>565</td>\n",
       "      <td>2023-09-05 14:59:57</td>\n",
       "      <td>262</td>\n",
       "      <td>349 - Plaza Saenz Peña</td>\n",
       "      <td>Andrés Lamas 1699</td>\n",
       "      <td>-58.467297</td>\n",
       "      <td>-34.609709</td>\n",
       "      <td>2023-09-05 15:09:22</td>\n",
       "      <td>342</td>\n",
       "      <td>218 - Campana</td>\n",
       "      <td>1523 Campana</td>\n",
       "      <td>-58.484297</td>\n",
       "      <td>-34.616813</td>\n",
       "      <td>182948</td>\n",
       "      <td>FIT</td>\n",
       "      <td>FEMALE</td>\n",
       "      <td>NaN</td>\n",
       "      <td>NaT</td>\n",
       "      <td>NaN</td>\n",
       "    </tr>\n",
       "    <tr>\n",
       "      <th>1</th>\n",
       "      <td>11378975</td>\n",
       "      <td>632</td>\n",
       "      <td>2021-06-26 06:00:57</td>\n",
       "      <td>91</td>\n",
       "      <td>091 - Pasco</td>\n",
       "      <td>708 Pasco &amp; Chile</td>\n",
       "      <td>-58.397602</td>\n",
       "      <td>-34.617448</td>\n",
       "      <td>2021-06-26 06:11:29</td>\n",
       "      <td>24</td>\n",
       "      <td>024 - ALSINA</td>\n",
       "      <td>Adolfo Alsina&amp; Bernardo De Irigoyen</td>\n",
       "      <td>-34.610583</td>\n",
       "      <td>-34.610583,-58.3808943</td>\n",
       "      <td>640310</td>\n",
       "      <td>ICONIC</td>\n",
       "      <td>FEMALE</td>\n",
       "      <td>23.0</td>\n",
       "      <td>2020-01-15</td>\n",
       "      <td>17:43:41</td>\n",
       "    </tr>\n",
       "    <tr>\n",
       "      <th>2</th>\n",
       "      <td>14244217</td>\n",
       "      <td>359</td>\n",
       "      <td>2022-04-21 19:56:04</td>\n",
       "      <td>73</td>\n",
       "      <td>073 - Ruy Díaz de Guzmán</td>\n",
       "      <td>Avenida Martin Garcia y Ruy Díaz de Guzmán</td>\n",
       "      <td>-58.371823</td>\n",
       "      <td>-34.630681</td>\n",
       "      <td>2022-04-21 20:02:03</td>\n",
       "      <td>433</td>\n",
       "      <td>273 - Plazoleta Colombia</td>\n",
       "      <td>1619 Brandsen</td>\n",
       "      <td>-58.373726</td>\n",
       "      <td>-34.637697</td>\n",
       "      <td>404564</td>\n",
       "      <td>ICONIC</td>\n",
       "      <td>OTHER</td>\n",
       "      <td>NaN</td>\n",
       "      <td>NaT</td>\n",
       "      <td>NaN</td>\n",
       "    </tr>\n",
       "    <tr>\n",
       "      <th>3</th>\n",
       "      <td>17267286</td>\n",
       "      <td>797</td>\n",
       "      <td>2023-02-17 04:04:51</td>\n",
       "      <td>187</td>\n",
       "      <td>261 - QUINTEROS LIDORO</td>\n",
       "      <td>1483 Quinteros, Lidoro J. Av.</td>\n",
       "      <td>-58.450897</td>\n",
       "      <td>-34.552571</td>\n",
       "      <td>2023-02-17 04:18:08</td>\n",
       "      <td>187</td>\n",
       "      <td>261 - QUINTEROS LIDORO</td>\n",
       "      <td>1483 Quinteros, Lidoro J. Av.</td>\n",
       "      <td>-58.450897</td>\n",
       "      <td>-34.552571</td>\n",
       "      <td>918518</td>\n",
       "      <td>ICONIC</td>\n",
       "      <td>MALE</td>\n",
       "      <td>40</td>\n",
       "      <td>2022-11-05</td>\n",
       "      <td>17:08:56</td>\n",
       "    </tr>\n",
       "    <tr>\n",
       "      <th>4</th>\n",
       "      <td>17793583</td>\n",
       "      <td>1,366</td>\n",
       "      <td>2023-04-11 20:20:31</td>\n",
       "      <td>65</td>\n",
       "      <td>065 - Julián Álvarez</td>\n",
       "      <td>3822 Guemes</td>\n",
       "      <td>-58.415787</td>\n",
       "      <td>-34.587312</td>\n",
       "      <td>2023-04-11 20:43:17</td>\n",
       "      <td>25</td>\n",
       "      <td>025 - Plaza Guemes</td>\n",
       "      <td>Salguero, Jeronimo &amp; Mansilla, Lucio Norberto,...</td>\n",
       "      <td>-58.416118</td>\n",
       "      <td>-34.589427</td>\n",
       "      <td>976759</td>\n",
       "      <td>FIT</td>\n",
       "      <td>FEMALE</td>\n",
       "      <td>19</td>\n",
       "      <td>2023-04-11</td>\n",
       "      <td>19:49:46</td>\n",
       "    </tr>\n",
       "    <tr>\n",
       "      <th>...</th>\n",
       "      <td>...</td>\n",
       "      <td>...</td>\n",
       "      <td>...</td>\n",
       "      <td>...</td>\n",
       "      <td>...</td>\n",
       "      <td>...</td>\n",
       "      <td>...</td>\n",
       "      <td>...</td>\n",
       "      <td>...</td>\n",
       "      <td>...</td>\n",
       "      <td>...</td>\n",
       "      <td>...</td>\n",
       "      <td>...</td>\n",
       "      <td>...</td>\n",
       "      <td>...</td>\n",
       "      <td>...</td>\n",
       "      <td>...</td>\n",
       "      <td>...</td>\n",
       "      <td>...</td>\n",
       "      <td>...</td>\n",
       "    </tr>\n",
       "    <tr>\n",
       "      <th>995</th>\n",
       "      <td>19019056</td>\n",
       "      <td>1,216</td>\n",
       "      <td>2023-09-07 19:11:30</td>\n",
       "      <td>44</td>\n",
       "      <td>044 - Ecoparque</td>\n",
       "      <td>Av. Del Libertador, 3260</td>\n",
       "      <td>-58.413883</td>\n",
       "      <td>-34.575515</td>\n",
       "      <td>2023-09-07 19:31:46</td>\n",
       "      <td>193</td>\n",
       "      <td>193 - ARENALES Y AGUERO</td>\n",
       "      <td>Arenales y Aguero</td>\n",
       "      <td>-58.406165</td>\n",
       "      <td>-34.590863</td>\n",
       "      <td>879115</td>\n",
       "      <td>FIT</td>\n",
       "      <td>MALE</td>\n",
       "      <td>23</td>\n",
       "      <td>2022-08-07</td>\n",
       "      <td>14:53:42</td>\n",
       "    </tr>\n",
       "    <tr>\n",
       "      <th>996</th>\n",
       "      <td>14233028</td>\n",
       "      <td>914</td>\n",
       "      <td>2022-04-21 07:18:55</td>\n",
       "      <td>50</td>\n",
       "      <td>050 - Hospital Rivadavia</td>\n",
       "      <td>2516 Pereyra Lucena</td>\n",
       "      <td>-58.401080</td>\n",
       "      <td>-34.583735</td>\n",
       "      <td>2022-04-21 07:34:09</td>\n",
       "      <td>210</td>\n",
       "      <td>335 - General Urquiza</td>\n",
       "      <td>Figueroa Alcorta &amp; Sarmiento</td>\n",
       "      <td>-58.411278</td>\n",
       "      <td>-34.572165</td>\n",
       "      <td>670145</td>\n",
       "      <td>ICONIC</td>\n",
       "      <td>MALE</td>\n",
       "      <td>66.0</td>\n",
       "      <td>2020-06-24</td>\n",
       "      <td>16:08:37</td>\n",
       "    </tr>\n",
       "    <tr>\n",
       "      <th>997</th>\n",
       "      <td>13310065</td>\n",
       "      <td>1,100</td>\n",
       "      <td>2022-01-21 16:21:35</td>\n",
       "      <td>54</td>\n",
       "      <td>054 - Acuña de Figueroa</td>\n",
       "      <td>Lavalle 4015</td>\n",
       "      <td>-58.422069</td>\n",
       "      <td>-34.598210</td>\n",
       "      <td>2022-01-21 16:39:55</td>\n",
       "      <td>199</td>\n",
       "      <td>199 - ESTADOS UNIDOS Y BOEDO</td>\n",
       "      <td>3568 Estados Unidos &amp; Boedo Av.</td>\n",
       "      <td>-58.416014</td>\n",
       "      <td>-34.62226</td>\n",
       "      <td>97988</td>\n",
       "      <td>FIT</td>\n",
       "      <td>MALE</td>\n",
       "      <td>NaN</td>\n",
       "      <td>NaT</td>\n",
       "      <td>NaN</td>\n",
       "    </tr>\n",
       "    <tr>\n",
       "      <th>998</th>\n",
       "      <td>12525040</td>\n",
       "      <td>842</td>\n",
       "      <td>2021-11-03 09:43:47</td>\n",
       "      <td>364</td>\n",
       "      <td>381 - Matienzo Y Arce</td>\n",
       "      <td>1798 Matienzo, Benjamin, Teniente</td>\n",
       "      <td>-58.434470</td>\n",
       "      <td>-34.568693</td>\n",
       "      <td>2021-11-03 09:57:49</td>\n",
       "      <td>206</td>\n",
       "      <td>159 - Fitz Roy &amp; Gorriti</td>\n",
       "      <td>Fitz Roy &amp; Gorriti</td>\n",
       "      <td>-34.58495</td>\n",
       "      <td>-34.58495,-58.437339</td>\n",
       "      <td>671998</td>\n",
       "      <td>ICONIC</td>\n",
       "      <td>MALE</td>\n",
       "      <td>29.0</td>\n",
       "      <td>2020-07-17</td>\n",
       "      <td>18:03:08</td>\n",
       "    </tr>\n",
       "    <tr>\n",
       "      <th>999</th>\n",
       "      <td>13964191</td>\n",
       "      <td>1,818</td>\n",
       "      <td>2022-03-28 12:51:58</td>\n",
       "      <td>26</td>\n",
       "      <td>026 - JUANA MANSO I</td>\n",
       "      <td>Manso Juana &amp; De La Barra, Emma</td>\n",
       "      <td>-58.363872</td>\n",
       "      <td>-34.600752</td>\n",
       "      <td>2022-03-28 13:22:16</td>\n",
       "      <td>181</td>\n",
       "      <td>181 - BILLINGHURST Y MANSILLA</td>\n",
       "      <td>1520 Billinghurst &amp; Mansilla, Lucio Norberto, ...</td>\n",
       "      <td>-58.412007</td>\n",
       "      <td>-34.592665</td>\n",
       "      <td>192958</td>\n",
       "      <td>ICONIC</td>\n",
       "      <td>FEMALE</td>\n",
       "      <td>NaN</td>\n",
       "      <td>NaT</td>\n",
       "      <td>NaN</td>\n",
       "    </tr>\n",
       "  </tbody>\n",
       "</table>\n",
       "<p>1000 rows × 20 columns</p>\n",
       "</div>"
      ],
      "text/plain": [
       "    Id_recorrido duracion_recorrido fecha_origen_recorrido  \\\n",
       "0       18999377                565    2023-09-05 14:59:57   \n",
       "1       11378975                632    2021-06-26 06:00:57   \n",
       "2       14244217                359    2022-04-21 19:56:04   \n",
       "3       17267286                797    2023-02-17 04:04:51   \n",
       "4       17793583              1,366    2023-04-11 20:20:31   \n",
       "..           ...                ...                    ...   \n",
       "995     19019056              1,216    2023-09-07 19:11:30   \n",
       "996     14233028                914    2022-04-21 07:18:55   \n",
       "997     13310065              1,100    2022-01-21 16:21:35   \n",
       "998     12525040                842    2021-11-03 09:43:47   \n",
       "999     13964191              1,818    2022-03-28 12:51:58   \n",
       "\n",
       "     id_estacion_origen    nombre_estacion_origen  \\\n",
       "0                   262    349 - Plaza Saenz Peña   \n",
       "1                    91               091 - Pasco   \n",
       "2                    73  073 - Ruy Díaz de Guzmán   \n",
       "3                   187    261 - QUINTEROS LIDORO   \n",
       "4                    65      065 - Julián Álvarez   \n",
       "..                  ...                       ...   \n",
       "995                  44           044 - Ecoparque   \n",
       "996                  50  050 - Hospital Rivadavia   \n",
       "997                  54   054 - Acuña de Figueroa   \n",
       "998                 364     381 - Matienzo Y Arce   \n",
       "999                  26       026 - JUANA MANSO I   \n",
       "\n",
       "                      direccion_estacion_origen  long_estacion_origen  \\\n",
       "0                             Andrés Lamas 1699            -58.467297   \n",
       "1                             708 Pasco & Chile            -58.397602   \n",
       "2    Avenida Martin Garcia y Ruy Díaz de Guzmán            -58.371823   \n",
       "3                 1483 Quinteros, Lidoro J. Av.            -58.450897   \n",
       "4                                   3822 Guemes            -58.415787   \n",
       "..                                          ...                   ...   \n",
       "995                    Av. Del Libertador, 3260            -58.413883   \n",
       "996                         2516 Pereyra Lucena            -58.401080   \n",
       "997                                Lavalle 4015            -58.422069   \n",
       "998           1798 Matienzo, Benjamin, Teniente            -58.434470   \n",
       "999             Manso Juana & De La Barra, Emma            -58.363872   \n",
       "\n",
       "     lat_estacion_origen fecha_destino_recorrido  id_estacion_destino  \\\n",
       "0             -34.609709     2023-09-05 15:09:22                  342   \n",
       "1             -34.617448     2021-06-26 06:11:29                   24   \n",
       "2             -34.630681     2022-04-21 20:02:03                  433   \n",
       "3             -34.552571     2023-02-17 04:18:08                  187   \n",
       "4             -34.587312     2023-04-11 20:43:17                   25   \n",
       "..                   ...                     ...                  ...   \n",
       "995           -34.575515     2023-09-07 19:31:46                  193   \n",
       "996           -34.583735     2022-04-21 07:34:09                  210   \n",
       "997           -34.598210     2022-01-21 16:39:55                  199   \n",
       "998           -34.568693     2021-11-03 09:57:49                  206   \n",
       "999           -34.600752     2022-03-28 13:22:16                  181   \n",
       "\n",
       "           nombre_estacion_destino  \\\n",
       "0                    218 - Campana   \n",
       "1                     024 - ALSINA   \n",
       "2         273 - Plazoleta Colombia   \n",
       "3           261 - QUINTEROS LIDORO   \n",
       "4               025 - Plaza Guemes   \n",
       "..                             ...   \n",
       "995        193 - ARENALES Y AGUERO   \n",
       "996          335 - General Urquiza   \n",
       "997   199 - ESTADOS UNIDOS Y BOEDO   \n",
       "998       159 - Fitz Roy & Gorriti   \n",
       "999  181 - BILLINGHURST Y MANSILLA   \n",
       "\n",
       "                            direccion_estacion_destino long_estacion_destino  \\\n",
       "0                                         1523 Campana            -58.484297   \n",
       "1                  Adolfo Alsina& Bernardo De Irigoyen            -34.610583   \n",
       "2                                        1619 Brandsen            -58.373726   \n",
       "3                        1483 Quinteros, Lidoro J. Av.            -58.450897   \n",
       "4    Salguero, Jeronimo & Mansilla, Lucio Norberto,...            -58.416118   \n",
       "..                                                 ...                   ...   \n",
       "995                                  Arenales y Aguero            -58.406165   \n",
       "996                       Figueroa Alcorta & Sarmiento            -58.411278   \n",
       "997                    3568 Estados Unidos & Boedo Av.            -58.416014   \n",
       "998                                 Fitz Roy & Gorriti             -34.58495   \n",
       "999  1520 Billinghurst & Mansilla, Lucio Norberto, ...            -58.412007   \n",
       "\n",
       "       lat_estacion_destino id_usuario modelo_bicicleta  género edad_usuario  \\\n",
       "0                -34.616813     182948              FIT  FEMALE          NaN   \n",
       "1    -34.610583,-58.3808943     640310           ICONIC  FEMALE         23.0   \n",
       "2                -34.637697     404564           ICONIC   OTHER          NaN   \n",
       "3                -34.552571     918518           ICONIC    MALE           40   \n",
       "4                -34.589427     976759              FIT  FEMALE           19   \n",
       "..                      ...        ...              ...     ...          ...   \n",
       "995              -34.590863     879115              FIT    MALE           23   \n",
       "996              -34.572165     670145           ICONIC    MALE         66.0   \n",
       "997               -34.62226      97988              FIT    MALE          NaN   \n",
       "998    -34.58495,-58.437339     671998           ICONIC    MALE         29.0   \n",
       "999              -34.592665     192958           ICONIC  FEMALE          NaN   \n",
       "\n",
       "    fecha_alta hora_alta  \n",
       "0          NaT       NaN  \n",
       "1   2020-01-15  17:43:41  \n",
       "2          NaT       NaN  \n",
       "3   2022-11-05  17:08:56  \n",
       "4   2023-04-11  19:49:46  \n",
       "..         ...       ...  \n",
       "995 2022-08-07  14:53:42  \n",
       "996 2020-06-24  16:08:37  \n",
       "997        NaT       NaN  \n",
       "998 2020-07-17  18:03:08  \n",
       "999        NaT       NaN  \n",
       "\n",
       "[1000 rows x 20 columns]"
      ]
     },
     "execution_count": 61,
     "metadata": {},
     "output_type": "execute_result"
    }
   ],
   "source": [
    "importlib.reload(aux_d)\n",
    "aux_d.get_muestras(df_unificado)"
   ]
  },
  {
   "cell_type": "code",
   "execution_count": 74,
   "id": "dcf8d15a",
   "metadata": {
    "vscode": {
     "languageId": "perl"
    }
   },
   "outputs": [
    {
     "name": "stdout",
     "output_type": "stream",
     "text": [
      "{2: 33391, 3: 47655, 4: 43729, 5: 102730, 6: 41035, 7: 17150, 8: 102291, 9: 90876, 12: 48765, 13: 32637, 14: 127526, 17: 65406, 20: 23897, 21: 26031, 22: 31567, 23: 34502, 24: 18015, 25: 73525, 26: 41089, 27: 40458, 28: 1, 29: 85846, 30: 50127, 31: 6945, 32: 37696, 33: 61271, 35: 31073, 36: 20086, 38: 44772, 41: 33497, 42: 2502, 43: 19287, 44: 53224, 45: 30906, 46: 34998, 48: 21608, 49: 21488, 50: 48979, 51: 16534, 54: 88148, 56: 54701, 57: 9305, 58: 29553, 59: 29231, 60: 23130, 61: 11425, 63: 34410, 64: 44914, 65: 59297, 66: 79114, 68: 16361, 69: 71263, 70: 59621, 71: 41327, 73: 36157, 74: 60960, 75: 55193, 76: 41769, 77: 10562, 79: 55471, 80: 34034, 82: 60761, 83: 60159, 84: 13557, 85: 58275, 86: 34592, 87: 32660, 89: 50201, 91: 40585, 92: 20596, 93: 42522, 94: 30237, 95: 27240, 96: 86644, 98: 25066, 99: 53341, 101: 32912, 102: 14543, 104: 34917, 105: 178, 107: 23534, 111: 62427, 112: 29649, 114: 19121, 116: 53195, 117: 52072, 118: 30320, 120: 29864, 121: 75383, 122: 19654, 124: 46496, 126: 19450, 128: 68201, 130: 87541, 131: 82970, 132: 37651, 134: 19328, 135: 51512, 137: 41429, 138: 14441, 144: 69375, 146: 49205, 148: 4110, 149: 23041, 150: 67470, 151: 40089, 152: 82291, 153: 29619, 155: 21441, 156: 66259, 158: 41935, 161: 76982, 162: 42364, 163: 51635, 164: 40065, 165: 51833, 166: 55501, 167: 34618, 168: 31796, 169: 17208, 171: 56950, 172: 39049, 174: 59295, 175: 111755, 176: 13139, 177: 19068, 179: 22615, 181: 40747, 182: 55514, 183: 57418, 184: 25213, 186: 42519, 187: 33449, 188: 25910, 189: 41273, 190: 38652, 191: 19857, 193: 40942, 194: 45616, 196: 22607, 197: 21175, 199: 66854, 200: 60824, 202: 94322, 203: 9636, 204: 49863, 205: 42652, 206: 66427, 207: 15028, 208: 14667, 210: 64917, 212: 62093, 213: 61855, 214: 26949, 215: 69478, 216: 50878, 219: 18079, 220: 16957, 222: 80859, 223: 36449, 227: 34013, 228: 21643, 229: 35312, 230: 25521, 231: 33702, 232: 11979, 233: 9, 234: 15706, 235: 44143, 236: 39176, 237: 9998, 239: 56562, 241: 16343, 242: 55606, 245: 21362, 247: 22477, 248: 28299, 249: 3684, 251: 8640, 252: 26933, 253: 21876, 254: 53075, 255: 28161, 257: 25619, 258: 20383, 259: 17409, 260: 14637, 261: 43804, 262: 25508, 263: 32605, 264: 3481, 265: 10951, 267: 7386, 268: 39882, 269: 38254, 270: 11685, 271: 17374, 273: 42920, 275: 40831, 277: 82082, 278: 29890, 280: 26286, 281: 52305, 284: 24893, 288: 1169, 289: 89637, 291: 23710, 294: 6157, 299: 20247, 301: 9120, 302: 20505, 304: 17556, 307: 5958, 308: 43634, 309: 9563, 310: 5820, 311: 5573, 313: 12, 316: 33193, 318: 32829, 322: 28841, 323: 29678, 324: 21198, 327: 9687, 329: 44166, 330: 4213, 333: 9635, 335: 27211, 336: 25084, 337: 1, 340: 19561, 342: 16588, 348: 12224, 349: 5120, 353: 52970, 355: 28098, 358: 28218, 359: 31462, 361: 30444, 362: 6949, 363: 15085, 364: 37153, 366: 11887, 367: 19354, 368: 16528, 369: 7037, 370: 10549, 371: 11100, 372: 14615, 373: 9723, 374: 12101, 375: 12825, 376: 14436, 378: 23491, 379: 36928, 381: 12364, 382: 12093, 383: 7118, 384: 16471, 385: 19605, 386: 9391, 387: 28610, 392: 20108, 393: 8432, 395: 7164, 400: 13163, 402: 4, 403: 26521, 407: 19382, 408: 15200, 412: 3947, 413: 7695, 414: 6435, 416: 40648, 417: 8537, 418: 33726, 419: 1, 420: 8244, 422: 13338, 423: 8910, 424: 13850, 425: 13724, 426: 49185, 427: 9579, 428: 11086, 429: 11305, 431: 4728, 432: 44953, 433: 36049, 434: 9062, 435: 51369, 436: 9524, 440: 30685, 441: 35370, 442: 4, 443: 734, 444: 44854, 447: 95, 448: 28471, 449: 57176, 453: 10419, 454: 6668, 455: 12442, 456: 1965, 457: 8188, 458: 30156, 459: 8315, 460: 9189, 461: 14146, 462: 2772, 464: 10049, 465: 7799, 466: 27110, 467: 12930, 468: 29480, 469: 4684, 471: 4785, 472: 9273, 473: 9344, 474: 8351, 475: 6292, 476: 11420, 477: 14882, 478: 16154, 479: 18420, 480: 11938, 481: 4480, 482: 3400, 483: 5679, 484: 8612, 485: 5363, 486: 8416, 487: 8555, 488: 8669, 489: 15158, 490: 9535, 491: 12334, 492: 21675, 493: 7562, 494: 4927, 496: 4110, 497: 6966, 498: 7154, 499: 8779, 500: 8973, 501: 5017, 502: 3529, 503: 647, 504: 4853, 505: 3811, 506: 4901, 507: 2119, 508: 2308, 509: 3315, 511: 2939, 512: 7053, 513: 3202, 515: 23304, 516: 31471, 517: 12904, 518: 8226, 519: 6348, 520: 935, 521: 3834, 522: 6132, 523: 511, 524: 7394, 525: 6205, 526: 6359, 527: 6526, 528: 2003, 529: 3565, 530: 10123, 531: 2749, 532: 2479, 533: 2789, 534: 11732, 535: 4816, 536: 5473, 537: 3818, 538: 3203, 539: 2151, 540: 398, 541: 148, 542: 251, 543: 627, 544: 738, 545: 498, 546: 655, 547: 79, 548: 117, 549: 24, 550: 10, 551: 43, 552: 38, 553: 13, 554: 57, 556: 81}\n",
      "398\n"
     ]
    },
    {
     "data": {
      "image/png": "[encoded data removed]",
      "text/plain": [
       "<Figure size 700x300 with 1 Axes>"
      ]
     },
     "metadata": {},
     "output_type": "display_data"
    }
   ],
   "source": [
    "importlib.reload(aux_d)\n",
    "count = aux_d.count_samples(df_unificado)\n",
    "print(count)\n",
    "\n",
    "# histograma de llegada a estaciones\n",
    "stations = list(count.keys())\n",
    "print(len(stations))\n",
    "arrivals = list(count.values())\n",
    "aux_d.plot_histogram(stations, arrivals, 'Llegadas a estaciones', 'Estaciones', 'Llegadas')\n"
   ]
  },
  {
   "cell_type": "markdown",
   "id": "67e84a14",
   "metadata": {},
   "source": [
    "Separamos en train val y test donde test y val son las últimas muestras.\n",
    "- train - 80% de los datos\n",
    "- val - 10% de los datos\n",
    "- test - 10% de los datos"
   ]
  },
  {
   "cell_type": "code",
   "execution_count": 77,
   "id": "593c8fd2",
   "metadata": {
    "vscode": {
     "languageId": "perl"
    }
   },
   "outputs": [
    {
     "name": "stdout",
     "output_type": "stream",
     "text": [
      "Total muestras: 10560871\n",
      "Train: 8448696 (80.0%)\n",
      "Val: 1056087 (10.0%)\n",
      "Test: 1056088 (10.0%)\n",
      "Train:    Id_recorrido duracion_recorrido fecha_origen_recorrido  id_estacion_origen  \\\n",
      "0      9646397                249    2021-01-01 00:11:45                 236   \n",
      "1      9646402                262    2021-01-01 00:16:04                  86   \n",
      "2      9646396                690    2021-01-01 00:09:43                 277   \n",
      "3      9646398                659    2021-01-01 00:12:44                 186   \n",
      "4      9646409                 77    2021-01-01 00:22:42                 261   \n",
      "\n",
      "         nombre_estacion_origen         direccion_estacion_origen  \\\n",
      "0  254 - Plaza Rafael Hernandez           Vuelta de Obligado 2004   \n",
      "1                086 - SAAVEDRA                     1019 Saavedra   \n",
      "2           292 - PLAZA BOLIVIA  Olleros Av. & Del Libertador Av.   \n",
      "3              186 - MANZANA 66                       2875 Moreno   \n",
      "4    272 - Plaza Bruno Giordano            Bruno Giordano&Neuquen   \n",
      "\n",
      "   long_estacion_origen  lat_estacion_origen fecha_destino_recorrido  \\\n",
      "0            -58.455166           -34.562161     2021-01-01 00:15:54   \n",
      "1            -58.401681           -34.621268     2021-01-01 00:20:26   \n",
      "2            -58.436115           -34.563539     2021-01-01 00:21:13   \n",
      "3            -58.406441           -34.613636     2021-01-01 00:23:43   \n",
      "4            -58.440584           -34.616151     2021-01-01 00:23:59   \n",
      "\n",
      "   id_estacion_destino     nombre_estacion_destino direccion_estacion_destino  \\\n",
      "0                  275         256 - PLAZA NORUEGA         Amenabar y Mendoza   \n",
      "1                  186            186 - MANZANA 66                2875 Moreno   \n",
      "2                   44             044 - Ecoparque   Av. Del Libertador, 3260   \n",
      "3                   66          066 - Billinghurst               3508 Carcova   \n",
      "4                  261  272 - Plaza Bruno Giordano     Bruno Giordano&Neuquen   \n",
      "\n",
      "  long_estacion_destino     lat_estacion_destino id_usuario modelo_bicicleta  \\\n",
      "0            -34.562277    -34.562277,-58.459289     706059           ICONIC   \n",
      "1            -34.613636  -34.6136356,-58.4064415     643115           ICONIC   \n",
      "2            -34.575515  -34.5755148,-58.4138829      62246           ICONIC   \n",
      "3            -34.594547  -34.5945475,-58.4138713     705199           ICONIC   \n",
      "4            -34.616151    -34.616151,-58.440584      42585           ICONIC   \n",
      "\n",
      "   género edad_usuario fecha_alta hora_alta  \n",
      "0    MALE         23.0 2020-10-09  16:22:02  \n",
      "1  FEMALE         21.0 2020-01-19  14:42:25  \n",
      "2   OTHER          NaN        NaT       NaN  \n",
      "3    MALE         42.0 2020-10-07  16:30:51  \n",
      "4    MALE          NaN        NaT       NaN  \n",
      "Validation:    Id_recorrido duracion_recorrido fecha_origen_recorrido  id_estacion_origen  \\\n",
      "0     20232418               1164    2024-01-05 17:49:13                  86   \n",
      "1     20231807               3623    2024-01-05 17:08:14                 208   \n",
      "2     20232289               1733    2024-01-05 17:39:46                 152   \n",
      "3     20232492                865    2024-01-05 17:54:16                   8   \n",
      "4     20232763                 23    2024-01-05 18:08:25                  73   \n",
      "\n",
      "     nombre_estacion_origen                     direccion_estacion_origen  \\\n",
      "0            086 - SAAVEDRA                                 1019 Saavedra   \n",
      "1           145 - RAVIGNANI                         EMILIO RAVIGNANI 1802   \n",
      "2     152 - JULIETA LANTERI  Vera Peñaloza, Rosario 599 & Lanteri Julieta   \n",
      "3            008 - Congreso      Cevallos, Virrey& Yrigoyen, Hipolito Av.   \n",
      "4  073 - Ruy Díaz de Guzmán    Avenida Martin Garcia y Ruy Díaz de Guzmán   \n",
      "\n",
      "   long_estacion_origen  lat_estacion_origen fecha_destino_recorrido  \\\n",
      "0            -58.401681           -34.621268     2024-01-05 18:08:37   \n",
      "1            -58.438404           -34.580716     2024-01-05 18:08:37   \n",
      "2            -58.359631           -34.618164     2024-01-05 18:08:39   \n",
      "3            -58.389336           -34.609422     2024-01-05 18:08:41   \n",
      "4            -58.371823           -34.630681     2024-01-05 18:08:48   \n",
      "\n",
      "   id_estacion_destino    nombre_estacion_destino  \\\n",
      "0                  107    107 - HOSPITAL GARRAHAN   \n",
      "1                   56  056 - Plaza Palermo Viejo   \n",
      "2                   35      035 - INGENIERO BUTTY   \n",
      "3                  111       111 - MACACHA GUEMES   \n",
      "4                   73   073 - Ruy Díaz de Guzmán   \n",
      "\n",
      "                   direccion_estacion_destino long_estacion_destino  \\\n",
      "0                                 Brasil 2290            -58.395844   \n",
      "1                        Costa Rica & Armenia            -58.425999   \n",
      "2                           Ing. E. Butty 291            -58.371847   \n",
      "3                          Macacha Guemes 350            -58.364686   \n",
      "4  Avenida Martin Garcia y Ruy Díaz de Guzmán            -58.371823   \n",
      "\n",
      "  lat_estacion_destino id_usuario modelo_bicicleta  género edad_usuario  \\\n",
      "0           -34.630377     727895              FIT  FEMALE         35.0   \n",
      "1           -34.588567      92175              FIT   OTHER          NaN   \n",
      "2           -34.596425    1086902              FIT  FEMALE           20   \n",
      "3           -34.605488     831793              FIT    MALE           24   \n",
      "4           -34.630681     165415              FIT  FEMALE          NaN   \n",
      "\n",
      "  fecha_alta hora_alta  \n",
      "0 2020-11-29  17:39:10  \n",
      "1        NaT       NaN  \n",
      "2 2024-01-05  15:18:18  \n",
      "3 2022-02-05  18:18:36  \n",
      "4        NaT       NaN  \n",
      "Test:    Id_recorrido duracion_recorrido fecha_origen_recorrido  id_estacion_origen  \\\n",
      "0     21490085                915    2024-04-23 07:50:22                 280   \n",
      "1     21489944               1607    2024-04-23 07:38:51                 186   \n",
      "2     21490046               1141    2024-04-23 07:46:54                 183   \n",
      "3     21489980               1492    2024-04-23 07:41:11                  87   \n",
      "4     21490196                390    2024-04-23 07:59:51                  63   \n",
      "\n",
      "  nombre_estacion_origen         direccion_estacion_origen  \\\n",
      "0    222 - SIMON BOLIVAR  1701 Fernandez Moreno, Baldomero   \n",
      "1       186 - MANZANA 66                       2875 Moreno   \n",
      "2  183 - VIRREY CEVALLOS                       Mexico 1652   \n",
      "3        087 - Guayaquil                Guayaquil & Doblas   \n",
      "4      063 - Reconquista                      Viamonte 555   \n",
      "\n",
      "   long_estacion_origen  lat_estacion_origen fecha_destino_recorrido  \\\n",
      "0            -58.449379           -34.633528     2024-04-23 08:05:37   \n",
      "1            -58.406441           -34.613636     2024-04-23 08:05:38   \n",
      "2            -58.389973           -34.615699     2024-04-23 08:05:55   \n",
      "3            -58.431494           -34.619845     2024-04-23 08:06:03   \n",
      "4            -58.374687           -34.599778     2024-04-23 08:06:21   \n",
      "\n",
      "   id_estacion_destino        nombre_estacion_destino  \\\n",
      "0                  271          365 - Venancio Flores   \n",
      "1                   21         021 - Parque Patricios   \n",
      "2                  164   164 - FACULTAD DE INGENIERIA   \n",
      "3                  174  174 - MINISTERIO DE EDUCACION   \n",
      "4                  174  174 - MINISTERIO DE EDUCACION   \n",
      "\n",
      "              direccion_estacion_destino long_estacion_destino  \\\n",
      "0                   Venancio Flores 3170            -58.473725   \n",
      "1                     Iguazu & Uspallata            -58.406432   \n",
      "2                    AV. PASEO COLÓN 811            -58.369898   \n",
      "3  Marcelo T. de Alvear & Rodriguez Peña            -58.391768   \n",
      "4  Marcelo T. de Alvear & Rodriguez Peña            -58.391768   \n",
      "\n",
      "  lat_estacion_destino id_usuario modelo_bicicleta género edad_usuario  \\\n",
      "0           -34.629967    1071589           ICONIC   MALE           26   \n",
      "1           -34.640111      33900              FIT   MALE          NaN   \n",
      "2           -34.617301    1077336              FIT   MALE           24   \n",
      "3           -34.597225      16388              FIT   MALE          NaN   \n",
      "4           -34.597225     711148              FIT   MALE         34.0   \n",
      "\n",
      "  fecha_alta hora_alta  \n",
      "0 2023-12-04  19:09:22  \n",
      "1        NaT       NaN  \n",
      "2 2023-12-17  19:02:10  \n",
      "3        NaT       NaN  \n",
      "4 2020-10-18  09:29:24  \n"
     ]
    }
   ],
   "source": [
    "importlib.reload(aux_d)\n",
    "train_clean, val_clean, test_clean = aux_d.split_dataframe(df_unificado)\n",
    "print(\"Train: \", train_clean.head())\n",
    "print(\"Validation: \", val_clean.head())\n",
    "print(\"Test: \", test_clean.head())"
   ]
  },
  {
   "cell_type": "markdown",
   "id": "08991bc7",
   "metadata": {},
   "source": [
    "# Crear dataset\n",
    "generamos un dataset donde cada muestra es la cantidad de bicis llegadas a una estación específica en una hora específica."
   ]
  },
  {
   "cell_type": "code",
   "execution_count": null,
   "id": "9a1627d8",
   "metadata": {
    "vscode": {
     "languageId": "perl"
    }
   },
   "outputs": [
    {
     "name": "stderr",
     "output_type": "stream",
     "text": [
      "c:\\Users\\felic\\OneDrive\\Documentos\\GitHub\\TPsM-todos\\BA_BICIS_MyC\\src_data\\crear_dataset.py:26: FutureWarning: 'H' is deprecated and will be removed in a future version, please use 'h' instead.\n",
      "  df['hora_origen'] = df['fecha_origen_recorrido'].dt.floor('H')\n",
      "c:\\Users\\felic\\OneDrive\\Documentos\\GitHub\\TPsM-todos\\BA_BICIS_MyC\\src_data\\crear_dataset.py:27: FutureWarning: 'H' is deprecated and will be removed in a future version, please use 'h' instead.\n",
      "  df['hora_destino'] = df['fecha_destino_recorrido'].dt.floor('H')\n",
      "c:\\Users\\felic\\OneDrive\\Documentos\\GitHub\\TPsM-todos\\BA_BICIS_MyC\\src_data\\crear_dataset.py:34: FutureWarning: 'H' is deprecated and will be removed in a future version, please use 'h' instead.\n",
      "  fecha_min = df['fecha_origen_recorrido'].min().floor('H')\n",
      "c:\\Users\\felic\\OneDrive\\Documentos\\GitHub\\TPsM-todos\\BA_BICIS_MyC\\src_data\\crear_dataset.py:35: FutureWarning: 'H' is deprecated and will be removed in a future version, please use 'h' instead.\n",
      "  fecha_max = df['fecha_destino_recorrido'].max().floor('H')\n",
      "c:\\Users\\felic\\OneDrive\\Documentos\\GitHub\\TPsM-todos\\BA_BICIS_MyC\\src_data\\crear_dataset.py:38: FutureWarning: 'H' is deprecated and will be removed in a future version, please use 'h' instead.\n",
      "  horas_completas = pd.date_range(start=fecha_min, end=fecha_max, freq='H')\n",
      "c:\\Users\\felic\\OneDrive\\Documentos\\GitHub\\TPsM-todos\\BA_BICIS_MyC\\src_data\\crear_dataset.py:26: FutureWarning: 'H' is deprecated and will be removed in a future version, please use 'h' instead.\n",
      "  df['hora_origen'] = df['fecha_origen_recorrido'].dt.floor('H')\n",
      "c:\\Users\\felic\\OneDrive\\Documentos\\GitHub\\TPsM-todos\\BA_BICIS_MyC\\src_data\\crear_dataset.py:27: FutureWarning: 'H' is deprecated and will be removed in a future version, please use 'h' instead.\n",
      "  df['hora_destino'] = df['fecha_destino_recorrido'].dt.floor('H')\n",
      "c:\\Users\\felic\\OneDrive\\Documentos\\GitHub\\TPsM-todos\\BA_BICIS_MyC\\src_data\\crear_dataset.py:34: FutureWarning: 'H' is deprecated and will be removed in a future version, please use 'h' instead.\n",
      "  fecha_min = df['fecha_origen_recorrido'].min().floor('H')\n",
      "c:\\Users\\felic\\OneDrive\\Documentos\\GitHub\\TPsM-todos\\BA_BICIS_MyC\\src_data\\crear_dataset.py:35: FutureWarning: 'H' is deprecated and will be removed in a future version, please use 'h' instead.\n",
      "  fecha_max = df['fecha_destino_recorrido'].max().floor('H')\n",
      "c:\\Users\\felic\\OneDrive\\Documentos\\GitHub\\TPsM-todos\\BA_BICIS_MyC\\src_data\\crear_dataset.py:38: FutureWarning: 'H' is deprecated and will be removed in a future version, please use 'h' instead.\n",
      "  horas_completas = pd.date_range(start=fecha_min, end=fecha_max, freq='H')\n",
      "c:\\Users\\felic\\OneDrive\\Documentos\\GitHub\\TPsM-todos\\BA_BICIS_MyC\\src_data\\crear_dataset.py:26: FutureWarning: 'H' is deprecated and will be removed in a future version, please use 'h' instead.\n",
      "  df['hora_origen'] = df['fecha_origen_recorrido'].dt.floor('H')\n",
      "c:\\Users\\felic\\OneDrive\\Documentos\\GitHub\\TPsM-todos\\BA_BICIS_MyC\\src_data\\crear_dataset.py:27: FutureWarning: 'H' is deprecated and will be removed in a future version, please use 'h' instead.\n",
      "  df['hora_destino'] = df['fecha_destino_recorrido'].dt.floor('H')\n",
      "c:\\Users\\felic\\OneDrive\\Documentos\\GitHub\\TPsM-todos\\BA_BICIS_MyC\\src_data\\crear_dataset.py:34: FutureWarning: 'H' is deprecated and will be removed in a future version, please use 'h' instead.\n",
      "  fecha_min = df['fecha_origen_recorrido'].min().floor('H')\n",
      "c:\\Users\\felic\\OneDrive\\Documentos\\GitHub\\TPsM-todos\\BA_BICIS_MyC\\src_data\\crear_dataset.py:35: FutureWarning: 'H' is deprecated and will be removed in a future version, please use 'h' instead.\n",
      "  fecha_max = df['fecha_destino_recorrido'].max().floor('H')\n",
      "c:\\Users\\felic\\OneDrive\\Documentos\\GitHub\\TPsM-todos\\BA_BICIS_MyC\\src_data\\crear_dataset.py:38: FutureWarning: 'H' is deprecated and will be removed in a future version, please use 'h' instead.\n",
      "  horas_completas = pd.date_range(start=fecha_min, end=fecha_max, freq='H')\n"
     ]
    }
   ],
   "source": [
    "importlib.reload(cd)\n",
    "dataset_train_14 = cd.crear_dataset_prediccion_bicis(train_clean, 14)\n",
    "dataset_val_14 = cd.crear_dataset_prediccion_bicis(val_clean, 14)\n",
    "dataset_test_14 = cd.crear_dataset_prediccion_bicis(test_clean, 14)\n",
    "\n",
    "# # Preparar para ML (SIN hora)\n",
    "# X, y, feature_names, dataset_ml = cd.preparar_para_ml(dataset, incluir_tiempo=True)\n"
   ]
  },
  {
   "cell_type": "code",
   "execution_count": 79,
   "id": "9958ff7e",
   "metadata": {
    "vscode": {
     "languageId": "perl"
    }
   },
   "outputs": [],
   "source": [
    "dataset_train_14.to_csv(os.path.join(BASE_DIR, '..', 'data', 'processed', 'dataset_14_train.csv'), index=False)\n",
    "dataset_val_14.to_csv(os.path.join(BASE_DIR, '..', 'data', 'processed', 'dataset_14_val.csv'), index=False)\n",
    "dataset_test_14.to_csv(os.path.join(BASE_DIR, '..', 'data', 'processed', 'dataset_14_test.csv'), index=False)\n"
   ]
  },
  {
   "cell_type": "code",
   "execution_count": null,
   "id": "b10e732d",
   "metadata": {
    "vscode": {
     "languageId": "perl"
    }
   },
   "outputs": [
    {
     "name": "stdout",
     "output_type": "stream",
     "text": [
      "{2: 33391, 3: 47655, 4: 43729, 5: 102730, 6: 41035, 7: 17150, 8: 102291, 9: 90876, 12: 48765, 13: 32637, 14: 127526, 17: 65406, 20: 23897, 21: 26031, 22: 31567, 23: 34502, 24: 18015, 25: 73525, 26: 41089, 27: 40458, 28: 1, 29: 85846, 30: 50127, 31: 6945, 32: 37696, 33: 61271, 35: 31073, 36: 20086, 38: 44772, 41: 33497, 42: 2502, 43: 19287, 44: 53224, 45: 30906, 46: 34998, 48: 21608, 49: 21488, 50: 48979, 51: 16534, 54: 88148, 56: 54701, 57: 9305, 58: 29553, 59: 29231, 60: 23130, 61: 11425, 63: 34410, 64: 44914, 65: 59297, 66: 79114, 68: 16361, 69: 71263, 70: 59621, 71: 41327, 73: 36157, 74: 60960, 75: 55193, 76: 41769, 77: 10562, 79: 55471, 80: 34034, 82: 60761, 83: 60159, 84: 13557, 85: 58275, 86: 34592, 87: 32660, 89: 50201, 91: 40585, 92: 20596, 93: 42522, 94: 30237, 95: 27240, 96: 86644, 98: 25066, 99: 53341, 101: 32912, 102: 14543, 104: 34917, 105: 178, 107: 23534, 111: 62427, 112: 29649, 114: 19121, 116: 53195, 117: 52072, 118: 30320, 120: 29864, 121: 75383, 122: 19654, 124: 46496, 126: 19450, 128: 68201, 130: 87541, 131: 82970, 132: 37651, 134: 19328, 135: 51512, 137: 41429, 138: 14441, 144: 69375, 146: 49205, 148: 4110, 149: 23041, 150: 67470, 151: 40089, 152: 82291, 153: 29619, 155: 21441, 156: 66259, 158: 41935, 161: 76982, 162: 42364, 163: 51635, 164: 40065, 165: 51833, 166: 55501, 167: 34618, 168: 31796, 169: 17208, 171: 56950, 172: 39049, 174: 59295, 175: 111755, 176: 13139, 177: 19068, 179: 22615, 181: 40747, 182: 55514, 183: 57418, 184: 25213, 186: 42519, 187: 33449, 188: 25910, 189: 41273, 190: 38652, 191: 19857, 193: 40942, 194: 45616, 196: 22607, 197: 21175, 199: 66854, 200: 60824, 202: 94322, 203: 9636, 204: 49863, 205: 42652, 206: 66427, 207: 15028, 208: 14667, 210: 64917, 212: 62093, 213: 61855, 214: 26949, 215: 69478, 216: 50878, 219: 18079, 220: 16957, 222: 80859, 223: 36449, 227: 34013, 228: 21643, 229: 35312, 230: 25521, 231: 33702, 232: 11979, 233: 9, 234: 15706, 235: 44143, 236: 39176, 237: 9998, 239: 56562, 241: 16343, 242: 55606, 245: 21362, 247: 22477, 248: 28299, 249: 3684, 251: 8640, 252: 26933, 253: 21876, 254: 53075, 255: 28161, 257: 25619, 258: 20383, 259: 17409, 260: 14637, 261: 43804, 262: 25508, 263: 32605, 264: 3481, 265: 10951, 267: 7386, 268: 39882, 269: 38254, 270: 11685, 271: 17374, 273: 42920, 275: 40831, 277: 82082, 278: 29890, 280: 26286, 281: 52305, 284: 24893, 288: 1169, 289: 89637, 291: 23710, 294: 6157, 299: 20247, 301: 9120, 302: 20505, 304: 17556, 307: 5958, 308: 43634, 309: 9563, 310: 5820, 311: 5573, 313: 12, 316: 33193, 318: 32829, 322: 28841, 323: 29678, 324: 21198, 327: 9687, 329: 44166, 330: 4213, 333: 9635, 335: 27211, 336: 25084, 337: 1, 340: 19561, 342: 16588, 348: 12224, 349: 5120, 353: 52970, 355: 28098, 358: 28218, 359: 31462, 361: 30444, 362: 6949, 363: 15085, 364: 37153, 366: 11887, 367: 19354, 368: 16528, 369: 7037, 370: 10549, 371: 11100, 372: 14615, 373: 9723, 374: 12101, 375: 12825, 376: 14436, 378: 23491, 379: 36928, 381: 12364, 382: 12093, 383: 7118, 384: 16471, 385: 19605, 386: 9391, 387: 28610, 392: 20108, 393: 8432, 395: 7164, 400: 13163, 402: 4, 403: 26521, 407: 19382, 408: 15200, 412: 3947, 413: 7695, 414: 6435, 416: 40648, 417: 8537, 418: 33726, 419: 1, 420: 8244, 422: 13338, 423: 8910, 424: 13850, 425: 13724, 426: 49185, 427: 9579, 428: 11086, 429: 11305, 431: 4728, 432: 44953, 433: 36049, 434: 9062, 435: 51369, 436: 9524, 440: 30685, 441: 35370, 442: 4, 443: 734, 444: 44854, 447: 95, 448: 28471, 449: 57176, 453: 10419, 454: 6668, 455: 12442, 456: 1965, 457: 8188, 458: 30156, 459: 8315, 460: 9189, 461: 14146, 462: 2772, 464: 10049, 465: 7799, 466: 27110, 467: 12930, 468: 29480, 469: 4684, 471: 4785, 472: 9273, 473: 9344, 474: 8351, 475: 6292, 476: 11420, 477: 14882, 478: 16154, 479: 18420, 480: 11938, 481: 4480, 482: 3400, 483: 5679, 484: 8612, 485: 5363, 486: 8416, 487: 8555, 488: 8669, 489: 15158, 490: 9535, 491: 12334, 492: 21675, 493: 7562, 494: 4927, 496: 4110, 497: 6966, 498: 7154, 499: 8779, 500: 8973, 501: 5017, 502: 3529, 503: 647, 504: 4853, 505: 3811, 506: 4901, 507: 2119, 508: 2308, 509: 3315, 511: 2939, 512: 7053, 513: 3202, 515: 23304, 516: 31471, 517: 12904, 518: 8226, 519: 6348, 520: 935, 521: 3834, 522: 6132, 523: 511, 524: 7394, 525: 6205, 526: 6359, 527: 6526, 528: 2003, 529: 3565, 530: 10123, 531: 2749, 532: 2479, 533: 2789, 534: 11732, 535: 4816, 536: 5473, 537: 3818, 538: 3203, 539: 2151, 540: 398, 541: 148, 542: 251, 543: 627, 544: 738, 545: 498, 546: 655, 547: 79, 548: 117, 549: 24, 550: 10, 551: 43, 552: 38, 553: 13, 554: 57, 556: 81}\n"
     ]
    },
    {
     "data": {
      "application/vnd.microsoft.datawrangler.viewer.v0+json": {
       "columns": [
        {
         "name": "index",
         "rawType": "int64",
         "type": "integer"
        },
        {
         "name": "fecha_hora",
         "rawType": "datetime64[ns]",
         "type": "datetime"
        },
        {
         "name": "fecha",
         "rawType": "object",
         "type": "unknown"
        },
        {
         "name": "hora",
         "rawType": "int32",
         "type": "integer"
        },
        {
         "name": "id_estacion",
         "rawType": "int64",
         "type": "integer"
        },
        {
         "name": "dia_semana",
         "rawType": "int32",
         "type": "integer"
        },
        {
         "name": "mes",
         "rawType": "int32",
         "type": "integer"
        },
        {
         "name": "año",
         "rawType": "int32",
         "type": "integer"
        },
        {
         "name": "es_feriado",
         "rawType": "int32",
         "type": "integer"
        },
        {
         "name": "bicis_llegaron_h1",
         "rawType": "float64",
         "type": "float"
        },
        {
         "name": "bicis_llegaron_h2",
         "rawType": "float64",
         "type": "float"
        },
        {
         "name": "bicis_llegaron_h3",
         "rawType": "float64",
         "type": "float"
        },
        {
         "name": "bicis_llegaron_h4",
         "rawType": "float64",
         "type": "float"
        },
        {
         "name": "bicis_llegaron_h5",
         "rawType": "float64",
         "type": "float"
        },
        {
         "name": "bicis_llegaron_h6",
         "rawType": "float64",
         "type": "float"
        },
        {
         "name": "total_bicis_salieron",
         "rawType": "float64",
         "type": "float"
        },
        {
         "name": "pct_mujeres_salieron",
         "rawType": "float64",
         "type": "float"
        },
        {
         "name": "pct_hombres_salieron",
         "rawType": "float64",
         "type": "float"
        },
        {
         "name": "promedio_edad_salieron",
         "rawType": "float64",
         "type": "float"
        },
        {
         "name": "pct_iconic_salieron",
         "rawType": "float64",
         "type": "float"
        },
        {
         "name": "target",
         "rawType": "float64",
         "type": "float"
        }
       ],
       "ref": "56731182-8bb5-4281-bc6a-5e0ffe5f0f10",
       "rows": [
        [
         "0",
         "2023-02-12 03:00:00",
         "2023-02-12",
         "3",
         "14",
         "6",
         "2",
         "2023",
         "0",
         "1.0",
         "0.0",
         "3.0",
         "4.0",
         "5.0",
         "2.0",
         "0.0",
         "0.0",
         "0.0",
         "31.971875811899196",
         "0.0",
         "2.0"
        ],
        [
         "1",
         "2022-07-19 16:00:00",
         "2022-07-19",
         "16",
         "14",
         "1",
         "7",
         "2022",
         "0",
         "7.0",
         "10.0",
         "0.0",
         "8.0",
         "3.0",
         "6.0",
         "14.0",
         "0.0",
         "1.0",
         "34.166666666666664",
         "0.21428571428571427",
         "16.0"
        ],
        [
         "2",
         "2023-07-02 05:00:00",
         "2023-07-02",
         "5",
         "14",
         "6",
         "7",
         "2023",
         "0",
         "2.0",
         "0.0",
         "1.0",
         "0.0",
         "0.0",
         "0.0",
         "0.0",
         "0.0",
         "0.0",
         "31.971875811899196",
         "0.0",
         "0.0"
        ],
        [
         "3",
         "2023-07-07 18:00:00",
         "2023-07-07",
         "18",
         "14",
         "4",
         "7",
         "2023",
         "0",
         "16.0",
         "11.0",
         "9.0",
         "4.0",
         "15.0",
         "8.0",
         "14.0",
         "0.0",
         "1.0",
         "30.833333333333332",
         "0.42857142857142855",
         "14.0"
        ],
        [
         "4",
         "2023-10-31 19:00:00",
         "2023-10-31",
         "19",
         "14",
         "1",
         "10",
         "2023",
         "0",
         "2.0",
         "2.0",
         "8.0",
         "3.0",
         "0.0",
         "2.0",
         "5.0",
         "0.0",
         "1.0",
         "30.25",
         "0.4",
         "6.0"
        ],
        [
         "5",
         "2022-06-14 14:00:00",
         "2022-06-14",
         "14",
         "14",
         "1",
         "6",
         "2022",
         "0",
         "6.0",
         "7.0",
         "4.0",
         "5.0",
         "2.0",
         "5.0",
         "8.0",
         "0.0",
         "1.0",
         "44.0",
         "0.5",
         "8.0"
        ],
        [
         "6",
         "2022-09-23 13:00:00",
         "2022-09-23",
         "13",
         "14",
         "4",
         "9",
         "2022",
         "0",
         "10.0",
         "3.0",
         "3.0",
         "6.0",
         "6.0",
         "4.0",
         "9.0",
         "0.0",
         "1.0",
         "39.142857142857146",
         "0.2222222222222222",
         "8.0"
        ],
        [
         "7",
         "2021-05-21 06:00:00",
         "2021-05-21",
         "6",
         "14",
         "4",
         "5",
         "2021",
         "0",
         "0.0",
         "1.0",
         "0.0",
         "0.0",
         "1.0",
         "2.0",
         "1.0",
         "0.0",
         "1.0",
         "38.0",
         "1.0",
         "2.0"
        ],
        [
         "8",
         "2021-12-21 08:00:00",
         "2021-12-21",
         "8",
         "14",
         "1",
         "12",
         "2021",
         "0",
         "6.0",
         "1.0",
         "2.0",
         "0.0",
         "0.0",
         "0.0",
         "11.0",
         "0.0",
         "1.0",
         "30.333333333333332",
         "0.8181818181818182",
         "5.0"
        ],
        [
         "9",
         "2023-05-02 06:00:00",
         "2023-05-02",
         "6",
         "14",
         "1",
         "5",
         "2023",
         "0",
         "0.0",
         "0.0",
         "1.0",
         "1.0",
         "1.0",
         "1.0",
         "5.0",
         "0.0",
         "1.0",
         "31.5",
         "0.8",
         "3.0"
        ],
        [
         "10",
         "2023-11-19 22:00:00",
         "2023-11-19",
         "22",
         "14",
         "6",
         "11",
         "2023",
         "0",
         "1.0",
         "13.0",
         "18.0",
         "12.0",
         "9.0",
         "10.0",
         "1.0",
         "0.0",
         "1.0",
         "40.0",
         "0.0",
         "0.0"
        ],
        [
         "11",
         "2023-04-12 22:00:00",
         "2023-04-12",
         "22",
         "14",
         "2",
         "4",
         "2023",
         "0",
         "7.0",
         "7.0",
         "5.0",
         "16.0",
         "11.0",
         "7.0",
         "10.0",
         "0.0",
         "1.0",
         "29.166666666666668",
         "0.8",
         "5.0"
        ],
        [
         "12",
         "2022-09-12 04:00:00",
         "2022-09-12",
         "4",
         "14",
         "0",
         "9",
         "2022",
         "0",
         "0.0",
         "0.0",
         "0.0",
         "2.0",
         "1.0",
         "1.0",
         "0.0",
         "0.0",
         "0.0",
         "31.971875811899196",
         "0.0",
         "0.0"
        ],
        [
         "13",
         "2023-04-29 13:00:00",
         "2023-04-29",
         "13",
         "14",
         "5",
         "4",
         "2023",
         "0",
         "3.0",
         "4.0",
         "4.0",
         "3.0",
         "0.0",
         "0.0",
         "5.0",
         "0.0",
         "1.0",
         "30.333333333333332",
         "0.2",
         "3.0"
        ],
        [
         "14",
         "2022-07-25 16:00:00",
         "2022-07-25",
         "16",
         "14",
         "0",
         "7",
         "2022",
         "0",
         "1.0",
         "3.0",
         "1.0",
         "3.0",
         "0.0",
         "1.0",
         "7.0",
         "0.0",
         "1.0",
         "28.6",
         "0.42857142857142855",
         "6.0"
        ],
        [
         "15",
         "2023-06-22 09:00:00",
         "2023-06-22",
         "9",
         "14",
         "3",
         "6",
         "2023",
         "0",
         "0.0",
         "5.0",
         "0.0",
         "0.0",
         "0.0",
         "1.0",
         "4.0",
         "0.0",
         "1.0",
         "23.0",
         "0.75",
         "0.0"
        ],
        [
         "16",
         "2022-12-29 04:00:00",
         "2022-12-29",
         "4",
         "14",
         "3",
         "12",
         "2022",
         "0",
         "0.0",
         "2.0",
         "4.0",
         "3.0",
         "5.0",
         "2.0",
         "0.0",
         "0.0",
         "0.0",
         "31.971875811899196",
         "0.0",
         "0.0"
        ],
        [
         "17",
         "2021-03-14 01:00:00",
         "2021-03-14",
         "1",
         "14",
         "6",
         "3",
         "2021",
         "0",
         "0.0",
         "3.0",
         "1.0",
         "2.0",
         "1.0",
         "7.0",
         "0.0",
         "0.0",
         "0.0",
         "31.971875811899196",
         "0.0",
         "2.0"
        ],
        [
         "18",
         "2021-11-06 01:00:00",
         "2021-11-06",
         "1",
         "14",
         "5",
         "11",
         "2021",
         "0",
         "2.0",
         "4.0",
         "2.0",
         "8.0",
         "9.0",
         "11.0",
         "3.0",
         "0.0",
         "1.0",
         "28.0",
         "0.3333333333333333",
         "0.0"
        ],
        [
         "19",
         "2023-08-26 23:00:00",
         "2023-08-26",
         "23",
         "14",
         "5",
         "8",
         "2023",
         "0",
         "1.0",
         "0.0",
         "2.0",
         "6.0",
         "9.0",
         "5.0",
         "1.0",
         "0.0",
         "1.0",
         "0.0",
         "1.0",
         "1.0"
        ],
        [
         "20",
         "2023-10-09 01:00:00",
         "2023-10-09",
         "1",
         "14",
         "0",
         "10",
         "2023",
         "0",
         "1.0",
         "0.0",
         "6.0",
         "10.0",
         "15.0",
         "10.0",
         "3.0",
         "0.0",
         "1.0",
         "20.333333333333332",
         "0.0",
         "1.0"
        ],
        [
         "21",
         "2022-07-15 22:00:00",
         "2022-07-15",
         "22",
         "14",
         "4",
         "7",
         "2022",
         "0",
         "3.0",
         "4.0",
         "1.0",
         "10.0",
         "6.0",
         "10.0",
         "3.0",
         "0.0",
         "1.0",
         "29.0",
         "0.3333333333333333",
         "4.0"
        ],
        [
         "22",
         "2022-07-22 08:00:00",
         "2022-07-22",
         "8",
         "14",
         "4",
         "7",
         "2022",
         "0",
         "2.0",
         "1.0",
         "1.0",
         "0.0",
         "1.0",
         "1.0",
         "3.0",
         "0.0",
         "1.0",
         "38.5",
         "0.3333333333333333",
         "5.0"
        ],
        [
         "23",
         "2022-09-22 19:00:00",
         "2022-09-22",
         "19",
         "14",
         "3",
         "9",
         "2022",
         "0",
         "7.0",
         "4.0",
         "7.0",
         "8.0",
         "8.0",
         "8.0",
         "5.0",
         "0.0",
         "1.0",
         "36.0",
         "0.4",
         "6.0"
        ],
        [
         "24",
         "2021-10-24 05:00:00",
         "2021-10-24",
         "5",
         "14",
         "6",
         "10",
         "2021",
         "0",
         "0.0",
         "0.0",
         "1.0",
         "1.0",
         "0.0",
         "0.0",
         "0.0",
         "0.0",
         "0.0",
         "31.971875811899196",
         "0.0",
         "0.0"
        ],
        [
         "25",
         "2021-03-30 17:00:00",
         "2021-03-30",
         "17",
         "14",
         "1",
         "3",
         "2021",
         "0",
         "9.0",
         "6.0",
         "8.0",
         "6.0",
         "5.0",
         "7.0",
         "13.0",
         "0.0",
         "1.0",
         "31.166666666666668",
         "1.0",
         "12.0"
        ],
        [
         "26",
         "2021-11-20 05:00:00",
         "2021-11-20",
         "5",
         "14",
         "5",
         "11",
         "2021",
         "1",
         "0.0",
         "2.0",
         "0.0",
         "2.0",
         "6.0",
         "4.0",
         "0.0",
         "0.0",
         "0.0",
         "31.971875811899196",
         "0.0",
         "1.0"
        ],
        [
         "27",
         "2023-08-18 15:00:00",
         "2023-08-18",
         "15",
         "14",
         "4",
         "8",
         "2023",
         "0",
         "7.0",
         "2.0",
         "3.0",
         "1.0",
         "1.0",
         "0.0",
         "3.0",
         "0.0",
         "1.0",
         "33.0",
         "0.3333333333333333",
         "10.0"
        ],
        [
         "28",
         "2021-01-18 20:00:00",
         "2021-01-18",
         "20",
         "14",
         "0",
         "1",
         "2021",
         "0",
         "16.0",
         "10.0",
         "8.0",
         "11.0",
         "12.0",
         "10.0",
         "28.0",
         "0.0",
         "1.0",
         "32.75",
         "1.0",
         "9.0"
        ],
        [
         "29",
         "2022-03-07 22:00:00",
         "2022-03-07",
         "22",
         "14",
         "0",
         "3",
         "2022",
         "0",
         "9.0",
         "10.0",
         "17.0",
         "11.0",
         "14.0",
         "5.0",
         "5.0",
         "0.0",
         "1.0",
         "34.0",
         "0.8",
         "2.0"
        ],
        [
         "30",
         "2023-12-24 02:00:00",
         "2023-12-24",
         "2",
         "14",
         "6",
         "12",
         "2023",
         "0",
         "3.0",
         "1.0",
         "5.0",
         "0.0",
         "2.0",
         "6.0",
         "0.0",
         "0.0",
         "0.0",
         "31.971875811899196",
         "0.0",
         "2.0"
        ],
        [
         "31",
         "2021-07-24 04:00:00",
         "2021-07-24",
         "4",
         "14",
         "5",
         "7",
         "2021",
         "0",
         "1.0",
         "0.0",
         "0.0",
         "0.0",
         "4.0",
         "2.0",
         "0.0",
         "0.0",
         "0.0",
         "31.971875811899196",
         "0.0",
         "0.0"
        ],
        [
         "32",
         "2023-08-03 08:00:00",
         "2023-08-03",
         "8",
         "14",
         "3",
         "8",
         "2023",
         "0",
         "2.0",
         "0.0",
         "0.0",
         "0.0",
         "1.0",
         "1.0",
         "8.0",
         "0.0",
         "1.0",
         "61.0",
         "0.25",
         "2.0"
        ],
        [
         "33",
         "2021-03-21 19:00:00",
         "2021-03-21",
         "19",
         "14",
         "6",
         "3",
         "2021",
         "0",
         "3.0",
         "10.0",
         "5.0",
         "4.0",
         "8.0",
         "7.0",
         "3.0",
         "0.0",
         "1.0",
         "28.0",
         "1.0",
         "4.0"
        ],
        [
         "34",
         "2022-10-13 01:00:00",
         "2022-10-13",
         "1",
         "14",
         "3",
         "10",
         "2022",
         "0",
         "10.0",
         "3.0",
         "4.0",
         "5.0",
         "10.0",
         "15.0",
         "1.0",
         "0.0",
         "1.0",
         "27.0",
         "1.0",
         "2.0"
        ],
        [
         "35",
         "2023-07-07 22:00:00",
         "2023-07-07",
         "22",
         "14",
         "4",
         "7",
         "2023",
         "0",
         "4.0",
         "8.0",
         "14.0",
         "13.0",
         "16.0",
         "11.0",
         "3.0",
         "0.0",
         "1.0",
         "36.333333333333336",
         "0.3333333333333333",
         "1.0"
        ],
        [
         "36",
         "2021-06-19 14:00:00",
         "2021-06-19",
         "14",
         "14",
         "5",
         "6",
         "2021",
         "0",
         "8.0",
         "6.0",
         "3.0",
         "1.0",
         "0.0",
         "3.0",
         "3.0",
         "0.0",
         "1.0",
         "40.5",
         "1.0",
         "5.0"
        ],
        [
         "37",
         "2023-04-06 13:00:00",
         "2023-04-06",
         "13",
         "14",
         "3",
         "4",
         "2023",
         "1",
         "4.0",
         "3.0",
         "6.0",
         "1.0",
         "0.0",
         "2.0",
         "6.0",
         "0.0",
         "1.0",
         "25.666666666666668",
         "0.5",
         "4.0"
        ],
        [
         "38",
         "2023-04-29 03:00:00",
         "2023-04-29",
         "3",
         "14",
         "5",
         "4",
         "2023",
         "0",
         "0.0",
         "2.0",
         "3.0",
         "4.0",
         "3.0",
         "5.0",
         "1.0",
         "0.0",
         "1.0",
         "0.0",
         "0.0",
         "0.0"
        ],
        [
         "39",
         "2022-05-17 06:00:00",
         "2022-05-17",
         "6",
         "14",
         "1",
         "5",
         "2022",
         "0",
         "2.0",
         "0.0",
         "1.0",
         "0.0",
         "0.0",
         "4.0",
         "1.0",
         "0.0",
         "1.0",
         "25.0",
         "0.0",
         "1.0"
        ],
        [
         "40",
         "2021-12-18 18:00:00",
         "2021-12-18",
         "18",
         "14",
         "5",
         "12",
         "2021",
         "0",
         "11.0",
         "4.0",
         "6.0",
         "0.0",
         "6.0",
         "5.0",
         "9.0",
         "0.0",
         "1.0",
         "34.5",
         "0.6666666666666666",
         "3.0"
        ],
        [
         "41",
         "2022-10-17 17:00:00",
         "2022-10-17",
         "17",
         "14",
         "0",
         "10",
         "2022",
         "0",
         "8.0",
         "11.0",
         "6.0",
         "7.0",
         "5.0",
         "7.0",
         "14.0",
         "0.0",
         "1.0",
         "34.375",
         "0.42857142857142855",
         "22.0"
        ],
        [
         "42",
         "2022-12-13 22:00:00",
         "2022-12-13",
         "22",
         "14",
         "1",
         "12",
         "2022",
         "0",
         "11.0",
         "6.0",
         "8.0",
         "7.0",
         "3.0",
         "4.0",
         "5.0",
         "0.0",
         "1.0",
         "27.0",
         "0.2",
         "0.0"
        ],
        [
         "43",
         "2023-01-28 17:00:00",
         "2023-01-28",
         "17",
         "14",
         "5",
         "1",
         "2023",
         "0",
         "1.0",
         "2.0",
         "2.0",
         "1.0",
         "3.0",
         "3.0",
         "1.0",
         "0.0",
         "1.0",
         "19.0",
         "1.0",
         "1.0"
        ],
        [
         "44",
         "2022-02-06 11:00:00",
         "2022-02-06",
         "11",
         "14",
         "6",
         "2",
         "2022",
         "0",
         "1.0",
         "0.0",
         "1.0",
         "3.0",
         "0.0",
         "0.0",
         "2.0",
         "0.0",
         "1.0",
         "27.0",
         "0.5",
         "1.0"
        ],
        [
         "45",
         "2021-01-09 04:00:00",
         "2021-01-09",
         "4",
         "14",
         "5",
         "1",
         "2021",
         "0",
         "6.0",
         "0.0",
         "4.0",
         "2.0",
         "3.0",
         "3.0",
         "6.0",
         "0.0",
         "1.0",
         "27.333333333333332",
         "1.0",
         "1.0"
        ],
        [
         "46",
         "2023-01-20 15:00:00",
         "2023-01-20",
         "15",
         "14",
         "4",
         "1",
         "2023",
         "0",
         "6.0",
         "5.0",
         "2.0",
         "3.0",
         "3.0",
         "4.0",
         "5.0",
         "0.0",
         "1.0",
         "28.0",
         "0.4",
         "6.0"
        ],
        [
         "47",
         "2022-06-18 04:00:00",
         "2022-06-18",
         "4",
         "14",
         "5",
         "6",
         "2022",
         "0",
         "0.0",
         "2.0",
         "1.0",
         "0.0",
         "0.0",
         "1.0",
         "0.0",
         "0.0",
         "0.0",
         "31.971875811899196",
         "0.0",
         "0.0"
        ],
        [
         "48",
         "2023-02-05 07:00:00",
         "2023-02-05",
         "7",
         "14",
         "6",
         "2",
         "2023",
         "0",
         "0.0",
         "0.0",
         "0.0",
         "0.0",
         "0.0",
         "0.0",
         "0.0",
         "0.0",
         "0.0",
         "31.971875811899196",
         "0.0",
         "1.0"
        ],
        [
         "49",
         "2021-01-31 13:00:00",
         "2021-01-31",
         "13",
         "14",
         "6",
         "1",
         "2021",
         "0",
         "8.0",
         "0.0",
         "6.0",
         "5.0",
         "1.0",
         "0.0",
         "9.0",
         "0.0",
         "1.0",
         "36.0",
         "1.0",
         "2.0"
        ]
       ],
       "shape": {
        "columns": 20,
        "rows": 1000
       }
      },
      "text/html": [
       "<div>\n",
       "<style scoped>\n",
       "    .dataframe tbody tr th:only-of-type {\n",
       "        vertical-align: middle;\n",
       "    }\n",
       "\n",
       "    .dataframe tbody tr th {\n",
       "        vertical-align: top;\n",
       "    }\n",
       "\n",
       "    .dataframe thead th {\n",
       "        text-align: right;\n",
       "    }\n",
       "</style>\n",
       "<table border=\"1\" class=\"dataframe\">\n",
       "  <thead>\n",
       "    <tr style=\"text-align: right;\">\n",
       "      <th></th>\n",
       "      <th>fecha_hora</th>\n",
       "      <th>fecha</th>\n",
       "      <th>hora</th>\n",
       "      <th>id_estacion</th>\n",
       "      <th>dia_semana</th>\n",
       "      <th>mes</th>\n",
       "      <th>año</th>\n",
       "      <th>es_feriado</th>\n",
       "      <th>bicis_llegaron_h1</th>\n",
       "      <th>bicis_llegaron_h2</th>\n",
       "      <th>bicis_llegaron_h3</th>\n",
       "      <th>bicis_llegaron_h4</th>\n",
       "      <th>bicis_llegaron_h5</th>\n",
       "      <th>bicis_llegaron_h6</th>\n",
       "      <th>total_bicis_salieron</th>\n",
       "      <th>pct_mujeres_salieron</th>\n",
       "      <th>pct_hombres_salieron</th>\n",
       "      <th>promedio_edad_salieron</th>\n",
       "      <th>pct_iconic_salieron</th>\n",
       "      <th>target</th>\n",
       "    </tr>\n",
       "  </thead>\n",
       "  <tbody>\n",
       "    <tr>\n",
       "      <th>0</th>\n",
       "      <td>2023-02-12 03:00:00</td>\n",
       "      <td>2023-02-12</td>\n",
       "      <td>3</td>\n",
       "      <td>14</td>\n",
       "      <td>6</td>\n",
       "      <td>2</td>\n",
       "      <td>2023</td>\n",
       "      <td>0</td>\n",
       "      <td>1.0</td>\n",
       "      <td>0.0</td>\n",
       "      <td>3.0</td>\n",
       "      <td>4.0</td>\n",
       "      <td>5.0</td>\n",
       "      <td>2.0</td>\n",
       "      <td>0.0</td>\n",
       "      <td>0.0</td>\n",
       "      <td>0.0</td>\n",
       "      <td>31.971876</td>\n",
       "      <td>0.000000</td>\n",
       "      <td>2.0</td>\n",
       "    </tr>\n",
       "    <tr>\n",
       "      <th>1</th>\n",
       "      <td>2022-07-19 16:00:00</td>\n",
       "      <td>2022-07-19</td>\n",
       "      <td>16</td>\n",
       "      <td>14</td>\n",
       "      <td>1</td>\n",
       "      <td>7</td>\n",
       "      <td>2022</td>\n",
       "      <td>0</td>\n",
       "      <td>7.0</td>\n",
       "      <td>10.0</td>\n",
       "      <td>0.0</td>\n",
       "      <td>8.0</td>\n",
       "      <td>3.0</td>\n",
       "      <td>6.0</td>\n",
       "      <td>14.0</td>\n",
       "      <td>0.0</td>\n",
       "      <td>1.0</td>\n",
       "      <td>34.166667</td>\n",
       "      <td>0.214286</td>\n",
       "      <td>16.0</td>\n",
       "    </tr>\n",
       "    <tr>\n",
       "      <th>2</th>\n",
       "      <td>2023-07-02 05:00:00</td>\n",
       "      <td>2023-07-02</td>\n",
       "      <td>5</td>\n",
       "      <td>14</td>\n",
       "      <td>6</td>\n",
       "      <td>7</td>\n",
       "      <td>2023</td>\n",
       "      <td>0</td>\n",
       "      <td>2.0</td>\n",
       "      <td>0.0</td>\n",
       "      <td>1.0</td>\n",
       "      <td>0.0</td>\n",
       "      <td>0.0</td>\n",
       "      <td>0.0</td>\n",
       "      <td>0.0</td>\n",
       "      <td>0.0</td>\n",
       "      <td>0.0</td>\n",
       "      <td>31.971876</td>\n",
       "      <td>0.000000</td>\n",
       "      <td>0.0</td>\n",
       "    </tr>\n",
       "    <tr>\n",
       "      <th>3</th>\n",
       "      <td>2023-07-07 18:00:00</td>\n",
       "      <td>2023-07-07</td>\n",
       "      <td>18</td>\n",
       "      <td>14</td>\n",
       "      <td>4</td>\n",
       "      <td>7</td>\n",
       "      <td>2023</td>\n",
       "      <td>0</td>\n",
       "      <td>16.0</td>\n",
       "      <td>11.0</td>\n",
       "      <td>9.0</td>\n",
       "      <td>4.0</td>\n",
       "      <td>15.0</td>\n",
       "      <td>8.0</td>\n",
       "      <td>14.0</td>\n",
       "      <td>0.0</td>\n",
       "      <td>1.0</td>\n",
       "      <td>30.833333</td>\n",
       "      <td>0.428571</td>\n",
       "      <td>14.0</td>\n",
       "    </tr>\n",
       "    <tr>\n",
       "      <th>4</th>\n",
       "      <td>2023-10-31 19:00:00</td>\n",
       "      <td>2023-10-31</td>\n",
       "      <td>19</td>\n",
       "      <td>14</td>\n",
       "      <td>1</td>\n",
       "      <td>10</td>\n",
       "      <td>2023</td>\n",
       "      <td>0</td>\n",
       "      <td>2.0</td>\n",
       "      <td>2.0</td>\n",
       "      <td>8.0</td>\n",
       "      <td>3.0</td>\n",
       "      <td>0.0</td>\n",
       "      <td>2.0</td>\n",
       "      <td>5.0</td>\n",
       "      <td>0.0</td>\n",
       "      <td>1.0</td>\n",
       "      <td>30.250000</td>\n",
       "      <td>0.400000</td>\n",
       "      <td>6.0</td>\n",
       "    </tr>\n",
       "    <tr>\n",
       "      <th>...</th>\n",
       "      <td>...</td>\n",
       "      <td>...</td>\n",
       "      <td>...</td>\n",
       "      <td>...</td>\n",
       "      <td>...</td>\n",
       "      <td>...</td>\n",
       "      <td>...</td>\n",
       "      <td>...</td>\n",
       "      <td>...</td>\n",
       "      <td>...</td>\n",
       "      <td>...</td>\n",
       "      <td>...</td>\n",
       "      <td>...</td>\n",
       "      <td>...</td>\n",
       "      <td>...</td>\n",
       "      <td>...</td>\n",
       "      <td>...</td>\n",
       "      <td>...</td>\n",
       "      <td>...</td>\n",
       "      <td>...</td>\n",
       "    </tr>\n",
       "    <tr>\n",
       "      <th>995</th>\n",
       "      <td>2022-02-23 20:00:00</td>\n",
       "      <td>2022-02-23</td>\n",
       "      <td>20</td>\n",
       "      <td>14</td>\n",
       "      <td>2</td>\n",
       "      <td>2</td>\n",
       "      <td>2022</td>\n",
       "      <td>0</td>\n",
       "      <td>10.0</td>\n",
       "      <td>15.0</td>\n",
       "      <td>7.0</td>\n",
       "      <td>4.0</td>\n",
       "      <td>7.0</td>\n",
       "      <td>5.0</td>\n",
       "      <td>11.0</td>\n",
       "      <td>0.0</td>\n",
       "      <td>1.0</td>\n",
       "      <td>33.600000</td>\n",
       "      <td>0.454545</td>\n",
       "      <td>10.0</td>\n",
       "    </tr>\n",
       "    <tr>\n",
       "      <th>996</th>\n",
       "      <td>2021-02-07 08:00:00</td>\n",
       "      <td>2021-02-07</td>\n",
       "      <td>8</td>\n",
       "      <td>14</td>\n",
       "      <td>6</td>\n",
       "      <td>2</td>\n",
       "      <td>2021</td>\n",
       "      <td>0</td>\n",
       "      <td>2.0</td>\n",
       "      <td>3.0</td>\n",
       "      <td>3.0</td>\n",
       "      <td>0.0</td>\n",
       "      <td>2.0</td>\n",
       "      <td>6.0</td>\n",
       "      <td>2.0</td>\n",
       "      <td>0.0</td>\n",
       "      <td>1.0</td>\n",
       "      <td>0.000000</td>\n",
       "      <td>1.000000</td>\n",
       "      <td>3.0</td>\n",
       "    </tr>\n",
       "    <tr>\n",
       "      <th>997</th>\n",
       "      <td>2021-09-01 11:00:00</td>\n",
       "      <td>2021-09-01</td>\n",
       "      <td>11</td>\n",
       "      <td>14</td>\n",
       "      <td>2</td>\n",
       "      <td>9</td>\n",
       "      <td>2021</td>\n",
       "      <td>0</td>\n",
       "      <td>8.0</td>\n",
       "      <td>2.0</td>\n",
       "      <td>5.0</td>\n",
       "      <td>4.0</td>\n",
       "      <td>2.0</td>\n",
       "      <td>0.0</td>\n",
       "      <td>3.0</td>\n",
       "      <td>0.0</td>\n",
       "      <td>1.0</td>\n",
       "      <td>30.000000</td>\n",
       "      <td>0.666667</td>\n",
       "      <td>5.0</td>\n",
       "    </tr>\n",
       "    <tr>\n",
       "      <th>998</th>\n",
       "      <td>2021-06-11 12:00:00</td>\n",
       "      <td>2021-06-11</td>\n",
       "      <td>12</td>\n",
       "      <td>14</td>\n",
       "      <td>4</td>\n",
       "      <td>6</td>\n",
       "      <td>2021</td>\n",
       "      <td>0</td>\n",
       "      <td>4.0</td>\n",
       "      <td>3.0</td>\n",
       "      <td>9.0</td>\n",
       "      <td>2.0</td>\n",
       "      <td>2.0</td>\n",
       "      <td>3.0</td>\n",
       "      <td>7.0</td>\n",
       "      <td>0.0</td>\n",
       "      <td>1.0</td>\n",
       "      <td>38.750000</td>\n",
       "      <td>1.000000</td>\n",
       "      <td>4.0</td>\n",
       "    </tr>\n",
       "    <tr>\n",
       "      <th>999</th>\n",
       "      <td>2022-07-05 17:00:00</td>\n",
       "      <td>2022-07-05</td>\n",
       "      <td>17</td>\n",
       "      <td>14</td>\n",
       "      <td>1</td>\n",
       "      <td>7</td>\n",
       "      <td>2022</td>\n",
       "      <td>0</td>\n",
       "      <td>9.0</td>\n",
       "      <td>6.0</td>\n",
       "      <td>5.0</td>\n",
       "      <td>8.0</td>\n",
       "      <td>6.0</td>\n",
       "      <td>2.0</td>\n",
       "      <td>11.0</td>\n",
       "      <td>0.0</td>\n",
       "      <td>1.0</td>\n",
       "      <td>32.666667</td>\n",
       "      <td>0.272727</td>\n",
       "      <td>19.0</td>\n",
       "    </tr>\n",
       "  </tbody>\n",
       "</table>\n",
       "<p>1000 rows × 20 columns</p>\n",
       "</div>"
      ],
      "text/plain": [
       "             fecha_hora       fecha  hora  id_estacion  dia_semana  mes   año  \\\n",
       "0   2023-02-12 03:00:00  2023-02-12     3           14           6    2  2023   \n",
       "1   2022-07-19 16:00:00  2022-07-19    16           14           1    7  2022   \n",
       "2   2023-07-02 05:00:00  2023-07-02     5           14           6    7  2023   \n",
       "3   2023-07-07 18:00:00  2023-07-07    18           14           4    7  2023   \n",
       "4   2023-10-31 19:00:00  2023-10-31    19           14           1   10  2023   \n",
       "..                  ...         ...   ...          ...         ...  ...   ...   \n",
       "995 2022-02-23 20:00:00  2022-02-23    20           14           2    2  2022   \n",
       "996 2021-02-07 08:00:00  2021-02-07     8           14           6    2  2021   \n",
       "997 2021-09-01 11:00:00  2021-09-01    11           14           2    9  2021   \n",
       "998 2021-06-11 12:00:00  2021-06-11    12           14           4    6  2021   \n",
       "999 2022-07-05 17:00:00  2022-07-05    17           14           1    7  2022   \n",
       "\n",
       "     es_feriado  bicis_llegaron_h1  bicis_llegaron_h2  bicis_llegaron_h3  \\\n",
       "0             0                1.0                0.0                3.0   \n",
       "1             0                7.0               10.0                0.0   \n",
       "2             0                2.0                0.0                1.0   \n",
       "3             0               16.0               11.0                9.0   \n",
       "4             0                2.0                2.0                8.0   \n",
       "..          ...                ...                ...                ...   \n",
       "995           0               10.0               15.0                7.0   \n",
       "996           0                2.0                3.0                3.0   \n",
       "997           0                8.0                2.0                5.0   \n",
       "998           0                4.0                3.0                9.0   \n",
       "999           0                9.0                6.0                5.0   \n",
       "\n",
       "     bicis_llegaron_h4  bicis_llegaron_h5  bicis_llegaron_h6  \\\n",
       "0                  4.0                5.0                2.0   \n",
       "1                  8.0                3.0                6.0   \n",
       "2                  0.0                0.0                0.0   \n",
       "3                  4.0               15.0                8.0   \n",
       "4                  3.0                0.0                2.0   \n",
       "..                 ...                ...                ...   \n",
       "995                4.0                7.0                5.0   \n",
       "996                0.0                2.0                6.0   \n",
       "997                4.0                2.0                0.0   \n",
       "998                2.0                2.0                3.0   \n",
       "999                8.0                6.0                2.0   \n",
       "\n",
       "     total_bicis_salieron  pct_mujeres_salieron  pct_hombres_salieron  \\\n",
       "0                     0.0                   0.0                   0.0   \n",
       "1                    14.0                   0.0                   1.0   \n",
       "2                     0.0                   0.0                   0.0   \n",
       "3                    14.0                   0.0                   1.0   \n",
       "4                     5.0                   0.0                   1.0   \n",
       "..                    ...                   ...                   ...   \n",
       "995                  11.0                   0.0                   1.0   \n",
       "996                   2.0                   0.0                   1.0   \n",
       "997                   3.0                   0.0                   1.0   \n",
       "998                   7.0                   0.0                   1.0   \n",
       "999                  11.0                   0.0                   1.0   \n",
       "\n",
       "     promedio_edad_salieron  pct_iconic_salieron  target  \n",
       "0                 31.971876             0.000000     2.0  \n",
       "1                 34.166667             0.214286    16.0  \n",
       "2                 31.971876             0.000000     0.0  \n",
       "3                 30.833333             0.428571    14.0  \n",
       "4                 30.250000             0.400000     6.0  \n",
       "..                      ...                  ...     ...  \n",
       "995               33.600000             0.454545    10.0  \n",
       "996                0.000000             1.000000     3.0  \n",
       "997               30.000000             0.666667     5.0  \n",
       "998               38.750000             1.000000     4.0  \n",
       "999               32.666667             0.272727    19.0  \n",
       "\n",
       "[1000 rows x 20 columns]"
      ]
     },
     "execution_count": 80,
     "metadata": {},
     "output_type": "execute_result"
    }
   ],
   "source": [
    "print(count)\n",
    "aux_d.get_muestras(dataset_train_14)"
   ]
  },
  {
   "cell_type": "markdown",
   "id": "ccb06ac3",
   "metadata": {},
   "source": [
    "Creamos dataset para todas las estaciones con lsa features inciales simples."
   ]
  },
  {
   "cell_type": "code",
   "execution_count": 81,
   "id": "cd6676de",
   "metadata": {
    "vscode": {
     "languageId": "perl"
    }
   },
   "outputs": [
    {
     "name": "stdout",
     "output_type": "stream",
     "text": [
      "[2, 3, 4, 5, 6, 7, 8, 9, 12, 13, 14, 17, 20, 21, 22, 23, 24, 25, 26, 27, 28, 29, 30, 31, 32, 33, 35, 36, 38, 41, 42, 43, 44, 45, 46, 48, 49, 50, 51, 54, 56, 57, 58, 59, 60, 61, 63, 64, 65, 66, 68, 69, 70, 71, 73, 74, 75, 76, 77, 79, 80, 82, 83, 84, 85, 86, 87, 89, 91, 92, 93, 94, 95, 96, 98, 99, 101, 102, 104, 105, 107, 111, 112, 114, 116, 117, 118, 120, 121, 122, 124, 126, 128, 130, 131, 132, 134, 135, 137, 138, 144, 146, 148, 149, 150, 151, 152, 153, 155, 156, 158, 161, 162, 163, 164, 165, 166, 167, 168, 169, 171, 172, 174, 175, 176, 177, 179, 181, 182, 183, 184, 186, 187, 188, 189, 190, 191, 193, 194, 196, 197, 199, 200, 202, 203, 204, 205, 206, 207, 208, 210, 212, 213, 214, 215, 216, 219, 220, 222, 223, 227, 228, 229, 230, 231, 232, 233, 234, 235, 236, 237, 239, 241, 242, 245, 247, 248, 249, 251, 252, 253, 254, 255, 257, 258, 259, 260, 261, 262, 263, 264, 265, 267, 268, 269, 270, 271, 273, 275, 277, 278, 280, 281, 284, 288, 289, 291, 294, 299, 301, 302, 304, 307, 308, 309, 310, 311, 313, 316, 318, 322, 323, 324, 327, 329, 330, 333, 335, 336, 337, 340, 342, 348, 349, 353, 355, 358, 359, 361, 362, 363, 364, 366, 367, 368, 369, 370, 371, 372, 373, 374, 375, 376, 378, 379, 381, 382, 383, 384, 385, 386, 387, 392, 393, 395, 400, 402, 403, 407, 408, 412, 413, 414, 416, 417, 418, 419, 420, 422, 423, 424, 425, 426, 427, 428, 429, 431, 432, 433, 434, 435, 436, 440, 441, 442, 443, 444, 447, 448, 449, 453, 454, 455, 456, 457, 458, 459, 460, 461, 462, 464, 465, 466, 467, 468, 469, 471, 472, 473, 474, 475, 476, 477, 478, 479, 480, 481, 482, 483, 484, 485, 486, 487, 488, 489, 490, 491, 492, 493, 494, 496, 497, 498, 499, 500, 501, 502, 503, 504, 505, 506, 507, 508, 509, 511, 512, 513, 515, 516, 517, 518, 519, 520, 521, 522, 523, 524, 525, 526, 527, 528, 529, 530, 531, 532, 533, 534, 535, 536, 537, 538, 539, 540, 541, 542, 543, 544, 545, 546, 547, 548, 549, 550, 551, 552, 553, 554, 556]\n",
      "Procesando estación 2...\n"
     ]
    },
    {
     "name": "stderr",
     "output_type": "stream",
     "text": [
      "c:\\Users\\felic\\OneDrive\\Documentos\\GitHub\\TPsM-todos\\BA_BICIS_MyC\\src_data\\crear_dataset.py:26: FutureWarning: 'H' is deprecated and will be removed in a future version, please use 'h' instead.\n",
      "  df['hora_origen'] = df['fecha_origen_recorrido'].dt.floor('H')\n",
      "c:\\Users\\felic\\OneDrive\\Documentos\\GitHub\\TPsM-todos\\BA_BICIS_MyC\\src_data\\crear_dataset.py:27: FutureWarning: 'H' is deprecated and will be removed in a future version, please use 'h' instead.\n",
      "  df['hora_destino'] = df['fecha_destino_recorrido'].dt.floor('H')\n",
      "c:\\Users\\felic\\OneDrive\\Documentos\\GitHub\\TPsM-todos\\BA_BICIS_MyC\\src_data\\crear_dataset.py:34: FutureWarning: 'H' is deprecated and will be removed in a future version, please use 'h' instead.\n",
      "  fecha_min = df['fecha_origen_recorrido'].min().floor('H')\n",
      "c:\\Users\\felic\\OneDrive\\Documentos\\GitHub\\TPsM-todos\\BA_BICIS_MyC\\src_data\\crear_dataset.py:35: FutureWarning: 'H' is deprecated and will be removed in a future version, please use 'h' instead.\n",
      "  fecha_max = df['fecha_destino_recorrido'].max().floor('H')\n",
      "c:\\Users\\felic\\OneDrive\\Documentos\\GitHub\\TPsM-todos\\BA_BICIS_MyC\\src_data\\crear_dataset.py:38: FutureWarning: 'H' is deprecated and will be removed in a future version, please use 'h' instead.\n",
      "  horas_completas = pd.date_range(start=fecha_min, end=fecha_max, freq='H')\n"
     ]
    },
    {
     "name": "stdout",
     "output_type": "stream",
     "text": [
      "Procesando estación 3...\n"
     ]
    },
    {
     "name": "stderr",
     "output_type": "stream",
     "text": [
      "c:\\Users\\felic\\OneDrive\\Documentos\\GitHub\\TPsM-todos\\BA_BICIS_MyC\\src_data\\crear_dataset.py:26: FutureWarning: 'H' is deprecated and will be removed in a future version, please use 'h' instead.\n",
      "  df['hora_origen'] = df['fecha_origen_recorrido'].dt.floor('H')\n",
      "c:\\Users\\felic\\OneDrive\\Documentos\\GitHub\\TPsM-todos\\BA_BICIS_MyC\\src_data\\crear_dataset.py:27: FutureWarning: 'H' is deprecated and will be removed in a future version, please use 'h' instead.\n",
      "  df['hora_destino'] = df['fecha_destino_recorrido'].dt.floor('H')\n",
      "c:\\Users\\felic\\OneDrive\\Documentos\\GitHub\\TPsM-todos\\BA_BICIS_MyC\\src_data\\crear_dataset.py:34: FutureWarning: 'H' is deprecated and will be removed in a future version, please use 'h' instead.\n",
      "  fecha_min = df['fecha_origen_recorrido'].min().floor('H')\n",
      "c:\\Users\\felic\\OneDrive\\Documentos\\GitHub\\TPsM-todos\\BA_BICIS_MyC\\src_data\\crear_dataset.py:35: FutureWarning: 'H' is deprecated and will be removed in a future version, please use 'h' instead.\n",
      "  fecha_max = df['fecha_destino_recorrido'].max().floor('H')\n",
      "c:\\Users\\felic\\OneDrive\\Documentos\\GitHub\\TPsM-todos\\BA_BICIS_MyC\\src_data\\crear_dataset.py:38: FutureWarning: 'H' is deprecated and will be removed in a future version, please use 'h' instead.\n",
      "  horas_completas = pd.date_range(start=fecha_min, end=fecha_max, freq='H')\n"
     ]
    },
    {
     "name": "stdout",
     "output_type": "stream",
     "text": [
      "Procesando estación 4...\n"
     ]
    },
    {
     "name": "stderr",
     "output_type": "stream",
     "text": [
      "c:\\Users\\felic\\OneDrive\\Documentos\\GitHub\\TPsM-todos\\BA_BICIS_MyC\\src_data\\crear_dataset.py:26: FutureWarning: 'H' is deprecated and will be removed in a future version, please use 'h' instead.\n",
      "  df['hora_origen'] = df['fecha_origen_recorrido'].dt.floor('H')\n",
      "c:\\Users\\felic\\OneDrive\\Documentos\\GitHub\\TPsM-todos\\BA_BICIS_MyC\\src_data\\crear_dataset.py:27: FutureWarning: 'H' is deprecated and will be removed in a future version, please use 'h' instead.\n",
      "  df['hora_destino'] = df['fecha_destino_recorrido'].dt.floor('H')\n",
      "c:\\Users\\felic\\OneDrive\\Documentos\\GitHub\\TPsM-todos\\BA_BICIS_MyC\\src_data\\crear_dataset.py:34: FutureWarning: 'H' is deprecated and will be removed in a future version, please use 'h' instead.\n",
      "  fecha_min = df['fecha_origen_recorrido'].min().floor('H')\n",
      "c:\\Users\\felic\\OneDrive\\Documentos\\GitHub\\TPsM-todos\\BA_BICIS_MyC\\src_data\\crear_dataset.py:35: FutureWarning: 'H' is deprecated and will be removed in a future version, please use 'h' instead.\n",
      "  fecha_max = df['fecha_destino_recorrido'].max().floor('H')\n",
      "c:\\Users\\felic\\OneDrive\\Documentos\\GitHub\\TPsM-todos\\BA_BICIS_MyC\\src_data\\crear_dataset.py:38: FutureWarning: 'H' is deprecated and will be removed in a future version, please use 'h' instead.\n",
      "  horas_completas = pd.date_range(start=fecha_min, end=fecha_max, freq='H')\n"
     ]
    },
    {
     "name": "stdout",
     "output_type": "stream",
     "text": [
      "Procesando estación 5...\n"
     ]
    },
    {
     "name": "stderr",
     "output_type": "stream",
     "text": [
      "c:\\Users\\felic\\OneDrive\\Documentos\\GitHub\\TPsM-todos\\BA_BICIS_MyC\\src_data\\crear_dataset.py:26: FutureWarning: 'H' is deprecated and will be removed in a future version, please use 'h' instead.\n",
      "  df['hora_origen'] = df['fecha_origen_recorrido'].dt.floor('H')\n",
      "c:\\Users\\felic\\OneDrive\\Documentos\\GitHub\\TPsM-todos\\BA_BICIS_MyC\\src_data\\crear_dataset.py:27: FutureWarning: 'H' is deprecated and will be removed in a future version, please use 'h' instead.\n",
      "  df['hora_destino'] = df['fecha_destino_recorrido'].dt.floor('H')\n",
      "c:\\Users\\felic\\OneDrive\\Documentos\\GitHub\\TPsM-todos\\BA_BICIS_MyC\\src_data\\crear_dataset.py:34: FutureWarning: 'H' is deprecated and will be removed in a future version, please use 'h' instead.\n",
      "  fecha_min = df['fecha_origen_recorrido'].min().floor('H')\n",
      "c:\\Users\\felic\\OneDrive\\Documentos\\GitHub\\TPsM-todos\\BA_BICIS_MyC\\src_data\\crear_dataset.py:35: FutureWarning: 'H' is deprecated and will be removed in a future version, please use 'h' instead.\n",
      "  fecha_max = df['fecha_destino_recorrido'].max().floor('H')\n",
      "c:\\Users\\felic\\OneDrive\\Documentos\\GitHub\\TPsM-todos\\BA_BICIS_MyC\\src_data\\crear_dataset.py:38: FutureWarning: 'H' is deprecated and will be removed in a future version, please use 'h' instead.\n",
      "  horas_completas = pd.date_range(start=fecha_min, end=fecha_max, freq='H')\n"
     ]
    },
    {
     "name": "stdout",
     "output_type": "stream",
     "text": [
      "Procesando estación 6...\n"
     ]
    },
    {
     "name": "stderr",
     "output_type": "stream",
     "text": [
      "c:\\Users\\felic\\OneDrive\\Documentos\\GitHub\\TPsM-todos\\BA_BICIS_MyC\\src_data\\crear_dataset.py:26: FutureWarning: 'H' is deprecated and will be removed in a future version, please use 'h' instead.\n",
      "  df['hora_origen'] = df['fecha_origen_recorrido'].dt.floor('H')\n",
      "c:\\Users\\felic\\OneDrive\\Documentos\\GitHub\\TPsM-todos\\BA_BICIS_MyC\\src_data\\crear_dataset.py:27: FutureWarning: 'H' is deprecated and will be removed in a future version, please use 'h' instead.\n",
      "  df['hora_destino'] = df['fecha_destino_recorrido'].dt.floor('H')\n",
      "c:\\Users\\felic\\OneDrive\\Documentos\\GitHub\\TPsM-todos\\BA_BICIS_MyC\\src_data\\crear_dataset.py:34: FutureWarning: 'H' is deprecated and will be removed in a future version, please use 'h' instead.\n",
      "  fecha_min = df['fecha_origen_recorrido'].min().floor('H')\n",
      "c:\\Users\\felic\\OneDrive\\Documentos\\GitHub\\TPsM-todos\\BA_BICIS_MyC\\src_data\\crear_dataset.py:35: FutureWarning: 'H' is deprecated and will be removed in a future version, please use 'h' instead.\n",
      "  fecha_max = df['fecha_destino_recorrido'].max().floor('H')\n",
      "c:\\Users\\felic\\OneDrive\\Documentos\\GitHub\\TPsM-todos\\BA_BICIS_MyC\\src_data\\crear_dataset.py:38: FutureWarning: 'H' is deprecated and will be removed in a future version, please use 'h' instead.\n",
      "  horas_completas = pd.date_range(start=fecha_min, end=fecha_max, freq='H')\n"
     ]
    },
    {
     "name": "stdout",
     "output_type": "stream",
     "text": [
      "Procesando estación 7...\n"
     ]
    },
    {
     "name": "stderr",
     "output_type": "stream",
     "text": [
      "c:\\Users\\felic\\OneDrive\\Documentos\\GitHub\\TPsM-todos\\BA_BICIS_MyC\\src_data\\crear_dataset.py:26: FutureWarning: 'H' is deprecated and will be removed in a future version, please use 'h' instead.\n",
      "  df['hora_origen'] = df['fecha_origen_recorrido'].dt.floor('H')\n",
      "c:\\Users\\felic\\OneDrive\\Documentos\\GitHub\\TPsM-todos\\BA_BICIS_MyC\\src_data\\crear_dataset.py:27: FutureWarning: 'H' is deprecated and will be removed in a future version, please use 'h' instead.\n",
      "  df['hora_destino'] = df['fecha_destino_recorrido'].dt.floor('H')\n",
      "c:\\Users\\felic\\OneDrive\\Documentos\\GitHub\\TPsM-todos\\BA_BICIS_MyC\\src_data\\crear_dataset.py:34: FutureWarning: 'H' is deprecated and will be removed in a future version, please use 'h' instead.\n",
      "  fecha_min = df['fecha_origen_recorrido'].min().floor('H')\n",
      "c:\\Users\\felic\\OneDrive\\Documentos\\GitHub\\TPsM-todos\\BA_BICIS_MyC\\src_data\\crear_dataset.py:35: FutureWarning: 'H' is deprecated and will be removed in a future version, please use 'h' instead.\n",
      "  fecha_max = df['fecha_destino_recorrido'].max().floor('H')\n",
      "c:\\Users\\felic\\OneDrive\\Documentos\\GitHub\\TPsM-todos\\BA_BICIS_MyC\\src_data\\crear_dataset.py:38: FutureWarning: 'H' is deprecated and will be removed in a future version, please use 'h' instead.\n",
      "  horas_completas = pd.date_range(start=fecha_min, end=fecha_max, freq='H')\n"
     ]
    },
    {
     "name": "stdout",
     "output_type": "stream",
     "text": [
      "Procesando estación 8...\n"
     ]
    },
    {
     "name": "stderr",
     "output_type": "stream",
     "text": [
      "c:\\Users\\felic\\OneDrive\\Documentos\\GitHub\\TPsM-todos\\BA_BICIS_MyC\\src_data\\crear_dataset.py:26: FutureWarning: 'H' is deprecated and will be removed in a future version, please use 'h' instead.\n",
      "  df['hora_origen'] = df['fecha_origen_recorrido'].dt.floor('H')\n",
      "c:\\Users\\felic\\OneDrive\\Documentos\\GitHub\\TPsM-todos\\BA_BICIS_MyC\\src_data\\crear_dataset.py:27: FutureWarning: 'H' is deprecated and will be removed in a future version, please use 'h' instead.\n",
      "  df['hora_destino'] = df['fecha_destino_recorrido'].dt.floor('H')\n",
      "c:\\Users\\felic\\OneDrive\\Documentos\\GitHub\\TPsM-todos\\BA_BICIS_MyC\\src_data\\crear_dataset.py:34: FutureWarning: 'H' is deprecated and will be removed in a future version, please use 'h' instead.\n",
      "  fecha_min = df['fecha_origen_recorrido'].min().floor('H')\n",
      "c:\\Users\\felic\\OneDrive\\Documentos\\GitHub\\TPsM-todos\\BA_BICIS_MyC\\src_data\\crear_dataset.py:35: FutureWarning: 'H' is deprecated and will be removed in a future version, please use 'h' instead.\n",
      "  fecha_max = df['fecha_destino_recorrido'].max().floor('H')\n",
      "c:\\Users\\felic\\OneDrive\\Documentos\\GitHub\\TPsM-todos\\BA_BICIS_MyC\\src_data\\crear_dataset.py:38: FutureWarning: 'H' is deprecated and will be removed in a future version, please use 'h' instead.\n",
      "  horas_completas = pd.date_range(start=fecha_min, end=fecha_max, freq='H')\n"
     ]
    },
    {
     "name": "stdout",
     "output_type": "stream",
     "text": [
      "Procesando estación 9...\n"
     ]
    },
    {
     "name": "stderr",
     "output_type": "stream",
     "text": [
      "c:\\Users\\felic\\OneDrive\\Documentos\\GitHub\\TPsM-todos\\BA_BICIS_MyC\\src_data\\crear_dataset.py:26: FutureWarning: 'H' is deprecated and will be removed in a future version, please use 'h' instead.\n",
      "  df['hora_origen'] = df['fecha_origen_recorrido'].dt.floor('H')\n",
      "c:\\Users\\felic\\OneDrive\\Documentos\\GitHub\\TPsM-todos\\BA_BICIS_MyC\\src_data\\crear_dataset.py:27: FutureWarning: 'H' is deprecated and will be removed in a future version, please use 'h' instead.\n",
      "  df['hora_destino'] = df['fecha_destino_recorrido'].dt.floor('H')\n",
      "c:\\Users\\felic\\OneDrive\\Documentos\\GitHub\\TPsM-todos\\BA_BICIS_MyC\\src_data\\crear_dataset.py:34: FutureWarning: 'H' is deprecated and will be removed in a future version, please use 'h' instead.\n",
      "  fecha_min = df['fecha_origen_recorrido'].min().floor('H')\n",
      "c:\\Users\\felic\\OneDrive\\Documentos\\GitHub\\TPsM-todos\\BA_BICIS_MyC\\src_data\\crear_dataset.py:35: FutureWarning: 'H' is deprecated and will be removed in a future version, please use 'h' instead.\n",
      "  fecha_max = df['fecha_destino_recorrido'].max().floor('H')\n",
      "c:\\Users\\felic\\OneDrive\\Documentos\\GitHub\\TPsM-todos\\BA_BICIS_MyC\\src_data\\crear_dataset.py:38: FutureWarning: 'H' is deprecated and will be removed in a future version, please use 'h' instead.\n",
      "  horas_completas = pd.date_range(start=fecha_min, end=fecha_max, freq='H')\n"
     ]
    },
    {
     "name": "stdout",
     "output_type": "stream",
     "text": [
      "Procesando estación 12...\n"
     ]
    },
    {
     "name": "stderr",
     "output_type": "stream",
     "text": [
      "c:\\Users\\felic\\OneDrive\\Documentos\\GitHub\\TPsM-todos\\BA_BICIS_MyC\\src_data\\crear_dataset.py:26: FutureWarning: 'H' is deprecated and will be removed in a future version, please use 'h' instead.\n",
      "  df['hora_origen'] = df['fecha_origen_recorrido'].dt.floor('H')\n",
      "c:\\Users\\felic\\OneDrive\\Documentos\\GitHub\\TPsM-todos\\BA_BICIS_MyC\\src_data\\crear_dataset.py:27: FutureWarning: 'H' is deprecated and will be removed in a future version, please use 'h' instead.\n",
      "  df['hora_destino'] = df['fecha_destino_recorrido'].dt.floor('H')\n",
      "c:\\Users\\felic\\OneDrive\\Documentos\\GitHub\\TPsM-todos\\BA_BICIS_MyC\\src_data\\crear_dataset.py:34: FutureWarning: 'H' is deprecated and will be removed in a future version, please use 'h' instead.\n",
      "  fecha_min = df['fecha_origen_recorrido'].min().floor('H')\n",
      "c:\\Users\\felic\\OneDrive\\Documentos\\GitHub\\TPsM-todos\\BA_BICIS_MyC\\src_data\\crear_dataset.py:35: FutureWarning: 'H' is deprecated and will be removed in a future version, please use 'h' instead.\n",
      "  fecha_max = df['fecha_destino_recorrido'].max().floor('H')\n",
      "c:\\Users\\felic\\OneDrive\\Documentos\\GitHub\\TPsM-todos\\BA_BICIS_MyC\\src_data\\crear_dataset.py:38: FutureWarning: 'H' is deprecated and will be removed in a future version, please use 'h' instead.\n",
      "  horas_completas = pd.date_range(start=fecha_min, end=fecha_max, freq='H')\n"
     ]
    },
    {
     "name": "stdout",
     "output_type": "stream",
     "text": [
      "Procesando estación 13...\n"
     ]
    },
    {
     "name": "stderr",
     "output_type": "stream",
     "text": [
      "c:\\Users\\felic\\OneDrive\\Documentos\\GitHub\\TPsM-todos\\BA_BICIS_MyC\\src_data\\crear_dataset.py:26: FutureWarning: 'H' is deprecated and will be removed in a future version, please use 'h' instead.\n",
      "  df['hora_origen'] = df['fecha_origen_recorrido'].dt.floor('H')\n",
      "c:\\Users\\felic\\OneDrive\\Documentos\\GitHub\\TPsM-todos\\BA_BICIS_MyC\\src_data\\crear_dataset.py:27: FutureWarning: 'H' is deprecated and will be removed in a future version, please use 'h' instead.\n",
      "  df['hora_destino'] = df['fecha_destino_recorrido'].dt.floor('H')\n",
      "c:\\Users\\felic\\OneDrive\\Documentos\\GitHub\\TPsM-todos\\BA_BICIS_MyC\\src_data\\crear_dataset.py:34: FutureWarning: 'H' is deprecated and will be removed in a future version, please use 'h' instead.\n",
      "  fecha_min = df['fecha_origen_recorrido'].min().floor('H')\n",
      "c:\\Users\\felic\\OneDrive\\Documentos\\GitHub\\TPsM-todos\\BA_BICIS_MyC\\src_data\\crear_dataset.py:35: FutureWarning: 'H' is deprecated and will be removed in a future version, please use 'h' instead.\n",
      "  fecha_max = df['fecha_destino_recorrido'].max().floor('H')\n",
      "c:\\Users\\felic\\OneDrive\\Documentos\\GitHub\\TPsM-todos\\BA_BICIS_MyC\\src_data\\crear_dataset.py:38: FutureWarning: 'H' is deprecated and will be removed in a future version, please use 'h' instead.\n",
      "  horas_completas = pd.date_range(start=fecha_min, end=fecha_max, freq='H')\n"
     ]
    },
    {
     "name": "stdout",
     "output_type": "stream",
     "text": [
      "Procesando estación 14...\n"
     ]
    },
    {
     "name": "stderr",
     "output_type": "stream",
     "text": [
      "c:\\Users\\felic\\OneDrive\\Documentos\\GitHub\\TPsM-todos\\BA_BICIS_MyC\\src_data\\crear_dataset.py:26: FutureWarning: 'H' is deprecated and will be removed in a future version, please use 'h' instead.\n",
      "  df['hora_origen'] = df['fecha_origen_recorrido'].dt.floor('H')\n",
      "c:\\Users\\felic\\OneDrive\\Documentos\\GitHub\\TPsM-todos\\BA_BICIS_MyC\\src_data\\crear_dataset.py:27: FutureWarning: 'H' is deprecated and will be removed in a future version, please use 'h' instead.\n",
      "  df['hora_destino'] = df['fecha_destino_recorrido'].dt.floor('H')\n",
      "c:\\Users\\felic\\OneDrive\\Documentos\\GitHub\\TPsM-todos\\BA_BICIS_MyC\\src_data\\crear_dataset.py:34: FutureWarning: 'H' is deprecated and will be removed in a future version, please use 'h' instead.\n",
      "  fecha_min = df['fecha_origen_recorrido'].min().floor('H')\n",
      "c:\\Users\\felic\\OneDrive\\Documentos\\GitHub\\TPsM-todos\\BA_BICIS_MyC\\src_data\\crear_dataset.py:35: FutureWarning: 'H' is deprecated and will be removed in a future version, please use 'h' instead.\n",
      "  fecha_max = df['fecha_destino_recorrido'].max().floor('H')\n",
      "c:\\Users\\felic\\OneDrive\\Documentos\\GitHub\\TPsM-todos\\BA_BICIS_MyC\\src_data\\crear_dataset.py:38: FutureWarning: 'H' is deprecated and will be removed in a future version, please use 'h' instead.\n",
      "  horas_completas = pd.date_range(start=fecha_min, end=fecha_max, freq='H')\n"
     ]
    },
    {
     "name": "stdout",
     "output_type": "stream",
     "text": [
      "Procesando estación 17...\n"
     ]
    },
    {
     "name": "stderr",
     "output_type": "stream",
     "text": [
      "c:\\Users\\felic\\OneDrive\\Documentos\\GitHub\\TPsM-todos\\BA_BICIS_MyC\\src_data\\crear_dataset.py:26: FutureWarning: 'H' is deprecated and will be removed in a future version, please use 'h' instead.\n",
      "  df['hora_origen'] = df['fecha_origen_recorrido'].dt.floor('H')\n",
      "c:\\Users\\felic\\OneDrive\\Documentos\\GitHub\\TPsM-todos\\BA_BICIS_MyC\\src_data\\crear_dataset.py:27: FutureWarning: 'H' is deprecated and will be removed in a future version, please use 'h' instead.\n",
      "  df['hora_destino'] = df['fecha_destino_recorrido'].dt.floor('H')\n",
      "c:\\Users\\felic\\OneDrive\\Documentos\\GitHub\\TPsM-todos\\BA_BICIS_MyC\\src_data\\crear_dataset.py:34: FutureWarning: 'H' is deprecated and will be removed in a future version, please use 'h' instead.\n",
      "  fecha_min = df['fecha_origen_recorrido'].min().floor('H')\n",
      "c:\\Users\\felic\\OneDrive\\Documentos\\GitHub\\TPsM-todos\\BA_BICIS_MyC\\src_data\\crear_dataset.py:35: FutureWarning: 'H' is deprecated and will be removed in a future version, please use 'h' instead.\n",
      "  fecha_max = df['fecha_destino_recorrido'].max().floor('H')\n",
      "c:\\Users\\felic\\OneDrive\\Documentos\\GitHub\\TPsM-todos\\BA_BICIS_MyC\\src_data\\crear_dataset.py:38: FutureWarning: 'H' is deprecated and will be removed in a future version, please use 'h' instead.\n",
      "  horas_completas = pd.date_range(start=fecha_min, end=fecha_max, freq='H')\n"
     ]
    },
    {
     "name": "stdout",
     "output_type": "stream",
     "text": [
      "Procesando estación 20...\n"
     ]
    },
    {
     "name": "stderr",
     "output_type": "stream",
     "text": [
      "c:\\Users\\felic\\OneDrive\\Documentos\\GitHub\\TPsM-todos\\BA_BICIS_MyC\\src_data\\crear_dataset.py:26: FutureWarning: 'H' is deprecated and will be removed in a future version, please use 'h' instead.\n",
      "  df['hora_origen'] = df['fecha_origen_recorrido'].dt.floor('H')\n",
      "c:\\Users\\felic\\OneDrive\\Documentos\\GitHub\\TPsM-todos\\BA_BICIS_MyC\\src_data\\crear_dataset.py:27: FutureWarning: 'H' is deprecated and will be removed in a future version, please use 'h' instead.\n",
      "  df['hora_destino'] = df['fecha_destino_recorrido'].dt.floor('H')\n",
      "c:\\Users\\felic\\OneDrive\\Documentos\\GitHub\\TPsM-todos\\BA_BICIS_MyC\\src_data\\crear_dataset.py:34: FutureWarning: 'H' is deprecated and will be removed in a future version, please use 'h' instead.\n",
      "  fecha_min = df['fecha_origen_recorrido'].min().floor('H')\n",
      "c:\\Users\\felic\\OneDrive\\Documentos\\GitHub\\TPsM-todos\\BA_BICIS_MyC\\src_data\\crear_dataset.py:35: FutureWarning: 'H' is deprecated and will be removed in a future version, please use 'h' instead.\n",
      "  fecha_max = df['fecha_destino_recorrido'].max().floor('H')\n",
      "c:\\Users\\felic\\OneDrive\\Documentos\\GitHub\\TPsM-todos\\BA_BICIS_MyC\\src_data\\crear_dataset.py:38: FutureWarning: 'H' is deprecated and will be removed in a future version, please use 'h' instead.\n",
      "  horas_completas = pd.date_range(start=fecha_min, end=fecha_max, freq='H')\n"
     ]
    },
    {
     "name": "stdout",
     "output_type": "stream",
     "text": [
      "Procesando estación 21...\n"
     ]
    },
    {
     "name": "stderr",
     "output_type": "stream",
     "text": [
      "c:\\Users\\felic\\OneDrive\\Documentos\\GitHub\\TPsM-todos\\BA_BICIS_MyC\\src_data\\crear_dataset.py:26: FutureWarning: 'H' is deprecated and will be removed in a future version, please use 'h' instead.\n",
      "  df['hora_origen'] = df['fecha_origen_recorrido'].dt.floor('H')\n",
      "c:\\Users\\felic\\OneDrive\\Documentos\\GitHub\\TPsM-todos\\BA_BICIS_MyC\\src_data\\crear_dataset.py:27: FutureWarning: 'H' is deprecated and will be removed in a future version, please use 'h' instead.\n",
      "  df['hora_destino'] = df['fecha_destino_recorrido'].dt.floor('H')\n",
      "c:\\Users\\felic\\OneDrive\\Documentos\\GitHub\\TPsM-todos\\BA_BICIS_MyC\\src_data\\crear_dataset.py:34: FutureWarning: 'H' is deprecated and will be removed in a future version, please use 'h' instead.\n",
      "  fecha_min = df['fecha_origen_recorrido'].min().floor('H')\n",
      "c:\\Users\\felic\\OneDrive\\Documentos\\GitHub\\TPsM-todos\\BA_BICIS_MyC\\src_data\\crear_dataset.py:35: FutureWarning: 'H' is deprecated and will be removed in a future version, please use 'h' instead.\n",
      "  fecha_max = df['fecha_destino_recorrido'].max().floor('H')\n",
      "c:\\Users\\felic\\OneDrive\\Documentos\\GitHub\\TPsM-todos\\BA_BICIS_MyC\\src_data\\crear_dataset.py:38: FutureWarning: 'H' is deprecated and will be removed in a future version, please use 'h' instead.\n",
      "  horas_completas = pd.date_range(start=fecha_min, end=fecha_max, freq='H')\n"
     ]
    },
    {
     "name": "stdout",
     "output_type": "stream",
     "text": [
      "Procesando estación 22...\n"
     ]
    },
    {
     "name": "stderr",
     "output_type": "stream",
     "text": [
      "c:\\Users\\felic\\OneDrive\\Documentos\\GitHub\\TPsM-todos\\BA_BICIS_MyC\\src_data\\crear_dataset.py:26: FutureWarning: 'H' is deprecated and will be removed in a future version, please use 'h' instead.\n",
      "  df['hora_origen'] = df['fecha_origen_recorrido'].dt.floor('H')\n",
      "c:\\Users\\felic\\OneDrive\\Documentos\\GitHub\\TPsM-todos\\BA_BICIS_MyC\\src_data\\crear_dataset.py:27: FutureWarning: 'H' is deprecated and will be removed in a future version, please use 'h' instead.\n",
      "  df['hora_destino'] = df['fecha_destino_recorrido'].dt.floor('H')\n",
      "c:\\Users\\felic\\OneDrive\\Documentos\\GitHub\\TPsM-todos\\BA_BICIS_MyC\\src_data\\crear_dataset.py:34: FutureWarning: 'H' is deprecated and will be removed in a future version, please use 'h' instead.\n",
      "  fecha_min = df['fecha_origen_recorrido'].min().floor('H')\n",
      "c:\\Users\\felic\\OneDrive\\Documentos\\GitHub\\TPsM-todos\\BA_BICIS_MyC\\src_data\\crear_dataset.py:35: FutureWarning: 'H' is deprecated and will be removed in a future version, please use 'h' instead.\n",
      "  fecha_max = df['fecha_destino_recorrido'].max().floor('H')\n",
      "c:\\Users\\felic\\OneDrive\\Documentos\\GitHub\\TPsM-todos\\BA_BICIS_MyC\\src_data\\crear_dataset.py:38: FutureWarning: 'H' is deprecated and will be removed in a future version, please use 'h' instead.\n",
      "  horas_completas = pd.date_range(start=fecha_min, end=fecha_max, freq='H')\n"
     ]
    },
    {
     "name": "stdout",
     "output_type": "stream",
     "text": [
      "Procesando estación 23...\n"
     ]
    },
    {
     "name": "stderr",
     "output_type": "stream",
     "text": [
      "c:\\Users\\felic\\OneDrive\\Documentos\\GitHub\\TPsM-todos\\BA_BICIS_MyC\\src_data\\crear_dataset.py:26: FutureWarning: 'H' is deprecated and will be removed in a future version, please use 'h' instead.\n",
      "  df['hora_origen'] = df['fecha_origen_recorrido'].dt.floor('H')\n",
      "c:\\Users\\felic\\OneDrive\\Documentos\\GitHub\\TPsM-todos\\BA_BICIS_MyC\\src_data\\crear_dataset.py:27: FutureWarning: 'H' is deprecated and will be removed in a future version, please use 'h' instead.\n",
      "  df['hora_destino'] = df['fecha_destino_recorrido'].dt.floor('H')\n",
      "c:\\Users\\felic\\OneDrive\\Documentos\\GitHub\\TPsM-todos\\BA_BICIS_MyC\\src_data\\crear_dataset.py:34: FutureWarning: 'H' is deprecated and will be removed in a future version, please use 'h' instead.\n",
      "  fecha_min = df['fecha_origen_recorrido'].min().floor('H')\n",
      "c:\\Users\\felic\\OneDrive\\Documentos\\GitHub\\TPsM-todos\\BA_BICIS_MyC\\src_data\\crear_dataset.py:35: FutureWarning: 'H' is deprecated and will be removed in a future version, please use 'h' instead.\n",
      "  fecha_max = df['fecha_destino_recorrido'].max().floor('H')\n",
      "c:\\Users\\felic\\OneDrive\\Documentos\\GitHub\\TPsM-todos\\BA_BICIS_MyC\\src_data\\crear_dataset.py:38: FutureWarning: 'H' is deprecated and will be removed in a future version, please use 'h' instead.\n",
      "  horas_completas = pd.date_range(start=fecha_min, end=fecha_max, freq='H')\n"
     ]
    },
    {
     "name": "stdout",
     "output_type": "stream",
     "text": [
      "Procesando estación 24...\n"
     ]
    },
    {
     "name": "stderr",
     "output_type": "stream",
     "text": [
      "c:\\Users\\felic\\OneDrive\\Documentos\\GitHub\\TPsM-todos\\BA_BICIS_MyC\\src_data\\crear_dataset.py:26: FutureWarning: 'H' is deprecated and will be removed in a future version, please use 'h' instead.\n",
      "  df['hora_origen'] = df['fecha_origen_recorrido'].dt.floor('H')\n",
      "c:\\Users\\felic\\OneDrive\\Documentos\\GitHub\\TPsM-todos\\BA_BICIS_MyC\\src_data\\crear_dataset.py:27: FutureWarning: 'H' is deprecated and will be removed in a future version, please use 'h' instead.\n",
      "  df['hora_destino'] = df['fecha_destino_recorrido'].dt.floor('H')\n",
      "c:\\Users\\felic\\OneDrive\\Documentos\\GitHub\\TPsM-todos\\BA_BICIS_MyC\\src_data\\crear_dataset.py:34: FutureWarning: 'H' is deprecated and will be removed in a future version, please use 'h' instead.\n",
      "  fecha_min = df['fecha_origen_recorrido'].min().floor('H')\n",
      "c:\\Users\\felic\\OneDrive\\Documentos\\GitHub\\TPsM-todos\\BA_BICIS_MyC\\src_data\\crear_dataset.py:35: FutureWarning: 'H' is deprecated and will be removed in a future version, please use 'h' instead.\n",
      "  fecha_max = df['fecha_destino_recorrido'].max().floor('H')\n",
      "c:\\Users\\felic\\OneDrive\\Documentos\\GitHub\\TPsM-todos\\BA_BICIS_MyC\\src_data\\crear_dataset.py:38: FutureWarning: 'H' is deprecated and will be removed in a future version, please use 'h' instead.\n",
      "  horas_completas = pd.date_range(start=fecha_min, end=fecha_max, freq='H')\n"
     ]
    },
    {
     "name": "stdout",
     "output_type": "stream",
     "text": [
      "Procesando estación 25...\n"
     ]
    },
    {
     "name": "stderr",
     "output_type": "stream",
     "text": [
      "c:\\Users\\felic\\OneDrive\\Documentos\\GitHub\\TPsM-todos\\BA_BICIS_MyC\\src_data\\crear_dataset.py:26: FutureWarning: 'H' is deprecated and will be removed in a future version, please use 'h' instead.\n",
      "  df['hora_origen'] = df['fecha_origen_recorrido'].dt.floor('H')\n",
      "c:\\Users\\felic\\OneDrive\\Documentos\\GitHub\\TPsM-todos\\BA_BICIS_MyC\\src_data\\crear_dataset.py:27: FutureWarning: 'H' is deprecated and will be removed in a future version, please use 'h' instead.\n",
      "  df['hora_destino'] = df['fecha_destino_recorrido'].dt.floor('H')\n",
      "c:\\Users\\felic\\OneDrive\\Documentos\\GitHub\\TPsM-todos\\BA_BICIS_MyC\\src_data\\crear_dataset.py:34: FutureWarning: 'H' is deprecated and will be removed in a future version, please use 'h' instead.\n",
      "  fecha_min = df['fecha_origen_recorrido'].min().floor('H')\n",
      "c:\\Users\\felic\\OneDrive\\Documentos\\GitHub\\TPsM-todos\\BA_BICIS_MyC\\src_data\\crear_dataset.py:35: FutureWarning: 'H' is deprecated and will be removed in a future version, please use 'h' instead.\n",
      "  fecha_max = df['fecha_destino_recorrido'].max().floor('H')\n",
      "c:\\Users\\felic\\OneDrive\\Documentos\\GitHub\\TPsM-todos\\BA_BICIS_MyC\\src_data\\crear_dataset.py:38: FutureWarning: 'H' is deprecated and will be removed in a future version, please use 'h' instead.\n",
      "  horas_completas = pd.date_range(start=fecha_min, end=fecha_max, freq='H')\n"
     ]
    },
    {
     "name": "stdout",
     "output_type": "stream",
     "text": [
      "Procesando estación 26...\n"
     ]
    },
    {
     "name": "stderr",
     "output_type": "stream",
     "text": [
      "c:\\Users\\felic\\OneDrive\\Documentos\\GitHub\\TPsM-todos\\BA_BICIS_MyC\\src_data\\crear_dataset.py:26: FutureWarning: 'H' is deprecated and will be removed in a future version, please use 'h' instead.\n",
      "  df['hora_origen'] = df['fecha_origen_recorrido'].dt.floor('H')\n",
      "c:\\Users\\felic\\OneDrive\\Documentos\\GitHub\\TPsM-todos\\BA_BICIS_MyC\\src_data\\crear_dataset.py:27: FutureWarning: 'H' is deprecated and will be removed in a future version, please use 'h' instead.\n",
      "  df['hora_destino'] = df['fecha_destino_recorrido'].dt.floor('H')\n",
      "c:\\Users\\felic\\OneDrive\\Documentos\\GitHub\\TPsM-todos\\BA_BICIS_MyC\\src_data\\crear_dataset.py:34: FutureWarning: 'H' is deprecated and will be removed in a future version, please use 'h' instead.\n",
      "  fecha_min = df['fecha_origen_recorrido'].min().floor('H')\n",
      "c:\\Users\\felic\\OneDrive\\Documentos\\GitHub\\TPsM-todos\\BA_BICIS_MyC\\src_data\\crear_dataset.py:35: FutureWarning: 'H' is deprecated and will be removed in a future version, please use 'h' instead.\n",
      "  fecha_max = df['fecha_destino_recorrido'].max().floor('H')\n",
      "c:\\Users\\felic\\OneDrive\\Documentos\\GitHub\\TPsM-todos\\BA_BICIS_MyC\\src_data\\crear_dataset.py:38: FutureWarning: 'H' is deprecated and will be removed in a future version, please use 'h' instead.\n",
      "  horas_completas = pd.date_range(start=fecha_min, end=fecha_max, freq='H')\n"
     ]
    },
    {
     "name": "stdout",
     "output_type": "stream",
     "text": [
      "Procesando estación 27...\n"
     ]
    },
    {
     "name": "stderr",
     "output_type": "stream",
     "text": [
      "c:\\Users\\felic\\OneDrive\\Documentos\\GitHub\\TPsM-todos\\BA_BICIS_MyC\\src_data\\crear_dataset.py:26: FutureWarning: 'H' is deprecated and will be removed in a future version, please use 'h' instead.\n",
      "  df['hora_origen'] = df['fecha_origen_recorrido'].dt.floor('H')\n",
      "c:\\Users\\felic\\OneDrive\\Documentos\\GitHub\\TPsM-todos\\BA_BICIS_MyC\\src_data\\crear_dataset.py:27: FutureWarning: 'H' is deprecated and will be removed in a future version, please use 'h' instead.\n",
      "  df['hora_destino'] = df['fecha_destino_recorrido'].dt.floor('H')\n",
      "c:\\Users\\felic\\OneDrive\\Documentos\\GitHub\\TPsM-todos\\BA_BICIS_MyC\\src_data\\crear_dataset.py:34: FutureWarning: 'H' is deprecated and will be removed in a future version, please use 'h' instead.\n",
      "  fecha_min = df['fecha_origen_recorrido'].min().floor('H')\n",
      "c:\\Users\\felic\\OneDrive\\Documentos\\GitHub\\TPsM-todos\\BA_BICIS_MyC\\src_data\\crear_dataset.py:35: FutureWarning: 'H' is deprecated and will be removed in a future version, please use 'h' instead.\n",
      "  fecha_max = df['fecha_destino_recorrido'].max().floor('H')\n",
      "c:\\Users\\felic\\OneDrive\\Documentos\\GitHub\\TPsM-todos\\BA_BICIS_MyC\\src_data\\crear_dataset.py:38: FutureWarning: 'H' is deprecated and will be removed in a future version, please use 'h' instead.\n",
      "  horas_completas = pd.date_range(start=fecha_min, end=fecha_max, freq='H')\n"
     ]
    },
    {
     "name": "stdout",
     "output_type": "stream",
     "text": [
      "Procesando estación 28...\n"
     ]
    },
    {
     "name": "stderr",
     "output_type": "stream",
     "text": [
      "c:\\Users\\felic\\OneDrive\\Documentos\\GitHub\\TPsM-todos\\BA_BICIS_MyC\\src_data\\crear_dataset.py:26: FutureWarning: 'H' is deprecated and will be removed in a future version, please use 'h' instead.\n",
      "  df['hora_origen'] = df['fecha_origen_recorrido'].dt.floor('H')\n",
      "c:\\Users\\felic\\OneDrive\\Documentos\\GitHub\\TPsM-todos\\BA_BICIS_MyC\\src_data\\crear_dataset.py:27: FutureWarning: 'H' is deprecated and will be removed in a future version, please use 'h' instead.\n",
      "  df['hora_destino'] = df['fecha_destino_recorrido'].dt.floor('H')\n",
      "c:\\Users\\felic\\OneDrive\\Documentos\\GitHub\\TPsM-todos\\BA_BICIS_MyC\\src_data\\crear_dataset.py:34: FutureWarning: 'H' is deprecated and will be removed in a future version, please use 'h' instead.\n",
      "  fecha_min = df['fecha_origen_recorrido'].min().floor('H')\n",
      "c:\\Users\\felic\\OneDrive\\Documentos\\GitHub\\TPsM-todos\\BA_BICIS_MyC\\src_data\\crear_dataset.py:35: FutureWarning: 'H' is deprecated and will be removed in a future version, please use 'h' instead.\n",
      "  fecha_max = df['fecha_destino_recorrido'].max().floor('H')\n",
      "c:\\Users\\felic\\OneDrive\\Documentos\\GitHub\\TPsM-todos\\BA_BICIS_MyC\\src_data\\crear_dataset.py:38: FutureWarning: 'H' is deprecated and will be removed in a future version, please use 'h' instead.\n",
      "  horas_completas = pd.date_range(start=fecha_min, end=fecha_max, freq='H')\n",
      "c:\\Users\\felic\\OneDrive\\Documentos\\GitHub\\TPsM-todos\\BA_BICIS_MyC\\src_data\\crear_dataset.py:105: FutureWarning: Downcasting object dtype arrays on .fillna, .ffill, .bfill is deprecated and will change in a future version. Call result.infer_objects(copy=False) instead. To opt-in to the future behavior, set `pd.set_option('future.no_silent_downcasting', True)`\n",
      "  dataset[col] = dataset[col].fillna(0)\n"
     ]
    },
    {
     "name": "stdout",
     "output_type": "stream",
     "text": [
      "Procesando estación 29...\n"
     ]
    },
    {
     "name": "stderr",
     "output_type": "stream",
     "text": [
      "c:\\Users\\felic\\OneDrive\\Documentos\\GitHub\\TPsM-todos\\BA_BICIS_MyC\\src_data\\crear_dataset.py:26: FutureWarning: 'H' is deprecated and will be removed in a future version, please use 'h' instead.\n",
      "  df['hora_origen'] = df['fecha_origen_recorrido'].dt.floor('H')\n",
      "c:\\Users\\felic\\OneDrive\\Documentos\\GitHub\\TPsM-todos\\BA_BICIS_MyC\\src_data\\crear_dataset.py:27: FutureWarning: 'H' is deprecated and will be removed in a future version, please use 'h' instead.\n",
      "  df['hora_destino'] = df['fecha_destino_recorrido'].dt.floor('H')\n",
      "c:\\Users\\felic\\OneDrive\\Documentos\\GitHub\\TPsM-todos\\BA_BICIS_MyC\\src_data\\crear_dataset.py:34: FutureWarning: 'H' is deprecated and will be removed in a future version, please use 'h' instead.\n",
      "  fecha_min = df['fecha_origen_recorrido'].min().floor('H')\n",
      "c:\\Users\\felic\\OneDrive\\Documentos\\GitHub\\TPsM-todos\\BA_BICIS_MyC\\src_data\\crear_dataset.py:35: FutureWarning: 'H' is deprecated and will be removed in a future version, please use 'h' instead.\n",
      "  fecha_max = df['fecha_destino_recorrido'].max().floor('H')\n",
      "c:\\Users\\felic\\OneDrive\\Documentos\\GitHub\\TPsM-todos\\BA_BICIS_MyC\\src_data\\crear_dataset.py:38: FutureWarning: 'H' is deprecated and will be removed in a future version, please use 'h' instead.\n",
      "  horas_completas = pd.date_range(start=fecha_min, end=fecha_max, freq='H')\n"
     ]
    },
    {
     "name": "stdout",
     "output_type": "stream",
     "text": [
      "Procesando estación 30...\n"
     ]
    },
    {
     "name": "stderr",
     "output_type": "stream",
     "text": [
      "c:\\Users\\felic\\OneDrive\\Documentos\\GitHub\\TPsM-todos\\BA_BICIS_MyC\\src_data\\crear_dataset.py:26: FutureWarning: 'H' is deprecated and will be removed in a future version, please use 'h' instead.\n",
      "  df['hora_origen'] = df['fecha_origen_recorrido'].dt.floor('H')\n",
      "c:\\Users\\felic\\OneDrive\\Documentos\\GitHub\\TPsM-todos\\BA_BICIS_MyC\\src_data\\crear_dataset.py:27: FutureWarning: 'H' is deprecated and will be removed in a future version, please use 'h' instead.\n",
      "  df['hora_destino'] = df['fecha_destino_recorrido'].dt.floor('H')\n",
      "c:\\Users\\felic\\OneDrive\\Documentos\\GitHub\\TPsM-todos\\BA_BICIS_MyC\\src_data\\crear_dataset.py:34: FutureWarning: 'H' is deprecated and will be removed in a future version, please use 'h' instead.\n",
      "  fecha_min = df['fecha_origen_recorrido'].min().floor('H')\n",
      "c:\\Users\\felic\\OneDrive\\Documentos\\GitHub\\TPsM-todos\\BA_BICIS_MyC\\src_data\\crear_dataset.py:35: FutureWarning: 'H' is deprecated and will be removed in a future version, please use 'h' instead.\n",
      "  fecha_max = df['fecha_destino_recorrido'].max().floor('H')\n",
      "c:\\Users\\felic\\OneDrive\\Documentos\\GitHub\\TPsM-todos\\BA_BICIS_MyC\\src_data\\crear_dataset.py:38: FutureWarning: 'H' is deprecated and will be removed in a future version, please use 'h' instead.\n",
      "  horas_completas = pd.date_range(start=fecha_min, end=fecha_max, freq='H')\n"
     ]
    },
    {
     "name": "stdout",
     "output_type": "stream",
     "text": [
      "Procesando estación 31...\n"
     ]
    },
    {
     "name": "stderr",
     "output_type": "stream",
     "text": [
      "c:\\Users\\felic\\OneDrive\\Documentos\\GitHub\\TPsM-todos\\BA_BICIS_MyC\\src_data\\crear_dataset.py:26: FutureWarning: 'H' is deprecated and will be removed in a future version, please use 'h' instead.\n",
      "  df['hora_origen'] = df['fecha_origen_recorrido'].dt.floor('H')\n",
      "c:\\Users\\felic\\OneDrive\\Documentos\\GitHub\\TPsM-todos\\BA_BICIS_MyC\\src_data\\crear_dataset.py:27: FutureWarning: 'H' is deprecated and will be removed in a future version, please use 'h' instead.\n",
      "  df['hora_destino'] = df['fecha_destino_recorrido'].dt.floor('H')\n",
      "c:\\Users\\felic\\OneDrive\\Documentos\\GitHub\\TPsM-todos\\BA_BICIS_MyC\\src_data\\crear_dataset.py:34: FutureWarning: 'H' is deprecated and will be removed in a future version, please use 'h' instead.\n",
      "  fecha_min = df['fecha_origen_recorrido'].min().floor('H')\n",
      "c:\\Users\\felic\\OneDrive\\Documentos\\GitHub\\TPsM-todos\\BA_BICIS_MyC\\src_data\\crear_dataset.py:35: FutureWarning: 'H' is deprecated and will be removed in a future version, please use 'h' instead.\n",
      "  fecha_max = df['fecha_destino_recorrido'].max().floor('H')\n",
      "c:\\Users\\felic\\OneDrive\\Documentos\\GitHub\\TPsM-todos\\BA_BICIS_MyC\\src_data\\crear_dataset.py:38: FutureWarning: 'H' is deprecated and will be removed in a future version, please use 'h' instead.\n",
      "  horas_completas = pd.date_range(start=fecha_min, end=fecha_max, freq='H')\n"
     ]
    },
    {
     "name": "stdout",
     "output_type": "stream",
     "text": [
      "Procesando estación 32...\n"
     ]
    },
    {
     "name": "stderr",
     "output_type": "stream",
     "text": [
      "c:\\Users\\felic\\OneDrive\\Documentos\\GitHub\\TPsM-todos\\BA_BICIS_MyC\\src_data\\crear_dataset.py:26: FutureWarning: 'H' is deprecated and will be removed in a future version, please use 'h' instead.\n",
      "  df['hora_origen'] = df['fecha_origen_recorrido'].dt.floor('H')\n",
      "c:\\Users\\felic\\OneDrive\\Documentos\\GitHub\\TPsM-todos\\BA_BICIS_MyC\\src_data\\crear_dataset.py:27: FutureWarning: 'H' is deprecated and will be removed in a future version, please use 'h' instead.\n",
      "  df['hora_destino'] = df['fecha_destino_recorrido'].dt.floor('H')\n",
      "c:\\Users\\felic\\OneDrive\\Documentos\\GitHub\\TPsM-todos\\BA_BICIS_MyC\\src_data\\crear_dataset.py:34: FutureWarning: 'H' is deprecated and will be removed in a future version, please use 'h' instead.\n",
      "  fecha_min = df['fecha_origen_recorrido'].min().floor('H')\n",
      "c:\\Users\\felic\\OneDrive\\Documentos\\GitHub\\TPsM-todos\\BA_BICIS_MyC\\src_data\\crear_dataset.py:35: FutureWarning: 'H' is deprecated and will be removed in a future version, please use 'h' instead.\n",
      "  fecha_max = df['fecha_destino_recorrido'].max().floor('H')\n",
      "c:\\Users\\felic\\OneDrive\\Documentos\\GitHub\\TPsM-todos\\BA_BICIS_MyC\\src_data\\crear_dataset.py:38: FutureWarning: 'H' is deprecated and will be removed in a future version, please use 'h' instead.\n",
      "  horas_completas = pd.date_range(start=fecha_min, end=fecha_max, freq='H')\n"
     ]
    },
    {
     "name": "stdout",
     "output_type": "stream",
     "text": [
      "Procesando estación 33...\n"
     ]
    },
    {
     "name": "stderr",
     "output_type": "stream",
     "text": [
      "c:\\Users\\felic\\OneDrive\\Documentos\\GitHub\\TPsM-todos\\BA_BICIS_MyC\\src_data\\crear_dataset.py:26: FutureWarning: 'H' is deprecated and will be removed in a future version, please use 'h' instead.\n",
      "  df['hora_origen'] = df['fecha_origen_recorrido'].dt.floor('H')\n",
      "c:\\Users\\felic\\OneDrive\\Documentos\\GitHub\\TPsM-todos\\BA_BICIS_MyC\\src_data\\crear_dataset.py:27: FutureWarning: 'H' is deprecated and will be removed in a future version, please use 'h' instead.\n",
      "  df['hora_destino'] = df['fecha_destino_recorrido'].dt.floor('H')\n",
      "c:\\Users\\felic\\OneDrive\\Documentos\\GitHub\\TPsM-todos\\BA_BICIS_MyC\\src_data\\crear_dataset.py:34: FutureWarning: 'H' is deprecated and will be removed in a future version, please use 'h' instead.\n",
      "  fecha_min = df['fecha_origen_recorrido'].min().floor('H')\n",
      "c:\\Users\\felic\\OneDrive\\Documentos\\GitHub\\TPsM-todos\\BA_BICIS_MyC\\src_data\\crear_dataset.py:35: FutureWarning: 'H' is deprecated and will be removed in a future version, please use 'h' instead.\n",
      "  fecha_max = df['fecha_destino_recorrido'].max().floor('H')\n",
      "c:\\Users\\felic\\OneDrive\\Documentos\\GitHub\\TPsM-todos\\BA_BICIS_MyC\\src_data\\crear_dataset.py:38: FutureWarning: 'H' is deprecated and will be removed in a future version, please use 'h' instead.\n",
      "  horas_completas = pd.date_range(start=fecha_min, end=fecha_max, freq='H')\n"
     ]
    },
    {
     "name": "stdout",
     "output_type": "stream",
     "text": [
      "Procesando estación 35...\n"
     ]
    },
    {
     "name": "stderr",
     "output_type": "stream",
     "text": [
      "c:\\Users\\felic\\OneDrive\\Documentos\\GitHub\\TPsM-todos\\BA_BICIS_MyC\\src_data\\crear_dataset.py:26: FutureWarning: 'H' is deprecated and will be removed in a future version, please use 'h' instead.\n",
      "  df['hora_origen'] = df['fecha_origen_recorrido'].dt.floor('H')\n",
      "c:\\Users\\felic\\OneDrive\\Documentos\\GitHub\\TPsM-todos\\BA_BICIS_MyC\\src_data\\crear_dataset.py:27: FutureWarning: 'H' is deprecated and will be removed in a future version, please use 'h' instead.\n",
      "  df['hora_destino'] = df['fecha_destino_recorrido'].dt.floor('H')\n",
      "c:\\Users\\felic\\OneDrive\\Documentos\\GitHub\\TPsM-todos\\BA_BICIS_MyC\\src_data\\crear_dataset.py:34: FutureWarning: 'H' is deprecated and will be removed in a future version, please use 'h' instead.\n",
      "  fecha_min = df['fecha_origen_recorrido'].min().floor('H')\n",
      "c:\\Users\\felic\\OneDrive\\Documentos\\GitHub\\TPsM-todos\\BA_BICIS_MyC\\src_data\\crear_dataset.py:35: FutureWarning: 'H' is deprecated and will be removed in a future version, please use 'h' instead.\n",
      "  fecha_max = df['fecha_destino_recorrido'].max().floor('H')\n",
      "c:\\Users\\felic\\OneDrive\\Documentos\\GitHub\\TPsM-todos\\BA_BICIS_MyC\\src_data\\crear_dataset.py:38: FutureWarning: 'H' is deprecated and will be removed in a future version, please use 'h' instead.\n",
      "  horas_completas = pd.date_range(start=fecha_min, end=fecha_max, freq='H')\n"
     ]
    },
    {
     "name": "stdout",
     "output_type": "stream",
     "text": [
      "Procesando estación 36...\n"
     ]
    },
    {
     "name": "stderr",
     "output_type": "stream",
     "text": [
      "c:\\Users\\felic\\OneDrive\\Documentos\\GitHub\\TPsM-todos\\BA_BICIS_MyC\\src_data\\crear_dataset.py:26: FutureWarning: 'H' is deprecated and will be removed in a future version, please use 'h' instead.\n",
      "  df['hora_origen'] = df['fecha_origen_recorrido'].dt.floor('H')\n",
      "c:\\Users\\felic\\OneDrive\\Documentos\\GitHub\\TPsM-todos\\BA_BICIS_MyC\\src_data\\crear_dataset.py:27: FutureWarning: 'H' is deprecated and will be removed in a future version, please use 'h' instead.\n",
      "  df['hora_destino'] = df['fecha_destino_recorrido'].dt.floor('H')\n",
      "c:\\Users\\felic\\OneDrive\\Documentos\\GitHub\\TPsM-todos\\BA_BICIS_MyC\\src_data\\crear_dataset.py:34: FutureWarning: 'H' is deprecated and will be removed in a future version, please use 'h' instead.\n",
      "  fecha_min = df['fecha_origen_recorrido'].min().floor('H')\n",
      "c:\\Users\\felic\\OneDrive\\Documentos\\GitHub\\TPsM-todos\\BA_BICIS_MyC\\src_data\\crear_dataset.py:35: FutureWarning: 'H' is deprecated and will be removed in a future version, please use 'h' instead.\n",
      "  fecha_max = df['fecha_destino_recorrido'].max().floor('H')\n",
      "c:\\Users\\felic\\OneDrive\\Documentos\\GitHub\\TPsM-todos\\BA_BICIS_MyC\\src_data\\crear_dataset.py:38: FutureWarning: 'H' is deprecated and will be removed in a future version, please use 'h' instead.\n",
      "  horas_completas = pd.date_range(start=fecha_min, end=fecha_max, freq='H')\n"
     ]
    },
    {
     "name": "stdout",
     "output_type": "stream",
     "text": [
      "Procesando estación 38...\n"
     ]
    },
    {
     "name": "stderr",
     "output_type": "stream",
     "text": [
      "c:\\Users\\felic\\OneDrive\\Documentos\\GitHub\\TPsM-todos\\BA_BICIS_MyC\\src_data\\crear_dataset.py:26: FutureWarning: 'H' is deprecated and will be removed in a future version, please use 'h' instead.\n",
      "  df['hora_origen'] = df['fecha_origen_recorrido'].dt.floor('H')\n",
      "c:\\Users\\felic\\OneDrive\\Documentos\\GitHub\\TPsM-todos\\BA_BICIS_MyC\\src_data\\crear_dataset.py:27: FutureWarning: 'H' is deprecated and will be removed in a future version, please use 'h' instead.\n",
      "  df['hora_destino'] = df['fecha_destino_recorrido'].dt.floor('H')\n",
      "c:\\Users\\felic\\OneDrive\\Documentos\\GitHub\\TPsM-todos\\BA_BICIS_MyC\\src_data\\crear_dataset.py:34: FutureWarning: 'H' is deprecated and will be removed in a future version, please use 'h' instead.\n",
      "  fecha_min = df['fecha_origen_recorrido'].min().floor('H')\n",
      "c:\\Users\\felic\\OneDrive\\Documentos\\GitHub\\TPsM-todos\\BA_BICIS_MyC\\src_data\\crear_dataset.py:35: FutureWarning: 'H' is deprecated and will be removed in a future version, please use 'h' instead.\n",
      "  fecha_max = df['fecha_destino_recorrido'].max().floor('H')\n",
      "c:\\Users\\felic\\OneDrive\\Documentos\\GitHub\\TPsM-todos\\BA_BICIS_MyC\\src_data\\crear_dataset.py:38: FutureWarning: 'H' is deprecated and will be removed in a future version, please use 'h' instead.\n",
      "  horas_completas = pd.date_range(start=fecha_min, end=fecha_max, freq='H')\n"
     ]
    },
    {
     "name": "stdout",
     "output_type": "stream",
     "text": [
      "Procesando estación 41...\n"
     ]
    },
    {
     "name": "stderr",
     "output_type": "stream",
     "text": [
      "c:\\Users\\felic\\OneDrive\\Documentos\\GitHub\\TPsM-todos\\BA_BICIS_MyC\\src_data\\crear_dataset.py:26: FutureWarning: 'H' is deprecated and will be removed in a future version, please use 'h' instead.\n",
      "  df['hora_origen'] = df['fecha_origen_recorrido'].dt.floor('H')\n",
      "c:\\Users\\felic\\OneDrive\\Documentos\\GitHub\\TPsM-todos\\BA_BICIS_MyC\\src_data\\crear_dataset.py:27: FutureWarning: 'H' is deprecated and will be removed in a future version, please use 'h' instead.\n",
      "  df['hora_destino'] = df['fecha_destino_recorrido'].dt.floor('H')\n",
      "c:\\Users\\felic\\OneDrive\\Documentos\\GitHub\\TPsM-todos\\BA_BICIS_MyC\\src_data\\crear_dataset.py:34: FutureWarning: 'H' is deprecated and will be removed in a future version, please use 'h' instead.\n",
      "  fecha_min = df['fecha_origen_recorrido'].min().floor('H')\n",
      "c:\\Users\\felic\\OneDrive\\Documentos\\GitHub\\TPsM-todos\\BA_BICIS_MyC\\src_data\\crear_dataset.py:35: FutureWarning: 'H' is deprecated and will be removed in a future version, please use 'h' instead.\n",
      "  fecha_max = df['fecha_destino_recorrido'].max().floor('H')\n",
      "c:\\Users\\felic\\OneDrive\\Documentos\\GitHub\\TPsM-todos\\BA_BICIS_MyC\\src_data\\crear_dataset.py:38: FutureWarning: 'H' is deprecated and will be removed in a future version, please use 'h' instead.\n",
      "  horas_completas = pd.date_range(start=fecha_min, end=fecha_max, freq='H')\n"
     ]
    },
    {
     "name": "stdout",
     "output_type": "stream",
     "text": [
      "Procesando estación 42...\n"
     ]
    },
    {
     "name": "stderr",
     "output_type": "stream",
     "text": [
      "c:\\Users\\felic\\OneDrive\\Documentos\\GitHub\\TPsM-todos\\BA_BICIS_MyC\\src_data\\crear_dataset.py:26: FutureWarning: 'H' is deprecated and will be removed in a future version, please use 'h' instead.\n",
      "  df['hora_origen'] = df['fecha_origen_recorrido'].dt.floor('H')\n",
      "c:\\Users\\felic\\OneDrive\\Documentos\\GitHub\\TPsM-todos\\BA_BICIS_MyC\\src_data\\crear_dataset.py:27: FutureWarning: 'H' is deprecated and will be removed in a future version, please use 'h' instead.\n",
      "  df['hora_destino'] = df['fecha_destino_recorrido'].dt.floor('H')\n",
      "c:\\Users\\felic\\OneDrive\\Documentos\\GitHub\\TPsM-todos\\BA_BICIS_MyC\\src_data\\crear_dataset.py:34: FutureWarning: 'H' is deprecated and will be removed in a future version, please use 'h' instead.\n",
      "  fecha_min = df['fecha_origen_recorrido'].min().floor('H')\n",
      "c:\\Users\\felic\\OneDrive\\Documentos\\GitHub\\TPsM-todos\\BA_BICIS_MyC\\src_data\\crear_dataset.py:35: FutureWarning: 'H' is deprecated and will be removed in a future version, please use 'h' instead.\n",
      "  fecha_max = df['fecha_destino_recorrido'].max().floor('H')\n",
      "c:\\Users\\felic\\OneDrive\\Documentos\\GitHub\\TPsM-todos\\BA_BICIS_MyC\\src_data\\crear_dataset.py:38: FutureWarning: 'H' is deprecated and will be removed in a future version, please use 'h' instead.\n",
      "  horas_completas = pd.date_range(start=fecha_min, end=fecha_max, freq='H')\n"
     ]
    },
    {
     "name": "stdout",
     "output_type": "stream",
     "text": [
      "Procesando estación 43...\n"
     ]
    },
    {
     "name": "stderr",
     "output_type": "stream",
     "text": [
      "c:\\Users\\felic\\OneDrive\\Documentos\\GitHub\\TPsM-todos\\BA_BICIS_MyC\\src_data\\crear_dataset.py:26: FutureWarning: 'H' is deprecated and will be removed in a future version, please use 'h' instead.\n",
      "  df['hora_origen'] = df['fecha_origen_recorrido'].dt.floor('H')\n",
      "c:\\Users\\felic\\OneDrive\\Documentos\\GitHub\\TPsM-todos\\BA_BICIS_MyC\\src_data\\crear_dataset.py:27: FutureWarning: 'H' is deprecated and will be removed in a future version, please use 'h' instead.\n",
      "  df['hora_destino'] = df['fecha_destino_recorrido'].dt.floor('H')\n",
      "c:\\Users\\felic\\OneDrive\\Documentos\\GitHub\\TPsM-todos\\BA_BICIS_MyC\\src_data\\crear_dataset.py:34: FutureWarning: 'H' is deprecated and will be removed in a future version, please use 'h' instead.\n",
      "  fecha_min = df['fecha_origen_recorrido'].min().floor('H')\n",
      "c:\\Users\\felic\\OneDrive\\Documentos\\GitHub\\TPsM-todos\\BA_BICIS_MyC\\src_data\\crear_dataset.py:35: FutureWarning: 'H' is deprecated and will be removed in a future version, please use 'h' instead.\n",
      "  fecha_max = df['fecha_destino_recorrido'].max().floor('H')\n",
      "c:\\Users\\felic\\OneDrive\\Documentos\\GitHub\\TPsM-todos\\BA_BICIS_MyC\\src_data\\crear_dataset.py:38: FutureWarning: 'H' is deprecated and will be removed in a future version, please use 'h' instead.\n",
      "  horas_completas = pd.date_range(start=fecha_min, end=fecha_max, freq='H')\n"
     ]
    },
    {
     "name": "stdout",
     "output_type": "stream",
     "text": [
      "Procesando estación 44...\n"
     ]
    },
    {
     "name": "stderr",
     "output_type": "stream",
     "text": [
      "c:\\Users\\felic\\OneDrive\\Documentos\\GitHub\\TPsM-todos\\BA_BICIS_MyC\\src_data\\crear_dataset.py:26: FutureWarning: 'H' is deprecated and will be removed in a future version, please use 'h' instead.\n",
      "  df['hora_origen'] = df['fecha_origen_recorrido'].dt.floor('H')\n",
      "c:\\Users\\felic\\OneDrive\\Documentos\\GitHub\\TPsM-todos\\BA_BICIS_MyC\\src_data\\crear_dataset.py:27: FutureWarning: 'H' is deprecated and will be removed in a future version, please use 'h' instead.\n",
      "  df['hora_destino'] = df['fecha_destino_recorrido'].dt.floor('H')\n",
      "c:\\Users\\felic\\OneDrive\\Documentos\\GitHub\\TPsM-todos\\BA_BICIS_MyC\\src_data\\crear_dataset.py:34: FutureWarning: 'H' is deprecated and will be removed in a future version, please use 'h' instead.\n",
      "  fecha_min = df['fecha_origen_recorrido'].min().floor('H')\n",
      "c:\\Users\\felic\\OneDrive\\Documentos\\GitHub\\TPsM-todos\\BA_BICIS_MyC\\src_data\\crear_dataset.py:35: FutureWarning: 'H' is deprecated and will be removed in a future version, please use 'h' instead.\n",
      "  fecha_max = df['fecha_destino_recorrido'].max().floor('H')\n",
      "c:\\Users\\felic\\OneDrive\\Documentos\\GitHub\\TPsM-todos\\BA_BICIS_MyC\\src_data\\crear_dataset.py:38: FutureWarning: 'H' is deprecated and will be removed in a future version, please use 'h' instead.\n",
      "  horas_completas = pd.date_range(start=fecha_min, end=fecha_max, freq='H')\n"
     ]
    },
    {
     "name": "stdout",
     "output_type": "stream",
     "text": [
      "Procesando estación 45...\n"
     ]
    },
    {
     "name": "stderr",
     "output_type": "stream",
     "text": [
      "c:\\Users\\felic\\OneDrive\\Documentos\\GitHub\\TPsM-todos\\BA_BICIS_MyC\\src_data\\crear_dataset.py:26: FutureWarning: 'H' is deprecated and will be removed in a future version, please use 'h' instead.\n",
      "  df['hora_origen'] = df['fecha_origen_recorrido'].dt.floor('H')\n",
      "c:\\Users\\felic\\OneDrive\\Documentos\\GitHub\\TPsM-todos\\BA_BICIS_MyC\\src_data\\crear_dataset.py:27: FutureWarning: 'H' is deprecated and will be removed in a future version, please use 'h' instead.\n",
      "  df['hora_destino'] = df['fecha_destino_recorrido'].dt.floor('H')\n",
      "c:\\Users\\felic\\OneDrive\\Documentos\\GitHub\\TPsM-todos\\BA_BICIS_MyC\\src_data\\crear_dataset.py:34: FutureWarning: 'H' is deprecated and will be removed in a future version, please use 'h' instead.\n",
      "  fecha_min = df['fecha_origen_recorrido'].min().floor('H')\n",
      "c:\\Users\\felic\\OneDrive\\Documentos\\GitHub\\TPsM-todos\\BA_BICIS_MyC\\src_data\\crear_dataset.py:35: FutureWarning: 'H' is deprecated and will be removed in a future version, please use 'h' instead.\n",
      "  fecha_max = df['fecha_destino_recorrido'].max().floor('H')\n",
      "c:\\Users\\felic\\OneDrive\\Documentos\\GitHub\\TPsM-todos\\BA_BICIS_MyC\\src_data\\crear_dataset.py:38: FutureWarning: 'H' is deprecated and will be removed in a future version, please use 'h' instead.\n",
      "  horas_completas = pd.date_range(start=fecha_min, end=fecha_max, freq='H')\n"
     ]
    },
    {
     "name": "stdout",
     "output_type": "stream",
     "text": [
      "Procesando estación 46...\n"
     ]
    },
    {
     "name": "stderr",
     "output_type": "stream",
     "text": [
      "c:\\Users\\felic\\OneDrive\\Documentos\\GitHub\\TPsM-todos\\BA_BICIS_MyC\\src_data\\crear_dataset.py:26: FutureWarning: 'H' is deprecated and will be removed in a future version, please use 'h' instead.\n",
      "  df['hora_origen'] = df['fecha_origen_recorrido'].dt.floor('H')\n",
      "c:\\Users\\felic\\OneDrive\\Documentos\\GitHub\\TPsM-todos\\BA_BICIS_MyC\\src_data\\crear_dataset.py:27: FutureWarning: 'H' is deprecated and will be removed in a future version, please use 'h' instead.\n",
      "  df['hora_destino'] = df['fecha_destino_recorrido'].dt.floor('H')\n",
      "c:\\Users\\felic\\OneDrive\\Documentos\\GitHub\\TPsM-todos\\BA_BICIS_MyC\\src_data\\crear_dataset.py:34: FutureWarning: 'H' is deprecated and will be removed in a future version, please use 'h' instead.\n",
      "  fecha_min = df['fecha_origen_recorrido'].min().floor('H')\n",
      "c:\\Users\\felic\\OneDrive\\Documentos\\GitHub\\TPsM-todos\\BA_BICIS_MyC\\src_data\\crear_dataset.py:35: FutureWarning: 'H' is deprecated and will be removed in a future version, please use 'h' instead.\n",
      "  fecha_max = df['fecha_destino_recorrido'].max().floor('H')\n",
      "c:\\Users\\felic\\OneDrive\\Documentos\\GitHub\\TPsM-todos\\BA_BICIS_MyC\\src_data\\crear_dataset.py:38: FutureWarning: 'H' is deprecated and will be removed in a future version, please use 'h' instead.\n",
      "  horas_completas = pd.date_range(start=fecha_min, end=fecha_max, freq='H')\n"
     ]
    },
    {
     "name": "stdout",
     "output_type": "stream",
     "text": [
      "Procesando estación 48...\n"
     ]
    },
    {
     "name": "stderr",
     "output_type": "stream",
     "text": [
      "c:\\Users\\felic\\OneDrive\\Documentos\\GitHub\\TPsM-todos\\BA_BICIS_MyC\\src_data\\crear_dataset.py:26: FutureWarning: 'H' is deprecated and will be removed in a future version, please use 'h' instead.\n",
      "  df['hora_origen'] = df['fecha_origen_recorrido'].dt.floor('H')\n",
      "c:\\Users\\felic\\OneDrive\\Documentos\\GitHub\\TPsM-todos\\BA_BICIS_MyC\\src_data\\crear_dataset.py:27: FutureWarning: 'H' is deprecated and will be removed in a future version, please use 'h' instead.\n",
      "  df['hora_destino'] = df['fecha_destino_recorrido'].dt.floor('H')\n",
      "c:\\Users\\felic\\OneDrive\\Documentos\\GitHub\\TPsM-todos\\BA_BICIS_MyC\\src_data\\crear_dataset.py:34: FutureWarning: 'H' is deprecated and will be removed in a future version, please use 'h' instead.\n",
      "  fecha_min = df['fecha_origen_recorrido'].min().floor('H')\n",
      "c:\\Users\\felic\\OneDrive\\Documentos\\GitHub\\TPsM-todos\\BA_BICIS_MyC\\src_data\\crear_dataset.py:35: FutureWarning: 'H' is deprecated and will be removed in a future version, please use 'h' instead.\n",
      "  fecha_max = df['fecha_destino_recorrido'].max().floor('H')\n",
      "c:\\Users\\felic\\OneDrive\\Documentos\\GitHub\\TPsM-todos\\BA_BICIS_MyC\\src_data\\crear_dataset.py:38: FutureWarning: 'H' is deprecated and will be removed in a future version, please use 'h' instead.\n",
      "  horas_completas = pd.date_range(start=fecha_min, end=fecha_max, freq='H')\n"
     ]
    },
    {
     "name": "stdout",
     "output_type": "stream",
     "text": [
      "Procesando estación 49...\n"
     ]
    },
    {
     "name": "stderr",
     "output_type": "stream",
     "text": [
      "c:\\Users\\felic\\OneDrive\\Documentos\\GitHub\\TPsM-todos\\BA_BICIS_MyC\\src_data\\crear_dataset.py:26: FutureWarning: 'H' is deprecated and will be removed in a future version, please use 'h' instead.\n",
      "  df['hora_origen'] = df['fecha_origen_recorrido'].dt.floor('H')\n",
      "c:\\Users\\felic\\OneDrive\\Documentos\\GitHub\\TPsM-todos\\BA_BICIS_MyC\\src_data\\crear_dataset.py:27: FutureWarning: 'H' is deprecated and will be removed in a future version, please use 'h' instead.\n",
      "  df['hora_destino'] = df['fecha_destino_recorrido'].dt.floor('H')\n",
      "c:\\Users\\felic\\OneDrive\\Documentos\\GitHub\\TPsM-todos\\BA_BICIS_MyC\\src_data\\crear_dataset.py:34: FutureWarning: 'H' is deprecated and will be removed in a future version, please use 'h' instead.\n",
      "  fecha_min = df['fecha_origen_recorrido'].min().floor('H')\n",
      "c:\\Users\\felic\\OneDrive\\Documentos\\GitHub\\TPsM-todos\\BA_BICIS_MyC\\src_data\\crear_dataset.py:35: FutureWarning: 'H' is deprecated and will be removed in a future version, please use 'h' instead.\n",
      "  fecha_max = df['fecha_destino_recorrido'].max().floor('H')\n",
      "c:\\Users\\felic\\OneDrive\\Documentos\\GitHub\\TPsM-todos\\BA_BICIS_MyC\\src_data\\crear_dataset.py:38: FutureWarning: 'H' is deprecated and will be removed in a future version, please use 'h' instead.\n",
      "  horas_completas = pd.date_range(start=fecha_min, end=fecha_max, freq='H')\n"
     ]
    },
    {
     "name": "stdout",
     "output_type": "stream",
     "text": [
      "Procesando estación 50...\n"
     ]
    },
    {
     "name": "stderr",
     "output_type": "stream",
     "text": [
      "c:\\Users\\felic\\OneDrive\\Documentos\\GitHub\\TPsM-todos\\BA_BICIS_MyC\\src_data\\crear_dataset.py:26: FutureWarning: 'H' is deprecated and will be removed in a future version, please use 'h' instead.\n",
      "  df['hora_origen'] = df['fecha_origen_recorrido'].dt.floor('H')\n",
      "c:\\Users\\felic\\OneDrive\\Documentos\\GitHub\\TPsM-todos\\BA_BICIS_MyC\\src_data\\crear_dataset.py:27: FutureWarning: 'H' is deprecated and will be removed in a future version, please use 'h' instead.\n",
      "  df['hora_destino'] = df['fecha_destino_recorrido'].dt.floor('H')\n",
      "c:\\Users\\felic\\OneDrive\\Documentos\\GitHub\\TPsM-todos\\BA_BICIS_MyC\\src_data\\crear_dataset.py:34: FutureWarning: 'H' is deprecated and will be removed in a future version, please use 'h' instead.\n",
      "  fecha_min = df['fecha_origen_recorrido'].min().floor('H')\n",
      "c:\\Users\\felic\\OneDrive\\Documentos\\GitHub\\TPsM-todos\\BA_BICIS_MyC\\src_data\\crear_dataset.py:35: FutureWarning: 'H' is deprecated and will be removed in a future version, please use 'h' instead.\n",
      "  fecha_max = df['fecha_destino_recorrido'].max().floor('H')\n",
      "c:\\Users\\felic\\OneDrive\\Documentos\\GitHub\\TPsM-todos\\BA_BICIS_MyC\\src_data\\crear_dataset.py:38: FutureWarning: 'H' is deprecated and will be removed in a future version, please use 'h' instead.\n",
      "  horas_completas = pd.date_range(start=fecha_min, end=fecha_max, freq='H')\n"
     ]
    },
    {
     "name": "stdout",
     "output_type": "stream",
     "text": [
      "Procesando estación 51...\n"
     ]
    },
    {
     "name": "stderr",
     "output_type": "stream",
     "text": [
      "c:\\Users\\felic\\OneDrive\\Documentos\\GitHub\\TPsM-todos\\BA_BICIS_MyC\\src_data\\crear_dataset.py:26: FutureWarning: 'H' is deprecated and will be removed in a future version, please use 'h' instead.\n",
      "  df['hora_origen'] = df['fecha_origen_recorrido'].dt.floor('H')\n",
      "c:\\Users\\felic\\OneDrive\\Documentos\\GitHub\\TPsM-todos\\BA_BICIS_MyC\\src_data\\crear_dataset.py:27: FutureWarning: 'H' is deprecated and will be removed in a future version, please use 'h' instead.\n",
      "  df['hora_destino'] = df['fecha_destino_recorrido'].dt.floor('H')\n",
      "c:\\Users\\felic\\OneDrive\\Documentos\\GitHub\\TPsM-todos\\BA_BICIS_MyC\\src_data\\crear_dataset.py:34: FutureWarning: 'H' is deprecated and will be removed in a future version, please use 'h' instead.\n",
      "  fecha_min = df['fecha_origen_recorrido'].min().floor('H')\n",
      "c:\\Users\\felic\\OneDrive\\Documentos\\GitHub\\TPsM-todos\\BA_BICIS_MyC\\src_data\\crear_dataset.py:35: FutureWarning: 'H' is deprecated and will be removed in a future version, please use 'h' instead.\n",
      "  fecha_max = df['fecha_destino_recorrido'].max().floor('H')\n",
      "c:\\Users\\felic\\OneDrive\\Documentos\\GitHub\\TPsM-todos\\BA_BICIS_MyC\\src_data\\crear_dataset.py:38: FutureWarning: 'H' is deprecated and will be removed in a future version, please use 'h' instead.\n",
      "  horas_completas = pd.date_range(start=fecha_min, end=fecha_max, freq='H')\n"
     ]
    },
    {
     "name": "stdout",
     "output_type": "stream",
     "text": [
      "Procesando estación 54...\n"
     ]
    },
    {
     "name": "stderr",
     "output_type": "stream",
     "text": [
      "c:\\Users\\felic\\OneDrive\\Documentos\\GitHub\\TPsM-todos\\BA_BICIS_MyC\\src_data\\crear_dataset.py:26: FutureWarning: 'H' is deprecated and will be removed in a future version, please use 'h' instead.\n",
      "  df['hora_origen'] = df['fecha_origen_recorrido'].dt.floor('H')\n",
      "c:\\Users\\felic\\OneDrive\\Documentos\\GitHub\\TPsM-todos\\BA_BICIS_MyC\\src_data\\crear_dataset.py:27: FutureWarning: 'H' is deprecated and will be removed in a future version, please use 'h' instead.\n",
      "  df['hora_destino'] = df['fecha_destino_recorrido'].dt.floor('H')\n",
      "c:\\Users\\felic\\OneDrive\\Documentos\\GitHub\\TPsM-todos\\BA_BICIS_MyC\\src_data\\crear_dataset.py:34: FutureWarning: 'H' is deprecated and will be removed in a future version, please use 'h' instead.\n",
      "  fecha_min = df['fecha_origen_recorrido'].min().floor('H')\n",
      "c:\\Users\\felic\\OneDrive\\Documentos\\GitHub\\TPsM-todos\\BA_BICIS_MyC\\src_data\\crear_dataset.py:35: FutureWarning: 'H' is deprecated and will be removed in a future version, please use 'h' instead.\n",
      "  fecha_max = df['fecha_destino_recorrido'].max().floor('H')\n",
      "c:\\Users\\felic\\OneDrive\\Documentos\\GitHub\\TPsM-todos\\BA_BICIS_MyC\\src_data\\crear_dataset.py:38: FutureWarning: 'H' is deprecated and will be removed in a future version, please use 'h' instead.\n",
      "  horas_completas = pd.date_range(start=fecha_min, end=fecha_max, freq='H')\n"
     ]
    },
    {
     "name": "stdout",
     "output_type": "stream",
     "text": [
      "Procesando estación 56...\n"
     ]
    },
    {
     "name": "stderr",
     "output_type": "stream",
     "text": [
      "c:\\Users\\felic\\OneDrive\\Documentos\\GitHub\\TPsM-todos\\BA_BICIS_MyC\\src_data\\crear_dataset.py:26: FutureWarning: 'H' is deprecated and will be removed in a future version, please use 'h' instead.\n",
      "  df['hora_origen'] = df['fecha_origen_recorrido'].dt.floor('H')\n",
      "c:\\Users\\felic\\OneDrive\\Documentos\\GitHub\\TPsM-todos\\BA_BICIS_MyC\\src_data\\crear_dataset.py:27: FutureWarning: 'H' is deprecated and will be removed in a future version, please use 'h' instead.\n",
      "  df['hora_destino'] = df['fecha_destino_recorrido'].dt.floor('H')\n",
      "c:\\Users\\felic\\OneDrive\\Documentos\\GitHub\\TPsM-todos\\BA_BICIS_MyC\\src_data\\crear_dataset.py:34: FutureWarning: 'H' is deprecated and will be removed in a future version, please use 'h' instead.\n",
      "  fecha_min = df['fecha_origen_recorrido'].min().floor('H')\n",
      "c:\\Users\\felic\\OneDrive\\Documentos\\GitHub\\TPsM-todos\\BA_BICIS_MyC\\src_data\\crear_dataset.py:35: FutureWarning: 'H' is deprecated and will be removed in a future version, please use 'h' instead.\n",
      "  fecha_max = df['fecha_destino_recorrido'].max().floor('H')\n",
      "c:\\Users\\felic\\OneDrive\\Documentos\\GitHub\\TPsM-todos\\BA_BICIS_MyC\\src_data\\crear_dataset.py:38: FutureWarning: 'H' is deprecated and will be removed in a future version, please use 'h' instead.\n",
      "  horas_completas = pd.date_range(start=fecha_min, end=fecha_max, freq='H')\n"
     ]
    },
    {
     "name": "stdout",
     "output_type": "stream",
     "text": [
      "Procesando estación 57...\n"
     ]
    },
    {
     "name": "stderr",
     "output_type": "stream",
     "text": [
      "c:\\Users\\felic\\OneDrive\\Documentos\\GitHub\\TPsM-todos\\BA_BICIS_MyC\\src_data\\crear_dataset.py:26: FutureWarning: 'H' is deprecated and will be removed in a future version, please use 'h' instead.\n",
      "  df['hora_origen'] = df['fecha_origen_recorrido'].dt.floor('H')\n",
      "c:\\Users\\felic\\OneDrive\\Documentos\\GitHub\\TPsM-todos\\BA_BICIS_MyC\\src_data\\crear_dataset.py:27: FutureWarning: 'H' is deprecated and will be removed in a future version, please use 'h' instead.\n",
      "  df['hora_destino'] = df['fecha_destino_recorrido'].dt.floor('H')\n",
      "c:\\Users\\felic\\OneDrive\\Documentos\\GitHub\\TPsM-todos\\BA_BICIS_MyC\\src_data\\crear_dataset.py:34: FutureWarning: 'H' is deprecated and will be removed in a future version, please use 'h' instead.\n",
      "  fecha_min = df['fecha_origen_recorrido'].min().floor('H')\n",
      "c:\\Users\\felic\\OneDrive\\Documentos\\GitHub\\TPsM-todos\\BA_BICIS_MyC\\src_data\\crear_dataset.py:35: FutureWarning: 'H' is deprecated and will be removed in a future version, please use 'h' instead.\n",
      "  fecha_max = df['fecha_destino_recorrido'].max().floor('H')\n",
      "c:\\Users\\felic\\OneDrive\\Documentos\\GitHub\\TPsM-todos\\BA_BICIS_MyC\\src_data\\crear_dataset.py:38: FutureWarning: 'H' is deprecated and will be removed in a future version, please use 'h' instead.\n",
      "  horas_completas = pd.date_range(start=fecha_min, end=fecha_max, freq='H')\n"
     ]
    },
    {
     "name": "stdout",
     "output_type": "stream",
     "text": [
      "Procesando estación 58...\n"
     ]
    },
    {
     "name": "stderr",
     "output_type": "stream",
     "text": [
      "c:\\Users\\felic\\OneDrive\\Documentos\\GitHub\\TPsM-todos\\BA_BICIS_MyC\\src_data\\crear_dataset.py:26: FutureWarning: 'H' is deprecated and will be removed in a future version, please use 'h' instead.\n",
      "  df['hora_origen'] = df['fecha_origen_recorrido'].dt.floor('H')\n",
      "c:\\Users\\felic\\OneDrive\\Documentos\\GitHub\\TPsM-todos\\BA_BICIS_MyC\\src_data\\crear_dataset.py:27: FutureWarning: 'H' is deprecated and will be removed in a future version, please use 'h' instead.\n",
      "  df['hora_destino'] = df['fecha_destino_recorrido'].dt.floor('H')\n",
      "c:\\Users\\felic\\OneDrive\\Documentos\\GitHub\\TPsM-todos\\BA_BICIS_MyC\\src_data\\crear_dataset.py:34: FutureWarning: 'H' is deprecated and will be removed in a future version, please use 'h' instead.\n",
      "  fecha_min = df['fecha_origen_recorrido'].min().floor('H')\n",
      "c:\\Users\\felic\\OneDrive\\Documentos\\GitHub\\TPsM-todos\\BA_BICIS_MyC\\src_data\\crear_dataset.py:35: FutureWarning: 'H' is deprecated and will be removed in a future version, please use 'h' instead.\n",
      "  fecha_max = df['fecha_destino_recorrido'].max().floor('H')\n",
      "c:\\Users\\felic\\OneDrive\\Documentos\\GitHub\\TPsM-todos\\BA_BICIS_MyC\\src_data\\crear_dataset.py:38: FutureWarning: 'H' is deprecated and will be removed in a future version, please use 'h' instead.\n",
      "  horas_completas = pd.date_range(start=fecha_min, end=fecha_max, freq='H')\n"
     ]
    },
    {
     "name": "stdout",
     "output_type": "stream",
     "text": [
      "Procesando estación 59...\n"
     ]
    },
    {
     "name": "stderr",
     "output_type": "stream",
     "text": [
      "c:\\Users\\felic\\OneDrive\\Documentos\\GitHub\\TPsM-todos\\BA_BICIS_MyC\\src_data\\crear_dataset.py:26: FutureWarning: 'H' is deprecated and will be removed in a future version, please use 'h' instead.\n",
      "  df['hora_origen'] = df['fecha_origen_recorrido'].dt.floor('H')\n",
      "c:\\Users\\felic\\OneDrive\\Documentos\\GitHub\\TPsM-todos\\BA_BICIS_MyC\\src_data\\crear_dataset.py:27: FutureWarning: 'H' is deprecated and will be removed in a future version, please use 'h' instead.\n",
      "  df['hora_destino'] = df['fecha_destino_recorrido'].dt.floor('H')\n",
      "c:\\Users\\felic\\OneDrive\\Documentos\\GitHub\\TPsM-todos\\BA_BICIS_MyC\\src_data\\crear_dataset.py:34: FutureWarning: 'H' is deprecated and will be removed in a future version, please use 'h' instead.\n",
      "  fecha_min = df['fecha_origen_recorrido'].min().floor('H')\n",
      "c:\\Users\\felic\\OneDrive\\Documentos\\GitHub\\TPsM-todos\\BA_BICIS_MyC\\src_data\\crear_dataset.py:35: FutureWarning: 'H' is deprecated and will be removed in a future version, please use 'h' instead.\n",
      "  fecha_max = df['fecha_destino_recorrido'].max().floor('H')\n",
      "c:\\Users\\felic\\OneDrive\\Documentos\\GitHub\\TPsM-todos\\BA_BICIS_MyC\\src_data\\crear_dataset.py:38: FutureWarning: 'H' is deprecated and will be removed in a future version, please use 'h' instead.\n",
      "  horas_completas = pd.date_range(start=fecha_min, end=fecha_max, freq='H')\n"
     ]
    },
    {
     "name": "stdout",
     "output_type": "stream",
     "text": [
      "Procesando estación 60...\n"
     ]
    },
    {
     "name": "stderr",
     "output_type": "stream",
     "text": [
      "c:\\Users\\felic\\OneDrive\\Documentos\\GitHub\\TPsM-todos\\BA_BICIS_MyC\\src_data\\crear_dataset.py:26: FutureWarning: 'H' is deprecated and will be removed in a future version, please use 'h' instead.\n",
      "  df['hora_origen'] = df['fecha_origen_recorrido'].dt.floor('H')\n",
      "c:\\Users\\felic\\OneDrive\\Documentos\\GitHub\\TPsM-todos\\BA_BICIS_MyC\\src_data\\crear_dataset.py:27: FutureWarning: 'H' is deprecated and will be removed in a future version, please use 'h' instead.\n",
      "  df['hora_destino'] = df['fecha_destino_recorrido'].dt.floor('H')\n",
      "c:\\Users\\felic\\OneDrive\\Documentos\\GitHub\\TPsM-todos\\BA_BICIS_MyC\\src_data\\crear_dataset.py:34: FutureWarning: 'H' is deprecated and will be removed in a future version, please use 'h' instead.\n",
      "  fecha_min = df['fecha_origen_recorrido'].min().floor('H')\n",
      "c:\\Users\\felic\\OneDrive\\Documentos\\GitHub\\TPsM-todos\\BA_BICIS_MyC\\src_data\\crear_dataset.py:35: FutureWarning: 'H' is deprecated and will be removed in a future version, please use 'h' instead.\n",
      "  fecha_max = df['fecha_destino_recorrido'].max().floor('H')\n",
      "c:\\Users\\felic\\OneDrive\\Documentos\\GitHub\\TPsM-todos\\BA_BICIS_MyC\\src_data\\crear_dataset.py:38: FutureWarning: 'H' is deprecated and will be removed in a future version, please use 'h' instead.\n",
      "  horas_completas = pd.date_range(start=fecha_min, end=fecha_max, freq='H')\n"
     ]
    },
    {
     "name": "stdout",
     "output_type": "stream",
     "text": [
      "Procesando estación 61...\n"
     ]
    },
    {
     "name": "stderr",
     "output_type": "stream",
     "text": [
      "c:\\Users\\felic\\OneDrive\\Documentos\\GitHub\\TPsM-todos\\BA_BICIS_MyC\\src_data\\crear_dataset.py:26: FutureWarning: 'H' is deprecated and will be removed in a future version, please use 'h' instead.\n",
      "  df['hora_origen'] = df['fecha_origen_recorrido'].dt.floor('H')\n",
      "c:\\Users\\felic\\OneDrive\\Documentos\\GitHub\\TPsM-todos\\BA_BICIS_MyC\\src_data\\crear_dataset.py:27: FutureWarning: 'H' is deprecated and will be removed in a future version, please use 'h' instead.\n",
      "  df['hora_destino'] = df['fecha_destino_recorrido'].dt.floor('H')\n",
      "c:\\Users\\felic\\OneDrive\\Documentos\\GitHub\\TPsM-todos\\BA_BICIS_MyC\\src_data\\crear_dataset.py:34: FutureWarning: 'H' is deprecated and will be removed in a future version, please use 'h' instead.\n",
      "  fecha_min = df['fecha_origen_recorrido'].min().floor('H')\n",
      "c:\\Users\\felic\\OneDrive\\Documentos\\GitHub\\TPsM-todos\\BA_BICIS_MyC\\src_data\\crear_dataset.py:35: FutureWarning: 'H' is deprecated and will be removed in a future version, please use 'h' instead.\n",
      "  fecha_max = df['fecha_destino_recorrido'].max().floor('H')\n",
      "c:\\Users\\felic\\OneDrive\\Documentos\\GitHub\\TPsM-todos\\BA_BICIS_MyC\\src_data\\crear_dataset.py:38: FutureWarning: 'H' is deprecated and will be removed in a future version, please use 'h' instead.\n",
      "  horas_completas = pd.date_range(start=fecha_min, end=fecha_max, freq='H')\n"
     ]
    },
    {
     "name": "stdout",
     "output_type": "stream",
     "text": [
      "Procesando estación 63...\n"
     ]
    },
    {
     "name": "stderr",
     "output_type": "stream",
     "text": [
      "c:\\Users\\felic\\OneDrive\\Documentos\\GitHub\\TPsM-todos\\BA_BICIS_MyC\\src_data\\crear_dataset.py:26: FutureWarning: 'H' is deprecated and will be removed in a future version, please use 'h' instead.\n",
      "  df['hora_origen'] = df['fecha_origen_recorrido'].dt.floor('H')\n",
      "c:\\Users\\felic\\OneDrive\\Documentos\\GitHub\\TPsM-todos\\BA_BICIS_MyC\\src_data\\crear_dataset.py:27: FutureWarning: 'H' is deprecated and will be removed in a future version, please use 'h' instead.\n",
      "  df['hora_destino'] = df['fecha_destino_recorrido'].dt.floor('H')\n",
      "c:\\Users\\felic\\OneDrive\\Documentos\\GitHub\\TPsM-todos\\BA_BICIS_MyC\\src_data\\crear_dataset.py:34: FutureWarning: 'H' is deprecated and will be removed in a future version, please use 'h' instead.\n",
      "  fecha_min = df['fecha_origen_recorrido'].min().floor('H')\n",
      "c:\\Users\\felic\\OneDrive\\Documentos\\GitHub\\TPsM-todos\\BA_BICIS_MyC\\src_data\\crear_dataset.py:35: FutureWarning: 'H' is deprecated and will be removed in a future version, please use 'h' instead.\n",
      "  fecha_max = df['fecha_destino_recorrido'].max().floor('H')\n",
      "c:\\Users\\felic\\OneDrive\\Documentos\\GitHub\\TPsM-todos\\BA_BICIS_MyC\\src_data\\crear_dataset.py:38: FutureWarning: 'H' is deprecated and will be removed in a future version, please use 'h' instead.\n",
      "  horas_completas = pd.date_range(start=fecha_min, end=fecha_max, freq='H')\n"
     ]
    },
    {
     "name": "stdout",
     "output_type": "stream",
     "text": [
      "Procesando estación 64...\n"
     ]
    },
    {
     "name": "stderr",
     "output_type": "stream",
     "text": [
      "c:\\Users\\felic\\OneDrive\\Documentos\\GitHub\\TPsM-todos\\BA_BICIS_MyC\\src_data\\crear_dataset.py:26: FutureWarning: 'H' is deprecated and will be removed in a future version, please use 'h' instead.\n",
      "  df['hora_origen'] = df['fecha_origen_recorrido'].dt.floor('H')\n",
      "c:\\Users\\felic\\OneDrive\\Documentos\\GitHub\\TPsM-todos\\BA_BICIS_MyC\\src_data\\crear_dataset.py:27: FutureWarning: 'H' is deprecated and will be removed in a future version, please use 'h' instead.\n",
      "  df['hora_destino'] = df['fecha_destino_recorrido'].dt.floor('H')\n",
      "c:\\Users\\felic\\OneDrive\\Documentos\\GitHub\\TPsM-todos\\BA_BICIS_MyC\\src_data\\crear_dataset.py:34: FutureWarning: 'H' is deprecated and will be removed in a future version, please use 'h' instead.\n",
      "  fecha_min = df['fecha_origen_recorrido'].min().floor('H')\n",
      "c:\\Users\\felic\\OneDrive\\Documentos\\GitHub\\TPsM-todos\\BA_BICIS_MyC\\src_data\\crear_dataset.py:35: FutureWarning: 'H' is deprecated and will be removed in a future version, please use 'h' instead.\n",
      "  fecha_max = df['fecha_destino_recorrido'].max().floor('H')\n",
      "c:\\Users\\felic\\OneDrive\\Documentos\\GitHub\\TPsM-todos\\BA_BICIS_MyC\\src_data\\crear_dataset.py:38: FutureWarning: 'H' is deprecated and will be removed in a future version, please use 'h' instead.\n",
      "  horas_completas = pd.date_range(start=fecha_min, end=fecha_max, freq='H')\n"
     ]
    },
    {
     "name": "stdout",
     "output_type": "stream",
     "text": [
      "Procesando estación 65...\n"
     ]
    },
    {
     "name": "stderr",
     "output_type": "stream",
     "text": [
      "c:\\Users\\felic\\OneDrive\\Documentos\\GitHub\\TPsM-todos\\BA_BICIS_MyC\\src_data\\crear_dataset.py:26: FutureWarning: 'H' is deprecated and will be removed in a future version, please use 'h' instead.\n",
      "  df['hora_origen'] = df['fecha_origen_recorrido'].dt.floor('H')\n",
      "c:\\Users\\felic\\OneDrive\\Documentos\\GitHub\\TPsM-todos\\BA_BICIS_MyC\\src_data\\crear_dataset.py:27: FutureWarning: 'H' is deprecated and will be removed in a future version, please use 'h' instead.\n",
      "  df['hora_destino'] = df['fecha_destino_recorrido'].dt.floor('H')\n",
      "c:\\Users\\felic\\OneDrive\\Documentos\\GitHub\\TPsM-todos\\BA_BICIS_MyC\\src_data\\crear_dataset.py:34: FutureWarning: 'H' is deprecated and will be removed in a future version, please use 'h' instead.\n",
      "  fecha_min = df['fecha_origen_recorrido'].min().floor('H')\n",
      "c:\\Users\\felic\\OneDrive\\Documentos\\GitHub\\TPsM-todos\\BA_BICIS_MyC\\src_data\\crear_dataset.py:35: FutureWarning: 'H' is deprecated and will be removed in a future version, please use 'h' instead.\n",
      "  fecha_max = df['fecha_destino_recorrido'].max().floor('H')\n",
      "c:\\Users\\felic\\OneDrive\\Documentos\\GitHub\\TPsM-todos\\BA_BICIS_MyC\\src_data\\crear_dataset.py:38: FutureWarning: 'H' is deprecated and will be removed in a future version, please use 'h' instead.\n",
      "  horas_completas = pd.date_range(start=fecha_min, end=fecha_max, freq='H')\n"
     ]
    },
    {
     "name": "stdout",
     "output_type": "stream",
     "text": [
      "Procesando estación 66...\n"
     ]
    },
    {
     "name": "stderr",
     "output_type": "stream",
     "text": [
      "c:\\Users\\felic\\OneDrive\\Documentos\\GitHub\\TPsM-todos\\BA_BICIS_MyC\\src_data\\crear_dataset.py:26: FutureWarning: 'H' is deprecated and will be removed in a future version, please use 'h' instead.\n",
      "  df['hora_origen'] = df['fecha_origen_recorrido'].dt.floor('H')\n",
      "c:\\Users\\felic\\OneDrive\\Documentos\\GitHub\\TPsM-todos\\BA_BICIS_MyC\\src_data\\crear_dataset.py:27: FutureWarning: 'H' is deprecated and will be removed in a future version, please use 'h' instead.\n",
      "  df['hora_destino'] = df['fecha_destino_recorrido'].dt.floor('H')\n",
      "c:\\Users\\felic\\OneDrive\\Documentos\\GitHub\\TPsM-todos\\BA_BICIS_MyC\\src_data\\crear_dataset.py:34: FutureWarning: 'H' is deprecated and will be removed in a future version, please use 'h' instead.\n",
      "  fecha_min = df['fecha_origen_recorrido'].min().floor('H')\n",
      "c:\\Users\\felic\\OneDrive\\Documentos\\GitHub\\TPsM-todos\\BA_BICIS_MyC\\src_data\\crear_dataset.py:35: FutureWarning: 'H' is deprecated and will be removed in a future version, please use 'h' instead.\n",
      "  fecha_max = df['fecha_destino_recorrido'].max().floor('H')\n",
      "c:\\Users\\felic\\OneDrive\\Documentos\\GitHub\\TPsM-todos\\BA_BICIS_MyC\\src_data\\crear_dataset.py:38: FutureWarning: 'H' is deprecated and will be removed in a future version, please use 'h' instead.\n",
      "  horas_completas = pd.date_range(start=fecha_min, end=fecha_max, freq='H')\n"
     ]
    },
    {
     "name": "stdout",
     "output_type": "stream",
     "text": [
      "Procesando estación 68...\n"
     ]
    },
    {
     "name": "stderr",
     "output_type": "stream",
     "text": [
      "c:\\Users\\felic\\OneDrive\\Documentos\\GitHub\\TPsM-todos\\BA_BICIS_MyC\\src_data\\crear_dataset.py:26: FutureWarning: 'H' is deprecated and will be removed in a future version, please use 'h' instead.\n",
      "  df['hora_origen'] = df['fecha_origen_recorrido'].dt.floor('H')\n",
      "c:\\Users\\felic\\OneDrive\\Documentos\\GitHub\\TPsM-todos\\BA_BICIS_MyC\\src_data\\crear_dataset.py:27: FutureWarning: 'H' is deprecated and will be removed in a future version, please use 'h' instead.\n",
      "  df['hora_destino'] = df['fecha_destino_recorrido'].dt.floor('H')\n",
      "c:\\Users\\felic\\OneDrive\\Documentos\\GitHub\\TPsM-todos\\BA_BICIS_MyC\\src_data\\crear_dataset.py:34: FutureWarning: 'H' is deprecated and will be removed in a future version, please use 'h' instead.\n",
      "  fecha_min = df['fecha_origen_recorrido'].min().floor('H')\n",
      "c:\\Users\\felic\\OneDrive\\Documentos\\GitHub\\TPsM-todos\\BA_BICIS_MyC\\src_data\\crear_dataset.py:35: FutureWarning: 'H' is deprecated and will be removed in a future version, please use 'h' instead.\n",
      "  fecha_max = df['fecha_destino_recorrido'].max().floor('H')\n",
      "c:\\Users\\felic\\OneDrive\\Documentos\\GitHub\\TPsM-todos\\BA_BICIS_MyC\\src_data\\crear_dataset.py:38: FutureWarning: 'H' is deprecated and will be removed in a future version, please use 'h' instead.\n",
      "  horas_completas = pd.date_range(start=fecha_min, end=fecha_max, freq='H')\n"
     ]
    },
    {
     "name": "stdout",
     "output_type": "stream",
     "text": [
      "Procesando estación 69...\n"
     ]
    },
    {
     "name": "stderr",
     "output_type": "stream",
     "text": [
      "c:\\Users\\felic\\OneDrive\\Documentos\\GitHub\\TPsM-todos\\BA_BICIS_MyC\\src_data\\crear_dataset.py:26: FutureWarning: 'H' is deprecated and will be removed in a future version, please use 'h' instead.\n",
      "  df['hora_origen'] = df['fecha_origen_recorrido'].dt.floor('H')\n",
      "c:\\Users\\felic\\OneDrive\\Documentos\\GitHub\\TPsM-todos\\BA_BICIS_MyC\\src_data\\crear_dataset.py:27: FutureWarning: 'H' is deprecated and will be removed in a future version, please use 'h' instead.\n",
      "  df['hora_destino'] = df['fecha_destino_recorrido'].dt.floor('H')\n",
      "c:\\Users\\felic\\OneDrive\\Documentos\\GitHub\\TPsM-todos\\BA_BICIS_MyC\\src_data\\crear_dataset.py:34: FutureWarning: 'H' is deprecated and will be removed in a future version, please use 'h' instead.\n",
      "  fecha_min = df['fecha_origen_recorrido'].min().floor('H')\n",
      "c:\\Users\\felic\\OneDrive\\Documentos\\GitHub\\TPsM-todos\\BA_BICIS_MyC\\src_data\\crear_dataset.py:35: FutureWarning: 'H' is deprecated and will be removed in a future version, please use 'h' instead.\n",
      "  fecha_max = df['fecha_destino_recorrido'].max().floor('H')\n",
      "c:\\Users\\felic\\OneDrive\\Documentos\\GitHub\\TPsM-todos\\BA_BICIS_MyC\\src_data\\crear_dataset.py:38: FutureWarning: 'H' is deprecated and will be removed in a future version, please use 'h' instead.\n",
      "  horas_completas = pd.date_range(start=fecha_min, end=fecha_max, freq='H')\n"
     ]
    },
    {
     "name": "stdout",
     "output_type": "stream",
     "text": [
      "Procesando estación 70...\n"
     ]
    },
    {
     "name": "stderr",
     "output_type": "stream",
     "text": [
      "c:\\Users\\felic\\OneDrive\\Documentos\\GitHub\\TPsM-todos\\BA_BICIS_MyC\\src_data\\crear_dataset.py:26: FutureWarning: 'H' is deprecated and will be removed in a future version, please use 'h' instead.\n",
      "  df['hora_origen'] = df['fecha_origen_recorrido'].dt.floor('H')\n",
      "c:\\Users\\felic\\OneDrive\\Documentos\\GitHub\\TPsM-todos\\BA_BICIS_MyC\\src_data\\crear_dataset.py:27: FutureWarning: 'H' is deprecated and will be removed in a future version, please use 'h' instead.\n",
      "  df['hora_destino'] = df['fecha_destino_recorrido'].dt.floor('H')\n",
      "c:\\Users\\felic\\OneDrive\\Documentos\\GitHub\\TPsM-todos\\BA_BICIS_MyC\\src_data\\crear_dataset.py:34: FutureWarning: 'H' is deprecated and will be removed in a future version, please use 'h' instead.\n",
      "  fecha_min = df['fecha_origen_recorrido'].min().floor('H')\n",
      "c:\\Users\\felic\\OneDrive\\Documentos\\GitHub\\TPsM-todos\\BA_BICIS_MyC\\src_data\\crear_dataset.py:35: FutureWarning: 'H' is deprecated and will be removed in a future version, please use 'h' instead.\n",
      "  fecha_max = df['fecha_destino_recorrido'].max().floor('H')\n",
      "c:\\Users\\felic\\OneDrive\\Documentos\\GitHub\\TPsM-todos\\BA_BICIS_MyC\\src_data\\crear_dataset.py:38: FutureWarning: 'H' is deprecated and will be removed in a future version, please use 'h' instead.\n",
      "  horas_completas = pd.date_range(start=fecha_min, end=fecha_max, freq='H')\n"
     ]
    },
    {
     "name": "stdout",
     "output_type": "stream",
     "text": [
      "Procesando estación 71...\n"
     ]
    },
    {
     "name": "stderr",
     "output_type": "stream",
     "text": [
      "c:\\Users\\felic\\OneDrive\\Documentos\\GitHub\\TPsM-todos\\BA_BICIS_MyC\\src_data\\crear_dataset.py:26: FutureWarning: 'H' is deprecated and will be removed in a future version, please use 'h' instead.\n",
      "  df['hora_origen'] = df['fecha_origen_recorrido'].dt.floor('H')\n",
      "c:\\Users\\felic\\OneDrive\\Documentos\\GitHub\\TPsM-todos\\BA_BICIS_MyC\\src_data\\crear_dataset.py:27: FutureWarning: 'H' is deprecated and will be removed in a future version, please use 'h' instead.\n",
      "  df['hora_destino'] = df['fecha_destino_recorrido'].dt.floor('H')\n",
      "c:\\Users\\felic\\OneDrive\\Documentos\\GitHub\\TPsM-todos\\BA_BICIS_MyC\\src_data\\crear_dataset.py:34: FutureWarning: 'H' is deprecated and will be removed in a future version, please use 'h' instead.\n",
      "  fecha_min = df['fecha_origen_recorrido'].min().floor('H')\n",
      "c:\\Users\\felic\\OneDrive\\Documentos\\GitHub\\TPsM-todos\\BA_BICIS_MyC\\src_data\\crear_dataset.py:35: FutureWarning: 'H' is deprecated and will be removed in a future version, please use 'h' instead.\n",
      "  fecha_max = df['fecha_destino_recorrido'].max().floor('H')\n",
      "c:\\Users\\felic\\OneDrive\\Documentos\\GitHub\\TPsM-todos\\BA_BICIS_MyC\\src_data\\crear_dataset.py:38: FutureWarning: 'H' is deprecated and will be removed in a future version, please use 'h' instead.\n",
      "  horas_completas = pd.date_range(start=fecha_min, end=fecha_max, freq='H')\n"
     ]
    },
    {
     "name": "stdout",
     "output_type": "stream",
     "text": [
      "Procesando estación 73...\n"
     ]
    },
    {
     "name": "stderr",
     "output_type": "stream",
     "text": [
      "c:\\Users\\felic\\OneDrive\\Documentos\\GitHub\\TPsM-todos\\BA_BICIS_MyC\\src_data\\crear_dataset.py:26: FutureWarning: 'H' is deprecated and will be removed in a future version, please use 'h' instead.\n",
      "  df['hora_origen'] = df['fecha_origen_recorrido'].dt.floor('H')\n",
      "c:\\Users\\felic\\OneDrive\\Documentos\\GitHub\\TPsM-todos\\BA_BICIS_MyC\\src_data\\crear_dataset.py:27: FutureWarning: 'H' is deprecated and will be removed in a future version, please use 'h' instead.\n",
      "  df['hora_destino'] = df['fecha_destino_recorrido'].dt.floor('H')\n",
      "c:\\Users\\felic\\OneDrive\\Documentos\\GitHub\\TPsM-todos\\BA_BICIS_MyC\\src_data\\crear_dataset.py:34: FutureWarning: 'H' is deprecated and will be removed in a future version, please use 'h' instead.\n",
      "  fecha_min = df['fecha_origen_recorrido'].min().floor('H')\n",
      "c:\\Users\\felic\\OneDrive\\Documentos\\GitHub\\TPsM-todos\\BA_BICIS_MyC\\src_data\\crear_dataset.py:35: FutureWarning: 'H' is deprecated and will be removed in a future version, please use 'h' instead.\n",
      "  fecha_max = df['fecha_destino_recorrido'].max().floor('H')\n",
      "c:\\Users\\felic\\OneDrive\\Documentos\\GitHub\\TPsM-todos\\BA_BICIS_MyC\\src_data\\crear_dataset.py:38: FutureWarning: 'H' is deprecated and will be removed in a future version, please use 'h' instead.\n",
      "  horas_completas = pd.date_range(start=fecha_min, end=fecha_max, freq='H')\n"
     ]
    },
    {
     "name": "stdout",
     "output_type": "stream",
     "text": [
      "Procesando estación 74...\n"
     ]
    },
    {
     "name": "stderr",
     "output_type": "stream",
     "text": [
      "c:\\Users\\felic\\OneDrive\\Documentos\\GitHub\\TPsM-todos\\BA_BICIS_MyC\\src_data\\crear_dataset.py:26: FutureWarning: 'H' is deprecated and will be removed in a future version, please use 'h' instead.\n",
      "  df['hora_origen'] = df['fecha_origen_recorrido'].dt.floor('H')\n",
      "c:\\Users\\felic\\OneDrive\\Documentos\\GitHub\\TPsM-todos\\BA_BICIS_MyC\\src_data\\crear_dataset.py:27: FutureWarning: 'H' is deprecated and will be removed in a future version, please use 'h' instead.\n",
      "  df['hora_destino'] = df['fecha_destino_recorrido'].dt.floor('H')\n",
      "c:\\Users\\felic\\OneDrive\\Documentos\\GitHub\\TPsM-todos\\BA_BICIS_MyC\\src_data\\crear_dataset.py:34: FutureWarning: 'H' is deprecated and will be removed in a future version, please use 'h' instead.\n",
      "  fecha_min = df['fecha_origen_recorrido'].min().floor('H')\n",
      "c:\\Users\\felic\\OneDrive\\Documentos\\GitHub\\TPsM-todos\\BA_BICIS_MyC\\src_data\\crear_dataset.py:35: FutureWarning: 'H' is deprecated and will be removed in a future version, please use 'h' instead.\n",
      "  fecha_max = df['fecha_destino_recorrido'].max().floor('H')\n",
      "c:\\Users\\felic\\OneDrive\\Documentos\\GitHub\\TPsM-todos\\BA_BICIS_MyC\\src_data\\crear_dataset.py:38: FutureWarning: 'H' is deprecated and will be removed in a future version, please use 'h' instead.\n",
      "  horas_completas = pd.date_range(start=fecha_min, end=fecha_max, freq='H')\n"
     ]
    },
    {
     "name": "stdout",
     "output_type": "stream",
     "text": [
      "Procesando estación 75...\n"
     ]
    },
    {
     "name": "stderr",
     "output_type": "stream",
     "text": [
      "c:\\Users\\felic\\OneDrive\\Documentos\\GitHub\\TPsM-todos\\BA_BICIS_MyC\\src_data\\crear_dataset.py:26: FutureWarning: 'H' is deprecated and will be removed in a future version, please use 'h' instead.\n",
      "  df['hora_origen'] = df['fecha_origen_recorrido'].dt.floor('H')\n",
      "c:\\Users\\felic\\OneDrive\\Documentos\\GitHub\\TPsM-todos\\BA_BICIS_MyC\\src_data\\crear_dataset.py:27: FutureWarning: 'H' is deprecated and will be removed in a future version, please use 'h' instead.\n",
      "  df['hora_destino'] = df['fecha_destino_recorrido'].dt.floor('H')\n",
      "c:\\Users\\felic\\OneDrive\\Documentos\\GitHub\\TPsM-todos\\BA_BICIS_MyC\\src_data\\crear_dataset.py:34: FutureWarning: 'H' is deprecated and will be removed in a future version, please use 'h' instead.\n",
      "  fecha_min = df['fecha_origen_recorrido'].min().floor('H')\n",
      "c:\\Users\\felic\\OneDrive\\Documentos\\GitHub\\TPsM-todos\\BA_BICIS_MyC\\src_data\\crear_dataset.py:35: FutureWarning: 'H' is deprecated and will be removed in a future version, please use 'h' instead.\n",
      "  fecha_max = df['fecha_destino_recorrido'].max().floor('H')\n",
      "c:\\Users\\felic\\OneDrive\\Documentos\\GitHub\\TPsM-todos\\BA_BICIS_MyC\\src_data\\crear_dataset.py:38: FutureWarning: 'H' is deprecated and will be removed in a future version, please use 'h' instead.\n",
      "  horas_completas = pd.date_range(start=fecha_min, end=fecha_max, freq='H')\n"
     ]
    },
    {
     "name": "stdout",
     "output_type": "stream",
     "text": [
      "Procesando estación 76...\n"
     ]
    },
    {
     "name": "stderr",
     "output_type": "stream",
     "text": [
      "c:\\Users\\felic\\OneDrive\\Documentos\\GitHub\\TPsM-todos\\BA_BICIS_MyC\\src_data\\crear_dataset.py:26: FutureWarning: 'H' is deprecated and will be removed in a future version, please use 'h' instead.\n",
      "  df['hora_origen'] = df['fecha_origen_recorrido'].dt.floor('H')\n",
      "c:\\Users\\felic\\OneDrive\\Documentos\\GitHub\\TPsM-todos\\BA_BICIS_MyC\\src_data\\crear_dataset.py:27: FutureWarning: 'H' is deprecated and will be removed in a future version, please use 'h' instead.\n",
      "  df['hora_destino'] = df['fecha_destino_recorrido'].dt.floor('H')\n",
      "c:\\Users\\felic\\OneDrive\\Documentos\\GitHub\\TPsM-todos\\BA_BICIS_MyC\\src_data\\crear_dataset.py:34: FutureWarning: 'H' is deprecated and will be removed in a future version, please use 'h' instead.\n",
      "  fecha_min = df['fecha_origen_recorrido'].min().floor('H')\n",
      "c:\\Users\\felic\\OneDrive\\Documentos\\GitHub\\TPsM-todos\\BA_BICIS_MyC\\src_data\\crear_dataset.py:35: FutureWarning: 'H' is deprecated and will be removed in a future version, please use 'h' instead.\n",
      "  fecha_max = df['fecha_destino_recorrido'].max().floor('H')\n",
      "c:\\Users\\felic\\OneDrive\\Documentos\\GitHub\\TPsM-todos\\BA_BICIS_MyC\\src_data\\crear_dataset.py:38: FutureWarning: 'H' is deprecated and will be removed in a future version, please use 'h' instead.\n",
      "  horas_completas = pd.date_range(start=fecha_min, end=fecha_max, freq='H')\n"
     ]
    },
    {
     "name": "stdout",
     "output_type": "stream",
     "text": [
      "Procesando estación 77...\n"
     ]
    },
    {
     "name": "stderr",
     "output_type": "stream",
     "text": [
      "c:\\Users\\felic\\OneDrive\\Documentos\\GitHub\\TPsM-todos\\BA_BICIS_MyC\\src_data\\crear_dataset.py:26: FutureWarning: 'H' is deprecated and will be removed in a future version, please use 'h' instead.\n",
      "  df['hora_origen'] = df['fecha_origen_recorrido'].dt.floor('H')\n",
      "c:\\Users\\felic\\OneDrive\\Documentos\\GitHub\\TPsM-todos\\BA_BICIS_MyC\\src_data\\crear_dataset.py:27: FutureWarning: 'H' is deprecated and will be removed in a future version, please use 'h' instead.\n",
      "  df['hora_destino'] = df['fecha_destino_recorrido'].dt.floor('H')\n",
      "c:\\Users\\felic\\OneDrive\\Documentos\\GitHub\\TPsM-todos\\BA_BICIS_MyC\\src_data\\crear_dataset.py:34: FutureWarning: 'H' is deprecated and will be removed in a future version, please use 'h' instead.\n",
      "  fecha_min = df['fecha_origen_recorrido'].min().floor('H')\n",
      "c:\\Users\\felic\\OneDrive\\Documentos\\GitHub\\TPsM-todos\\BA_BICIS_MyC\\src_data\\crear_dataset.py:35: FutureWarning: 'H' is deprecated and will be removed in a future version, please use 'h' instead.\n",
      "  fecha_max = df['fecha_destino_recorrido'].max().floor('H')\n",
      "c:\\Users\\felic\\OneDrive\\Documentos\\GitHub\\TPsM-todos\\BA_BICIS_MyC\\src_data\\crear_dataset.py:38: FutureWarning: 'H' is deprecated and will be removed in a future version, please use 'h' instead.\n",
      "  horas_completas = pd.date_range(start=fecha_min, end=fecha_max, freq='H')\n"
     ]
    },
    {
     "name": "stdout",
     "output_type": "stream",
     "text": [
      "Procesando estación 79...\n"
     ]
    },
    {
     "name": "stderr",
     "output_type": "stream",
     "text": [
      "c:\\Users\\felic\\OneDrive\\Documentos\\GitHub\\TPsM-todos\\BA_BICIS_MyC\\src_data\\crear_dataset.py:26: FutureWarning: 'H' is deprecated and will be removed in a future version, please use 'h' instead.\n",
      "  df['hora_origen'] = df['fecha_origen_recorrido'].dt.floor('H')\n",
      "c:\\Users\\felic\\OneDrive\\Documentos\\GitHub\\TPsM-todos\\BA_BICIS_MyC\\src_data\\crear_dataset.py:27: FutureWarning: 'H' is deprecated and will be removed in a future version, please use 'h' instead.\n",
      "  df['hora_destino'] = df['fecha_destino_recorrido'].dt.floor('H')\n",
      "c:\\Users\\felic\\OneDrive\\Documentos\\GitHub\\TPsM-todos\\BA_BICIS_MyC\\src_data\\crear_dataset.py:34: FutureWarning: 'H' is deprecated and will be removed in a future version, please use 'h' instead.\n",
      "  fecha_min = df['fecha_origen_recorrido'].min().floor('H')\n",
      "c:\\Users\\felic\\OneDrive\\Documentos\\GitHub\\TPsM-todos\\BA_BICIS_MyC\\src_data\\crear_dataset.py:35: FutureWarning: 'H' is deprecated and will be removed in a future version, please use 'h' instead.\n",
      "  fecha_max = df['fecha_destino_recorrido'].max().floor('H')\n",
      "c:\\Users\\felic\\OneDrive\\Documentos\\GitHub\\TPsM-todos\\BA_BICIS_MyC\\src_data\\crear_dataset.py:38: FutureWarning: 'H' is deprecated and will be removed in a future version, please use 'h' instead.\n",
      "  horas_completas = pd.date_range(start=fecha_min, end=fecha_max, freq='H')\n"
     ]
    },
    {
     "name": "stdout",
     "output_type": "stream",
     "text": [
      "Procesando estación 80...\n"
     ]
    },
    {
     "name": "stderr",
     "output_type": "stream",
     "text": [
      "c:\\Users\\felic\\OneDrive\\Documentos\\GitHub\\TPsM-todos\\BA_BICIS_MyC\\src_data\\crear_dataset.py:26: FutureWarning: 'H' is deprecated and will be removed in a future version, please use 'h' instead.\n",
      "  df['hora_origen'] = df['fecha_origen_recorrido'].dt.floor('H')\n",
      "c:\\Users\\felic\\OneDrive\\Documentos\\GitHub\\TPsM-todos\\BA_BICIS_MyC\\src_data\\crear_dataset.py:27: FutureWarning: 'H' is deprecated and will be removed in a future version, please use 'h' instead.\n",
      "  df['hora_destino'] = df['fecha_destino_recorrido'].dt.floor('H')\n",
      "c:\\Users\\felic\\OneDrive\\Documentos\\GitHub\\TPsM-todos\\BA_BICIS_MyC\\src_data\\crear_dataset.py:34: FutureWarning: 'H' is deprecated and will be removed in a future version, please use 'h' instead.\n",
      "  fecha_min = df['fecha_origen_recorrido'].min().floor('H')\n",
      "c:\\Users\\felic\\OneDrive\\Documentos\\GitHub\\TPsM-todos\\BA_BICIS_MyC\\src_data\\crear_dataset.py:35: FutureWarning: 'H' is deprecated and will be removed in a future version, please use 'h' instead.\n",
      "  fecha_max = df['fecha_destino_recorrido'].max().floor('H')\n",
      "c:\\Users\\felic\\OneDrive\\Documentos\\GitHub\\TPsM-todos\\BA_BICIS_MyC\\src_data\\crear_dataset.py:38: FutureWarning: 'H' is deprecated and will be removed in a future version, please use 'h' instead.\n",
      "  horas_completas = pd.date_range(start=fecha_min, end=fecha_max, freq='H')\n"
     ]
    },
    {
     "name": "stdout",
     "output_type": "stream",
     "text": [
      "Procesando estación 82...\n"
     ]
    },
    {
     "name": "stderr",
     "output_type": "stream",
     "text": [
      "c:\\Users\\felic\\OneDrive\\Documentos\\GitHub\\TPsM-todos\\BA_BICIS_MyC\\src_data\\crear_dataset.py:26: FutureWarning: 'H' is deprecated and will be removed in a future version, please use 'h' instead.\n",
      "  df['hora_origen'] = df['fecha_origen_recorrido'].dt.floor('H')\n",
      "c:\\Users\\felic\\OneDrive\\Documentos\\GitHub\\TPsM-todos\\BA_BICIS_MyC\\src_data\\crear_dataset.py:27: FutureWarning: 'H' is deprecated and will be removed in a future version, please use 'h' instead.\n",
      "  df['hora_destino'] = df['fecha_destino_recorrido'].dt.floor('H')\n",
      "c:\\Users\\felic\\OneDrive\\Documentos\\GitHub\\TPsM-todos\\BA_BICIS_MyC\\src_data\\crear_dataset.py:34: FutureWarning: 'H' is deprecated and will be removed in a future version, please use 'h' instead.\n",
      "  fecha_min = df['fecha_origen_recorrido'].min().floor('H')\n",
      "c:\\Users\\felic\\OneDrive\\Documentos\\GitHub\\TPsM-todos\\BA_BICIS_MyC\\src_data\\crear_dataset.py:35: FutureWarning: 'H' is deprecated and will be removed in a future version, please use 'h' instead.\n",
      "  fecha_max = df['fecha_destino_recorrido'].max().floor('H')\n",
      "c:\\Users\\felic\\OneDrive\\Documentos\\GitHub\\TPsM-todos\\BA_BICIS_MyC\\src_data\\crear_dataset.py:38: FutureWarning: 'H' is deprecated and will be removed in a future version, please use 'h' instead.\n",
      "  horas_completas = pd.date_range(start=fecha_min, end=fecha_max, freq='H')\n"
     ]
    },
    {
     "name": "stdout",
     "output_type": "stream",
     "text": [
      "Procesando estación 83...\n"
     ]
    },
    {
     "name": "stderr",
     "output_type": "stream",
     "text": [
      "c:\\Users\\felic\\OneDrive\\Documentos\\GitHub\\TPsM-todos\\BA_BICIS_MyC\\src_data\\crear_dataset.py:26: FutureWarning: 'H' is deprecated and will be removed in a future version, please use 'h' instead.\n",
      "  df['hora_origen'] = df['fecha_origen_recorrido'].dt.floor('H')\n",
      "c:\\Users\\felic\\OneDrive\\Documentos\\GitHub\\TPsM-todos\\BA_BICIS_MyC\\src_data\\crear_dataset.py:27: FutureWarning: 'H' is deprecated and will be removed in a future version, please use 'h' instead.\n",
      "  df['hora_destino'] = df['fecha_destino_recorrido'].dt.floor('H')\n",
      "c:\\Users\\felic\\OneDrive\\Documentos\\GitHub\\TPsM-todos\\BA_BICIS_MyC\\src_data\\crear_dataset.py:34: FutureWarning: 'H' is deprecated and will be removed in a future version, please use 'h' instead.\n",
      "  fecha_min = df['fecha_origen_recorrido'].min().floor('H')\n",
      "c:\\Users\\felic\\OneDrive\\Documentos\\GitHub\\TPsM-todos\\BA_BICIS_MyC\\src_data\\crear_dataset.py:35: FutureWarning: 'H' is deprecated and will be removed in a future version, please use 'h' instead.\n",
      "  fecha_max = df['fecha_destino_recorrido'].max().floor('H')\n",
      "c:\\Users\\felic\\OneDrive\\Documentos\\GitHub\\TPsM-todos\\BA_BICIS_MyC\\src_data\\crear_dataset.py:38: FutureWarning: 'H' is deprecated and will be removed in a future version, please use 'h' instead.\n",
      "  horas_completas = pd.date_range(start=fecha_min, end=fecha_max, freq='H')\n"
     ]
    },
    {
     "name": "stdout",
     "output_type": "stream",
     "text": [
      "Procesando estación 84...\n"
     ]
    },
    {
     "name": "stderr",
     "output_type": "stream",
     "text": [
      "c:\\Users\\felic\\OneDrive\\Documentos\\GitHub\\TPsM-todos\\BA_BICIS_MyC\\src_data\\crear_dataset.py:26: FutureWarning: 'H' is deprecated and will be removed in a future version, please use 'h' instead.\n",
      "  df['hora_origen'] = df['fecha_origen_recorrido'].dt.floor('H')\n",
      "c:\\Users\\felic\\OneDrive\\Documentos\\GitHub\\TPsM-todos\\BA_BICIS_MyC\\src_data\\crear_dataset.py:27: FutureWarning: 'H' is deprecated and will be removed in a future version, please use 'h' instead.\n",
      "  df['hora_destino'] = df['fecha_destino_recorrido'].dt.floor('H')\n",
      "c:\\Users\\felic\\OneDrive\\Documentos\\GitHub\\TPsM-todos\\BA_BICIS_MyC\\src_data\\crear_dataset.py:34: FutureWarning: 'H' is deprecated and will be removed in a future version, please use 'h' instead.\n",
      "  fecha_min = df['fecha_origen_recorrido'].min().floor('H')\n",
      "c:\\Users\\felic\\OneDrive\\Documentos\\GitHub\\TPsM-todos\\BA_BICIS_MyC\\src_data\\crear_dataset.py:35: FutureWarning: 'H' is deprecated and will be removed in a future version, please use 'h' instead.\n",
      "  fecha_max = df['fecha_destino_recorrido'].max().floor('H')\n",
      "c:\\Users\\felic\\OneDrive\\Documentos\\GitHub\\TPsM-todos\\BA_BICIS_MyC\\src_data\\crear_dataset.py:38: FutureWarning: 'H' is deprecated and will be removed in a future version, please use 'h' instead.\n",
      "  horas_completas = pd.date_range(start=fecha_min, end=fecha_max, freq='H')\n"
     ]
    },
    {
     "name": "stdout",
     "output_type": "stream",
     "text": [
      "Procesando estación 85...\n"
     ]
    },
    {
     "name": "stderr",
     "output_type": "stream",
     "text": [
      "c:\\Users\\felic\\OneDrive\\Documentos\\GitHub\\TPsM-todos\\BA_BICIS_MyC\\src_data\\crear_dataset.py:26: FutureWarning: 'H' is deprecated and will be removed in a future version, please use 'h' instead.\n",
      "  df['hora_origen'] = df['fecha_origen_recorrido'].dt.floor('H')\n",
      "c:\\Users\\felic\\OneDrive\\Documentos\\GitHub\\TPsM-todos\\BA_BICIS_MyC\\src_data\\crear_dataset.py:27: FutureWarning: 'H' is deprecated and will be removed in a future version, please use 'h' instead.\n",
      "  df['hora_destino'] = df['fecha_destino_recorrido'].dt.floor('H')\n",
      "c:\\Users\\felic\\OneDrive\\Documentos\\GitHub\\TPsM-todos\\BA_BICIS_MyC\\src_data\\crear_dataset.py:34: FutureWarning: 'H' is deprecated and will be removed in a future version, please use 'h' instead.\n",
      "  fecha_min = df['fecha_origen_recorrido'].min().floor('H')\n",
      "c:\\Users\\felic\\OneDrive\\Documentos\\GitHub\\TPsM-todos\\BA_BICIS_MyC\\src_data\\crear_dataset.py:35: FutureWarning: 'H' is deprecated and will be removed in a future version, please use 'h' instead.\n",
      "  fecha_max = df['fecha_destino_recorrido'].max().floor('H')\n",
      "c:\\Users\\felic\\OneDrive\\Documentos\\GitHub\\TPsM-todos\\BA_BICIS_MyC\\src_data\\crear_dataset.py:38: FutureWarning: 'H' is deprecated and will be removed in a future version, please use 'h' instead.\n",
      "  horas_completas = pd.date_range(start=fecha_min, end=fecha_max, freq='H')\n"
     ]
    },
    {
     "name": "stdout",
     "output_type": "stream",
     "text": [
      "Procesando estación 86...\n"
     ]
    },
    {
     "name": "stderr",
     "output_type": "stream",
     "text": [
      "c:\\Users\\felic\\OneDrive\\Documentos\\GitHub\\TPsM-todos\\BA_BICIS_MyC\\src_data\\crear_dataset.py:26: FutureWarning: 'H' is deprecated and will be removed in a future version, please use 'h' instead.\n",
      "  df['hora_origen'] = df['fecha_origen_recorrido'].dt.floor('H')\n",
      "c:\\Users\\felic\\OneDrive\\Documentos\\GitHub\\TPsM-todos\\BA_BICIS_MyC\\src_data\\crear_dataset.py:27: FutureWarning: 'H' is deprecated and will be removed in a future version, please use 'h' instead.\n",
      "  df['hora_destino'] = df['fecha_destino_recorrido'].dt.floor('H')\n",
      "c:\\Users\\felic\\OneDrive\\Documentos\\GitHub\\TPsM-todos\\BA_BICIS_MyC\\src_data\\crear_dataset.py:34: FutureWarning: 'H' is deprecated and will be removed in a future version, please use 'h' instead.\n",
      "  fecha_min = df['fecha_origen_recorrido'].min().floor('H')\n",
      "c:\\Users\\felic\\OneDrive\\Documentos\\GitHub\\TPsM-todos\\BA_BICIS_MyC\\src_data\\crear_dataset.py:35: FutureWarning: 'H' is deprecated and will be removed in a future version, please use 'h' instead.\n",
      "  fecha_max = df['fecha_destino_recorrido'].max().floor('H')\n",
      "c:\\Users\\felic\\OneDrive\\Documentos\\GitHub\\TPsM-todos\\BA_BICIS_MyC\\src_data\\crear_dataset.py:38: FutureWarning: 'H' is deprecated and will be removed in a future version, please use 'h' instead.\n",
      "  horas_completas = pd.date_range(start=fecha_min, end=fecha_max, freq='H')\n"
     ]
    },
    {
     "name": "stdout",
     "output_type": "stream",
     "text": [
      "Procesando estación 87...\n"
     ]
    },
    {
     "name": "stderr",
     "output_type": "stream",
     "text": [
      "c:\\Users\\felic\\OneDrive\\Documentos\\GitHub\\TPsM-todos\\BA_BICIS_MyC\\src_data\\crear_dataset.py:26: FutureWarning: 'H' is deprecated and will be removed in a future version, please use 'h' instead.\n",
      "  df['hora_origen'] = df['fecha_origen_recorrido'].dt.floor('H')\n",
      "c:\\Users\\felic\\OneDrive\\Documentos\\GitHub\\TPsM-todos\\BA_BICIS_MyC\\src_data\\crear_dataset.py:27: FutureWarning: 'H' is deprecated and will be removed in a future version, please use 'h' instead.\n",
      "  df['hora_destino'] = df['fecha_destino_recorrido'].dt.floor('H')\n",
      "c:\\Users\\felic\\OneDrive\\Documentos\\GitHub\\TPsM-todos\\BA_BICIS_MyC\\src_data\\crear_dataset.py:34: FutureWarning: 'H' is deprecated and will be removed in a future version, please use 'h' instead.\n",
      "  fecha_min = df['fecha_origen_recorrido'].min().floor('H')\n",
      "c:\\Users\\felic\\OneDrive\\Documentos\\GitHub\\TPsM-todos\\BA_BICIS_MyC\\src_data\\crear_dataset.py:35: FutureWarning: 'H' is deprecated and will be removed in a future version, please use 'h' instead.\n",
      "  fecha_max = df['fecha_destino_recorrido'].max().floor('H')\n",
      "c:\\Users\\felic\\OneDrive\\Documentos\\GitHub\\TPsM-todos\\BA_BICIS_MyC\\src_data\\crear_dataset.py:38: FutureWarning: 'H' is deprecated and will be removed in a future version, please use 'h' instead.\n",
      "  horas_completas = pd.date_range(start=fecha_min, end=fecha_max, freq='H')\n"
     ]
    },
    {
     "name": "stdout",
     "output_type": "stream",
     "text": [
      "Procesando estación 89...\n"
     ]
    },
    {
     "name": "stderr",
     "output_type": "stream",
     "text": [
      "c:\\Users\\felic\\OneDrive\\Documentos\\GitHub\\TPsM-todos\\BA_BICIS_MyC\\src_data\\crear_dataset.py:26: FutureWarning: 'H' is deprecated and will be removed in a future version, please use 'h' instead.\n",
      "  df['hora_origen'] = df['fecha_origen_recorrido'].dt.floor('H')\n",
      "c:\\Users\\felic\\OneDrive\\Documentos\\GitHub\\TPsM-todos\\BA_BICIS_MyC\\src_data\\crear_dataset.py:27: FutureWarning: 'H' is deprecated and will be removed in a future version, please use 'h' instead.\n",
      "  df['hora_destino'] = df['fecha_destino_recorrido'].dt.floor('H')\n",
      "c:\\Users\\felic\\OneDrive\\Documentos\\GitHub\\TPsM-todos\\BA_BICIS_MyC\\src_data\\crear_dataset.py:34: FutureWarning: 'H' is deprecated and will be removed in a future version, please use 'h' instead.\n",
      "  fecha_min = df['fecha_origen_recorrido'].min().floor('H')\n",
      "c:\\Users\\felic\\OneDrive\\Documentos\\GitHub\\TPsM-todos\\BA_BICIS_MyC\\src_data\\crear_dataset.py:35: FutureWarning: 'H' is deprecated and will be removed in a future version, please use 'h' instead.\n",
      "  fecha_max = df['fecha_destino_recorrido'].max().floor('H')\n",
      "c:\\Users\\felic\\OneDrive\\Documentos\\GitHub\\TPsM-todos\\BA_BICIS_MyC\\src_data\\crear_dataset.py:38: FutureWarning: 'H' is deprecated and will be removed in a future version, please use 'h' instead.\n",
      "  horas_completas = pd.date_range(start=fecha_min, end=fecha_max, freq='H')\n"
     ]
    },
    {
     "name": "stdout",
     "output_type": "stream",
     "text": [
      "Procesando estación 91...\n"
     ]
    },
    {
     "name": "stderr",
     "output_type": "stream",
     "text": [
      "c:\\Users\\felic\\OneDrive\\Documentos\\GitHub\\TPsM-todos\\BA_BICIS_MyC\\src_data\\crear_dataset.py:26: FutureWarning: 'H' is deprecated and will be removed in a future version, please use 'h' instead.\n",
      "  df['hora_origen'] = df['fecha_origen_recorrido'].dt.floor('H')\n",
      "c:\\Users\\felic\\OneDrive\\Documentos\\GitHub\\TPsM-todos\\BA_BICIS_MyC\\src_data\\crear_dataset.py:27: FutureWarning: 'H' is deprecated and will be removed in a future version, please use 'h' instead.\n",
      "  df['hora_destino'] = df['fecha_destino_recorrido'].dt.floor('H')\n",
      "c:\\Users\\felic\\OneDrive\\Documentos\\GitHub\\TPsM-todos\\BA_BICIS_MyC\\src_data\\crear_dataset.py:34: FutureWarning: 'H' is deprecated and will be removed in a future version, please use 'h' instead.\n",
      "  fecha_min = df['fecha_origen_recorrido'].min().floor('H')\n",
      "c:\\Users\\felic\\OneDrive\\Documentos\\GitHub\\TPsM-todos\\BA_BICIS_MyC\\src_data\\crear_dataset.py:35: FutureWarning: 'H' is deprecated and will be removed in a future version, please use 'h' instead.\n",
      "  fecha_max = df['fecha_destino_recorrido'].max().floor('H')\n",
      "c:\\Users\\felic\\OneDrive\\Documentos\\GitHub\\TPsM-todos\\BA_BICIS_MyC\\src_data\\crear_dataset.py:38: FutureWarning: 'H' is deprecated and will be removed in a future version, please use 'h' instead.\n",
      "  horas_completas = pd.date_range(start=fecha_min, end=fecha_max, freq='H')\n"
     ]
    },
    {
     "name": "stdout",
     "output_type": "stream",
     "text": [
      "Procesando estación 92...\n"
     ]
    },
    {
     "name": "stderr",
     "output_type": "stream",
     "text": [
      "c:\\Users\\felic\\OneDrive\\Documentos\\GitHub\\TPsM-todos\\BA_BICIS_MyC\\src_data\\crear_dataset.py:26: FutureWarning: 'H' is deprecated and will be removed in a future version, please use 'h' instead.\n",
      "  df['hora_origen'] = df['fecha_origen_recorrido'].dt.floor('H')\n",
      "c:\\Users\\felic\\OneDrive\\Documentos\\GitHub\\TPsM-todos\\BA_BICIS_MyC\\src_data\\crear_dataset.py:27: FutureWarning: 'H' is deprecated and will be removed in a future version, please use 'h' instead.\n",
      "  df['hora_destino'] = df['fecha_destino_recorrido'].dt.floor('H')\n",
      "c:\\Users\\felic\\OneDrive\\Documentos\\GitHub\\TPsM-todos\\BA_BICIS_MyC\\src_data\\crear_dataset.py:34: FutureWarning: 'H' is deprecated and will be removed in a future version, please use 'h' instead.\n",
      "  fecha_min = df['fecha_origen_recorrido'].min().floor('H')\n",
      "c:\\Users\\felic\\OneDrive\\Documentos\\GitHub\\TPsM-todos\\BA_BICIS_MyC\\src_data\\crear_dataset.py:35: FutureWarning: 'H' is deprecated and will be removed in a future version, please use 'h' instead.\n",
      "  fecha_max = df['fecha_destino_recorrido'].max().floor('H')\n",
      "c:\\Users\\felic\\OneDrive\\Documentos\\GitHub\\TPsM-todos\\BA_BICIS_MyC\\src_data\\crear_dataset.py:38: FutureWarning: 'H' is deprecated and will be removed in a future version, please use 'h' instead.\n",
      "  horas_completas = pd.date_range(start=fecha_min, end=fecha_max, freq='H')\n"
     ]
    },
    {
     "name": "stdout",
     "output_type": "stream",
     "text": [
      "Procesando estación 93...\n"
     ]
    },
    {
     "name": "stderr",
     "output_type": "stream",
     "text": [
      "c:\\Users\\felic\\OneDrive\\Documentos\\GitHub\\TPsM-todos\\BA_BICIS_MyC\\src_data\\crear_dataset.py:26: FutureWarning: 'H' is deprecated and will be removed in a future version, please use 'h' instead.\n",
      "  df['hora_origen'] = df['fecha_origen_recorrido'].dt.floor('H')\n",
      "c:\\Users\\felic\\OneDrive\\Documentos\\GitHub\\TPsM-todos\\BA_BICIS_MyC\\src_data\\crear_dataset.py:27: FutureWarning: 'H' is deprecated and will be removed in a future version, please use 'h' instead.\n",
      "  df['hora_destino'] = df['fecha_destino_recorrido'].dt.floor('H')\n",
      "c:\\Users\\felic\\OneDrive\\Documentos\\GitHub\\TPsM-todos\\BA_BICIS_MyC\\src_data\\crear_dataset.py:34: FutureWarning: 'H' is deprecated and will be removed in a future version, please use 'h' instead.\n",
      "  fecha_min = df['fecha_origen_recorrido'].min().floor('H')\n",
      "c:\\Users\\felic\\OneDrive\\Documentos\\GitHub\\TPsM-todos\\BA_BICIS_MyC\\src_data\\crear_dataset.py:35: FutureWarning: 'H' is deprecated and will be removed in a future version, please use 'h' instead.\n",
      "  fecha_max = df['fecha_destino_recorrido'].max().floor('H')\n",
      "c:\\Users\\felic\\OneDrive\\Documentos\\GitHub\\TPsM-todos\\BA_BICIS_MyC\\src_data\\crear_dataset.py:38: FutureWarning: 'H' is deprecated and will be removed in a future version, please use 'h' instead.\n",
      "  horas_completas = pd.date_range(start=fecha_min, end=fecha_max, freq='H')\n"
     ]
    },
    {
     "name": "stdout",
     "output_type": "stream",
     "text": [
      "Procesando estación 94...\n"
     ]
    },
    {
     "name": "stderr",
     "output_type": "stream",
     "text": [
      "c:\\Users\\felic\\OneDrive\\Documentos\\GitHub\\TPsM-todos\\BA_BICIS_MyC\\src_data\\crear_dataset.py:26: FutureWarning: 'H' is deprecated and will be removed in a future version, please use 'h' instead.\n",
      "  df['hora_origen'] = df['fecha_origen_recorrido'].dt.floor('H')\n",
      "c:\\Users\\felic\\OneDrive\\Documentos\\GitHub\\TPsM-todos\\BA_BICIS_MyC\\src_data\\crear_dataset.py:27: FutureWarning: 'H' is deprecated and will be removed in a future version, please use 'h' instead.\n",
      "  df['hora_destino'] = df['fecha_destino_recorrido'].dt.floor('H')\n",
      "c:\\Users\\felic\\OneDrive\\Documentos\\GitHub\\TPsM-todos\\BA_BICIS_MyC\\src_data\\crear_dataset.py:34: FutureWarning: 'H' is deprecated and will be removed in a future version, please use 'h' instead.\n",
      "  fecha_min = df['fecha_origen_recorrido'].min().floor('H')\n",
      "c:\\Users\\felic\\OneDrive\\Documentos\\GitHub\\TPsM-todos\\BA_BICIS_MyC\\src_data\\crear_dataset.py:35: FutureWarning: 'H' is deprecated and will be removed in a future version, please use 'h' instead.\n",
      "  fecha_max = df['fecha_destino_recorrido'].max().floor('H')\n",
      "c:\\Users\\felic\\OneDrive\\Documentos\\GitHub\\TPsM-todos\\BA_BICIS_MyC\\src_data\\crear_dataset.py:38: FutureWarning: 'H' is deprecated and will be removed in a future version, please use 'h' instead.\n",
      "  horas_completas = pd.date_range(start=fecha_min, end=fecha_max, freq='H')\n"
     ]
    },
    {
     "name": "stdout",
     "output_type": "stream",
     "text": [
      "Procesando estación 95...\n"
     ]
    },
    {
     "name": "stderr",
     "output_type": "stream",
     "text": [
      "c:\\Users\\felic\\OneDrive\\Documentos\\GitHub\\TPsM-todos\\BA_BICIS_MyC\\src_data\\crear_dataset.py:26: FutureWarning: 'H' is deprecated and will be removed in a future version, please use 'h' instead.\n",
      "  df['hora_origen'] = df['fecha_origen_recorrido'].dt.floor('H')\n",
      "c:\\Users\\felic\\OneDrive\\Documentos\\GitHub\\TPsM-todos\\BA_BICIS_MyC\\src_data\\crear_dataset.py:27: FutureWarning: 'H' is deprecated and will be removed in a future version, please use 'h' instead.\n",
      "  df['hora_destino'] = df['fecha_destino_recorrido'].dt.floor('H')\n",
      "c:\\Users\\felic\\OneDrive\\Documentos\\GitHub\\TPsM-todos\\BA_BICIS_MyC\\src_data\\crear_dataset.py:34: FutureWarning: 'H' is deprecated and will be removed in a future version, please use 'h' instead.\n",
      "  fecha_min = df['fecha_origen_recorrido'].min().floor('H')\n",
      "c:\\Users\\felic\\OneDrive\\Documentos\\GitHub\\TPsM-todos\\BA_BICIS_MyC\\src_data\\crear_dataset.py:35: FutureWarning: 'H' is deprecated and will be removed in a future version, please use 'h' instead.\n",
      "  fecha_max = df['fecha_destino_recorrido'].max().floor('H')\n",
      "c:\\Users\\felic\\OneDrive\\Documentos\\GitHub\\TPsM-todos\\BA_BICIS_MyC\\src_data\\crear_dataset.py:38: FutureWarning: 'H' is deprecated and will be removed in a future version, please use 'h' instead.\n",
      "  horas_completas = pd.date_range(start=fecha_min, end=fecha_max, freq='H')\n"
     ]
    },
    {
     "name": "stdout",
     "output_type": "stream",
     "text": [
      "Procesando estación 96...\n"
     ]
    },
    {
     "name": "stderr",
     "output_type": "stream",
     "text": [
      "c:\\Users\\felic\\OneDrive\\Documentos\\GitHub\\TPsM-todos\\BA_BICIS_MyC\\src_data\\crear_dataset.py:26: FutureWarning: 'H' is deprecated and will be removed in a future version, please use 'h' instead.\n",
      "  df['hora_origen'] = df['fecha_origen_recorrido'].dt.floor('H')\n",
      "c:\\Users\\felic\\OneDrive\\Documentos\\GitHub\\TPsM-todos\\BA_BICIS_MyC\\src_data\\crear_dataset.py:27: FutureWarning: 'H' is deprecated and will be removed in a future version, please use 'h' instead.\n",
      "  df['hora_destino'] = df['fecha_destino_recorrido'].dt.floor('H')\n",
      "c:\\Users\\felic\\OneDrive\\Documentos\\GitHub\\TPsM-todos\\BA_BICIS_MyC\\src_data\\crear_dataset.py:34: FutureWarning: 'H' is deprecated and will be removed in a future version, please use 'h' instead.\n",
      "  fecha_min = df['fecha_origen_recorrido'].min().floor('H')\n",
      "c:\\Users\\felic\\OneDrive\\Documentos\\GitHub\\TPsM-todos\\BA_BICIS_MyC\\src_data\\crear_dataset.py:35: FutureWarning: 'H' is deprecated and will be removed in a future version, please use 'h' instead.\n",
      "  fecha_max = df['fecha_destino_recorrido'].max().floor('H')\n",
      "c:\\Users\\felic\\OneDrive\\Documentos\\GitHub\\TPsM-todos\\BA_BICIS_MyC\\src_data\\crear_dataset.py:38: FutureWarning: 'H' is deprecated and will be removed in a future version, please use 'h' instead.\n",
      "  horas_completas = pd.date_range(start=fecha_min, end=fecha_max, freq='H')\n"
     ]
    },
    {
     "name": "stdout",
     "output_type": "stream",
     "text": [
      "Procesando estación 98...\n"
     ]
    },
    {
     "name": "stderr",
     "output_type": "stream",
     "text": [
      "c:\\Users\\felic\\OneDrive\\Documentos\\GitHub\\TPsM-todos\\BA_BICIS_MyC\\src_data\\crear_dataset.py:26: FutureWarning: 'H' is deprecated and will be removed in a future version, please use 'h' instead.\n",
      "  df['hora_origen'] = df['fecha_origen_recorrido'].dt.floor('H')\n",
      "c:\\Users\\felic\\OneDrive\\Documentos\\GitHub\\TPsM-todos\\BA_BICIS_MyC\\src_data\\crear_dataset.py:27: FutureWarning: 'H' is deprecated and will be removed in a future version, please use 'h' instead.\n",
      "  df['hora_destino'] = df['fecha_destino_recorrido'].dt.floor('H')\n",
      "c:\\Users\\felic\\OneDrive\\Documentos\\GitHub\\TPsM-todos\\BA_BICIS_MyC\\src_data\\crear_dataset.py:34: FutureWarning: 'H' is deprecated and will be removed in a future version, please use 'h' instead.\n",
      "  fecha_min = df['fecha_origen_recorrido'].min().floor('H')\n",
      "c:\\Users\\felic\\OneDrive\\Documentos\\GitHub\\TPsM-todos\\BA_BICIS_MyC\\src_data\\crear_dataset.py:35: FutureWarning: 'H' is deprecated and will be removed in a future version, please use 'h' instead.\n",
      "  fecha_max = df['fecha_destino_recorrido'].max().floor('H')\n",
      "c:\\Users\\felic\\OneDrive\\Documentos\\GitHub\\TPsM-todos\\BA_BICIS_MyC\\src_data\\crear_dataset.py:38: FutureWarning: 'H' is deprecated and will be removed in a future version, please use 'h' instead.\n",
      "  horas_completas = pd.date_range(start=fecha_min, end=fecha_max, freq='H')\n"
     ]
    },
    {
     "name": "stdout",
     "output_type": "stream",
     "text": [
      "Procesando estación 99...\n"
     ]
    },
    {
     "name": "stderr",
     "output_type": "stream",
     "text": [
      "c:\\Users\\felic\\OneDrive\\Documentos\\GitHub\\TPsM-todos\\BA_BICIS_MyC\\src_data\\crear_dataset.py:26: FutureWarning: 'H' is deprecated and will be removed in a future version, please use 'h' instead.\n",
      "  df['hora_origen'] = df['fecha_origen_recorrido'].dt.floor('H')\n",
      "c:\\Users\\felic\\OneDrive\\Documentos\\GitHub\\TPsM-todos\\BA_BICIS_MyC\\src_data\\crear_dataset.py:27: FutureWarning: 'H' is deprecated and will be removed in a future version, please use 'h' instead.\n",
      "  df['hora_destino'] = df['fecha_destino_recorrido'].dt.floor('H')\n",
      "c:\\Users\\felic\\OneDrive\\Documentos\\GitHub\\TPsM-todos\\BA_BICIS_MyC\\src_data\\crear_dataset.py:34: FutureWarning: 'H' is deprecated and will be removed in a future version, please use 'h' instead.\n",
      "  fecha_min = df['fecha_origen_recorrido'].min().floor('H')\n",
      "c:\\Users\\felic\\OneDrive\\Documentos\\GitHub\\TPsM-todos\\BA_BICIS_MyC\\src_data\\crear_dataset.py:35: FutureWarning: 'H' is deprecated and will be removed in a future version, please use 'h' instead.\n",
      "  fecha_max = df['fecha_destino_recorrido'].max().floor('H')\n",
      "c:\\Users\\felic\\OneDrive\\Documentos\\GitHub\\TPsM-todos\\BA_BICIS_MyC\\src_data\\crear_dataset.py:38: FutureWarning: 'H' is deprecated and will be removed in a future version, please use 'h' instead.\n",
      "  horas_completas = pd.date_range(start=fecha_min, end=fecha_max, freq='H')\n"
     ]
    },
    {
     "name": "stdout",
     "output_type": "stream",
     "text": [
      "Procesando estación 101...\n"
     ]
    },
    {
     "name": "stderr",
     "output_type": "stream",
     "text": [
      "c:\\Users\\felic\\OneDrive\\Documentos\\GitHub\\TPsM-todos\\BA_BICIS_MyC\\src_data\\crear_dataset.py:26: FutureWarning: 'H' is deprecated and will be removed in a future version, please use 'h' instead.\n",
      "  df['hora_origen'] = df['fecha_origen_recorrido'].dt.floor('H')\n",
      "c:\\Users\\felic\\OneDrive\\Documentos\\GitHub\\TPsM-todos\\BA_BICIS_MyC\\src_data\\crear_dataset.py:27: FutureWarning: 'H' is deprecated and will be removed in a future version, please use 'h' instead.\n",
      "  df['hora_destino'] = df['fecha_destino_recorrido'].dt.floor('H')\n",
      "c:\\Users\\felic\\OneDrive\\Documentos\\GitHub\\TPsM-todos\\BA_BICIS_MyC\\src_data\\crear_dataset.py:34: FutureWarning: 'H' is deprecated and will be removed in a future version, please use 'h' instead.\n",
      "  fecha_min = df['fecha_origen_recorrido'].min().floor('H')\n",
      "c:\\Users\\felic\\OneDrive\\Documentos\\GitHub\\TPsM-todos\\BA_BICIS_MyC\\src_data\\crear_dataset.py:35: FutureWarning: 'H' is deprecated and will be removed in a future version, please use 'h' instead.\n",
      "  fecha_max = df['fecha_destino_recorrido'].max().floor('H')\n",
      "c:\\Users\\felic\\OneDrive\\Documentos\\GitHub\\TPsM-todos\\BA_BICIS_MyC\\src_data\\crear_dataset.py:38: FutureWarning: 'H' is deprecated and will be removed in a future version, please use 'h' instead.\n",
      "  horas_completas = pd.date_range(start=fecha_min, end=fecha_max, freq='H')\n"
     ]
    },
    {
     "name": "stdout",
     "output_type": "stream",
     "text": [
      "Procesando estación 102...\n"
     ]
    },
    {
     "name": "stderr",
     "output_type": "stream",
     "text": [
      "c:\\Users\\felic\\OneDrive\\Documentos\\GitHub\\TPsM-todos\\BA_BICIS_MyC\\src_data\\crear_dataset.py:26: FutureWarning: 'H' is deprecated and will be removed in a future version, please use 'h' instead.\n",
      "  df['hora_origen'] = df['fecha_origen_recorrido'].dt.floor('H')\n",
      "c:\\Users\\felic\\OneDrive\\Documentos\\GitHub\\TPsM-todos\\BA_BICIS_MyC\\src_data\\crear_dataset.py:27: FutureWarning: 'H' is deprecated and will be removed in a future version, please use 'h' instead.\n",
      "  df['hora_destino'] = df['fecha_destino_recorrido'].dt.floor('H')\n",
      "c:\\Users\\felic\\OneDrive\\Documentos\\GitHub\\TPsM-todos\\BA_BICIS_MyC\\src_data\\crear_dataset.py:34: FutureWarning: 'H' is deprecated and will be removed in a future version, please use 'h' instead.\n",
      "  fecha_min = df['fecha_origen_recorrido'].min().floor('H')\n",
      "c:\\Users\\felic\\OneDrive\\Documentos\\GitHub\\TPsM-todos\\BA_BICIS_MyC\\src_data\\crear_dataset.py:35: FutureWarning: 'H' is deprecated and will be removed in a future version, please use 'h' instead.\n",
      "  fecha_max = df['fecha_destino_recorrido'].max().floor('H')\n",
      "c:\\Users\\felic\\OneDrive\\Documentos\\GitHub\\TPsM-todos\\BA_BICIS_MyC\\src_data\\crear_dataset.py:38: FutureWarning: 'H' is deprecated and will be removed in a future version, please use 'h' instead.\n",
      "  horas_completas = pd.date_range(start=fecha_min, end=fecha_max, freq='H')\n"
     ]
    },
    {
     "name": "stdout",
     "output_type": "stream",
     "text": [
      "Procesando estación 104...\n"
     ]
    },
    {
     "name": "stderr",
     "output_type": "stream",
     "text": [
      "c:\\Users\\felic\\OneDrive\\Documentos\\GitHub\\TPsM-todos\\BA_BICIS_MyC\\src_data\\crear_dataset.py:26: FutureWarning: 'H' is deprecated and will be removed in a future version, please use 'h' instead.\n",
      "  df['hora_origen'] = df['fecha_origen_recorrido'].dt.floor('H')\n",
      "c:\\Users\\felic\\OneDrive\\Documentos\\GitHub\\TPsM-todos\\BA_BICIS_MyC\\src_data\\crear_dataset.py:27: FutureWarning: 'H' is deprecated and will be removed in a future version, please use 'h' instead.\n",
      "  df['hora_destino'] = df['fecha_destino_recorrido'].dt.floor('H')\n",
      "c:\\Users\\felic\\OneDrive\\Documentos\\GitHub\\TPsM-todos\\BA_BICIS_MyC\\src_data\\crear_dataset.py:34: FutureWarning: 'H' is deprecated and will be removed in a future version, please use 'h' instead.\n",
      "  fecha_min = df['fecha_origen_recorrido'].min().floor('H')\n",
      "c:\\Users\\felic\\OneDrive\\Documentos\\GitHub\\TPsM-todos\\BA_BICIS_MyC\\src_data\\crear_dataset.py:35: FutureWarning: 'H' is deprecated and will be removed in a future version, please use 'h' instead.\n",
      "  fecha_max = df['fecha_destino_recorrido'].max().floor('H')\n",
      "c:\\Users\\felic\\OneDrive\\Documentos\\GitHub\\TPsM-todos\\BA_BICIS_MyC\\src_data\\crear_dataset.py:38: FutureWarning: 'H' is deprecated and will be removed in a future version, please use 'h' instead.\n",
      "  horas_completas = pd.date_range(start=fecha_min, end=fecha_max, freq='H')\n"
     ]
    },
    {
     "name": "stdout",
     "output_type": "stream",
     "text": [
      "Procesando estación 105...\n"
     ]
    },
    {
     "name": "stderr",
     "output_type": "stream",
     "text": [
      "c:\\Users\\felic\\OneDrive\\Documentos\\GitHub\\TPsM-todos\\BA_BICIS_MyC\\src_data\\crear_dataset.py:26: FutureWarning: 'H' is deprecated and will be removed in a future version, please use 'h' instead.\n",
      "  df['hora_origen'] = df['fecha_origen_recorrido'].dt.floor('H')\n",
      "c:\\Users\\felic\\OneDrive\\Documentos\\GitHub\\TPsM-todos\\BA_BICIS_MyC\\src_data\\crear_dataset.py:27: FutureWarning: 'H' is deprecated and will be removed in a future version, please use 'h' instead.\n",
      "  df['hora_destino'] = df['fecha_destino_recorrido'].dt.floor('H')\n",
      "c:\\Users\\felic\\OneDrive\\Documentos\\GitHub\\TPsM-todos\\BA_BICIS_MyC\\src_data\\crear_dataset.py:34: FutureWarning: 'H' is deprecated and will be removed in a future version, please use 'h' instead.\n",
      "  fecha_min = df['fecha_origen_recorrido'].min().floor('H')\n",
      "c:\\Users\\felic\\OneDrive\\Documentos\\GitHub\\TPsM-todos\\BA_BICIS_MyC\\src_data\\crear_dataset.py:35: FutureWarning: 'H' is deprecated and will be removed in a future version, please use 'h' instead.\n",
      "  fecha_max = df['fecha_destino_recorrido'].max().floor('H')\n",
      "c:\\Users\\felic\\OneDrive\\Documentos\\GitHub\\TPsM-todos\\BA_BICIS_MyC\\src_data\\crear_dataset.py:38: FutureWarning: 'H' is deprecated and will be removed in a future version, please use 'h' instead.\n",
      "  horas_completas = pd.date_range(start=fecha_min, end=fecha_max, freq='H')\n"
     ]
    },
    {
     "name": "stdout",
     "output_type": "stream",
     "text": [
      "Procesando estación 107...\n"
     ]
    },
    {
     "name": "stderr",
     "output_type": "stream",
     "text": [
      "c:\\Users\\felic\\OneDrive\\Documentos\\GitHub\\TPsM-todos\\BA_BICIS_MyC\\src_data\\crear_dataset.py:26: FutureWarning: 'H' is deprecated and will be removed in a future version, please use 'h' instead.\n",
      "  df['hora_origen'] = df['fecha_origen_recorrido'].dt.floor('H')\n",
      "c:\\Users\\felic\\OneDrive\\Documentos\\GitHub\\TPsM-todos\\BA_BICIS_MyC\\src_data\\crear_dataset.py:27: FutureWarning: 'H' is deprecated and will be removed in a future version, please use 'h' instead.\n",
      "  df['hora_destino'] = df['fecha_destino_recorrido'].dt.floor('H')\n",
      "c:\\Users\\felic\\OneDrive\\Documentos\\GitHub\\TPsM-todos\\BA_BICIS_MyC\\src_data\\crear_dataset.py:34: FutureWarning: 'H' is deprecated and will be removed in a future version, please use 'h' instead.\n",
      "  fecha_min = df['fecha_origen_recorrido'].min().floor('H')\n",
      "c:\\Users\\felic\\OneDrive\\Documentos\\GitHub\\TPsM-todos\\BA_BICIS_MyC\\src_data\\crear_dataset.py:35: FutureWarning: 'H' is deprecated and will be removed in a future version, please use 'h' instead.\n",
      "  fecha_max = df['fecha_destino_recorrido'].max().floor('H')\n",
      "c:\\Users\\felic\\OneDrive\\Documentos\\GitHub\\TPsM-todos\\BA_BICIS_MyC\\src_data\\crear_dataset.py:38: FutureWarning: 'H' is deprecated and will be removed in a future version, please use 'h' instead.\n",
      "  horas_completas = pd.date_range(start=fecha_min, end=fecha_max, freq='H')\n"
     ]
    },
    {
     "name": "stdout",
     "output_type": "stream",
     "text": [
      "Procesando estación 111...\n"
     ]
    },
    {
     "name": "stderr",
     "output_type": "stream",
     "text": [
      "c:\\Users\\felic\\OneDrive\\Documentos\\GitHub\\TPsM-todos\\BA_BICIS_MyC\\src_data\\crear_dataset.py:26: FutureWarning: 'H' is deprecated and will be removed in a future version, please use 'h' instead.\n",
      "  df['hora_origen'] = df['fecha_origen_recorrido'].dt.floor('H')\n",
      "c:\\Users\\felic\\OneDrive\\Documentos\\GitHub\\TPsM-todos\\BA_BICIS_MyC\\src_data\\crear_dataset.py:27: FutureWarning: 'H' is deprecated and will be removed in a future version, please use 'h' instead.\n",
      "  df['hora_destino'] = df['fecha_destino_recorrido'].dt.floor('H')\n",
      "c:\\Users\\felic\\OneDrive\\Documentos\\GitHub\\TPsM-todos\\BA_BICIS_MyC\\src_data\\crear_dataset.py:34: FutureWarning: 'H' is deprecated and will be removed in a future version, please use 'h' instead.\n",
      "  fecha_min = df['fecha_origen_recorrido'].min().floor('H')\n",
      "c:\\Users\\felic\\OneDrive\\Documentos\\GitHub\\TPsM-todos\\BA_BICIS_MyC\\src_data\\crear_dataset.py:35: FutureWarning: 'H' is deprecated and will be removed in a future version, please use 'h' instead.\n",
      "  fecha_max = df['fecha_destino_recorrido'].max().floor('H')\n",
      "c:\\Users\\felic\\OneDrive\\Documentos\\GitHub\\TPsM-todos\\BA_BICIS_MyC\\src_data\\crear_dataset.py:38: FutureWarning: 'H' is deprecated and will be removed in a future version, please use 'h' instead.\n",
      "  horas_completas = pd.date_range(start=fecha_min, end=fecha_max, freq='H')\n"
     ]
    },
    {
     "name": "stdout",
     "output_type": "stream",
     "text": [
      "Procesando estación 112...\n"
     ]
    },
    {
     "name": "stderr",
     "output_type": "stream",
     "text": [
      "c:\\Users\\felic\\OneDrive\\Documentos\\GitHub\\TPsM-todos\\BA_BICIS_MyC\\src_data\\crear_dataset.py:26: FutureWarning: 'H' is deprecated and will be removed in a future version, please use 'h' instead.\n",
      "  df['hora_origen'] = df['fecha_origen_recorrido'].dt.floor('H')\n",
      "c:\\Users\\felic\\OneDrive\\Documentos\\GitHub\\TPsM-todos\\BA_BICIS_MyC\\src_data\\crear_dataset.py:27: FutureWarning: 'H' is deprecated and will be removed in a future version, please use 'h' instead.\n",
      "  df['hora_destino'] = df['fecha_destino_recorrido'].dt.floor('H')\n",
      "c:\\Users\\felic\\OneDrive\\Documentos\\GitHub\\TPsM-todos\\BA_BICIS_MyC\\src_data\\crear_dataset.py:34: FutureWarning: 'H' is deprecated and will be removed in a future version, please use 'h' instead.\n",
      "  fecha_min = df['fecha_origen_recorrido'].min().floor('H')\n",
      "c:\\Users\\felic\\OneDrive\\Documentos\\GitHub\\TPsM-todos\\BA_BICIS_MyC\\src_data\\crear_dataset.py:35: FutureWarning: 'H' is deprecated and will be removed in a future version, please use 'h' instead.\n",
      "  fecha_max = df['fecha_destino_recorrido'].max().floor('H')\n",
      "c:\\Users\\felic\\OneDrive\\Documentos\\GitHub\\TPsM-todos\\BA_BICIS_MyC\\src_data\\crear_dataset.py:38: FutureWarning: 'H' is deprecated and will be removed in a future version, please use 'h' instead.\n",
      "  horas_completas = pd.date_range(start=fecha_min, end=fecha_max, freq='H')\n"
     ]
    },
    {
     "name": "stdout",
     "output_type": "stream",
     "text": [
      "Procesando estación 114...\n"
     ]
    },
    {
     "name": "stderr",
     "output_type": "stream",
     "text": [
      "c:\\Users\\felic\\OneDrive\\Documentos\\GitHub\\TPsM-todos\\BA_BICIS_MyC\\src_data\\crear_dataset.py:26: FutureWarning: 'H' is deprecated and will be removed in a future version, please use 'h' instead.\n",
      "  df['hora_origen'] = df['fecha_origen_recorrido'].dt.floor('H')\n",
      "c:\\Users\\felic\\OneDrive\\Documentos\\GitHub\\TPsM-todos\\BA_BICIS_MyC\\src_data\\crear_dataset.py:27: FutureWarning: 'H' is deprecated and will be removed in a future version, please use 'h' instead.\n",
      "  df['hora_destino'] = df['fecha_destino_recorrido'].dt.floor('H')\n",
      "c:\\Users\\felic\\OneDrive\\Documentos\\GitHub\\TPsM-todos\\BA_BICIS_MyC\\src_data\\crear_dataset.py:34: FutureWarning: 'H' is deprecated and will be removed in a future version, please use 'h' instead.\n",
      "  fecha_min = df['fecha_origen_recorrido'].min().floor('H')\n",
      "c:\\Users\\felic\\OneDrive\\Documentos\\GitHub\\TPsM-todos\\BA_BICIS_MyC\\src_data\\crear_dataset.py:35: FutureWarning: 'H' is deprecated and will be removed in a future version, please use 'h' instead.\n",
      "  fecha_max = df['fecha_destino_recorrido'].max().floor('H')\n",
      "c:\\Users\\felic\\OneDrive\\Documentos\\GitHub\\TPsM-todos\\BA_BICIS_MyC\\src_data\\crear_dataset.py:38: FutureWarning: 'H' is deprecated and will be removed in a future version, please use 'h' instead.\n",
      "  horas_completas = pd.date_range(start=fecha_min, end=fecha_max, freq='H')\n"
     ]
    },
    {
     "name": "stdout",
     "output_type": "stream",
     "text": [
      "Procesando estación 116...\n"
     ]
    },
    {
     "name": "stderr",
     "output_type": "stream",
     "text": [
      "c:\\Users\\felic\\OneDrive\\Documentos\\GitHub\\TPsM-todos\\BA_BICIS_MyC\\src_data\\crear_dataset.py:26: FutureWarning: 'H' is deprecated and will be removed in a future version, please use 'h' instead.\n",
      "  df['hora_origen'] = df['fecha_origen_recorrido'].dt.floor('H')\n",
      "c:\\Users\\felic\\OneDrive\\Documentos\\GitHub\\TPsM-todos\\BA_BICIS_MyC\\src_data\\crear_dataset.py:27: FutureWarning: 'H' is deprecated and will be removed in a future version, please use 'h' instead.\n",
      "  df['hora_destino'] = df['fecha_destino_recorrido'].dt.floor('H')\n",
      "c:\\Users\\felic\\OneDrive\\Documentos\\GitHub\\TPsM-todos\\BA_BICIS_MyC\\src_data\\crear_dataset.py:34: FutureWarning: 'H' is deprecated and will be removed in a future version, please use 'h' instead.\n",
      "  fecha_min = df['fecha_origen_recorrido'].min().floor('H')\n",
      "c:\\Users\\felic\\OneDrive\\Documentos\\GitHub\\TPsM-todos\\BA_BICIS_MyC\\src_data\\crear_dataset.py:35: FutureWarning: 'H' is deprecated and will be removed in a future version, please use 'h' instead.\n",
      "  fecha_max = df['fecha_destino_recorrido'].max().floor('H')\n",
      "c:\\Users\\felic\\OneDrive\\Documentos\\GitHub\\TPsM-todos\\BA_BICIS_MyC\\src_data\\crear_dataset.py:38: FutureWarning: 'H' is deprecated and will be removed in a future version, please use 'h' instead.\n",
      "  horas_completas = pd.date_range(start=fecha_min, end=fecha_max, freq='H')\n"
     ]
    },
    {
     "name": "stdout",
     "output_type": "stream",
     "text": [
      "Procesando estación 117...\n"
     ]
    },
    {
     "name": "stderr",
     "output_type": "stream",
     "text": [
      "c:\\Users\\felic\\OneDrive\\Documentos\\GitHub\\TPsM-todos\\BA_BICIS_MyC\\src_data\\crear_dataset.py:26: FutureWarning: 'H' is deprecated and will be removed in a future version, please use 'h' instead.\n",
      "  df['hora_origen'] = df['fecha_origen_recorrido'].dt.floor('H')\n",
      "c:\\Users\\felic\\OneDrive\\Documentos\\GitHub\\TPsM-todos\\BA_BICIS_MyC\\src_data\\crear_dataset.py:27: FutureWarning: 'H' is deprecated and will be removed in a future version, please use 'h' instead.\n",
      "  df['hora_destino'] = df['fecha_destino_recorrido'].dt.floor('H')\n",
      "c:\\Users\\felic\\OneDrive\\Documentos\\GitHub\\TPsM-todos\\BA_BICIS_MyC\\src_data\\crear_dataset.py:34: FutureWarning: 'H' is deprecated and will be removed in a future version, please use 'h' instead.\n",
      "  fecha_min = df['fecha_origen_recorrido'].min().floor('H')\n",
      "c:\\Users\\felic\\OneDrive\\Documentos\\GitHub\\TPsM-todos\\BA_BICIS_MyC\\src_data\\crear_dataset.py:35: FutureWarning: 'H' is deprecated and will be removed in a future version, please use 'h' instead.\n",
      "  fecha_max = df['fecha_destino_recorrido'].max().floor('H')\n",
      "c:\\Users\\felic\\OneDrive\\Documentos\\GitHub\\TPsM-todos\\BA_BICIS_MyC\\src_data\\crear_dataset.py:38: FutureWarning: 'H' is deprecated and will be removed in a future version, please use 'h' instead.\n",
      "  horas_completas = pd.date_range(start=fecha_min, end=fecha_max, freq='H')\n"
     ]
    },
    {
     "name": "stdout",
     "output_type": "stream",
     "text": [
      "Procesando estación 118...\n"
     ]
    },
    {
     "name": "stderr",
     "output_type": "stream",
     "text": [
      "c:\\Users\\felic\\OneDrive\\Documentos\\GitHub\\TPsM-todos\\BA_BICIS_MyC\\src_data\\crear_dataset.py:26: FutureWarning: 'H' is deprecated and will be removed in a future version, please use 'h' instead.\n",
      "  df['hora_origen'] = df['fecha_origen_recorrido'].dt.floor('H')\n",
      "c:\\Users\\felic\\OneDrive\\Documentos\\GitHub\\TPsM-todos\\BA_BICIS_MyC\\src_data\\crear_dataset.py:27: FutureWarning: 'H' is deprecated and will be removed in a future version, please use 'h' instead.\n",
      "  df['hora_destino'] = df['fecha_destino_recorrido'].dt.floor('H')\n",
      "c:\\Users\\felic\\OneDrive\\Documentos\\GitHub\\TPsM-todos\\BA_BICIS_MyC\\src_data\\crear_dataset.py:34: FutureWarning: 'H' is deprecated and will be removed in a future version, please use 'h' instead.\n",
      "  fecha_min = df['fecha_origen_recorrido'].min().floor('H')\n",
      "c:\\Users\\felic\\OneDrive\\Documentos\\GitHub\\TPsM-todos\\BA_BICIS_MyC\\src_data\\crear_dataset.py:35: FutureWarning: 'H' is deprecated and will be removed in a future version, please use 'h' instead.\n",
      "  fecha_max = df['fecha_destino_recorrido'].max().floor('H')\n",
      "c:\\Users\\felic\\OneDrive\\Documentos\\GitHub\\TPsM-todos\\BA_BICIS_MyC\\src_data\\crear_dataset.py:38: FutureWarning: 'H' is deprecated and will be removed in a future version, please use 'h' instead.\n",
      "  horas_completas = pd.date_range(start=fecha_min, end=fecha_max, freq='H')\n"
     ]
    },
    {
     "name": "stdout",
     "output_type": "stream",
     "text": [
      "Procesando estación 120...\n"
     ]
    },
    {
     "name": "stderr",
     "output_type": "stream",
     "text": [
      "c:\\Users\\felic\\OneDrive\\Documentos\\GitHub\\TPsM-todos\\BA_BICIS_MyC\\src_data\\crear_dataset.py:26: FutureWarning: 'H' is deprecated and will be removed in a future version, please use 'h' instead.\n",
      "  df['hora_origen'] = df['fecha_origen_recorrido'].dt.floor('H')\n",
      "c:\\Users\\felic\\OneDrive\\Documentos\\GitHub\\TPsM-todos\\BA_BICIS_MyC\\src_data\\crear_dataset.py:27: FutureWarning: 'H' is deprecated and will be removed in a future version, please use 'h' instead.\n",
      "  df['hora_destino'] = df['fecha_destino_recorrido'].dt.floor('H')\n",
      "c:\\Users\\felic\\OneDrive\\Documentos\\GitHub\\TPsM-todos\\BA_BICIS_MyC\\src_data\\crear_dataset.py:34: FutureWarning: 'H' is deprecated and will be removed in a future version, please use 'h' instead.\n",
      "  fecha_min = df['fecha_origen_recorrido'].min().floor('H')\n",
      "c:\\Users\\felic\\OneDrive\\Documentos\\GitHub\\TPsM-todos\\BA_BICIS_MyC\\src_data\\crear_dataset.py:35: FutureWarning: 'H' is deprecated and will be removed in a future version, please use 'h' instead.\n",
      "  fecha_max = df['fecha_destino_recorrido'].max().floor('H')\n",
      "c:\\Users\\felic\\OneDrive\\Documentos\\GitHub\\TPsM-todos\\BA_BICIS_MyC\\src_data\\crear_dataset.py:38: FutureWarning: 'H' is deprecated and will be removed in a future version, please use 'h' instead.\n",
      "  horas_completas = pd.date_range(start=fecha_min, end=fecha_max, freq='H')\n"
     ]
    },
    {
     "name": "stdout",
     "output_type": "stream",
     "text": [
      "Procesando estación 121...\n"
     ]
    },
    {
     "name": "stderr",
     "output_type": "stream",
     "text": [
      "c:\\Users\\felic\\OneDrive\\Documentos\\GitHub\\TPsM-todos\\BA_BICIS_MyC\\src_data\\crear_dataset.py:26: FutureWarning: 'H' is deprecated and will be removed in a future version, please use 'h' instead.\n",
      "  df['hora_origen'] = df['fecha_origen_recorrido'].dt.floor('H')\n",
      "c:\\Users\\felic\\OneDrive\\Documentos\\GitHub\\TPsM-todos\\BA_BICIS_MyC\\src_data\\crear_dataset.py:27: FutureWarning: 'H' is deprecated and will be removed in a future version, please use 'h' instead.\n",
      "  df['hora_destino'] = df['fecha_destino_recorrido'].dt.floor('H')\n",
      "c:\\Users\\felic\\OneDrive\\Documentos\\GitHub\\TPsM-todos\\BA_BICIS_MyC\\src_data\\crear_dataset.py:34: FutureWarning: 'H' is deprecated and will be removed in a future version, please use 'h' instead.\n",
      "  fecha_min = df['fecha_origen_recorrido'].min().floor('H')\n",
      "c:\\Users\\felic\\OneDrive\\Documentos\\GitHub\\TPsM-todos\\BA_BICIS_MyC\\src_data\\crear_dataset.py:35: FutureWarning: 'H' is deprecated and will be removed in a future version, please use 'h' instead.\n",
      "  fecha_max = df['fecha_destino_recorrido'].max().floor('H')\n",
      "c:\\Users\\felic\\OneDrive\\Documentos\\GitHub\\TPsM-todos\\BA_BICIS_MyC\\src_data\\crear_dataset.py:38: FutureWarning: 'H' is deprecated and will be removed in a future version, please use 'h' instead.\n",
      "  horas_completas = pd.date_range(start=fecha_min, end=fecha_max, freq='H')\n"
     ]
    },
    {
     "name": "stdout",
     "output_type": "stream",
     "text": [
      "Procesando estación 122...\n"
     ]
    },
    {
     "name": "stderr",
     "output_type": "stream",
     "text": [
      "c:\\Users\\felic\\OneDrive\\Documentos\\GitHub\\TPsM-todos\\BA_BICIS_MyC\\src_data\\crear_dataset.py:26: FutureWarning: 'H' is deprecated and will be removed in a future version, please use 'h' instead.\n",
      "  df['hora_origen'] = df['fecha_origen_recorrido'].dt.floor('H')\n",
      "c:\\Users\\felic\\OneDrive\\Documentos\\GitHub\\TPsM-todos\\BA_BICIS_MyC\\src_data\\crear_dataset.py:27: FutureWarning: 'H' is deprecated and will be removed in a future version, please use 'h' instead.\n",
      "  df['hora_destino'] = df['fecha_destino_recorrido'].dt.floor('H')\n",
      "c:\\Users\\felic\\OneDrive\\Documentos\\GitHub\\TPsM-todos\\BA_BICIS_MyC\\src_data\\crear_dataset.py:34: FutureWarning: 'H' is deprecated and will be removed in a future version, please use 'h' instead.\n",
      "  fecha_min = df['fecha_origen_recorrido'].min().floor('H')\n",
      "c:\\Users\\felic\\OneDrive\\Documentos\\GitHub\\TPsM-todos\\BA_BICIS_MyC\\src_data\\crear_dataset.py:35: FutureWarning: 'H' is deprecated and will be removed in a future version, please use 'h' instead.\n",
      "  fecha_max = df['fecha_destino_recorrido'].max().floor('H')\n",
      "c:\\Users\\felic\\OneDrive\\Documentos\\GitHub\\TPsM-todos\\BA_BICIS_MyC\\src_data\\crear_dataset.py:38: FutureWarning: 'H' is deprecated and will be removed in a future version, please use 'h' instead.\n",
      "  horas_completas = pd.date_range(start=fecha_min, end=fecha_max, freq='H')\n"
     ]
    },
    {
     "name": "stdout",
     "output_type": "stream",
     "text": [
      "Procesando estación 124...\n"
     ]
    },
    {
     "name": "stderr",
     "output_type": "stream",
     "text": [
      "c:\\Users\\felic\\OneDrive\\Documentos\\GitHub\\TPsM-todos\\BA_BICIS_MyC\\src_data\\crear_dataset.py:26: FutureWarning: 'H' is deprecated and will be removed in a future version, please use 'h' instead.\n",
      "  df['hora_origen'] = df['fecha_origen_recorrido'].dt.floor('H')\n",
      "c:\\Users\\felic\\OneDrive\\Documentos\\GitHub\\TPsM-todos\\BA_BICIS_MyC\\src_data\\crear_dataset.py:27: FutureWarning: 'H' is deprecated and will be removed in a future version, please use 'h' instead.\n",
      "  df['hora_destino'] = df['fecha_destino_recorrido'].dt.floor('H')\n",
      "c:\\Users\\felic\\OneDrive\\Documentos\\GitHub\\TPsM-todos\\BA_BICIS_MyC\\src_data\\crear_dataset.py:34: FutureWarning: 'H' is deprecated and will be removed in a future version, please use 'h' instead.\n",
      "  fecha_min = df['fecha_origen_recorrido'].min().floor('H')\n",
      "c:\\Users\\felic\\OneDrive\\Documentos\\GitHub\\TPsM-todos\\BA_BICIS_MyC\\src_data\\crear_dataset.py:35: FutureWarning: 'H' is deprecated and will be removed in a future version, please use 'h' instead.\n",
      "  fecha_max = df['fecha_destino_recorrido'].max().floor('H')\n",
      "c:\\Users\\felic\\OneDrive\\Documentos\\GitHub\\TPsM-todos\\BA_BICIS_MyC\\src_data\\crear_dataset.py:38: FutureWarning: 'H' is deprecated and will be removed in a future version, please use 'h' instead.\n",
      "  horas_completas = pd.date_range(start=fecha_min, end=fecha_max, freq='H')\n"
     ]
    },
    {
     "name": "stdout",
     "output_type": "stream",
     "text": [
      "Procesando estación 126...\n"
     ]
    },
    {
     "name": "stderr",
     "output_type": "stream",
     "text": [
      "c:\\Users\\felic\\OneDrive\\Documentos\\GitHub\\TPsM-todos\\BA_BICIS_MyC\\src_data\\crear_dataset.py:26: FutureWarning: 'H' is deprecated and will be removed in a future version, please use 'h' instead.\n",
      "  df['hora_origen'] = df['fecha_origen_recorrido'].dt.floor('H')\n",
      "c:\\Users\\felic\\OneDrive\\Documentos\\GitHub\\TPsM-todos\\BA_BICIS_MyC\\src_data\\crear_dataset.py:27: FutureWarning: 'H' is deprecated and will be removed in a future version, please use 'h' instead.\n",
      "  df['hora_destino'] = df['fecha_destino_recorrido'].dt.floor('H')\n",
      "c:\\Users\\felic\\OneDrive\\Documentos\\GitHub\\TPsM-todos\\BA_BICIS_MyC\\src_data\\crear_dataset.py:34: FutureWarning: 'H' is deprecated and will be removed in a future version, please use 'h' instead.\n",
      "  fecha_min = df['fecha_origen_recorrido'].min().floor('H')\n",
      "c:\\Users\\felic\\OneDrive\\Documentos\\GitHub\\TPsM-todos\\BA_BICIS_MyC\\src_data\\crear_dataset.py:35: FutureWarning: 'H' is deprecated and will be removed in a future version, please use 'h' instead.\n",
      "  fecha_max = df['fecha_destino_recorrido'].max().floor('H')\n",
      "c:\\Users\\felic\\OneDrive\\Documentos\\GitHub\\TPsM-todos\\BA_BICIS_MyC\\src_data\\crear_dataset.py:38: FutureWarning: 'H' is deprecated and will be removed in a future version, please use 'h' instead.\n",
      "  horas_completas = pd.date_range(start=fecha_min, end=fecha_max, freq='H')\n"
     ]
    },
    {
     "name": "stdout",
     "output_type": "stream",
     "text": [
      "Procesando estación 128...\n"
     ]
    },
    {
     "name": "stderr",
     "output_type": "stream",
     "text": [
      "c:\\Users\\felic\\OneDrive\\Documentos\\GitHub\\TPsM-todos\\BA_BICIS_MyC\\src_data\\crear_dataset.py:26: FutureWarning: 'H' is deprecated and will be removed in a future version, please use 'h' instead.\n",
      "  df['hora_origen'] = df['fecha_origen_recorrido'].dt.floor('H')\n",
      "c:\\Users\\felic\\OneDrive\\Documentos\\GitHub\\TPsM-todos\\BA_BICIS_MyC\\src_data\\crear_dataset.py:27: FutureWarning: 'H' is deprecated and will be removed in a future version, please use 'h' instead.\n",
      "  df['hora_destino'] = df['fecha_destino_recorrido'].dt.floor('H')\n",
      "c:\\Users\\felic\\OneDrive\\Documentos\\GitHub\\TPsM-todos\\BA_BICIS_MyC\\src_data\\crear_dataset.py:34: FutureWarning: 'H' is deprecated and will be removed in a future version, please use 'h' instead.\n",
      "  fecha_min = df['fecha_origen_recorrido'].min().floor('H')\n",
      "c:\\Users\\felic\\OneDrive\\Documentos\\GitHub\\TPsM-todos\\BA_BICIS_MyC\\src_data\\crear_dataset.py:35: FutureWarning: 'H' is deprecated and will be removed in a future version, please use 'h' instead.\n",
      "  fecha_max = df['fecha_destino_recorrido'].max().floor('H')\n",
      "c:\\Users\\felic\\OneDrive\\Documentos\\GitHub\\TPsM-todos\\BA_BICIS_MyC\\src_data\\crear_dataset.py:38: FutureWarning: 'H' is deprecated and will be removed in a future version, please use 'h' instead.\n",
      "  horas_completas = pd.date_range(start=fecha_min, end=fecha_max, freq='H')\n"
     ]
    },
    {
     "name": "stdout",
     "output_type": "stream",
     "text": [
      "Procesando estación 130...\n"
     ]
    },
    {
     "name": "stderr",
     "output_type": "stream",
     "text": [
      "c:\\Users\\felic\\OneDrive\\Documentos\\GitHub\\TPsM-todos\\BA_BICIS_MyC\\src_data\\crear_dataset.py:26: FutureWarning: 'H' is deprecated and will be removed in a future version, please use 'h' instead.\n",
      "  df['hora_origen'] = df['fecha_origen_recorrido'].dt.floor('H')\n",
      "c:\\Users\\felic\\OneDrive\\Documentos\\GitHub\\TPsM-todos\\BA_BICIS_MyC\\src_data\\crear_dataset.py:27: FutureWarning: 'H' is deprecated and will be removed in a future version, please use 'h' instead.\n",
      "  df['hora_destino'] = df['fecha_destino_recorrido'].dt.floor('H')\n",
      "c:\\Users\\felic\\OneDrive\\Documentos\\GitHub\\TPsM-todos\\BA_BICIS_MyC\\src_data\\crear_dataset.py:34: FutureWarning: 'H' is deprecated and will be removed in a future version, please use 'h' instead.\n",
      "  fecha_min = df['fecha_origen_recorrido'].min().floor('H')\n",
      "c:\\Users\\felic\\OneDrive\\Documentos\\GitHub\\TPsM-todos\\BA_BICIS_MyC\\src_data\\crear_dataset.py:35: FutureWarning: 'H' is deprecated and will be removed in a future version, please use 'h' instead.\n",
      "  fecha_max = df['fecha_destino_recorrido'].max().floor('H')\n",
      "c:\\Users\\felic\\OneDrive\\Documentos\\GitHub\\TPsM-todos\\BA_BICIS_MyC\\src_data\\crear_dataset.py:38: FutureWarning: 'H' is deprecated and will be removed in a future version, please use 'h' instead.\n",
      "  horas_completas = pd.date_range(start=fecha_min, end=fecha_max, freq='H')\n"
     ]
    },
    {
     "name": "stdout",
     "output_type": "stream",
     "text": [
      "Procesando estación 131...\n"
     ]
    },
    {
     "name": "stderr",
     "output_type": "stream",
     "text": [
      "c:\\Users\\felic\\OneDrive\\Documentos\\GitHub\\TPsM-todos\\BA_BICIS_MyC\\src_data\\crear_dataset.py:26: FutureWarning: 'H' is deprecated and will be removed in a future version, please use 'h' instead.\n",
      "  df['hora_origen'] = df['fecha_origen_recorrido'].dt.floor('H')\n",
      "c:\\Users\\felic\\OneDrive\\Documentos\\GitHub\\TPsM-todos\\BA_BICIS_MyC\\src_data\\crear_dataset.py:27: FutureWarning: 'H' is deprecated and will be removed in a future version, please use 'h' instead.\n",
      "  df['hora_destino'] = df['fecha_destino_recorrido'].dt.floor('H')\n",
      "c:\\Users\\felic\\OneDrive\\Documentos\\GitHub\\TPsM-todos\\BA_BICIS_MyC\\src_data\\crear_dataset.py:34: FutureWarning: 'H' is deprecated and will be removed in a future version, please use 'h' instead.\n",
      "  fecha_min = df['fecha_origen_recorrido'].min().floor('H')\n",
      "c:\\Users\\felic\\OneDrive\\Documentos\\GitHub\\TPsM-todos\\BA_BICIS_MyC\\src_data\\crear_dataset.py:35: FutureWarning: 'H' is deprecated and will be removed in a future version, please use 'h' instead.\n",
      "  fecha_max = df['fecha_destino_recorrido'].max().floor('H')\n",
      "c:\\Users\\felic\\OneDrive\\Documentos\\GitHub\\TPsM-todos\\BA_BICIS_MyC\\src_data\\crear_dataset.py:38: FutureWarning: 'H' is deprecated and will be removed in a future version, please use 'h' instead.\n",
      "  horas_completas = pd.date_range(start=fecha_min, end=fecha_max, freq='H')\n"
     ]
    },
    {
     "name": "stdout",
     "output_type": "stream",
     "text": [
      "Procesando estación 132...\n"
     ]
    },
    {
     "name": "stderr",
     "output_type": "stream",
     "text": [
      "c:\\Users\\felic\\OneDrive\\Documentos\\GitHub\\TPsM-todos\\BA_BICIS_MyC\\src_data\\crear_dataset.py:26: FutureWarning: 'H' is deprecated and will be removed in a future version, please use 'h' instead.\n",
      "  df['hora_origen'] = df['fecha_origen_recorrido'].dt.floor('H')\n",
      "c:\\Users\\felic\\OneDrive\\Documentos\\GitHub\\TPsM-todos\\BA_BICIS_MyC\\src_data\\crear_dataset.py:27: FutureWarning: 'H' is deprecated and will be removed in a future version, please use 'h' instead.\n",
      "  df['hora_destino'] = df['fecha_destino_recorrido'].dt.floor('H')\n",
      "c:\\Users\\felic\\OneDrive\\Documentos\\GitHub\\TPsM-todos\\BA_BICIS_MyC\\src_data\\crear_dataset.py:34: FutureWarning: 'H' is deprecated and will be removed in a future version, please use 'h' instead.\n",
      "  fecha_min = df['fecha_origen_recorrido'].min().floor('H')\n",
      "c:\\Users\\felic\\OneDrive\\Documentos\\GitHub\\TPsM-todos\\BA_BICIS_MyC\\src_data\\crear_dataset.py:35: FutureWarning: 'H' is deprecated and will be removed in a future version, please use 'h' instead.\n",
      "  fecha_max = df['fecha_destino_recorrido'].max().floor('H')\n",
      "c:\\Users\\felic\\OneDrive\\Documentos\\GitHub\\TPsM-todos\\BA_BICIS_MyC\\src_data\\crear_dataset.py:38: FutureWarning: 'H' is deprecated and will be removed in a future version, please use 'h' instead.\n",
      "  horas_completas = pd.date_range(start=fecha_min, end=fecha_max, freq='H')\n"
     ]
    },
    {
     "name": "stdout",
     "output_type": "stream",
     "text": [
      "Procesando estación 134...\n"
     ]
    },
    {
     "name": "stderr",
     "output_type": "stream",
     "text": [
      "c:\\Users\\felic\\OneDrive\\Documentos\\GitHub\\TPsM-todos\\BA_BICIS_MyC\\src_data\\crear_dataset.py:26: FutureWarning: 'H' is deprecated and will be removed in a future version, please use 'h' instead.\n",
      "  df['hora_origen'] = df['fecha_origen_recorrido'].dt.floor('H')\n",
      "c:\\Users\\felic\\OneDrive\\Documentos\\GitHub\\TPsM-todos\\BA_BICIS_MyC\\src_data\\crear_dataset.py:27: FutureWarning: 'H' is deprecated and will be removed in a future version, please use 'h' instead.\n",
      "  df['hora_destino'] = df['fecha_destino_recorrido'].dt.floor('H')\n",
      "c:\\Users\\felic\\OneDrive\\Documentos\\GitHub\\TPsM-todos\\BA_BICIS_MyC\\src_data\\crear_dataset.py:34: FutureWarning: 'H' is deprecated and will be removed in a future version, please use 'h' instead.\n",
      "  fecha_min = df['fecha_origen_recorrido'].min().floor('H')\n",
      "c:\\Users\\felic\\OneDrive\\Documentos\\GitHub\\TPsM-todos\\BA_BICIS_MyC\\src_data\\crear_dataset.py:35: FutureWarning: 'H' is deprecated and will be removed in a future version, please use 'h' instead.\n",
      "  fecha_max = df['fecha_destino_recorrido'].max().floor('H')\n",
      "c:\\Users\\felic\\OneDrive\\Documentos\\GitHub\\TPsM-todos\\BA_BICIS_MyC\\src_data\\crear_dataset.py:38: FutureWarning: 'H' is deprecated and will be removed in a future version, please use 'h' instead.\n",
      "  horas_completas = pd.date_range(start=fecha_min, end=fecha_max, freq='H')\n"
     ]
    },
    {
     "name": "stdout",
     "output_type": "stream",
     "text": [
      "Procesando estación 135...\n"
     ]
    },
    {
     "name": "stderr",
     "output_type": "stream",
     "text": [
      "c:\\Users\\felic\\OneDrive\\Documentos\\GitHub\\TPsM-todos\\BA_BICIS_MyC\\src_data\\crear_dataset.py:26: FutureWarning: 'H' is deprecated and will be removed in a future version, please use 'h' instead.\n",
      "  df['hora_origen'] = df['fecha_origen_recorrido'].dt.floor('H')\n",
      "c:\\Users\\felic\\OneDrive\\Documentos\\GitHub\\TPsM-todos\\BA_BICIS_MyC\\src_data\\crear_dataset.py:27: FutureWarning: 'H' is deprecated and will be removed in a future version, please use 'h' instead.\n",
      "  df['hora_destino'] = df['fecha_destino_recorrido'].dt.floor('H')\n",
      "c:\\Users\\felic\\OneDrive\\Documentos\\GitHub\\TPsM-todos\\BA_BICIS_MyC\\src_data\\crear_dataset.py:34: FutureWarning: 'H' is deprecated and will be removed in a future version, please use 'h' instead.\n",
      "  fecha_min = df['fecha_origen_recorrido'].min().floor('H')\n",
      "c:\\Users\\felic\\OneDrive\\Documentos\\GitHub\\TPsM-todos\\BA_BICIS_MyC\\src_data\\crear_dataset.py:35: FutureWarning: 'H' is deprecated and will be removed in a future version, please use 'h' instead.\n",
      "  fecha_max = df['fecha_destino_recorrido'].max().floor('H')\n",
      "c:\\Users\\felic\\OneDrive\\Documentos\\GitHub\\TPsM-todos\\BA_BICIS_MyC\\src_data\\crear_dataset.py:38: FutureWarning: 'H' is deprecated and will be removed in a future version, please use 'h' instead.\n",
      "  horas_completas = pd.date_range(start=fecha_min, end=fecha_max, freq='H')\n"
     ]
    },
    {
     "name": "stdout",
     "output_type": "stream",
     "text": [
      "Procesando estación 137...\n"
     ]
    },
    {
     "name": "stderr",
     "output_type": "stream",
     "text": [
      "c:\\Users\\felic\\OneDrive\\Documentos\\GitHub\\TPsM-todos\\BA_BICIS_MyC\\src_data\\crear_dataset.py:26: FutureWarning: 'H' is deprecated and will be removed in a future version, please use 'h' instead.\n",
      "  df['hora_origen'] = df['fecha_origen_recorrido'].dt.floor('H')\n",
      "c:\\Users\\felic\\OneDrive\\Documentos\\GitHub\\TPsM-todos\\BA_BICIS_MyC\\src_data\\crear_dataset.py:27: FutureWarning: 'H' is deprecated and will be removed in a future version, please use 'h' instead.\n",
      "  df['hora_destino'] = df['fecha_destino_recorrido'].dt.floor('H')\n",
      "c:\\Users\\felic\\OneDrive\\Documentos\\GitHub\\TPsM-todos\\BA_BICIS_MyC\\src_data\\crear_dataset.py:34: FutureWarning: 'H' is deprecated and will be removed in a future version, please use 'h' instead.\n",
      "  fecha_min = df['fecha_origen_recorrido'].min().floor('H')\n",
      "c:\\Users\\felic\\OneDrive\\Documentos\\GitHub\\TPsM-todos\\BA_BICIS_MyC\\src_data\\crear_dataset.py:35: FutureWarning: 'H' is deprecated and will be removed in a future version, please use 'h' instead.\n",
      "  fecha_max = df['fecha_destino_recorrido'].max().floor('H')\n",
      "c:\\Users\\felic\\OneDrive\\Documentos\\GitHub\\TPsM-todos\\BA_BICIS_MyC\\src_data\\crear_dataset.py:38: FutureWarning: 'H' is deprecated and will be removed in a future version, please use 'h' instead.\n",
      "  horas_completas = pd.date_range(start=fecha_min, end=fecha_max, freq='H')\n"
     ]
    },
    {
     "name": "stdout",
     "output_type": "stream",
     "text": [
      "Procesando estación 138...\n"
     ]
    },
    {
     "name": "stderr",
     "output_type": "stream",
     "text": [
      "c:\\Users\\felic\\OneDrive\\Documentos\\GitHub\\TPsM-todos\\BA_BICIS_MyC\\src_data\\crear_dataset.py:26: FutureWarning: 'H' is deprecated and will be removed in a future version, please use 'h' instead.\n",
      "  df['hora_origen'] = df['fecha_origen_recorrido'].dt.floor('H')\n",
      "c:\\Users\\felic\\OneDrive\\Documentos\\GitHub\\TPsM-todos\\BA_BICIS_MyC\\src_data\\crear_dataset.py:27: FutureWarning: 'H' is deprecated and will be removed in a future version, please use 'h' instead.\n",
      "  df['hora_destino'] = df['fecha_destino_recorrido'].dt.floor('H')\n",
      "c:\\Users\\felic\\OneDrive\\Documentos\\GitHub\\TPsM-todos\\BA_BICIS_MyC\\src_data\\crear_dataset.py:34: FutureWarning: 'H' is deprecated and will be removed in a future version, please use 'h' instead.\n",
      "  fecha_min = df['fecha_origen_recorrido'].min().floor('H')\n",
      "c:\\Users\\felic\\OneDrive\\Documentos\\GitHub\\TPsM-todos\\BA_BICIS_MyC\\src_data\\crear_dataset.py:35: FutureWarning: 'H' is deprecated and will be removed in a future version, please use 'h' instead.\n",
      "  fecha_max = df['fecha_destino_recorrido'].max().floor('H')\n",
      "c:\\Users\\felic\\OneDrive\\Documentos\\GitHub\\TPsM-todos\\BA_BICIS_MyC\\src_data\\crear_dataset.py:38: FutureWarning: 'H' is deprecated and will be removed in a future version, please use 'h' instead.\n",
      "  horas_completas = pd.date_range(start=fecha_min, end=fecha_max, freq='H')\n"
     ]
    },
    {
     "name": "stdout",
     "output_type": "stream",
     "text": [
      "Procesando estación 144...\n"
     ]
    },
    {
     "name": "stderr",
     "output_type": "stream",
     "text": [
      "c:\\Users\\felic\\OneDrive\\Documentos\\GitHub\\TPsM-todos\\BA_BICIS_MyC\\src_data\\crear_dataset.py:26: FutureWarning: 'H' is deprecated and will be removed in a future version, please use 'h' instead.\n",
      "  df['hora_origen'] = df['fecha_origen_recorrido'].dt.floor('H')\n",
      "c:\\Users\\felic\\OneDrive\\Documentos\\GitHub\\TPsM-todos\\BA_BICIS_MyC\\src_data\\crear_dataset.py:27: FutureWarning: 'H' is deprecated and will be removed in a future version, please use 'h' instead.\n",
      "  df['hora_destino'] = df['fecha_destino_recorrido'].dt.floor('H')\n",
      "c:\\Users\\felic\\OneDrive\\Documentos\\GitHub\\TPsM-todos\\BA_BICIS_MyC\\src_data\\crear_dataset.py:34: FutureWarning: 'H' is deprecated and will be removed in a future version, please use 'h' instead.\n",
      "  fecha_min = df['fecha_origen_recorrido'].min().floor('H')\n",
      "c:\\Users\\felic\\OneDrive\\Documentos\\GitHub\\TPsM-todos\\BA_BICIS_MyC\\src_data\\crear_dataset.py:35: FutureWarning: 'H' is deprecated and will be removed in a future version, please use 'h' instead.\n",
      "  fecha_max = df['fecha_destino_recorrido'].max().floor('H')\n",
      "c:\\Users\\felic\\OneDrive\\Documentos\\GitHub\\TPsM-todos\\BA_BICIS_MyC\\src_data\\crear_dataset.py:38: FutureWarning: 'H' is deprecated and will be removed in a future version, please use 'h' instead.\n",
      "  horas_completas = pd.date_range(start=fecha_min, end=fecha_max, freq='H')\n"
     ]
    },
    {
     "name": "stdout",
     "output_type": "stream",
     "text": [
      "Procesando estación 146...\n"
     ]
    },
    {
     "name": "stderr",
     "output_type": "stream",
     "text": [
      "c:\\Users\\felic\\OneDrive\\Documentos\\GitHub\\TPsM-todos\\BA_BICIS_MyC\\src_data\\crear_dataset.py:26: FutureWarning: 'H' is deprecated and will be removed in a future version, please use 'h' instead.\n",
      "  df['hora_origen'] = df['fecha_origen_recorrido'].dt.floor('H')\n",
      "c:\\Users\\felic\\OneDrive\\Documentos\\GitHub\\TPsM-todos\\BA_BICIS_MyC\\src_data\\crear_dataset.py:27: FutureWarning: 'H' is deprecated and will be removed in a future version, please use 'h' instead.\n",
      "  df['hora_destino'] = df['fecha_destino_recorrido'].dt.floor('H')\n",
      "c:\\Users\\felic\\OneDrive\\Documentos\\GitHub\\TPsM-todos\\BA_BICIS_MyC\\src_data\\crear_dataset.py:34: FutureWarning: 'H' is deprecated and will be removed in a future version, please use 'h' instead.\n",
      "  fecha_min = df['fecha_origen_recorrido'].min().floor('H')\n",
      "c:\\Users\\felic\\OneDrive\\Documentos\\GitHub\\TPsM-todos\\BA_BICIS_MyC\\src_data\\crear_dataset.py:35: FutureWarning: 'H' is deprecated and will be removed in a future version, please use 'h' instead.\n",
      "  fecha_max = df['fecha_destino_recorrido'].max().floor('H')\n",
      "c:\\Users\\felic\\OneDrive\\Documentos\\GitHub\\TPsM-todos\\BA_BICIS_MyC\\src_data\\crear_dataset.py:38: FutureWarning: 'H' is deprecated and will be removed in a future version, please use 'h' instead.\n",
      "  horas_completas = pd.date_range(start=fecha_min, end=fecha_max, freq='H')\n"
     ]
    },
    {
     "name": "stdout",
     "output_type": "stream",
     "text": [
      "Procesando estación 148...\n"
     ]
    },
    {
     "name": "stderr",
     "output_type": "stream",
     "text": [
      "c:\\Users\\felic\\OneDrive\\Documentos\\GitHub\\TPsM-todos\\BA_BICIS_MyC\\src_data\\crear_dataset.py:26: FutureWarning: 'H' is deprecated and will be removed in a future version, please use 'h' instead.\n",
      "  df['hora_origen'] = df['fecha_origen_recorrido'].dt.floor('H')\n",
      "c:\\Users\\felic\\OneDrive\\Documentos\\GitHub\\TPsM-todos\\BA_BICIS_MyC\\src_data\\crear_dataset.py:27: FutureWarning: 'H' is deprecated and will be removed in a future version, please use 'h' instead.\n",
      "  df['hora_destino'] = df['fecha_destino_recorrido'].dt.floor('H')\n",
      "c:\\Users\\felic\\OneDrive\\Documentos\\GitHub\\TPsM-todos\\BA_BICIS_MyC\\src_data\\crear_dataset.py:34: FutureWarning: 'H' is deprecated and will be removed in a future version, please use 'h' instead.\n",
      "  fecha_min = df['fecha_origen_recorrido'].min().floor('H')\n",
      "c:\\Users\\felic\\OneDrive\\Documentos\\GitHub\\TPsM-todos\\BA_BICIS_MyC\\src_data\\crear_dataset.py:35: FutureWarning: 'H' is deprecated and will be removed in a future version, please use 'h' instead.\n",
      "  fecha_max = df['fecha_destino_recorrido'].max().floor('H')\n",
      "c:\\Users\\felic\\OneDrive\\Documentos\\GitHub\\TPsM-todos\\BA_BICIS_MyC\\src_data\\crear_dataset.py:38: FutureWarning: 'H' is deprecated and will be removed in a future version, please use 'h' instead.\n",
      "  horas_completas = pd.date_range(start=fecha_min, end=fecha_max, freq='H')\n"
     ]
    },
    {
     "name": "stdout",
     "output_type": "stream",
     "text": [
      "Procesando estación 149...\n"
     ]
    },
    {
     "name": "stderr",
     "output_type": "stream",
     "text": [
      "c:\\Users\\felic\\OneDrive\\Documentos\\GitHub\\TPsM-todos\\BA_BICIS_MyC\\src_data\\crear_dataset.py:26: FutureWarning: 'H' is deprecated and will be removed in a future version, please use 'h' instead.\n",
      "  df['hora_origen'] = df['fecha_origen_recorrido'].dt.floor('H')\n",
      "c:\\Users\\felic\\OneDrive\\Documentos\\GitHub\\TPsM-todos\\BA_BICIS_MyC\\src_data\\crear_dataset.py:27: FutureWarning: 'H' is deprecated and will be removed in a future version, please use 'h' instead.\n",
      "  df['hora_destino'] = df['fecha_destino_recorrido'].dt.floor('H')\n",
      "c:\\Users\\felic\\OneDrive\\Documentos\\GitHub\\TPsM-todos\\BA_BICIS_MyC\\src_data\\crear_dataset.py:34: FutureWarning: 'H' is deprecated and will be removed in a future version, please use 'h' instead.\n",
      "  fecha_min = df['fecha_origen_recorrido'].min().floor('H')\n",
      "c:\\Users\\felic\\OneDrive\\Documentos\\GitHub\\TPsM-todos\\BA_BICIS_MyC\\src_data\\crear_dataset.py:35: FutureWarning: 'H' is deprecated and will be removed in a future version, please use 'h' instead.\n",
      "  fecha_max = df['fecha_destino_recorrido'].max().floor('H')\n",
      "c:\\Users\\felic\\OneDrive\\Documentos\\GitHub\\TPsM-todos\\BA_BICIS_MyC\\src_data\\crear_dataset.py:38: FutureWarning: 'H' is deprecated and will be removed in a future version, please use 'h' instead.\n",
      "  horas_completas = pd.date_range(start=fecha_min, end=fecha_max, freq='H')\n"
     ]
    },
    {
     "name": "stdout",
     "output_type": "stream",
     "text": [
      "Procesando estación 150...\n"
     ]
    },
    {
     "name": "stderr",
     "output_type": "stream",
     "text": [
      "c:\\Users\\felic\\OneDrive\\Documentos\\GitHub\\TPsM-todos\\BA_BICIS_MyC\\src_data\\crear_dataset.py:26: FutureWarning: 'H' is deprecated and will be removed in a future version, please use 'h' instead.\n",
      "  df['hora_origen'] = df['fecha_origen_recorrido'].dt.floor('H')\n",
      "c:\\Users\\felic\\OneDrive\\Documentos\\GitHub\\TPsM-todos\\BA_BICIS_MyC\\src_data\\crear_dataset.py:27: FutureWarning: 'H' is deprecated and will be removed in a future version, please use 'h' instead.\n",
      "  df['hora_destino'] = df['fecha_destino_recorrido'].dt.floor('H')\n",
      "c:\\Users\\felic\\OneDrive\\Documentos\\GitHub\\TPsM-todos\\BA_BICIS_MyC\\src_data\\crear_dataset.py:34: FutureWarning: 'H' is deprecated and will be removed in a future version, please use 'h' instead.\n",
      "  fecha_min = df['fecha_origen_recorrido'].min().floor('H')\n",
      "c:\\Users\\felic\\OneDrive\\Documentos\\GitHub\\TPsM-todos\\BA_BICIS_MyC\\src_data\\crear_dataset.py:35: FutureWarning: 'H' is deprecated and will be removed in a future version, please use 'h' instead.\n",
      "  fecha_max = df['fecha_destino_recorrido'].max().floor('H')\n",
      "c:\\Users\\felic\\OneDrive\\Documentos\\GitHub\\TPsM-todos\\BA_BICIS_MyC\\src_data\\crear_dataset.py:38: FutureWarning: 'H' is deprecated and will be removed in a future version, please use 'h' instead.\n",
      "  horas_completas = pd.date_range(start=fecha_min, end=fecha_max, freq='H')\n"
     ]
    },
    {
     "name": "stdout",
     "output_type": "stream",
     "text": [
      "Procesando estación 151...\n"
     ]
    },
    {
     "name": "stderr",
     "output_type": "stream",
     "text": [
      "c:\\Users\\felic\\OneDrive\\Documentos\\GitHub\\TPsM-todos\\BA_BICIS_MyC\\src_data\\crear_dataset.py:26: FutureWarning: 'H' is deprecated and will be removed in a future version, please use 'h' instead.\n",
      "  df['hora_origen'] = df['fecha_origen_recorrido'].dt.floor('H')\n",
      "c:\\Users\\felic\\OneDrive\\Documentos\\GitHub\\TPsM-todos\\BA_BICIS_MyC\\src_data\\crear_dataset.py:27: FutureWarning: 'H' is deprecated and will be removed in a future version, please use 'h' instead.\n",
      "  df['hora_destino'] = df['fecha_destino_recorrido'].dt.floor('H')\n",
      "c:\\Users\\felic\\OneDrive\\Documentos\\GitHub\\TPsM-todos\\BA_BICIS_MyC\\src_data\\crear_dataset.py:34: FutureWarning: 'H' is deprecated and will be removed in a future version, please use 'h' instead.\n",
      "  fecha_min = df['fecha_origen_recorrido'].min().floor('H')\n",
      "c:\\Users\\felic\\OneDrive\\Documentos\\GitHub\\TPsM-todos\\BA_BICIS_MyC\\src_data\\crear_dataset.py:35: FutureWarning: 'H' is deprecated and will be removed in a future version, please use 'h' instead.\n",
      "  fecha_max = df['fecha_destino_recorrido'].max().floor('H')\n",
      "c:\\Users\\felic\\OneDrive\\Documentos\\GitHub\\TPsM-todos\\BA_BICIS_MyC\\src_data\\crear_dataset.py:38: FutureWarning: 'H' is deprecated and will be removed in a future version, please use 'h' instead.\n",
      "  horas_completas = pd.date_range(start=fecha_min, end=fecha_max, freq='H')\n"
     ]
    },
    {
     "name": "stdout",
     "output_type": "stream",
     "text": [
      "Procesando estación 152...\n"
     ]
    },
    {
     "name": "stderr",
     "output_type": "stream",
     "text": [
      "c:\\Users\\felic\\OneDrive\\Documentos\\GitHub\\TPsM-todos\\BA_BICIS_MyC\\src_data\\crear_dataset.py:26: FutureWarning: 'H' is deprecated and will be removed in a future version, please use 'h' instead.\n",
      "  df['hora_origen'] = df['fecha_origen_recorrido'].dt.floor('H')\n",
      "c:\\Users\\felic\\OneDrive\\Documentos\\GitHub\\TPsM-todos\\BA_BICIS_MyC\\src_data\\crear_dataset.py:27: FutureWarning: 'H' is deprecated and will be removed in a future version, please use 'h' instead.\n",
      "  df['hora_destino'] = df['fecha_destino_recorrido'].dt.floor('H')\n",
      "c:\\Users\\felic\\OneDrive\\Documentos\\GitHub\\TPsM-todos\\BA_BICIS_MyC\\src_data\\crear_dataset.py:34: FutureWarning: 'H' is deprecated and will be removed in a future version, please use 'h' instead.\n",
      "  fecha_min = df['fecha_origen_recorrido'].min().floor('H')\n",
      "c:\\Users\\felic\\OneDrive\\Documentos\\GitHub\\TPsM-todos\\BA_BICIS_MyC\\src_data\\crear_dataset.py:35: FutureWarning: 'H' is deprecated and will be removed in a future version, please use 'h' instead.\n",
      "  fecha_max = df['fecha_destino_recorrido'].max().floor('H')\n",
      "c:\\Users\\felic\\OneDrive\\Documentos\\GitHub\\TPsM-todos\\BA_BICIS_MyC\\src_data\\crear_dataset.py:38: FutureWarning: 'H' is deprecated and will be removed in a future version, please use 'h' instead.\n",
      "  horas_completas = pd.date_range(start=fecha_min, end=fecha_max, freq='H')\n"
     ]
    },
    {
     "name": "stdout",
     "output_type": "stream",
     "text": [
      "Procesando estación 153...\n"
     ]
    },
    {
     "name": "stderr",
     "output_type": "stream",
     "text": [
      "c:\\Users\\felic\\OneDrive\\Documentos\\GitHub\\TPsM-todos\\BA_BICIS_MyC\\src_data\\crear_dataset.py:26: FutureWarning: 'H' is deprecated and will be removed in a future version, please use 'h' instead.\n",
      "  df['hora_origen'] = df['fecha_origen_recorrido'].dt.floor('H')\n",
      "c:\\Users\\felic\\OneDrive\\Documentos\\GitHub\\TPsM-todos\\BA_BICIS_MyC\\src_data\\crear_dataset.py:27: FutureWarning: 'H' is deprecated and will be removed in a future version, please use 'h' instead.\n",
      "  df['hora_destino'] = df['fecha_destino_recorrido'].dt.floor('H')\n",
      "c:\\Users\\felic\\OneDrive\\Documentos\\GitHub\\TPsM-todos\\BA_BICIS_MyC\\src_data\\crear_dataset.py:34: FutureWarning: 'H' is deprecated and will be removed in a future version, please use 'h' instead.\n",
      "  fecha_min = df['fecha_origen_recorrido'].min().floor('H')\n",
      "c:\\Users\\felic\\OneDrive\\Documentos\\GitHub\\TPsM-todos\\BA_BICIS_MyC\\src_data\\crear_dataset.py:35: FutureWarning: 'H' is deprecated and will be removed in a future version, please use 'h' instead.\n",
      "  fecha_max = df['fecha_destino_recorrido'].max().floor('H')\n",
      "c:\\Users\\felic\\OneDrive\\Documentos\\GitHub\\TPsM-todos\\BA_BICIS_MyC\\src_data\\crear_dataset.py:38: FutureWarning: 'H' is deprecated and will be removed in a future version, please use 'h' instead.\n",
      "  horas_completas = pd.date_range(start=fecha_min, end=fecha_max, freq='H')\n"
     ]
    },
    {
     "name": "stdout",
     "output_type": "stream",
     "text": [
      "Procesando estación 155...\n"
     ]
    },
    {
     "name": "stderr",
     "output_type": "stream",
     "text": [
      "c:\\Users\\felic\\OneDrive\\Documentos\\GitHub\\TPsM-todos\\BA_BICIS_MyC\\src_data\\crear_dataset.py:26: FutureWarning: 'H' is deprecated and will be removed in a future version, please use 'h' instead.\n",
      "  df['hora_origen'] = df['fecha_origen_recorrido'].dt.floor('H')\n",
      "c:\\Users\\felic\\OneDrive\\Documentos\\GitHub\\TPsM-todos\\BA_BICIS_MyC\\src_data\\crear_dataset.py:27: FutureWarning: 'H' is deprecated and will be removed in a future version, please use 'h' instead.\n",
      "  df['hora_destino'] = df['fecha_destino_recorrido'].dt.floor('H')\n",
      "c:\\Users\\felic\\OneDrive\\Documentos\\GitHub\\TPsM-todos\\BA_BICIS_MyC\\src_data\\crear_dataset.py:34: FutureWarning: 'H' is deprecated and will be removed in a future version, please use 'h' instead.\n",
      "  fecha_min = df['fecha_origen_recorrido'].min().floor('H')\n",
      "c:\\Users\\felic\\OneDrive\\Documentos\\GitHub\\TPsM-todos\\BA_BICIS_MyC\\src_data\\crear_dataset.py:35: FutureWarning: 'H' is deprecated and will be removed in a future version, please use 'h' instead.\n",
      "  fecha_max = df['fecha_destino_recorrido'].max().floor('H')\n",
      "c:\\Users\\felic\\OneDrive\\Documentos\\GitHub\\TPsM-todos\\BA_BICIS_MyC\\src_data\\crear_dataset.py:38: FutureWarning: 'H' is deprecated and will be removed in a future version, please use 'h' instead.\n",
      "  horas_completas = pd.date_range(start=fecha_min, end=fecha_max, freq='H')\n"
     ]
    },
    {
     "name": "stdout",
     "output_type": "stream",
     "text": [
      "Procesando estación 156...\n"
     ]
    },
    {
     "name": "stderr",
     "output_type": "stream",
     "text": [
      "c:\\Users\\felic\\OneDrive\\Documentos\\GitHub\\TPsM-todos\\BA_BICIS_MyC\\src_data\\crear_dataset.py:26: FutureWarning: 'H' is deprecated and will be removed in a future version, please use 'h' instead.\n",
      "  df['hora_origen'] = df['fecha_origen_recorrido'].dt.floor('H')\n",
      "c:\\Users\\felic\\OneDrive\\Documentos\\GitHub\\TPsM-todos\\BA_BICIS_MyC\\src_data\\crear_dataset.py:27: FutureWarning: 'H' is deprecated and will be removed in a future version, please use 'h' instead.\n",
      "  df['hora_destino'] = df['fecha_destino_recorrido'].dt.floor('H')\n",
      "c:\\Users\\felic\\OneDrive\\Documentos\\GitHub\\TPsM-todos\\BA_BICIS_MyC\\src_data\\crear_dataset.py:34: FutureWarning: 'H' is deprecated and will be removed in a future version, please use 'h' instead.\n",
      "  fecha_min = df['fecha_origen_recorrido'].min().floor('H')\n",
      "c:\\Users\\felic\\OneDrive\\Documentos\\GitHub\\TPsM-todos\\BA_BICIS_MyC\\src_data\\crear_dataset.py:35: FutureWarning: 'H' is deprecated and will be removed in a future version, please use 'h' instead.\n",
      "  fecha_max = df['fecha_destino_recorrido'].max().floor('H')\n",
      "c:\\Users\\felic\\OneDrive\\Documentos\\GitHub\\TPsM-todos\\BA_BICIS_MyC\\src_data\\crear_dataset.py:38: FutureWarning: 'H' is deprecated and will be removed in a future version, please use 'h' instead.\n",
      "  horas_completas = pd.date_range(start=fecha_min, end=fecha_max, freq='H')\n"
     ]
    },
    {
     "name": "stdout",
     "output_type": "stream",
     "text": [
      "Procesando estación 158...\n"
     ]
    },
    {
     "name": "stderr",
     "output_type": "stream",
     "text": [
      "c:\\Users\\felic\\OneDrive\\Documentos\\GitHub\\TPsM-todos\\BA_BICIS_MyC\\src_data\\crear_dataset.py:26: FutureWarning: 'H' is deprecated and will be removed in a future version, please use 'h' instead.\n",
      "  df['hora_origen'] = df['fecha_origen_recorrido'].dt.floor('H')\n",
      "c:\\Users\\felic\\OneDrive\\Documentos\\GitHub\\TPsM-todos\\BA_BICIS_MyC\\src_data\\crear_dataset.py:27: FutureWarning: 'H' is deprecated and will be removed in a future version, please use 'h' instead.\n",
      "  df['hora_destino'] = df['fecha_destino_recorrido'].dt.floor('H')\n",
      "c:\\Users\\felic\\OneDrive\\Documentos\\GitHub\\TPsM-todos\\BA_BICIS_MyC\\src_data\\crear_dataset.py:34: FutureWarning: 'H' is deprecated and will be removed in a future version, please use 'h' instead.\n",
      "  fecha_min = df['fecha_origen_recorrido'].min().floor('H')\n",
      "c:\\Users\\felic\\OneDrive\\Documentos\\GitHub\\TPsM-todos\\BA_BICIS_MyC\\src_data\\crear_dataset.py:35: FutureWarning: 'H' is deprecated and will be removed in a future version, please use 'h' instead.\n",
      "  fecha_max = df['fecha_destino_recorrido'].max().floor('H')\n",
      "c:\\Users\\felic\\OneDrive\\Documentos\\GitHub\\TPsM-todos\\BA_BICIS_MyC\\src_data\\crear_dataset.py:38: FutureWarning: 'H' is deprecated and will be removed in a future version, please use 'h' instead.\n",
      "  horas_completas = pd.date_range(start=fecha_min, end=fecha_max, freq='H')\n"
     ]
    },
    {
     "name": "stdout",
     "output_type": "stream",
     "text": [
      "Procesando estación 161...\n"
     ]
    },
    {
     "name": "stderr",
     "output_type": "stream",
     "text": [
      "c:\\Users\\felic\\OneDrive\\Documentos\\GitHub\\TPsM-todos\\BA_BICIS_MyC\\src_data\\crear_dataset.py:26: FutureWarning: 'H' is deprecated and will be removed in a future version, please use 'h' instead.\n",
      "  df['hora_origen'] = df['fecha_origen_recorrido'].dt.floor('H')\n",
      "c:\\Users\\felic\\OneDrive\\Documentos\\GitHub\\TPsM-todos\\BA_BICIS_MyC\\src_data\\crear_dataset.py:27: FutureWarning: 'H' is deprecated and will be removed in a future version, please use 'h' instead.\n",
      "  df['hora_destino'] = df['fecha_destino_recorrido'].dt.floor('H')\n",
      "c:\\Users\\felic\\OneDrive\\Documentos\\GitHub\\TPsM-todos\\BA_BICIS_MyC\\src_data\\crear_dataset.py:34: FutureWarning: 'H' is deprecated and will be removed in a future version, please use 'h' instead.\n",
      "  fecha_min = df['fecha_origen_recorrido'].min().floor('H')\n",
      "c:\\Users\\felic\\OneDrive\\Documentos\\GitHub\\TPsM-todos\\BA_BICIS_MyC\\src_data\\crear_dataset.py:35: FutureWarning: 'H' is deprecated and will be removed in a future version, please use 'h' instead.\n",
      "  fecha_max = df['fecha_destino_recorrido'].max().floor('H')\n",
      "c:\\Users\\felic\\OneDrive\\Documentos\\GitHub\\TPsM-todos\\BA_BICIS_MyC\\src_data\\crear_dataset.py:38: FutureWarning: 'H' is deprecated and will be removed in a future version, please use 'h' instead.\n",
      "  horas_completas = pd.date_range(start=fecha_min, end=fecha_max, freq='H')\n"
     ]
    },
    {
     "name": "stdout",
     "output_type": "stream",
     "text": [
      "Procesando estación 162...\n"
     ]
    },
    {
     "name": "stderr",
     "output_type": "stream",
     "text": [
      "c:\\Users\\felic\\OneDrive\\Documentos\\GitHub\\TPsM-todos\\BA_BICIS_MyC\\src_data\\crear_dataset.py:26: FutureWarning: 'H' is deprecated and will be removed in a future version, please use 'h' instead.\n",
      "  df['hora_origen'] = df['fecha_origen_recorrido'].dt.floor('H')\n",
      "c:\\Users\\felic\\OneDrive\\Documentos\\GitHub\\TPsM-todos\\BA_BICIS_MyC\\src_data\\crear_dataset.py:27: FutureWarning: 'H' is deprecated and will be removed in a future version, please use 'h' instead.\n",
      "  df['hora_destino'] = df['fecha_destino_recorrido'].dt.floor('H')\n",
      "c:\\Users\\felic\\OneDrive\\Documentos\\GitHub\\TPsM-todos\\BA_BICIS_MyC\\src_data\\crear_dataset.py:34: FutureWarning: 'H' is deprecated and will be removed in a future version, please use 'h' instead.\n",
      "  fecha_min = df['fecha_origen_recorrido'].min().floor('H')\n",
      "c:\\Users\\felic\\OneDrive\\Documentos\\GitHub\\TPsM-todos\\BA_BICIS_MyC\\src_data\\crear_dataset.py:35: FutureWarning: 'H' is deprecated and will be removed in a future version, please use 'h' instead.\n",
      "  fecha_max = df['fecha_destino_recorrido'].max().floor('H')\n",
      "c:\\Users\\felic\\OneDrive\\Documentos\\GitHub\\TPsM-todos\\BA_BICIS_MyC\\src_data\\crear_dataset.py:38: FutureWarning: 'H' is deprecated and will be removed in a future version, please use 'h' instead.\n",
      "  horas_completas = pd.date_range(start=fecha_min, end=fecha_max, freq='H')\n"
     ]
    },
    {
     "name": "stdout",
     "output_type": "stream",
     "text": [
      "Procesando estación 163...\n"
     ]
    },
    {
     "name": "stderr",
     "output_type": "stream",
     "text": [
      "c:\\Users\\felic\\OneDrive\\Documentos\\GitHub\\TPsM-todos\\BA_BICIS_MyC\\src_data\\crear_dataset.py:26: FutureWarning: 'H' is deprecated and will be removed in a future version, please use 'h' instead.\n",
      "  df['hora_origen'] = df['fecha_origen_recorrido'].dt.floor('H')\n",
      "c:\\Users\\felic\\OneDrive\\Documentos\\GitHub\\TPsM-todos\\BA_BICIS_MyC\\src_data\\crear_dataset.py:27: FutureWarning: 'H' is deprecated and will be removed in a future version, please use 'h' instead.\n",
      "  df['hora_destino'] = df['fecha_destino_recorrido'].dt.floor('H')\n",
      "c:\\Users\\felic\\OneDrive\\Documentos\\GitHub\\TPsM-todos\\BA_BICIS_MyC\\src_data\\crear_dataset.py:34: FutureWarning: 'H' is deprecated and will be removed in a future version, please use 'h' instead.\n",
      "  fecha_min = df['fecha_origen_recorrido'].min().floor('H')\n",
      "c:\\Users\\felic\\OneDrive\\Documentos\\GitHub\\TPsM-todos\\BA_BICIS_MyC\\src_data\\crear_dataset.py:35: FutureWarning: 'H' is deprecated and will be removed in a future version, please use 'h' instead.\n",
      "  fecha_max = df['fecha_destino_recorrido'].max().floor('H')\n",
      "c:\\Users\\felic\\OneDrive\\Documentos\\GitHub\\TPsM-todos\\BA_BICIS_MyC\\src_data\\crear_dataset.py:38: FutureWarning: 'H' is deprecated and will be removed in a future version, please use 'h' instead.\n",
      "  horas_completas = pd.date_range(start=fecha_min, end=fecha_max, freq='H')\n"
     ]
    },
    {
     "name": "stdout",
     "output_type": "stream",
     "text": [
      "Procesando estación 164...\n"
     ]
    },
    {
     "name": "stderr",
     "output_type": "stream",
     "text": [
      "c:\\Users\\felic\\OneDrive\\Documentos\\GitHub\\TPsM-todos\\BA_BICIS_MyC\\src_data\\crear_dataset.py:26: FutureWarning: 'H' is deprecated and will be removed in a future version, please use 'h' instead.\n",
      "  df['hora_origen'] = df['fecha_origen_recorrido'].dt.floor('H')\n",
      "c:\\Users\\felic\\OneDrive\\Documentos\\GitHub\\TPsM-todos\\BA_BICIS_MyC\\src_data\\crear_dataset.py:27: FutureWarning: 'H' is deprecated and will be removed in a future version, please use 'h' instead.\n",
      "  df['hora_destino'] = df['fecha_destino_recorrido'].dt.floor('H')\n",
      "c:\\Users\\felic\\OneDrive\\Documentos\\GitHub\\TPsM-todos\\BA_BICIS_MyC\\src_data\\crear_dataset.py:34: FutureWarning: 'H' is deprecated and will be removed in a future version, please use 'h' instead.\n",
      "  fecha_min = df['fecha_origen_recorrido'].min().floor('H')\n",
      "c:\\Users\\felic\\OneDrive\\Documentos\\GitHub\\TPsM-todos\\BA_BICIS_MyC\\src_data\\crear_dataset.py:35: FutureWarning: 'H' is deprecated and will be removed in a future version, please use 'h' instead.\n",
      "  fecha_max = df['fecha_destino_recorrido'].max().floor('H')\n",
      "c:\\Users\\felic\\OneDrive\\Documentos\\GitHub\\TPsM-todos\\BA_BICIS_MyC\\src_data\\crear_dataset.py:38: FutureWarning: 'H' is deprecated and will be removed in a future version, please use 'h' instead.\n",
      "  horas_completas = pd.date_range(start=fecha_min, end=fecha_max, freq='H')\n"
     ]
    },
    {
     "name": "stdout",
     "output_type": "stream",
     "text": [
      "Procesando estación 165...\n"
     ]
    },
    {
     "name": "stderr",
     "output_type": "stream",
     "text": [
      "c:\\Users\\felic\\OneDrive\\Documentos\\GitHub\\TPsM-todos\\BA_BICIS_MyC\\src_data\\crear_dataset.py:26: FutureWarning: 'H' is deprecated and will be removed in a future version, please use 'h' instead.\n",
      "  df['hora_origen'] = df['fecha_origen_recorrido'].dt.floor('H')\n",
      "c:\\Users\\felic\\OneDrive\\Documentos\\GitHub\\TPsM-todos\\BA_BICIS_MyC\\src_data\\crear_dataset.py:27: FutureWarning: 'H' is deprecated and will be removed in a future version, please use 'h' instead.\n",
      "  df['hora_destino'] = df['fecha_destino_recorrido'].dt.floor('H')\n",
      "c:\\Users\\felic\\OneDrive\\Documentos\\GitHub\\TPsM-todos\\BA_BICIS_MyC\\src_data\\crear_dataset.py:34: FutureWarning: 'H' is deprecated and will be removed in a future version, please use 'h' instead.\n",
      "  fecha_min = df['fecha_origen_recorrido'].min().floor('H')\n",
      "c:\\Users\\felic\\OneDrive\\Documentos\\GitHub\\TPsM-todos\\BA_BICIS_MyC\\src_data\\crear_dataset.py:35: FutureWarning: 'H' is deprecated and will be removed in a future version, please use 'h' instead.\n",
      "  fecha_max = df['fecha_destino_recorrido'].max().floor('H')\n",
      "c:\\Users\\felic\\OneDrive\\Documentos\\GitHub\\TPsM-todos\\BA_BICIS_MyC\\src_data\\crear_dataset.py:38: FutureWarning: 'H' is deprecated and will be removed in a future version, please use 'h' instead.\n",
      "  horas_completas = pd.date_range(start=fecha_min, end=fecha_max, freq='H')\n"
     ]
    },
    {
     "name": "stdout",
     "output_type": "stream",
     "text": [
      "Procesando estación 166...\n"
     ]
    },
    {
     "name": "stderr",
     "output_type": "stream",
     "text": [
      "c:\\Users\\felic\\OneDrive\\Documentos\\GitHub\\TPsM-todos\\BA_BICIS_MyC\\src_data\\crear_dataset.py:26: FutureWarning: 'H' is deprecated and will be removed in a future version, please use 'h' instead.\n",
      "  df['hora_origen'] = df['fecha_origen_recorrido'].dt.floor('H')\n",
      "c:\\Users\\felic\\OneDrive\\Documentos\\GitHub\\TPsM-todos\\BA_BICIS_MyC\\src_data\\crear_dataset.py:27: FutureWarning: 'H' is deprecated and will be removed in a future version, please use 'h' instead.\n",
      "  df['hora_destino'] = df['fecha_destino_recorrido'].dt.floor('H')\n",
      "c:\\Users\\felic\\OneDrive\\Documentos\\GitHub\\TPsM-todos\\BA_BICIS_MyC\\src_data\\crear_dataset.py:34: FutureWarning: 'H' is deprecated and will be removed in a future version, please use 'h' instead.\n",
      "  fecha_min = df['fecha_origen_recorrido'].min().floor('H')\n",
      "c:\\Users\\felic\\OneDrive\\Documentos\\GitHub\\TPsM-todos\\BA_BICIS_MyC\\src_data\\crear_dataset.py:35: FutureWarning: 'H' is deprecated and will be removed in a future version, please use 'h' instead.\n",
      "  fecha_max = df['fecha_destino_recorrido'].max().floor('H')\n",
      "c:\\Users\\felic\\OneDrive\\Documentos\\GitHub\\TPsM-todos\\BA_BICIS_MyC\\src_data\\crear_dataset.py:38: FutureWarning: 'H' is deprecated and will be removed in a future version, please use 'h' instead.\n",
      "  horas_completas = pd.date_range(start=fecha_min, end=fecha_max, freq='H')\n"
     ]
    },
    {
     "name": "stdout",
     "output_type": "stream",
     "text": [
      "Procesando estación 167...\n"
     ]
    },
    {
     "name": "stderr",
     "output_type": "stream",
     "text": [
      "c:\\Users\\felic\\OneDrive\\Documentos\\GitHub\\TPsM-todos\\BA_BICIS_MyC\\src_data\\crear_dataset.py:26: FutureWarning: 'H' is deprecated and will be removed in a future version, please use 'h' instead.\n",
      "  df['hora_origen'] = df['fecha_origen_recorrido'].dt.floor('H')\n",
      "c:\\Users\\felic\\OneDrive\\Documentos\\GitHub\\TPsM-todos\\BA_BICIS_MyC\\src_data\\crear_dataset.py:27: FutureWarning: 'H' is deprecated and will be removed in a future version, please use 'h' instead.\n",
      "  df['hora_destino'] = df['fecha_destino_recorrido'].dt.floor('H')\n",
      "c:\\Users\\felic\\OneDrive\\Documentos\\GitHub\\TPsM-todos\\BA_BICIS_MyC\\src_data\\crear_dataset.py:34: FutureWarning: 'H' is deprecated and will be removed in a future version, please use 'h' instead.\n",
      "  fecha_min = df['fecha_origen_recorrido'].min().floor('H')\n",
      "c:\\Users\\felic\\OneDrive\\Documentos\\GitHub\\TPsM-todos\\BA_BICIS_MyC\\src_data\\crear_dataset.py:35: FutureWarning: 'H' is deprecated and will be removed in a future version, please use 'h' instead.\n",
      "  fecha_max = df['fecha_destino_recorrido'].max().floor('H')\n",
      "c:\\Users\\felic\\OneDrive\\Documentos\\GitHub\\TPsM-todos\\BA_BICIS_MyC\\src_data\\crear_dataset.py:38: FutureWarning: 'H' is deprecated and will be removed in a future version, please use 'h' instead.\n",
      "  horas_completas = pd.date_range(start=fecha_min, end=fecha_max, freq='H')\n"
     ]
    },
    {
     "name": "stdout",
     "output_type": "stream",
     "text": [
      "Procesando estación 168...\n"
     ]
    },
    {
     "name": "stderr",
     "output_type": "stream",
     "text": [
      "c:\\Users\\felic\\OneDrive\\Documentos\\GitHub\\TPsM-todos\\BA_BICIS_MyC\\src_data\\crear_dataset.py:26: FutureWarning: 'H' is deprecated and will be removed in a future version, please use 'h' instead.\n",
      "  df['hora_origen'] = df['fecha_origen_recorrido'].dt.floor('H')\n",
      "c:\\Users\\felic\\OneDrive\\Documentos\\GitHub\\TPsM-todos\\BA_BICIS_MyC\\src_data\\crear_dataset.py:27: FutureWarning: 'H' is deprecated and will be removed in a future version, please use 'h' instead.\n",
      "  df['hora_destino'] = df['fecha_destino_recorrido'].dt.floor('H')\n",
      "c:\\Users\\felic\\OneDrive\\Documentos\\GitHub\\TPsM-todos\\BA_BICIS_MyC\\src_data\\crear_dataset.py:34: FutureWarning: 'H' is deprecated and will be removed in a future version, please use 'h' instead.\n",
      "  fecha_min = df['fecha_origen_recorrido'].min().floor('H')\n",
      "c:\\Users\\felic\\OneDrive\\Documentos\\GitHub\\TPsM-todos\\BA_BICIS_MyC\\src_data\\crear_dataset.py:35: FutureWarning: 'H' is deprecated and will be removed in a future version, please use 'h' instead.\n",
      "  fecha_max = df['fecha_destino_recorrido'].max().floor('H')\n",
      "c:\\Users\\felic\\OneDrive\\Documentos\\GitHub\\TPsM-todos\\BA_BICIS_MyC\\src_data\\crear_dataset.py:38: FutureWarning: 'H' is deprecated and will be removed in a future version, please use 'h' instead.\n",
      "  horas_completas = pd.date_range(start=fecha_min, end=fecha_max, freq='H')\n"
     ]
    },
    {
     "name": "stdout",
     "output_type": "stream",
     "text": [
      "Procesando estación 169...\n"
     ]
    },
    {
     "name": "stderr",
     "output_type": "stream",
     "text": [
      "c:\\Users\\felic\\OneDrive\\Documentos\\GitHub\\TPsM-todos\\BA_BICIS_MyC\\src_data\\crear_dataset.py:26: FutureWarning: 'H' is deprecated and will be removed in a future version, please use 'h' instead.\n",
      "  df['hora_origen'] = df['fecha_origen_recorrido'].dt.floor('H')\n",
      "c:\\Users\\felic\\OneDrive\\Documentos\\GitHub\\TPsM-todos\\BA_BICIS_MyC\\src_data\\crear_dataset.py:27: FutureWarning: 'H' is deprecated and will be removed in a future version, please use 'h' instead.\n",
      "  df['hora_destino'] = df['fecha_destino_recorrido'].dt.floor('H')\n",
      "c:\\Users\\felic\\OneDrive\\Documentos\\GitHub\\TPsM-todos\\BA_BICIS_MyC\\src_data\\crear_dataset.py:34: FutureWarning: 'H' is deprecated and will be removed in a future version, please use 'h' instead.\n",
      "  fecha_min = df['fecha_origen_recorrido'].min().floor('H')\n",
      "c:\\Users\\felic\\OneDrive\\Documentos\\GitHub\\TPsM-todos\\BA_BICIS_MyC\\src_data\\crear_dataset.py:35: FutureWarning: 'H' is deprecated and will be removed in a future version, please use 'h' instead.\n",
      "  fecha_max = df['fecha_destino_recorrido'].max().floor('H')\n",
      "c:\\Users\\felic\\OneDrive\\Documentos\\GitHub\\TPsM-todos\\BA_BICIS_MyC\\src_data\\crear_dataset.py:38: FutureWarning: 'H' is deprecated and will be removed in a future version, please use 'h' instead.\n",
      "  horas_completas = pd.date_range(start=fecha_min, end=fecha_max, freq='H')\n"
     ]
    },
    {
     "name": "stdout",
     "output_type": "stream",
     "text": [
      "Procesando estación 171...\n"
     ]
    },
    {
     "name": "stderr",
     "output_type": "stream",
     "text": [
      "c:\\Users\\felic\\OneDrive\\Documentos\\GitHub\\TPsM-todos\\BA_BICIS_MyC\\src_data\\crear_dataset.py:26: FutureWarning: 'H' is deprecated and will be removed in a future version, please use 'h' instead.\n",
      "  df['hora_origen'] = df['fecha_origen_recorrido'].dt.floor('H')\n",
      "c:\\Users\\felic\\OneDrive\\Documentos\\GitHub\\TPsM-todos\\BA_BICIS_MyC\\src_data\\crear_dataset.py:27: FutureWarning: 'H' is deprecated and will be removed in a future version, please use 'h' instead.\n",
      "  df['hora_destino'] = df['fecha_destino_recorrido'].dt.floor('H')\n",
      "c:\\Users\\felic\\OneDrive\\Documentos\\GitHub\\TPsM-todos\\BA_BICIS_MyC\\src_data\\crear_dataset.py:34: FutureWarning: 'H' is deprecated and will be removed in a future version, please use 'h' instead.\n",
      "  fecha_min = df['fecha_origen_recorrido'].min().floor('H')\n",
      "c:\\Users\\felic\\OneDrive\\Documentos\\GitHub\\TPsM-todos\\BA_BICIS_MyC\\src_data\\crear_dataset.py:35: FutureWarning: 'H' is deprecated and will be removed in a future version, please use 'h' instead.\n",
      "  fecha_max = df['fecha_destino_recorrido'].max().floor('H')\n",
      "c:\\Users\\felic\\OneDrive\\Documentos\\GitHub\\TPsM-todos\\BA_BICIS_MyC\\src_data\\crear_dataset.py:38: FutureWarning: 'H' is deprecated and will be removed in a future version, please use 'h' instead.\n",
      "  horas_completas = pd.date_range(start=fecha_min, end=fecha_max, freq='H')\n"
     ]
    },
    {
     "name": "stdout",
     "output_type": "stream",
     "text": [
      "Procesando estación 172...\n"
     ]
    },
    {
     "name": "stderr",
     "output_type": "stream",
     "text": [
      "c:\\Users\\felic\\OneDrive\\Documentos\\GitHub\\TPsM-todos\\BA_BICIS_MyC\\src_data\\crear_dataset.py:26: FutureWarning: 'H' is deprecated and will be removed in a future version, please use 'h' instead.\n",
      "  df['hora_origen'] = df['fecha_origen_recorrido'].dt.floor('H')\n",
      "c:\\Users\\felic\\OneDrive\\Documentos\\GitHub\\TPsM-todos\\BA_BICIS_MyC\\src_data\\crear_dataset.py:27: FutureWarning: 'H' is deprecated and will be removed in a future version, please use 'h' instead.\n",
      "  df['hora_destino'] = df['fecha_destino_recorrido'].dt.floor('H')\n",
      "c:\\Users\\felic\\OneDrive\\Documentos\\GitHub\\TPsM-todos\\BA_BICIS_MyC\\src_data\\crear_dataset.py:34: FutureWarning: 'H' is deprecated and will be removed in a future version, please use 'h' instead.\n",
      "  fecha_min = df['fecha_origen_recorrido'].min().floor('H')\n",
      "c:\\Users\\felic\\OneDrive\\Documentos\\GitHub\\TPsM-todos\\BA_BICIS_MyC\\src_data\\crear_dataset.py:35: FutureWarning: 'H' is deprecated and will be removed in a future version, please use 'h' instead.\n",
      "  fecha_max = df['fecha_destino_recorrido'].max().floor('H')\n",
      "c:\\Users\\felic\\OneDrive\\Documentos\\GitHub\\TPsM-todos\\BA_BICIS_MyC\\src_data\\crear_dataset.py:38: FutureWarning: 'H' is deprecated and will be removed in a future version, please use 'h' instead.\n",
      "  horas_completas = pd.date_range(start=fecha_min, end=fecha_max, freq='H')\n"
     ]
    },
    {
     "name": "stdout",
     "output_type": "stream",
     "text": [
      "Procesando estación 174...\n"
     ]
    },
    {
     "name": "stderr",
     "output_type": "stream",
     "text": [
      "c:\\Users\\felic\\OneDrive\\Documentos\\GitHub\\TPsM-todos\\BA_BICIS_MyC\\src_data\\crear_dataset.py:26: FutureWarning: 'H' is deprecated and will be removed in a future version, please use 'h' instead.\n",
      "  df['hora_origen'] = df['fecha_origen_recorrido'].dt.floor('H')\n",
      "c:\\Users\\felic\\OneDrive\\Documentos\\GitHub\\TPsM-todos\\BA_BICIS_MyC\\src_data\\crear_dataset.py:27: FutureWarning: 'H' is deprecated and will be removed in a future version, please use 'h' instead.\n",
      "  df['hora_destino'] = df['fecha_destino_recorrido'].dt.floor('H')\n",
      "c:\\Users\\felic\\OneDrive\\Documentos\\GitHub\\TPsM-todos\\BA_BICIS_MyC\\src_data\\crear_dataset.py:34: FutureWarning: 'H' is deprecated and will be removed in a future version, please use 'h' instead.\n",
      "  fecha_min = df['fecha_origen_recorrido'].min().floor('H')\n",
      "c:\\Users\\felic\\OneDrive\\Documentos\\GitHub\\TPsM-todos\\BA_BICIS_MyC\\src_data\\crear_dataset.py:35: FutureWarning: 'H' is deprecated and will be removed in a future version, please use 'h' instead.\n",
      "  fecha_max = df['fecha_destino_recorrido'].max().floor('H')\n",
      "c:\\Users\\felic\\OneDrive\\Documentos\\GitHub\\TPsM-todos\\BA_BICIS_MyC\\src_data\\crear_dataset.py:38: FutureWarning: 'H' is deprecated and will be removed in a future version, please use 'h' instead.\n",
      "  horas_completas = pd.date_range(start=fecha_min, end=fecha_max, freq='H')\n"
     ]
    },
    {
     "name": "stdout",
     "output_type": "stream",
     "text": [
      "Procesando estación 175...\n"
     ]
    },
    {
     "name": "stderr",
     "output_type": "stream",
     "text": [
      "c:\\Users\\felic\\OneDrive\\Documentos\\GitHub\\TPsM-todos\\BA_BICIS_MyC\\src_data\\crear_dataset.py:26: FutureWarning: 'H' is deprecated and will be removed in a future version, please use 'h' instead.\n",
      "  df['hora_origen'] = df['fecha_origen_recorrido'].dt.floor('H')\n",
      "c:\\Users\\felic\\OneDrive\\Documentos\\GitHub\\TPsM-todos\\BA_BICIS_MyC\\src_data\\crear_dataset.py:27: FutureWarning: 'H' is deprecated and will be removed in a future version, please use 'h' instead.\n",
      "  df['hora_destino'] = df['fecha_destino_recorrido'].dt.floor('H')\n",
      "c:\\Users\\felic\\OneDrive\\Documentos\\GitHub\\TPsM-todos\\BA_BICIS_MyC\\src_data\\crear_dataset.py:34: FutureWarning: 'H' is deprecated and will be removed in a future version, please use 'h' instead.\n",
      "  fecha_min = df['fecha_origen_recorrido'].min().floor('H')\n",
      "c:\\Users\\felic\\OneDrive\\Documentos\\GitHub\\TPsM-todos\\BA_BICIS_MyC\\src_data\\crear_dataset.py:35: FutureWarning: 'H' is deprecated and will be removed in a future version, please use 'h' instead.\n",
      "  fecha_max = df['fecha_destino_recorrido'].max().floor('H')\n",
      "c:\\Users\\felic\\OneDrive\\Documentos\\GitHub\\TPsM-todos\\BA_BICIS_MyC\\src_data\\crear_dataset.py:38: FutureWarning: 'H' is deprecated and will be removed in a future version, please use 'h' instead.\n",
      "  horas_completas = pd.date_range(start=fecha_min, end=fecha_max, freq='H')\n"
     ]
    },
    {
     "name": "stdout",
     "output_type": "stream",
     "text": [
      "Procesando estación 176...\n"
     ]
    },
    {
     "name": "stderr",
     "output_type": "stream",
     "text": [
      "c:\\Users\\felic\\OneDrive\\Documentos\\GitHub\\TPsM-todos\\BA_BICIS_MyC\\src_data\\crear_dataset.py:26: FutureWarning: 'H' is deprecated and will be removed in a future version, please use 'h' instead.\n",
      "  df['hora_origen'] = df['fecha_origen_recorrido'].dt.floor('H')\n",
      "c:\\Users\\felic\\OneDrive\\Documentos\\GitHub\\TPsM-todos\\BA_BICIS_MyC\\src_data\\crear_dataset.py:27: FutureWarning: 'H' is deprecated and will be removed in a future version, please use 'h' instead.\n",
      "  df['hora_destino'] = df['fecha_destino_recorrido'].dt.floor('H')\n",
      "c:\\Users\\felic\\OneDrive\\Documentos\\GitHub\\TPsM-todos\\BA_BICIS_MyC\\src_data\\crear_dataset.py:34: FutureWarning: 'H' is deprecated and will be removed in a future version, please use 'h' instead.\n",
      "  fecha_min = df['fecha_origen_recorrido'].min().floor('H')\n",
      "c:\\Users\\felic\\OneDrive\\Documentos\\GitHub\\TPsM-todos\\BA_BICIS_MyC\\src_data\\crear_dataset.py:35: FutureWarning: 'H' is deprecated and will be removed in a future version, please use 'h' instead.\n",
      "  fecha_max = df['fecha_destino_recorrido'].max().floor('H')\n",
      "c:\\Users\\felic\\OneDrive\\Documentos\\GitHub\\TPsM-todos\\BA_BICIS_MyC\\src_data\\crear_dataset.py:38: FutureWarning: 'H' is deprecated and will be removed in a future version, please use 'h' instead.\n",
      "  horas_completas = pd.date_range(start=fecha_min, end=fecha_max, freq='H')\n"
     ]
    },
    {
     "name": "stdout",
     "output_type": "stream",
     "text": [
      "Procesando estación 177...\n"
     ]
    },
    {
     "name": "stderr",
     "output_type": "stream",
     "text": [
      "c:\\Users\\felic\\OneDrive\\Documentos\\GitHub\\TPsM-todos\\BA_BICIS_MyC\\src_data\\crear_dataset.py:26: FutureWarning: 'H' is deprecated and will be removed in a future version, please use 'h' instead.\n",
      "  df['hora_origen'] = df['fecha_origen_recorrido'].dt.floor('H')\n",
      "c:\\Users\\felic\\OneDrive\\Documentos\\GitHub\\TPsM-todos\\BA_BICIS_MyC\\src_data\\crear_dataset.py:27: FutureWarning: 'H' is deprecated and will be removed in a future version, please use 'h' instead.\n",
      "  df['hora_destino'] = df['fecha_destino_recorrido'].dt.floor('H')\n",
      "c:\\Users\\felic\\OneDrive\\Documentos\\GitHub\\TPsM-todos\\BA_BICIS_MyC\\src_data\\crear_dataset.py:34: FutureWarning: 'H' is deprecated and will be removed in a future version, please use 'h' instead.\n",
      "  fecha_min = df['fecha_origen_recorrido'].min().floor('H')\n",
      "c:\\Users\\felic\\OneDrive\\Documentos\\GitHub\\TPsM-todos\\BA_BICIS_MyC\\src_data\\crear_dataset.py:35: FutureWarning: 'H' is deprecated and will be removed in a future version, please use 'h' instead.\n",
      "  fecha_max = df['fecha_destino_recorrido'].max().floor('H')\n",
      "c:\\Users\\felic\\OneDrive\\Documentos\\GitHub\\TPsM-todos\\BA_BICIS_MyC\\src_data\\crear_dataset.py:38: FutureWarning: 'H' is deprecated and will be removed in a future version, please use 'h' instead.\n",
      "  horas_completas = pd.date_range(start=fecha_min, end=fecha_max, freq='H')\n"
     ]
    },
    {
     "name": "stdout",
     "output_type": "stream",
     "text": [
      "Procesando estación 179...\n"
     ]
    },
    {
     "name": "stderr",
     "output_type": "stream",
     "text": [
      "c:\\Users\\felic\\OneDrive\\Documentos\\GitHub\\TPsM-todos\\BA_BICIS_MyC\\src_data\\crear_dataset.py:26: FutureWarning: 'H' is deprecated and will be removed in a future version, please use 'h' instead.\n",
      "  df['hora_origen'] = df['fecha_origen_recorrido'].dt.floor('H')\n",
      "c:\\Users\\felic\\OneDrive\\Documentos\\GitHub\\TPsM-todos\\BA_BICIS_MyC\\src_data\\crear_dataset.py:27: FutureWarning: 'H' is deprecated and will be removed in a future version, please use 'h' instead.\n",
      "  df['hora_destino'] = df['fecha_destino_recorrido'].dt.floor('H')\n",
      "c:\\Users\\felic\\OneDrive\\Documentos\\GitHub\\TPsM-todos\\BA_BICIS_MyC\\src_data\\crear_dataset.py:34: FutureWarning: 'H' is deprecated and will be removed in a future version, please use 'h' instead.\n",
      "  fecha_min = df['fecha_origen_recorrido'].min().floor('H')\n",
      "c:\\Users\\felic\\OneDrive\\Documentos\\GitHub\\TPsM-todos\\BA_BICIS_MyC\\src_data\\crear_dataset.py:35: FutureWarning: 'H' is deprecated and will be removed in a future version, please use 'h' instead.\n",
      "  fecha_max = df['fecha_destino_recorrido'].max().floor('H')\n",
      "c:\\Users\\felic\\OneDrive\\Documentos\\GitHub\\TPsM-todos\\BA_BICIS_MyC\\src_data\\crear_dataset.py:38: FutureWarning: 'H' is deprecated and will be removed in a future version, please use 'h' instead.\n",
      "  horas_completas = pd.date_range(start=fecha_min, end=fecha_max, freq='H')\n"
     ]
    },
    {
     "name": "stdout",
     "output_type": "stream",
     "text": [
      "Procesando estación 181...\n"
     ]
    },
    {
     "name": "stderr",
     "output_type": "stream",
     "text": [
      "c:\\Users\\felic\\OneDrive\\Documentos\\GitHub\\TPsM-todos\\BA_BICIS_MyC\\src_data\\crear_dataset.py:26: FutureWarning: 'H' is deprecated and will be removed in a future version, please use 'h' instead.\n",
      "  df['hora_origen'] = df['fecha_origen_recorrido'].dt.floor('H')\n",
      "c:\\Users\\felic\\OneDrive\\Documentos\\GitHub\\TPsM-todos\\BA_BICIS_MyC\\src_data\\crear_dataset.py:27: FutureWarning: 'H' is deprecated and will be removed in a future version, please use 'h' instead.\n",
      "  df['hora_destino'] = df['fecha_destino_recorrido'].dt.floor('H')\n",
      "c:\\Users\\felic\\OneDrive\\Documentos\\GitHub\\TPsM-todos\\BA_BICIS_MyC\\src_data\\crear_dataset.py:34: FutureWarning: 'H' is deprecated and will be removed in a future version, please use 'h' instead.\n",
      "  fecha_min = df['fecha_origen_recorrido'].min().floor('H')\n",
      "c:\\Users\\felic\\OneDrive\\Documentos\\GitHub\\TPsM-todos\\BA_BICIS_MyC\\src_data\\crear_dataset.py:35: FutureWarning: 'H' is deprecated and will be removed in a future version, please use 'h' instead.\n",
      "  fecha_max = df['fecha_destino_recorrido'].max().floor('H')\n",
      "c:\\Users\\felic\\OneDrive\\Documentos\\GitHub\\TPsM-todos\\BA_BICIS_MyC\\src_data\\crear_dataset.py:38: FutureWarning: 'H' is deprecated and will be removed in a future version, please use 'h' instead.\n",
      "  horas_completas = pd.date_range(start=fecha_min, end=fecha_max, freq='H')\n"
     ]
    },
    {
     "name": "stdout",
     "output_type": "stream",
     "text": [
      "Procesando estación 182...\n"
     ]
    },
    {
     "name": "stderr",
     "output_type": "stream",
     "text": [
      "c:\\Users\\felic\\OneDrive\\Documentos\\GitHub\\TPsM-todos\\BA_BICIS_MyC\\src_data\\crear_dataset.py:26: FutureWarning: 'H' is deprecated and will be removed in a future version, please use 'h' instead.\n",
      "  df['hora_origen'] = df['fecha_origen_recorrido'].dt.floor('H')\n",
      "c:\\Users\\felic\\OneDrive\\Documentos\\GitHub\\TPsM-todos\\BA_BICIS_MyC\\src_data\\crear_dataset.py:27: FutureWarning: 'H' is deprecated and will be removed in a future version, please use 'h' instead.\n",
      "  df['hora_destino'] = df['fecha_destino_recorrido'].dt.floor('H')\n",
      "c:\\Users\\felic\\OneDrive\\Documentos\\GitHub\\TPsM-todos\\BA_BICIS_MyC\\src_data\\crear_dataset.py:34: FutureWarning: 'H' is deprecated and will be removed in a future version, please use 'h' instead.\n",
      "  fecha_min = df['fecha_origen_recorrido'].min().floor('H')\n",
      "c:\\Users\\felic\\OneDrive\\Documentos\\GitHub\\TPsM-todos\\BA_BICIS_MyC\\src_data\\crear_dataset.py:35: FutureWarning: 'H' is deprecated and will be removed in a future version, please use 'h' instead.\n",
      "  fecha_max = df['fecha_destino_recorrido'].max().floor('H')\n",
      "c:\\Users\\felic\\OneDrive\\Documentos\\GitHub\\TPsM-todos\\BA_BICIS_MyC\\src_data\\crear_dataset.py:38: FutureWarning: 'H' is deprecated and will be removed in a future version, please use 'h' instead.\n",
      "  horas_completas = pd.date_range(start=fecha_min, end=fecha_max, freq='H')\n"
     ]
    },
    {
     "name": "stdout",
     "output_type": "stream",
     "text": [
      "Procesando estación 183...\n"
     ]
    },
    {
     "name": "stderr",
     "output_type": "stream",
     "text": [
      "c:\\Users\\felic\\OneDrive\\Documentos\\GitHub\\TPsM-todos\\BA_BICIS_MyC\\src_data\\crear_dataset.py:26: FutureWarning: 'H' is deprecated and will be removed in a future version, please use 'h' instead.\n",
      "  df['hora_origen'] = df['fecha_origen_recorrido'].dt.floor('H')\n",
      "c:\\Users\\felic\\OneDrive\\Documentos\\GitHub\\TPsM-todos\\BA_BICIS_MyC\\src_data\\crear_dataset.py:27: FutureWarning: 'H' is deprecated and will be removed in a future version, please use 'h' instead.\n",
      "  df['hora_destino'] = df['fecha_destino_recorrido'].dt.floor('H')\n",
      "c:\\Users\\felic\\OneDrive\\Documentos\\GitHub\\TPsM-todos\\BA_BICIS_MyC\\src_data\\crear_dataset.py:34: FutureWarning: 'H' is deprecated and will be removed in a future version, please use 'h' instead.\n",
      "  fecha_min = df['fecha_origen_recorrido'].min().floor('H')\n",
      "c:\\Users\\felic\\OneDrive\\Documentos\\GitHub\\TPsM-todos\\BA_BICIS_MyC\\src_data\\crear_dataset.py:35: FutureWarning: 'H' is deprecated and will be removed in a future version, please use 'h' instead.\n",
      "  fecha_max = df['fecha_destino_recorrido'].max().floor('H')\n",
      "c:\\Users\\felic\\OneDrive\\Documentos\\GitHub\\TPsM-todos\\BA_BICIS_MyC\\src_data\\crear_dataset.py:38: FutureWarning: 'H' is deprecated and will be removed in a future version, please use 'h' instead.\n",
      "  horas_completas = pd.date_range(start=fecha_min, end=fecha_max, freq='H')\n"
     ]
    },
    {
     "name": "stdout",
     "output_type": "stream",
     "text": [
      "Procesando estación 184...\n"
     ]
    },
    {
     "name": "stderr",
     "output_type": "stream",
     "text": [
      "c:\\Users\\felic\\OneDrive\\Documentos\\GitHub\\TPsM-todos\\BA_BICIS_MyC\\src_data\\crear_dataset.py:26: FutureWarning: 'H' is deprecated and will be removed in a future version, please use 'h' instead.\n",
      "  df['hora_origen'] = df['fecha_origen_recorrido'].dt.floor('H')\n",
      "c:\\Users\\felic\\OneDrive\\Documentos\\GitHub\\TPsM-todos\\BA_BICIS_MyC\\src_data\\crear_dataset.py:27: FutureWarning: 'H' is deprecated and will be removed in a future version, please use 'h' instead.\n",
      "  df['hora_destino'] = df['fecha_destino_recorrido'].dt.floor('H')\n",
      "c:\\Users\\felic\\OneDrive\\Documentos\\GitHub\\TPsM-todos\\BA_BICIS_MyC\\src_data\\crear_dataset.py:34: FutureWarning: 'H' is deprecated and will be removed in a future version, please use 'h' instead.\n",
      "  fecha_min = df['fecha_origen_recorrido'].min().floor('H')\n",
      "c:\\Users\\felic\\OneDrive\\Documentos\\GitHub\\TPsM-todos\\BA_BICIS_MyC\\src_data\\crear_dataset.py:35: FutureWarning: 'H' is deprecated and will be removed in a future version, please use 'h' instead.\n",
      "  fecha_max = df['fecha_destino_recorrido'].max().floor('H')\n",
      "c:\\Users\\felic\\OneDrive\\Documentos\\GitHub\\TPsM-todos\\BA_BICIS_MyC\\src_data\\crear_dataset.py:38: FutureWarning: 'H' is deprecated and will be removed in a future version, please use 'h' instead.\n",
      "  horas_completas = pd.date_range(start=fecha_min, end=fecha_max, freq='H')\n"
     ]
    },
    {
     "name": "stdout",
     "output_type": "stream",
     "text": [
      "Procesando estación 186...\n"
     ]
    },
    {
     "name": "stderr",
     "output_type": "stream",
     "text": [
      "c:\\Users\\felic\\OneDrive\\Documentos\\GitHub\\TPsM-todos\\BA_BICIS_MyC\\src_data\\crear_dataset.py:26: FutureWarning: 'H' is deprecated and will be removed in a future version, please use 'h' instead.\n",
      "  df['hora_origen'] = df['fecha_origen_recorrido'].dt.floor('H')\n",
      "c:\\Users\\felic\\OneDrive\\Documentos\\GitHub\\TPsM-todos\\BA_BICIS_MyC\\src_data\\crear_dataset.py:27: FutureWarning: 'H' is deprecated and will be removed in a future version, please use 'h' instead.\n",
      "  df['hora_destino'] = df['fecha_destino_recorrido'].dt.floor('H')\n",
      "c:\\Users\\felic\\OneDrive\\Documentos\\GitHub\\TPsM-todos\\BA_BICIS_MyC\\src_data\\crear_dataset.py:34: FutureWarning: 'H' is deprecated and will be removed in a future version, please use 'h' instead.\n",
      "  fecha_min = df['fecha_origen_recorrido'].min().floor('H')\n",
      "c:\\Users\\felic\\OneDrive\\Documentos\\GitHub\\TPsM-todos\\BA_BICIS_MyC\\src_data\\crear_dataset.py:35: FutureWarning: 'H' is deprecated and will be removed in a future version, please use 'h' instead.\n",
      "  fecha_max = df['fecha_destino_recorrido'].max().floor('H')\n",
      "c:\\Users\\felic\\OneDrive\\Documentos\\GitHub\\TPsM-todos\\BA_BICIS_MyC\\src_data\\crear_dataset.py:38: FutureWarning: 'H' is deprecated and will be removed in a future version, please use 'h' instead.\n",
      "  horas_completas = pd.date_range(start=fecha_min, end=fecha_max, freq='H')\n"
     ]
    },
    {
     "name": "stdout",
     "output_type": "stream",
     "text": [
      "Procesando estación 187...\n"
     ]
    },
    {
     "name": "stderr",
     "output_type": "stream",
     "text": [
      "c:\\Users\\felic\\OneDrive\\Documentos\\GitHub\\TPsM-todos\\BA_BICIS_MyC\\src_data\\crear_dataset.py:26: FutureWarning: 'H' is deprecated and will be removed in a future version, please use 'h' instead.\n",
      "  df['hora_origen'] = df['fecha_origen_recorrido'].dt.floor('H')\n",
      "c:\\Users\\felic\\OneDrive\\Documentos\\GitHub\\TPsM-todos\\BA_BICIS_MyC\\src_data\\crear_dataset.py:27: FutureWarning: 'H' is deprecated and will be removed in a future version, please use 'h' instead.\n",
      "  df['hora_destino'] = df['fecha_destino_recorrido'].dt.floor('H')\n",
      "c:\\Users\\felic\\OneDrive\\Documentos\\GitHub\\TPsM-todos\\BA_BICIS_MyC\\src_data\\crear_dataset.py:34: FutureWarning: 'H' is deprecated and will be removed in a future version, please use 'h' instead.\n",
      "  fecha_min = df['fecha_origen_recorrido'].min().floor('H')\n",
      "c:\\Users\\felic\\OneDrive\\Documentos\\GitHub\\TPsM-todos\\BA_BICIS_MyC\\src_data\\crear_dataset.py:35: FutureWarning: 'H' is deprecated and will be removed in a future version, please use 'h' instead.\n",
      "  fecha_max = df['fecha_destino_recorrido'].max().floor('H')\n",
      "c:\\Users\\felic\\OneDrive\\Documentos\\GitHub\\TPsM-todos\\BA_BICIS_MyC\\src_data\\crear_dataset.py:38: FutureWarning: 'H' is deprecated and will be removed in a future version, please use 'h' instead.\n",
      "  horas_completas = pd.date_range(start=fecha_min, end=fecha_max, freq='H')\n"
     ]
    },
    {
     "name": "stdout",
     "output_type": "stream",
     "text": [
      "Procesando estación 188...\n"
     ]
    },
    {
     "name": "stderr",
     "output_type": "stream",
     "text": [
      "c:\\Users\\felic\\OneDrive\\Documentos\\GitHub\\TPsM-todos\\BA_BICIS_MyC\\src_data\\crear_dataset.py:26: FutureWarning: 'H' is deprecated and will be removed in a future version, please use 'h' instead.\n",
      "  df['hora_origen'] = df['fecha_origen_recorrido'].dt.floor('H')\n",
      "c:\\Users\\felic\\OneDrive\\Documentos\\GitHub\\TPsM-todos\\BA_BICIS_MyC\\src_data\\crear_dataset.py:27: FutureWarning: 'H' is deprecated and will be removed in a future version, please use 'h' instead.\n",
      "  df['hora_destino'] = df['fecha_destino_recorrido'].dt.floor('H')\n",
      "c:\\Users\\felic\\OneDrive\\Documentos\\GitHub\\TPsM-todos\\BA_BICIS_MyC\\src_data\\crear_dataset.py:34: FutureWarning: 'H' is deprecated and will be removed in a future version, please use 'h' instead.\n",
      "  fecha_min = df['fecha_origen_recorrido'].min().floor('H')\n",
      "c:\\Users\\felic\\OneDrive\\Documentos\\GitHub\\TPsM-todos\\BA_BICIS_MyC\\src_data\\crear_dataset.py:35: FutureWarning: 'H' is deprecated and will be removed in a future version, please use 'h' instead.\n",
      "  fecha_max = df['fecha_destino_recorrido'].max().floor('H')\n",
      "c:\\Users\\felic\\OneDrive\\Documentos\\GitHub\\TPsM-todos\\BA_BICIS_MyC\\src_data\\crear_dataset.py:38: FutureWarning: 'H' is deprecated and will be removed in a future version, please use 'h' instead.\n",
      "  horas_completas = pd.date_range(start=fecha_min, end=fecha_max, freq='H')\n"
     ]
    },
    {
     "name": "stdout",
     "output_type": "stream",
     "text": [
      "Procesando estación 189...\n"
     ]
    },
    {
     "name": "stderr",
     "output_type": "stream",
     "text": [
      "c:\\Users\\felic\\OneDrive\\Documentos\\GitHub\\TPsM-todos\\BA_BICIS_MyC\\src_data\\crear_dataset.py:26: FutureWarning: 'H' is deprecated and will be removed in a future version, please use 'h' instead.\n",
      "  df['hora_origen'] = df['fecha_origen_recorrido'].dt.floor('H')\n",
      "c:\\Users\\felic\\OneDrive\\Documentos\\GitHub\\TPsM-todos\\BA_BICIS_MyC\\src_data\\crear_dataset.py:27: FutureWarning: 'H' is deprecated and will be removed in a future version, please use 'h' instead.\n",
      "  df['hora_destino'] = df['fecha_destino_recorrido'].dt.floor('H')\n",
      "c:\\Users\\felic\\OneDrive\\Documentos\\GitHub\\TPsM-todos\\BA_BICIS_MyC\\src_data\\crear_dataset.py:34: FutureWarning: 'H' is deprecated and will be removed in a future version, please use 'h' instead.\n",
      "  fecha_min = df['fecha_origen_recorrido'].min().floor('H')\n",
      "c:\\Users\\felic\\OneDrive\\Documentos\\GitHub\\TPsM-todos\\BA_BICIS_MyC\\src_data\\crear_dataset.py:35: FutureWarning: 'H' is deprecated and will be removed in a future version, please use 'h' instead.\n",
      "  fecha_max = df['fecha_destino_recorrido'].max().floor('H')\n",
      "c:\\Users\\felic\\OneDrive\\Documentos\\GitHub\\TPsM-todos\\BA_BICIS_MyC\\src_data\\crear_dataset.py:38: FutureWarning: 'H' is deprecated and will be removed in a future version, please use 'h' instead.\n",
      "  horas_completas = pd.date_range(start=fecha_min, end=fecha_max, freq='H')\n"
     ]
    },
    {
     "name": "stdout",
     "output_type": "stream",
     "text": [
      "Procesando estación 190...\n"
     ]
    },
    {
     "name": "stderr",
     "output_type": "stream",
     "text": [
      "c:\\Users\\felic\\OneDrive\\Documentos\\GitHub\\TPsM-todos\\BA_BICIS_MyC\\src_data\\crear_dataset.py:26: FutureWarning: 'H' is deprecated and will be removed in a future version, please use 'h' instead.\n",
      "  df['hora_origen'] = df['fecha_origen_recorrido'].dt.floor('H')\n",
      "c:\\Users\\felic\\OneDrive\\Documentos\\GitHub\\TPsM-todos\\BA_BICIS_MyC\\src_data\\crear_dataset.py:27: FutureWarning: 'H' is deprecated and will be removed in a future version, please use 'h' instead.\n",
      "  df['hora_destino'] = df['fecha_destino_recorrido'].dt.floor('H')\n",
      "c:\\Users\\felic\\OneDrive\\Documentos\\GitHub\\TPsM-todos\\BA_BICIS_MyC\\src_data\\crear_dataset.py:34: FutureWarning: 'H' is deprecated and will be removed in a future version, please use 'h' instead.\n",
      "  fecha_min = df['fecha_origen_recorrido'].min().floor('H')\n",
      "c:\\Users\\felic\\OneDrive\\Documentos\\GitHub\\TPsM-todos\\BA_BICIS_MyC\\src_data\\crear_dataset.py:35: FutureWarning: 'H' is deprecated and will be removed in a future version, please use 'h' instead.\n",
      "  fecha_max = df['fecha_destino_recorrido'].max().floor('H')\n",
      "c:\\Users\\felic\\OneDrive\\Documentos\\GitHub\\TPsM-todos\\BA_BICIS_MyC\\src_data\\crear_dataset.py:38: FutureWarning: 'H' is deprecated and will be removed in a future version, please use 'h' instead.\n",
      "  horas_completas = pd.date_range(start=fecha_min, end=fecha_max, freq='H')\n"
     ]
    },
    {
     "name": "stdout",
     "output_type": "stream",
     "text": [
      "Procesando estación 191...\n"
     ]
    },
    {
     "name": "stderr",
     "output_type": "stream",
     "text": [
      "c:\\Users\\felic\\OneDrive\\Documentos\\GitHub\\TPsM-todos\\BA_BICIS_MyC\\src_data\\crear_dataset.py:26: FutureWarning: 'H' is deprecated and will be removed in a future version, please use 'h' instead.\n",
      "  df['hora_origen'] = df['fecha_origen_recorrido'].dt.floor('H')\n",
      "c:\\Users\\felic\\OneDrive\\Documentos\\GitHub\\TPsM-todos\\BA_BICIS_MyC\\src_data\\crear_dataset.py:27: FutureWarning: 'H' is deprecated and will be removed in a future version, please use 'h' instead.\n",
      "  df['hora_destino'] = df['fecha_destino_recorrido'].dt.floor('H')\n",
      "c:\\Users\\felic\\OneDrive\\Documentos\\GitHub\\TPsM-todos\\BA_BICIS_MyC\\src_data\\crear_dataset.py:34: FutureWarning: 'H' is deprecated and will be removed in a future version, please use 'h' instead.\n",
      "  fecha_min = df['fecha_origen_recorrido'].min().floor('H')\n",
      "c:\\Users\\felic\\OneDrive\\Documentos\\GitHub\\TPsM-todos\\BA_BICIS_MyC\\src_data\\crear_dataset.py:35: FutureWarning: 'H' is deprecated and will be removed in a future version, please use 'h' instead.\n",
      "  fecha_max = df['fecha_destino_recorrido'].max().floor('H')\n",
      "c:\\Users\\felic\\OneDrive\\Documentos\\GitHub\\TPsM-todos\\BA_BICIS_MyC\\src_data\\crear_dataset.py:38: FutureWarning: 'H' is deprecated and will be removed in a future version, please use 'h' instead.\n",
      "  horas_completas = pd.date_range(start=fecha_min, end=fecha_max, freq='H')\n"
     ]
    },
    {
     "name": "stdout",
     "output_type": "stream",
     "text": [
      "Procesando estación 193...\n"
     ]
    },
    {
     "name": "stderr",
     "output_type": "stream",
     "text": [
      "c:\\Users\\felic\\OneDrive\\Documentos\\GitHub\\TPsM-todos\\BA_BICIS_MyC\\src_data\\crear_dataset.py:26: FutureWarning: 'H' is deprecated and will be removed in a future version, please use 'h' instead.\n",
      "  df['hora_origen'] = df['fecha_origen_recorrido'].dt.floor('H')\n",
      "c:\\Users\\felic\\OneDrive\\Documentos\\GitHub\\TPsM-todos\\BA_BICIS_MyC\\src_data\\crear_dataset.py:27: FutureWarning: 'H' is deprecated and will be removed in a future version, please use 'h' instead.\n",
      "  df['hora_destino'] = df['fecha_destino_recorrido'].dt.floor('H')\n",
      "c:\\Users\\felic\\OneDrive\\Documentos\\GitHub\\TPsM-todos\\BA_BICIS_MyC\\src_data\\crear_dataset.py:34: FutureWarning: 'H' is deprecated and will be removed in a future version, please use 'h' instead.\n",
      "  fecha_min = df['fecha_origen_recorrido'].min().floor('H')\n",
      "c:\\Users\\felic\\OneDrive\\Documentos\\GitHub\\TPsM-todos\\BA_BICIS_MyC\\src_data\\crear_dataset.py:35: FutureWarning: 'H' is deprecated and will be removed in a future version, please use 'h' instead.\n",
      "  fecha_max = df['fecha_destino_recorrido'].max().floor('H')\n",
      "c:\\Users\\felic\\OneDrive\\Documentos\\GitHub\\TPsM-todos\\BA_BICIS_MyC\\src_data\\crear_dataset.py:38: FutureWarning: 'H' is deprecated and will be removed in a future version, please use 'h' instead.\n",
      "  horas_completas = pd.date_range(start=fecha_min, end=fecha_max, freq='H')\n"
     ]
    },
    {
     "name": "stdout",
     "output_type": "stream",
     "text": [
      "Procesando estación 194...\n"
     ]
    },
    {
     "name": "stderr",
     "output_type": "stream",
     "text": [
      "c:\\Users\\felic\\OneDrive\\Documentos\\GitHub\\TPsM-todos\\BA_BICIS_MyC\\src_data\\crear_dataset.py:26: FutureWarning: 'H' is deprecated and will be removed in a future version, please use 'h' instead.\n",
      "  df['hora_origen'] = df['fecha_origen_recorrido'].dt.floor('H')\n",
      "c:\\Users\\felic\\OneDrive\\Documentos\\GitHub\\TPsM-todos\\BA_BICIS_MyC\\src_data\\crear_dataset.py:27: FutureWarning: 'H' is deprecated and will be removed in a future version, please use 'h' instead.\n",
      "  df['hora_destino'] = df['fecha_destino_recorrido'].dt.floor('H')\n",
      "c:\\Users\\felic\\OneDrive\\Documentos\\GitHub\\TPsM-todos\\BA_BICIS_MyC\\src_data\\crear_dataset.py:34: FutureWarning: 'H' is deprecated and will be removed in a future version, please use 'h' instead.\n",
      "  fecha_min = df['fecha_origen_recorrido'].min().floor('H')\n",
      "c:\\Users\\felic\\OneDrive\\Documentos\\GitHub\\TPsM-todos\\BA_BICIS_MyC\\src_data\\crear_dataset.py:35: FutureWarning: 'H' is deprecated and will be removed in a future version, please use 'h' instead.\n",
      "  fecha_max = df['fecha_destino_recorrido'].max().floor('H')\n",
      "c:\\Users\\felic\\OneDrive\\Documentos\\GitHub\\TPsM-todos\\BA_BICIS_MyC\\src_data\\crear_dataset.py:38: FutureWarning: 'H' is deprecated and will be removed in a future version, please use 'h' instead.\n",
      "  horas_completas = pd.date_range(start=fecha_min, end=fecha_max, freq='H')\n"
     ]
    },
    {
     "name": "stdout",
     "output_type": "stream",
     "text": [
      "Procesando estación 196...\n"
     ]
    },
    {
     "name": "stderr",
     "output_type": "stream",
     "text": [
      "c:\\Users\\felic\\OneDrive\\Documentos\\GitHub\\TPsM-todos\\BA_BICIS_MyC\\src_data\\crear_dataset.py:26: FutureWarning: 'H' is deprecated and will be removed in a future version, please use 'h' instead.\n",
      "  df['hora_origen'] = df['fecha_origen_recorrido'].dt.floor('H')\n",
      "c:\\Users\\felic\\OneDrive\\Documentos\\GitHub\\TPsM-todos\\BA_BICIS_MyC\\src_data\\crear_dataset.py:27: FutureWarning: 'H' is deprecated and will be removed in a future version, please use 'h' instead.\n",
      "  df['hora_destino'] = df['fecha_destino_recorrido'].dt.floor('H')\n",
      "c:\\Users\\felic\\OneDrive\\Documentos\\GitHub\\TPsM-todos\\BA_BICIS_MyC\\src_data\\crear_dataset.py:34: FutureWarning: 'H' is deprecated and will be removed in a future version, please use 'h' instead.\n",
      "  fecha_min = df['fecha_origen_recorrido'].min().floor('H')\n",
      "c:\\Users\\felic\\OneDrive\\Documentos\\GitHub\\TPsM-todos\\BA_BICIS_MyC\\src_data\\crear_dataset.py:35: FutureWarning: 'H' is deprecated and will be removed in a future version, please use 'h' instead.\n",
      "  fecha_max = df['fecha_destino_recorrido'].max().floor('H')\n",
      "c:\\Users\\felic\\OneDrive\\Documentos\\GitHub\\TPsM-todos\\BA_BICIS_MyC\\src_data\\crear_dataset.py:38: FutureWarning: 'H' is deprecated and will be removed in a future version, please use 'h' instead.\n",
      "  horas_completas = pd.date_range(start=fecha_min, end=fecha_max, freq='H')\n"
     ]
    },
    {
     "name": "stdout",
     "output_type": "stream",
     "text": [
      "Procesando estación 197...\n"
     ]
    },
    {
     "name": "stderr",
     "output_type": "stream",
     "text": [
      "c:\\Users\\felic\\OneDrive\\Documentos\\GitHub\\TPsM-todos\\BA_BICIS_MyC\\src_data\\crear_dataset.py:26: FutureWarning: 'H' is deprecated and will be removed in a future version, please use 'h' instead.\n",
      "  df['hora_origen'] = df['fecha_origen_recorrido'].dt.floor('H')\n",
      "c:\\Users\\felic\\OneDrive\\Documentos\\GitHub\\TPsM-todos\\BA_BICIS_MyC\\src_data\\crear_dataset.py:27: FutureWarning: 'H' is deprecated and will be removed in a future version, please use 'h' instead.\n",
      "  df['hora_destino'] = df['fecha_destino_recorrido'].dt.floor('H')\n",
      "c:\\Users\\felic\\OneDrive\\Documentos\\GitHub\\TPsM-todos\\BA_BICIS_MyC\\src_data\\crear_dataset.py:34: FutureWarning: 'H' is deprecated and will be removed in a future version, please use 'h' instead.\n",
      "  fecha_min = df['fecha_origen_recorrido'].min().floor('H')\n",
      "c:\\Users\\felic\\OneDrive\\Documentos\\GitHub\\TPsM-todos\\BA_BICIS_MyC\\src_data\\crear_dataset.py:35: FutureWarning: 'H' is deprecated and will be removed in a future version, please use 'h' instead.\n",
      "  fecha_max = df['fecha_destino_recorrido'].max().floor('H')\n",
      "c:\\Users\\felic\\OneDrive\\Documentos\\GitHub\\TPsM-todos\\BA_BICIS_MyC\\src_data\\crear_dataset.py:38: FutureWarning: 'H' is deprecated and will be removed in a future version, please use 'h' instead.\n",
      "  horas_completas = pd.date_range(start=fecha_min, end=fecha_max, freq='H')\n"
     ]
    },
    {
     "name": "stdout",
     "output_type": "stream",
     "text": [
      "Procesando estación 199...\n"
     ]
    },
    {
     "name": "stderr",
     "output_type": "stream",
     "text": [
      "c:\\Users\\felic\\OneDrive\\Documentos\\GitHub\\TPsM-todos\\BA_BICIS_MyC\\src_data\\crear_dataset.py:26: FutureWarning: 'H' is deprecated and will be removed in a future version, please use 'h' instead.\n",
      "  df['hora_origen'] = df['fecha_origen_recorrido'].dt.floor('H')\n",
      "c:\\Users\\felic\\OneDrive\\Documentos\\GitHub\\TPsM-todos\\BA_BICIS_MyC\\src_data\\crear_dataset.py:27: FutureWarning: 'H' is deprecated and will be removed in a future version, please use 'h' instead.\n",
      "  df['hora_destino'] = df['fecha_destino_recorrido'].dt.floor('H')\n",
      "c:\\Users\\felic\\OneDrive\\Documentos\\GitHub\\TPsM-todos\\BA_BICIS_MyC\\src_data\\crear_dataset.py:34: FutureWarning: 'H' is deprecated and will be removed in a future version, please use 'h' instead.\n",
      "  fecha_min = df['fecha_origen_recorrido'].min().floor('H')\n",
      "c:\\Users\\felic\\OneDrive\\Documentos\\GitHub\\TPsM-todos\\BA_BICIS_MyC\\src_data\\crear_dataset.py:35: FutureWarning: 'H' is deprecated and will be removed in a future version, please use 'h' instead.\n",
      "  fecha_max = df['fecha_destino_recorrido'].max().floor('H')\n",
      "c:\\Users\\felic\\OneDrive\\Documentos\\GitHub\\TPsM-todos\\BA_BICIS_MyC\\src_data\\crear_dataset.py:38: FutureWarning: 'H' is deprecated and will be removed in a future version, please use 'h' instead.\n",
      "  horas_completas = pd.date_range(start=fecha_min, end=fecha_max, freq='H')\n"
     ]
    },
    {
     "name": "stdout",
     "output_type": "stream",
     "text": [
      "Procesando estación 200...\n"
     ]
    },
    {
     "name": "stderr",
     "output_type": "stream",
     "text": [
      "c:\\Users\\felic\\OneDrive\\Documentos\\GitHub\\TPsM-todos\\BA_BICIS_MyC\\src_data\\crear_dataset.py:26: FutureWarning: 'H' is deprecated and will be removed in a future version, please use 'h' instead.\n",
      "  df['hora_origen'] = df['fecha_origen_recorrido'].dt.floor('H')\n",
      "c:\\Users\\felic\\OneDrive\\Documentos\\GitHub\\TPsM-todos\\BA_BICIS_MyC\\src_data\\crear_dataset.py:27: FutureWarning: 'H' is deprecated and will be removed in a future version, please use 'h' instead.\n",
      "  df['hora_destino'] = df['fecha_destino_recorrido'].dt.floor('H')\n",
      "c:\\Users\\felic\\OneDrive\\Documentos\\GitHub\\TPsM-todos\\BA_BICIS_MyC\\src_data\\crear_dataset.py:34: FutureWarning: 'H' is deprecated and will be removed in a future version, please use 'h' instead.\n",
      "  fecha_min = df['fecha_origen_recorrido'].min().floor('H')\n",
      "c:\\Users\\felic\\OneDrive\\Documentos\\GitHub\\TPsM-todos\\BA_BICIS_MyC\\src_data\\crear_dataset.py:35: FutureWarning: 'H' is deprecated and will be removed in a future version, please use 'h' instead.\n",
      "  fecha_max = df['fecha_destino_recorrido'].max().floor('H')\n",
      "c:\\Users\\felic\\OneDrive\\Documentos\\GitHub\\TPsM-todos\\BA_BICIS_MyC\\src_data\\crear_dataset.py:38: FutureWarning: 'H' is deprecated and will be removed in a future version, please use 'h' instead.\n",
      "  horas_completas = pd.date_range(start=fecha_min, end=fecha_max, freq='H')\n"
     ]
    },
    {
     "name": "stdout",
     "output_type": "stream",
     "text": [
      "Procesando estación 202...\n"
     ]
    },
    {
     "name": "stderr",
     "output_type": "stream",
     "text": [
      "c:\\Users\\felic\\OneDrive\\Documentos\\GitHub\\TPsM-todos\\BA_BICIS_MyC\\src_data\\crear_dataset.py:26: FutureWarning: 'H' is deprecated and will be removed in a future version, please use 'h' instead.\n",
      "  df['hora_origen'] = df['fecha_origen_recorrido'].dt.floor('H')\n",
      "c:\\Users\\felic\\OneDrive\\Documentos\\GitHub\\TPsM-todos\\BA_BICIS_MyC\\src_data\\crear_dataset.py:27: FutureWarning: 'H' is deprecated and will be removed in a future version, please use 'h' instead.\n",
      "  df['hora_destino'] = df['fecha_destino_recorrido'].dt.floor('H')\n",
      "c:\\Users\\felic\\OneDrive\\Documentos\\GitHub\\TPsM-todos\\BA_BICIS_MyC\\src_data\\crear_dataset.py:34: FutureWarning: 'H' is deprecated and will be removed in a future version, please use 'h' instead.\n",
      "  fecha_min = df['fecha_origen_recorrido'].min().floor('H')\n",
      "c:\\Users\\felic\\OneDrive\\Documentos\\GitHub\\TPsM-todos\\BA_BICIS_MyC\\src_data\\crear_dataset.py:35: FutureWarning: 'H' is deprecated and will be removed in a future version, please use 'h' instead.\n",
      "  fecha_max = df['fecha_destino_recorrido'].max().floor('H')\n",
      "c:\\Users\\felic\\OneDrive\\Documentos\\GitHub\\TPsM-todos\\BA_BICIS_MyC\\src_data\\crear_dataset.py:38: FutureWarning: 'H' is deprecated and will be removed in a future version, please use 'h' instead.\n",
      "  horas_completas = pd.date_range(start=fecha_min, end=fecha_max, freq='H')\n"
     ]
    },
    {
     "name": "stdout",
     "output_type": "stream",
     "text": [
      "Procesando estación 203...\n"
     ]
    },
    {
     "name": "stderr",
     "output_type": "stream",
     "text": [
      "c:\\Users\\felic\\OneDrive\\Documentos\\GitHub\\TPsM-todos\\BA_BICIS_MyC\\src_data\\crear_dataset.py:26: FutureWarning: 'H' is deprecated and will be removed in a future version, please use 'h' instead.\n",
      "  df['hora_origen'] = df['fecha_origen_recorrido'].dt.floor('H')\n",
      "c:\\Users\\felic\\OneDrive\\Documentos\\GitHub\\TPsM-todos\\BA_BICIS_MyC\\src_data\\crear_dataset.py:27: FutureWarning: 'H' is deprecated and will be removed in a future version, please use 'h' instead.\n",
      "  df['hora_destino'] = df['fecha_destino_recorrido'].dt.floor('H')\n",
      "c:\\Users\\felic\\OneDrive\\Documentos\\GitHub\\TPsM-todos\\BA_BICIS_MyC\\src_data\\crear_dataset.py:34: FutureWarning: 'H' is deprecated and will be removed in a future version, please use 'h' instead.\n",
      "  fecha_min = df['fecha_origen_recorrido'].min().floor('H')\n",
      "c:\\Users\\felic\\OneDrive\\Documentos\\GitHub\\TPsM-todos\\BA_BICIS_MyC\\src_data\\crear_dataset.py:35: FutureWarning: 'H' is deprecated and will be removed in a future version, please use 'h' instead.\n",
      "  fecha_max = df['fecha_destino_recorrido'].max().floor('H')\n",
      "c:\\Users\\felic\\OneDrive\\Documentos\\GitHub\\TPsM-todos\\BA_BICIS_MyC\\src_data\\crear_dataset.py:38: FutureWarning: 'H' is deprecated and will be removed in a future version, please use 'h' instead.\n",
      "  horas_completas = pd.date_range(start=fecha_min, end=fecha_max, freq='H')\n"
     ]
    },
    {
     "name": "stdout",
     "output_type": "stream",
     "text": [
      "Procesando estación 204...\n"
     ]
    },
    {
     "name": "stderr",
     "output_type": "stream",
     "text": [
      "c:\\Users\\felic\\OneDrive\\Documentos\\GitHub\\TPsM-todos\\BA_BICIS_MyC\\src_data\\crear_dataset.py:26: FutureWarning: 'H' is deprecated and will be removed in a future version, please use 'h' instead.\n",
      "  df['hora_origen'] = df['fecha_origen_recorrido'].dt.floor('H')\n",
      "c:\\Users\\felic\\OneDrive\\Documentos\\GitHub\\TPsM-todos\\BA_BICIS_MyC\\src_data\\crear_dataset.py:27: FutureWarning: 'H' is deprecated and will be removed in a future version, please use 'h' instead.\n",
      "  df['hora_destino'] = df['fecha_destino_recorrido'].dt.floor('H')\n",
      "c:\\Users\\felic\\OneDrive\\Documentos\\GitHub\\TPsM-todos\\BA_BICIS_MyC\\src_data\\crear_dataset.py:34: FutureWarning: 'H' is deprecated and will be removed in a future version, please use 'h' instead.\n",
      "  fecha_min = df['fecha_origen_recorrido'].min().floor('H')\n",
      "c:\\Users\\felic\\OneDrive\\Documentos\\GitHub\\TPsM-todos\\BA_BICIS_MyC\\src_data\\crear_dataset.py:35: FutureWarning: 'H' is deprecated and will be removed in a future version, please use 'h' instead.\n",
      "  fecha_max = df['fecha_destino_recorrido'].max().floor('H')\n",
      "c:\\Users\\felic\\OneDrive\\Documentos\\GitHub\\TPsM-todos\\BA_BICIS_MyC\\src_data\\crear_dataset.py:38: FutureWarning: 'H' is deprecated and will be removed in a future version, please use 'h' instead.\n",
      "  horas_completas = pd.date_range(start=fecha_min, end=fecha_max, freq='H')\n"
     ]
    },
    {
     "name": "stdout",
     "output_type": "stream",
     "text": [
      "Procesando estación 205...\n"
     ]
    },
    {
     "name": "stderr",
     "output_type": "stream",
     "text": [
      "c:\\Users\\felic\\OneDrive\\Documentos\\GitHub\\TPsM-todos\\BA_BICIS_MyC\\src_data\\crear_dataset.py:26: FutureWarning: 'H' is deprecated and will be removed in a future version, please use 'h' instead.\n",
      "  df['hora_origen'] = df['fecha_origen_recorrido'].dt.floor('H')\n",
      "c:\\Users\\felic\\OneDrive\\Documentos\\GitHub\\TPsM-todos\\BA_BICIS_MyC\\src_data\\crear_dataset.py:27: FutureWarning: 'H' is deprecated and will be removed in a future version, please use 'h' instead.\n",
      "  df['hora_destino'] = df['fecha_destino_recorrido'].dt.floor('H')\n",
      "c:\\Users\\felic\\OneDrive\\Documentos\\GitHub\\TPsM-todos\\BA_BICIS_MyC\\src_data\\crear_dataset.py:34: FutureWarning: 'H' is deprecated and will be removed in a future version, please use 'h' instead.\n",
      "  fecha_min = df['fecha_origen_recorrido'].min().floor('H')\n",
      "c:\\Users\\felic\\OneDrive\\Documentos\\GitHub\\TPsM-todos\\BA_BICIS_MyC\\src_data\\crear_dataset.py:35: FutureWarning: 'H' is deprecated and will be removed in a future version, please use 'h' instead.\n",
      "  fecha_max = df['fecha_destino_recorrido'].max().floor('H')\n",
      "c:\\Users\\felic\\OneDrive\\Documentos\\GitHub\\TPsM-todos\\BA_BICIS_MyC\\src_data\\crear_dataset.py:38: FutureWarning: 'H' is deprecated and will be removed in a future version, please use 'h' instead.\n",
      "  horas_completas = pd.date_range(start=fecha_min, end=fecha_max, freq='H')\n"
     ]
    },
    {
     "name": "stdout",
     "output_type": "stream",
     "text": [
      "Procesando estación 206...\n"
     ]
    },
    {
     "name": "stderr",
     "output_type": "stream",
     "text": [
      "c:\\Users\\felic\\OneDrive\\Documentos\\GitHub\\TPsM-todos\\BA_BICIS_MyC\\src_data\\crear_dataset.py:26: FutureWarning: 'H' is deprecated and will be removed in a future version, please use 'h' instead.\n",
      "  df['hora_origen'] = df['fecha_origen_recorrido'].dt.floor('H')\n"
     ]
    },
    {
     "name": "stdout",
     "output_type": "stream",
     "text": [
      "Error procesando estación 206: Unable to allocate 64.5 MiB for an array with shape (8448696,) and data type datetime64[ns]\n",
      "Procesando estación 207...\n"
     ]
    },
    {
     "name": "stderr",
     "output_type": "stream",
     "text": [
      "c:\\Users\\felic\\OneDrive\\Documentos\\GitHub\\TPsM-todos\\BA_BICIS_MyC\\src_data\\crear_dataset.py:26: FutureWarning: 'H' is deprecated and will be removed in a future version, please use 'h' instead.\n",
      "  df['hora_origen'] = df['fecha_origen_recorrido'].dt.floor('H')\n"
     ]
    },
    {
     "name": "stdout",
     "output_type": "stream",
     "text": [
      "Error procesando estación 207: Unable to allocate 64.5 MiB for an array with shape (8448696,) and data type datetime64[ns]\n",
      "Procesando estación 208...\n"
     ]
    },
    {
     "name": "stderr",
     "output_type": "stream",
     "text": [
      "c:\\Users\\felic\\OneDrive\\Documentos\\GitHub\\TPsM-todos\\BA_BICIS_MyC\\src_data\\crear_dataset.py:26: FutureWarning: 'H' is deprecated and will be removed in a future version, please use 'h' instead.\n",
      "  df['hora_origen'] = df['fecha_origen_recorrido'].dt.floor('H')\n",
      "c:\\Users\\felic\\OneDrive\\Documentos\\GitHub\\TPsM-todos\\BA_BICIS_MyC\\src_data\\crear_dataset.py:27: FutureWarning: 'H' is deprecated and will be removed in a future version, please use 'h' instead.\n",
      "  df['hora_destino'] = df['fecha_destino_recorrido'].dt.floor('H')\n"
     ]
    },
    {
     "name": "stdout",
     "output_type": "stream",
     "text": [
      "Error procesando estación 208: Unable to allocate 64.5 MiB for an array with shape (8448696,) and data type datetime64[ns]\n",
      "Procesando estación 210...\n"
     ]
    },
    {
     "name": "stderr",
     "output_type": "stream",
     "text": [
      "c:\\Users\\felic\\OneDrive\\Documentos\\GitHub\\TPsM-todos\\BA_BICIS_MyC\\src_data\\crear_dataset.py:26: FutureWarning: 'H' is deprecated and will be removed in a future version, please use 'h' instead.\n",
      "  df['hora_origen'] = df['fecha_origen_recorrido'].dt.floor('H')\n",
      "c:\\Users\\felic\\OneDrive\\Documentos\\GitHub\\TPsM-todos\\BA_BICIS_MyC\\src_data\\crear_dataset.py:27: FutureWarning: 'H' is deprecated and will be removed in a future version, please use 'h' instead.\n",
      "  df['hora_destino'] = df['fecha_destino_recorrido'].dt.floor('H')\n"
     ]
    },
    {
     "name": "stdout",
     "output_type": "stream",
     "text": [
      "Error procesando estación 210: Unable to allocate 64.5 MiB for an array with shape (8448696,) and data type datetime64[ns]\n",
      "Procesando estación 212...\n"
     ]
    },
    {
     "name": "stderr",
     "output_type": "stream",
     "text": [
      "c:\\Users\\felic\\OneDrive\\Documentos\\GitHub\\TPsM-todos\\BA_BICIS_MyC\\src_data\\crear_dataset.py:26: FutureWarning: 'H' is deprecated and will be removed in a future version, please use 'h' instead.\n",
      "  df['hora_origen'] = df['fecha_origen_recorrido'].dt.floor('H')\n",
      "c:\\Users\\felic\\OneDrive\\Documentos\\GitHub\\TPsM-todos\\BA_BICIS_MyC\\src_data\\crear_dataset.py:27: FutureWarning: 'H' is deprecated and will be removed in a future version, please use 'h' instead.\n",
      "  df['hora_destino'] = df['fecha_destino_recorrido'].dt.floor('H')\n"
     ]
    },
    {
     "name": "stdout",
     "output_type": "stream",
     "text": [
      "Error procesando estación 212: Unable to allocate 64.5 MiB for an array with shape (8448696,) and data type datetime64[ns]\n",
      "Procesando estación 213...\n"
     ]
    },
    {
     "name": "stderr",
     "output_type": "stream",
     "text": [
      "c:\\Users\\felic\\OneDrive\\Documentos\\GitHub\\TPsM-todos\\BA_BICIS_MyC\\src_data\\crear_dataset.py:26: FutureWarning: 'H' is deprecated and will be removed in a future version, please use 'h' instead.\n",
      "  df['hora_origen'] = df['fecha_origen_recorrido'].dt.floor('H')\n",
      "c:\\Users\\felic\\OneDrive\\Documentos\\GitHub\\TPsM-todos\\BA_BICIS_MyC\\src_data\\crear_dataset.py:27: FutureWarning: 'H' is deprecated and will be removed in a future version, please use 'h' instead.\n",
      "  df['hora_destino'] = df['fecha_destino_recorrido'].dt.floor('H')\n"
     ]
    },
    {
     "name": "stdout",
     "output_type": "stream",
     "text": [
      "Error procesando estación 213: Unable to allocate 64.5 MiB for an array with shape (8448696,) and data type datetime64[ns]\n",
      "Procesando estación 214...\n",
      "Error procesando estación 214: Unable to allocate 64.5 MiB for an array with shape (8448696,) and data type datetime64[ns]\n",
      "Procesando estación 215...\n",
      "Error procesando estación 215: Unable to allocate 64.5 MiB for an array with shape (8448696,) and data type datetime64[ns]\n",
      "Procesando estación 216...\n",
      "Error procesando estación 216: Unable to allocate 64.5 MiB for an array with shape (8448696,) and data type datetime64[ns]\n",
      "Procesando estación 219...\n",
      "Error procesando estación 219: Unable to allocate 64.5 MiB for an array with shape (8448696,) and data type datetime64[ns]\n",
      "Procesando estación 220...\n",
      "Error procesando estación 220: Unable to allocate 64.5 MiB for an array with shape (8448696,) and data type datetime64[ns]\n",
      "Procesando estación 222...\n",
      "Error procesando estación 222: Unable to allocate 64.5 MiB for an array with shape (8448696,) and data type datetime64[ns]\n",
      "Procesando estación 223...\n",
      "Error procesando estación 223: Unable to allocate 64.5 MiB for an array with shape (8448696,) and data type datetime64[ns]\n",
      "Procesando estación 227...\n",
      "Error procesando estación 227: Unable to allocate 64.5 MiB for an array with shape (8448696,) and data type datetime64[ns]\n",
      "Procesando estación 228...\n",
      "Error procesando estación 228: Unable to allocate 64.5 MiB for an array with shape (8448696,) and data type datetime64[ns]\n",
      "Procesando estación 229...\n",
      "Error procesando estación 229: Unable to allocate 64.5 MiB for an array with shape (8448696,) and data type datetime64[ns]\n",
      "Procesando estación 230...\n",
      "Error procesando estación 230: Unable to allocate 64.5 MiB for an array with shape (8448696,) and data type datetime64[ns]\n",
      "Procesando estación 231...\n",
      "Error procesando estación 231: Unable to allocate 64.5 MiB for an array with shape (8448696,) and data type datetime64[ns]\n",
      "Procesando estación 232...\n",
      "Error procesando estación 232: Unable to allocate 64.5 MiB for an array with shape (8448696,) and data type datetime64[ns]\n",
      "Procesando estación 233...\n",
      "Error procesando estación 233: Unable to allocate 64.5 MiB for an array with shape (8448696,) and data type datetime64[ns]\n",
      "Procesando estación 234...\n",
      "Error procesando estación 234: Unable to allocate 64.5 MiB for an array with shape (8448696,) and data type datetime64[ns]\n",
      "Procesando estación 235...\n",
      "Error procesando estación 235: Unable to allocate 64.5 MiB for an array with shape (8448696,) and data type datetime64[ns]\n",
      "Procesando estación 236...\n",
      "Error procesando estación 236: Unable to allocate 64.5 MiB for an array with shape (8448696,) and data type datetime64[ns]\n",
      "Procesando estación 237...\n",
      "Error procesando estación 237: Unable to allocate 64.5 MiB for an array with shape (8448696,) and data type datetime64[ns]\n",
      "Procesando estación 239...\n",
      "Error procesando estación 239: Unable to allocate 64.5 MiB for an array with shape (8448696,) and data type datetime64[ns]\n",
      "Procesando estación 241...\n",
      "Error procesando estación 241: Unable to allocate 64.5 MiB for an array with shape (8448696,) and data type datetime64[ns]\n",
      "Procesando estación 242...\n",
      "Error procesando estación 242: Unable to allocate 64.5 MiB for an array with shape (8448696,) and data type datetime64[ns]\n",
      "Procesando estación 245...\n",
      "Error procesando estación 245: Unable to allocate 64.5 MiB for an array with shape (8448696,) and data type datetime64[ns]\n",
      "Procesando estación 247...\n",
      "Error procesando estación 247: Unable to allocate 64.5 MiB for an array with shape (8448696,) and data type datetime64[ns]\n",
      "Procesando estación 248...\n",
      "Error procesando estación 248: Unable to allocate 64.5 MiB for an array with shape (8448696,) and data type datetime64[ns]\n",
      "Procesando estación 249...\n",
      "Error procesando estación 249: Unable to allocate 64.5 MiB for an array with shape (8448696,) and data type datetime64[ns]\n",
      "Procesando estación 251...\n",
      "Error procesando estación 251: Unable to allocate 902. MiB for an array with shape (14, 8448696) and data type object\n",
      "Procesando estación 252...\n",
      "Error procesando estación 252: Unable to allocate 902. MiB for an array with shape (14, 8448696) and data type object\n",
      "Procesando estación 253...\n",
      "Error procesando estación 253: Unable to allocate 902. MiB for an array with shape (14, 8448696) and data type object\n",
      "Procesando estación 254...\n",
      "Error procesando estación 254: Unable to allocate 902. MiB for an array with shape (14, 8448696) and data type object\n",
      "Procesando estación 255...\n",
      "Error procesando estación 255: Unable to allocate 902. MiB for an array with shape (14, 8448696) and data type object\n",
      "Procesando estación 257...\n",
      "Error procesando estación 257: Unable to allocate 902. MiB for an array with shape (14, 8448696) and data type object\n",
      "Procesando estación 258...\n",
      "Error procesando estación 258: Unable to allocate 902. MiB for an array with shape (14, 8448696) and data type object\n",
      "Procesando estación 259...\n",
      "Error procesando estación 259: Unable to allocate 902. MiB for an array with shape (14, 8448696) and data type object\n",
      "Procesando estación 260...\n",
      "Error procesando estación 260: Unable to allocate 902. MiB for an array with shape (14, 8448696) and data type object\n",
      "Procesando estación 261...\n",
      "Error procesando estación 261: Unable to allocate 902. MiB for an array with shape (14, 8448696) and data type object\n",
      "Procesando estación 262...\n",
      "Error procesando estación 262: Unable to allocate 902. MiB for an array with shape (14, 8448696) and data type object\n",
      "Procesando estación 263...\n",
      "Error procesando estación 263: Unable to allocate 902. MiB for an array with shape (14, 8448696) and data type object\n",
      "Procesando estación 264...\n",
      "Error procesando estación 264: Unable to allocate 902. MiB for an array with shape (14, 8448696) and data type object\n",
      "Procesando estación 265...\n",
      "Error procesando estación 265: Unable to allocate 902. MiB for an array with shape (14, 8448696) and data type object\n",
      "Procesando estación 267...\n",
      "Error procesando estación 267: Unable to allocate 902. MiB for an array with shape (14, 8448696) and data type object\n",
      "Procesando estación 268...\n",
      "Error procesando estación 268: Unable to allocate 902. MiB for an array with shape (14, 8448696) and data type object\n",
      "Procesando estación 269...\n",
      "Error procesando estación 269: Unable to allocate 902. MiB for an array with shape (14, 8448696) and data type object\n",
      "Procesando estación 270...\n",
      "Error procesando estación 270: Unable to allocate 902. MiB for an array with shape (14, 8448696) and data type object\n",
      "Procesando estación 271...\n",
      "Error procesando estación 271: Unable to allocate 902. MiB for an array with shape (14, 8448696) and data type object\n",
      "Procesando estación 273...\n",
      "Error procesando estación 273: Unable to allocate 902. MiB for an array with shape (14, 8448696) and data type object\n",
      "Procesando estación 275...\n",
      "Error procesando estación 275: Unable to allocate 902. MiB for an array with shape (14, 8448696) and data type object\n",
      "Procesando estación 277...\n",
      "Error procesando estación 277: Unable to allocate 902. MiB for an array with shape (14, 8448696) and data type object\n",
      "Procesando estación 278...\n",
      "Error procesando estación 278: Unable to allocate 902. MiB for an array with shape (14, 8448696) and data type object\n",
      "Procesando estación 280...\n",
      "Error procesando estación 280: Unable to allocate 902. MiB for an array with shape (14, 8448696) and data type object\n",
      "Procesando estación 281...\n",
      "Error procesando estación 281: Unable to allocate 902. MiB for an array with shape (14, 8448696) and data type object\n",
      "Procesando estación 284...\n",
      "Error procesando estación 284: Unable to allocate 902. MiB for an array with shape (14, 8448696) and data type object\n",
      "Procesando estación 288...\n",
      "Error procesando estación 288: Unable to allocate 902. MiB for an array with shape (14, 8448696) and data type object\n",
      "Procesando estación 289...\n",
      "Error procesando estación 289: Unable to allocate 902. MiB for an array with shape (14, 8448696) and data type object\n",
      "Procesando estación 291...\n",
      "Error procesando estación 291: Unable to allocate 902. MiB for an array with shape (14, 8448696) and data type object\n",
      "Procesando estación 294...\n",
      "Error procesando estación 294: Unable to allocate 902. MiB for an array with shape (14, 8448696) and data type object\n",
      "Procesando estación 299...\n",
      "Error procesando estación 299: Unable to allocate 902. MiB for an array with shape (14, 8448696) and data type object\n",
      "Procesando estación 301...\n",
      "Error procesando estación 301: Unable to allocate 902. MiB for an array with shape (14, 8448696) and data type object\n",
      "Procesando estación 302...\n",
      "Error procesando estación 302: Unable to allocate 902. MiB for an array with shape (14, 8448696) and data type object\n",
      "Procesando estación 304...\n",
      "Error procesando estación 304: Unable to allocate 902. MiB for an array with shape (14, 8448696) and data type object\n",
      "Procesando estación 307...\n",
      "Error procesando estación 307: Unable to allocate 902. MiB for an array with shape (14, 8448696) and data type object\n",
      "Procesando estación 308...\n",
      "Error procesando estación 308: Unable to allocate 902. MiB for an array with shape (14, 8448696) and data type object\n",
      "Procesando estación 309...\n",
      "Error procesando estación 309: Unable to allocate 902. MiB for an array with shape (14, 8448696) and data type object\n",
      "Procesando estación 310...\n",
      "Error procesando estación 310: Unable to allocate 902. MiB for an array with shape (14, 8448696) and data type object\n",
      "Procesando estación 311...\n",
      "Error procesando estación 311: Unable to allocate 902. MiB for an array with shape (14, 8448696) and data type object\n",
      "Procesando estación 313...\n",
      "Error procesando estación 313: Unable to allocate 902. MiB for an array with shape (14, 8448696) and data type object\n",
      "Procesando estación 316...\n",
      "Error procesando estación 316: Unable to allocate 902. MiB for an array with shape (14, 8448696) and data type object\n",
      "Procesando estación 318...\n",
      "Error procesando estación 318: Unable to allocate 902. MiB for an array with shape (14, 8448696) and data type object\n",
      "Procesando estación 322...\n",
      "Error procesando estación 322: Unable to allocate 902. MiB for an array with shape (14, 8448696) and data type object\n",
      "Procesando estación 323...\n",
      "Error procesando estación 323: Unable to allocate 902. MiB for an array with shape (14, 8448696) and data type object\n",
      "Procesando estación 324...\n",
      "Error procesando estación 324: Unable to allocate 902. MiB for an array with shape (14, 8448696) and data type object\n",
      "Procesando estación 327...\n",
      "Error procesando estación 327: Unable to allocate 64.5 MiB for an array with shape (8448696,) and data type datetime64[ns]\n",
      "Procesando estación 329...\n",
      "Error procesando estación 329: Unable to allocate 64.5 MiB for an array with shape (8448696,) and data type datetime64[ns]\n",
      "Procesando estación 330...\n",
      "Error procesando estación 330: Unable to allocate 64.5 MiB for an array with shape (8448696,) and data type datetime64[ns]\n",
      "Procesando estación 333...\n",
      "Error procesando estación 333: Unable to allocate 64.5 MiB for an array with shape (8448696,) and data type datetime64[ns]\n",
      "Procesando estación 335...\n",
      "Error procesando estación 335: Unable to allocate 64.5 MiB for an array with shape (8448696,) and data type datetime64[ns]\n",
      "Procesando estación 336...\n",
      "Error procesando estación 336: Unable to allocate 64.5 MiB for an array with shape (8448696,) and data type datetime64[ns]\n",
      "Procesando estación 337...\n",
      "Error procesando estación 337: Unable to allocate 64.5 MiB for an array with shape (8448696,) and data type datetime64[ns]\n",
      "Procesando estación 340...\n",
      "Error procesando estación 340: Unable to allocate 64.5 MiB for an array with shape (8448696,) and data type datetime64[ns]\n",
      "Procesando estación 342...\n",
      "Error procesando estación 342: Unable to allocate 64.5 MiB for an array with shape (8448696,) and data type datetime64[ns]\n",
      "Procesando estación 348...\n",
      "Error procesando estación 348: Unable to allocate 64.5 MiB for an array with shape (8448696,) and data type datetime64[ns]\n",
      "Procesando estación 349...\n",
      "Error procesando estación 349: Unable to allocate 64.5 MiB for an array with shape (8448696,) and data type datetime64[ns]\n",
      "Procesando estación 353...\n",
      "Error procesando estación 353: Unable to allocate 64.5 MiB for an array with shape (8448696,) and data type datetime64[ns]\n",
      "Procesando estación 355...\n",
      "Error procesando estación 355: Unable to allocate 64.5 MiB for an array with shape (8448696,) and data type datetime64[ns]\n",
      "Procesando estación 358...\n",
      "Error procesando estación 358: Unable to allocate 64.5 MiB for an array with shape (8448696,) and data type datetime64[ns]\n",
      "Procesando estación 359...\n",
      "Error procesando estación 359: Unable to allocate 64.5 MiB for an array with shape (8448696,) and data type datetime64[ns]\n",
      "Procesando estación 361...\n",
      "Error procesando estación 361: Unable to allocate 64.5 MiB for an array with shape (8448696,) and data type datetime64[ns]\n",
      "Procesando estación 362...\n",
      "Error procesando estación 362: Unable to allocate 64.5 MiB for an array with shape (8448696,) and data type datetime64[ns]\n",
      "Procesando estación 363...\n",
      "Error procesando estación 363: Unable to allocate 64.5 MiB for an array with shape (8448696,) and data type datetime64[ns]\n",
      "Procesando estación 364...\n",
      "Error procesando estación 364: Unable to allocate 64.5 MiB for an array with shape (8448696,) and data type datetime64[ns]\n",
      "Procesando estación 366...\n",
      "Error procesando estación 366: Unable to allocate 64.5 MiB for an array with shape (8448696,) and data type datetime64[ns]\n",
      "Procesando estación 367...\n",
      "Error procesando estación 367: Unable to allocate 64.5 MiB for an array with shape (8448696,) and data type datetime64[ns]\n",
      "Procesando estación 368...\n",
      "Error procesando estación 368: Unable to allocate 64.5 MiB for an array with shape (8448696,) and data type datetime64[ns]\n",
      "Procesando estación 369...\n"
     ]
    },
    {
     "name": "stderr",
     "output_type": "stream",
     "text": [
      "c:\\Users\\felic\\OneDrive\\Documentos\\GitHub\\TPsM-todos\\BA_BICIS_MyC\\src_data\\crear_dataset.py:26: FutureWarning: 'H' is deprecated and will be removed in a future version, please use 'h' instead.\n",
      "  df['hora_origen'] = df['fecha_origen_recorrido'].dt.floor('H')\n"
     ]
    },
    {
     "name": "stdout",
     "output_type": "stream",
     "text": [
      "Error procesando estación 369: Unable to allocate 64.5 MiB for an array with shape (8448696,) and data type datetime64[ns]\n",
      "Procesando estación 370...\n"
     ]
    },
    {
     "name": "stderr",
     "output_type": "stream",
     "text": [
      "c:\\Users\\felic\\OneDrive\\Documentos\\GitHub\\TPsM-todos\\BA_BICIS_MyC\\src_data\\crear_dataset.py:26: FutureWarning: 'H' is deprecated and will be removed in a future version, please use 'h' instead.\n",
      "  df['hora_origen'] = df['fecha_origen_recorrido'].dt.floor('H')\n"
     ]
    },
    {
     "name": "stdout",
     "output_type": "stream",
     "text": [
      "Error procesando estación 370: Unable to allocate 64.5 MiB for an array with shape (8448696,) and data type datetime64[ns]\n",
      "Procesando estación 371...\n"
     ]
    },
    {
     "name": "stderr",
     "output_type": "stream",
     "text": [
      "c:\\Users\\felic\\OneDrive\\Documentos\\GitHub\\TPsM-todos\\BA_BICIS_MyC\\src_data\\crear_dataset.py:26: FutureWarning: 'H' is deprecated and will be removed in a future version, please use 'h' instead.\n",
      "  df['hora_origen'] = df['fecha_origen_recorrido'].dt.floor('H')\n",
      "c:\\Users\\felic\\OneDrive\\Documentos\\GitHub\\TPsM-todos\\BA_BICIS_MyC\\src_data\\crear_dataset.py:27: FutureWarning: 'H' is deprecated and will be removed in a future version, please use 'h' instead.\n",
      "  df['hora_destino'] = df['fecha_destino_recorrido'].dt.floor('H')\n"
     ]
    },
    {
     "name": "stdout",
     "output_type": "stream",
     "text": [
      "Error procesando estación 371: Unable to allocate 64.5 MiB for an array with shape (8448696,) and data type datetime64[ns]\n",
      "Procesando estación 372...\n"
     ]
    },
    {
     "name": "stderr",
     "output_type": "stream",
     "text": [
      "c:\\Users\\felic\\OneDrive\\Documentos\\GitHub\\TPsM-todos\\BA_BICIS_MyC\\src_data\\crear_dataset.py:26: FutureWarning: 'H' is deprecated and will be removed in a future version, please use 'h' instead.\n",
      "  df['hora_origen'] = df['fecha_origen_recorrido'].dt.floor('H')\n",
      "c:\\Users\\felic\\OneDrive\\Documentos\\GitHub\\TPsM-todos\\BA_BICIS_MyC\\src_data\\crear_dataset.py:27: FutureWarning: 'H' is deprecated and will be removed in a future version, please use 'h' instead.\n",
      "  df['hora_destino'] = df['fecha_destino_recorrido'].dt.floor('H')\n"
     ]
    },
    {
     "name": "stdout",
     "output_type": "stream",
     "text": [
      "Error procesando estación 372: Unable to allocate 8.06 MiB for an array with shape (8448696,) and data type bool\n",
      "Procesando estación 373...\n"
     ]
    },
    {
     "name": "stderr",
     "output_type": "stream",
     "text": [
      "c:\\Users\\felic\\OneDrive\\Documentos\\GitHub\\TPsM-todos\\BA_BICIS_MyC\\src_data\\crear_dataset.py:26: FutureWarning: 'H' is deprecated and will be removed in a future version, please use 'h' instead.\n",
      "  df['hora_origen'] = df['fecha_origen_recorrido'].dt.floor('H')\n"
     ]
    },
    {
     "name": "stdout",
     "output_type": "stream",
     "text": [
      "Error procesando estación 373: Unable to allocate 64.5 MiB for an array with shape (8448696,) and data type datetime64[ns]\n",
      "Procesando estación 374...\n"
     ]
    },
    {
     "name": "stderr",
     "output_type": "stream",
     "text": [
      "c:\\Users\\felic\\OneDrive\\Documentos\\GitHub\\TPsM-todos\\BA_BICIS_MyC\\src_data\\crear_dataset.py:26: FutureWarning: 'H' is deprecated and will be removed in a future version, please use 'h' instead.\n",
      "  df['hora_origen'] = df['fecha_origen_recorrido'].dt.floor('H')\n",
      "c:\\Users\\felic\\OneDrive\\Documentos\\GitHub\\TPsM-todos\\BA_BICIS_MyC\\src_data\\crear_dataset.py:27: FutureWarning: 'H' is deprecated and will be removed in a future version, please use 'h' instead.\n",
      "  df['hora_destino'] = df['fecha_destino_recorrido'].dt.floor('H')\n"
     ]
    },
    {
     "name": "stdout",
     "output_type": "stream",
     "text": [
      "Error procesando estación 374: Unable to allocate 8.06 MiB for an array with shape (8448696,) and data type bool\n",
      "Procesando estación 375...\n",
      "Error procesando estación 375: Unable to allocate 64.5 MiB for an array with shape (8448696,) and data type datetime64[ns]\n",
      "Procesando estación 376...\n",
      "Error procesando estación 376: Unable to allocate 64.5 MiB for an array with shape (8448696,) and data type datetime64[ns]\n",
      "Procesando estación 378...\n"
     ]
    },
    {
     "name": "stderr",
     "output_type": "stream",
     "text": [
      "c:\\Users\\felic\\OneDrive\\Documentos\\GitHub\\TPsM-todos\\BA_BICIS_MyC\\src_data\\crear_dataset.py:26: FutureWarning: 'H' is deprecated and will be removed in a future version, please use 'h' instead.\n",
      "  df['hora_origen'] = df['fecha_origen_recorrido'].dt.floor('H')\n",
      "c:\\Users\\felic\\OneDrive\\Documentos\\GitHub\\TPsM-todos\\BA_BICIS_MyC\\src_data\\crear_dataset.py:27: FutureWarning: 'H' is deprecated and will be removed in a future version, please use 'h' instead.\n",
      "  df['hora_destino'] = df['fecha_destino_recorrido'].dt.floor('H')\n"
     ]
    },
    {
     "name": "stdout",
     "output_type": "stream",
     "text": [
      "Error procesando estación 378: Unable to allocate 64.5 MiB for an array with shape (8448696,) and data type datetime64[ns]\n",
      "Procesando estación 379...\n"
     ]
    },
    {
     "name": "stderr",
     "output_type": "stream",
     "text": [
      "c:\\Users\\felic\\OneDrive\\Documentos\\GitHub\\TPsM-todos\\BA_BICIS_MyC\\src_data\\crear_dataset.py:26: FutureWarning: 'H' is deprecated and will be removed in a future version, please use 'h' instead.\n",
      "  df['hora_origen'] = df['fecha_origen_recorrido'].dt.floor('H')\n"
     ]
    },
    {
     "name": "stdout",
     "output_type": "stream",
     "text": [
      "Error procesando estación 379: Unable to allocate 64.5 MiB for an array with shape (8448696,) and data type datetime64[ns]\n",
      "Procesando estación 381...\n",
      "Error procesando estación 381: Unable to allocate 64.5 MiB for an array with shape (8448696,) and data type datetime64[ns]\n",
      "Procesando estación 382...\n",
      "Error procesando estación 382: Unable to allocate 64.5 MiB for an array with shape (8448696,) and data type datetime64[ns]\n",
      "Procesando estación 383...\n",
      "Error procesando estación 383: Unable to allocate 64.5 MiB for an array with shape (8448696,) and data type datetime64[ns]\n",
      "Procesando estación 384...\n",
      "Error procesando estación 384: Unable to allocate 902. MiB for an array with shape (14, 8448696) and data type object\n",
      "Procesando estación 385...\n",
      "Error procesando estación 385: Unable to allocate 902. MiB for an array with shape (14, 8448696) and data type object\n",
      "Procesando estación 386...\n",
      "Error procesando estación 386: Unable to allocate 902. MiB for an array with shape (14, 8448696) and data type object\n",
      "Procesando estación 387...\n",
      "Error procesando estación 387: Unable to allocate 902. MiB for an array with shape (14, 8448696) and data type object\n",
      "Procesando estación 392...\n",
      "Error procesando estación 392: Unable to allocate 902. MiB for an array with shape (14, 8448696) and data type object\n",
      "Procesando estación 393...\n",
      "Error procesando estación 393: Unable to allocate 902. MiB for an array with shape (14, 8448696) and data type object\n",
      "Procesando estación 395...\n",
      "Error procesando estación 395: Unable to allocate 902. MiB for an array with shape (14, 8448696) and data type object\n",
      "Procesando estación 400...\n",
      "Error procesando estación 400: Unable to allocate 902. MiB for an array with shape (14, 8448696) and data type object\n",
      "Procesando estación 402...\n",
      "Error procesando estación 402: Unable to allocate 902. MiB for an array with shape (14, 8448696) and data type object\n",
      "Procesando estación 403...\n",
      "Error procesando estación 403: Unable to allocate 902. MiB for an array with shape (14, 8448696) and data type object\n",
      "Procesando estación 407...\n",
      "Error procesando estación 407: Unable to allocate 902. MiB for an array with shape (14, 8448696) and data type object\n",
      "Procesando estación 408...\n",
      "Error procesando estación 408: Unable to allocate 902. MiB for an array with shape (14, 8448696) and data type object\n",
      "Procesando estación 412...\n",
      "Error procesando estación 412: Unable to allocate 902. MiB for an array with shape (14, 8448696) and data type object\n",
      "Procesando estación 413...\n",
      "Error procesando estación 413: Unable to allocate 902. MiB for an array with shape (14, 8448696) and data type object\n",
      "Procesando estación 414...\n",
      "Error procesando estación 414: Unable to allocate 902. MiB for an array with shape (14, 8448696) and data type object\n",
      "Procesando estación 416...\n",
      "Error procesando estación 416: Unable to allocate 902. MiB for an array with shape (14, 8448696) and data type object\n",
      "Procesando estación 417...\n",
      "Error procesando estación 417: Unable to allocate 902. MiB for an array with shape (14, 8448696) and data type object\n",
      "Procesando estación 418...\n",
      "Error procesando estación 418: Unable to allocate 902. MiB for an array with shape (14, 8448696) and data type object\n",
      "Procesando estación 419...\n",
      "Error procesando estación 419: Unable to allocate 902. MiB for an array with shape (14, 8448696) and data type object\n",
      "Procesando estación 420...\n",
      "Error procesando estación 420: Unable to allocate 902. MiB for an array with shape (14, 8448696) and data type object\n",
      "Procesando estación 422...\n",
      "Error procesando estación 422: Unable to allocate 902. MiB for an array with shape (14, 8448696) and data type object\n",
      "Procesando estación 423...\n",
      "Error procesando estación 423: Unable to allocate 902. MiB for an array with shape (14, 8448696) and data type object\n",
      "Procesando estación 424...\n",
      "Error procesando estación 424: Unable to allocate 902. MiB for an array with shape (14, 8448696) and data type object\n",
      "Procesando estación 425...\n",
      "Error procesando estación 425: Unable to allocate 902. MiB for an array with shape (14, 8448696) and data type object\n",
      "Procesando estación 426...\n",
      "Error procesando estación 426: Unable to allocate 902. MiB for an array with shape (14, 8448696) and data type object\n",
      "Procesando estación 427...\n",
      "Error procesando estación 427: Unable to allocate 902. MiB for an array with shape (14, 8448696) and data type object\n",
      "Procesando estación 428...\n",
      "Error procesando estación 428: Unable to allocate 902. MiB for an array with shape (14, 8448696) and data type object\n",
      "Procesando estación 429...\n",
      "Error procesando estación 429: Unable to allocate 902. MiB for an array with shape (14, 8448696) and data type object\n",
      "Procesando estación 431...\n",
      "Error procesando estación 431: Unable to allocate 902. MiB for an array with shape (14, 8448696) and data type object\n",
      "Procesando estación 432...\n",
      "Error procesando estación 432: Unable to allocate 902. MiB for an array with shape (14, 8448696) and data type object\n",
      "Procesando estación 433...\n",
      "Error procesando estación 433: Unable to allocate 902. MiB for an array with shape (14, 8448696) and data type object\n",
      "Procesando estación 434...\n",
      "Error procesando estación 434: Unable to allocate 902. MiB for an array with shape (14, 8448696) and data type object\n",
      "Procesando estación 435...\n",
      "Error procesando estación 435: Unable to allocate 902. MiB for an array with shape (14, 8448696) and data type object\n",
      "Procesando estación 436...\n",
      "Error procesando estación 436: Unable to allocate 902. MiB for an array with shape (14, 8448696) and data type object\n",
      "Procesando estación 440...\n",
      "Error procesando estación 440: Unable to allocate 902. MiB for an array with shape (14, 8448696) and data type object\n",
      "Procesando estación 441...\n",
      "Error procesando estación 441: Unable to allocate 902. MiB for an array with shape (14, 8448696) and data type object\n",
      "Procesando estación 442...\n",
      "Error procesando estación 442: Unable to allocate 902. MiB for an array with shape (14, 8448696) and data type object\n",
      "Procesando estación 443...\n",
      "Error procesando estación 443: Unable to allocate 902. MiB for an array with shape (14, 8448696) and data type object\n",
      "Procesando estación 444...\n",
      "Error procesando estación 444: Unable to allocate 902. MiB for an array with shape (14, 8448696) and data type object\n",
      "Procesando estación 447...\n",
      "Error procesando estación 447: Unable to allocate 902. MiB for an array with shape (14, 8448696) and data type object\n",
      "Procesando estación 448...\n",
      "Error procesando estación 448: Unable to allocate 902. MiB for an array with shape (14, 8448696) and data type object\n",
      "Procesando estación 449...\n",
      "Error procesando estación 449: Unable to allocate 902. MiB for an array with shape (14, 8448696) and data type object\n",
      "Procesando estación 453...\n",
      "Error procesando estación 453: Unable to allocate 902. MiB for an array with shape (14, 8448696) and data type object\n",
      "Procesando estación 454...\n",
      "Error procesando estación 454: Unable to allocate 902. MiB for an array with shape (14, 8448696) and data type object\n",
      "Procesando estación 455...\n",
      "Error procesando estación 455: Unable to allocate 902. MiB for an array with shape (14, 8448696) and data type object\n",
      "Procesando estación 456...\n",
      "Error procesando estación 456: Unable to allocate 902. MiB for an array with shape (14, 8448696) and data type object\n",
      "Procesando estación 457...\n",
      "Error procesando estación 457: Unable to allocate 902. MiB for an array with shape (14, 8448696) and data type object\n",
      "Procesando estación 458...\n",
      "Error procesando estación 458: Unable to allocate 902. MiB for an array with shape (14, 8448696) and data type object\n",
      "Procesando estación 459...\n",
      "Error procesando estación 459: Unable to allocate 902. MiB for an array with shape (14, 8448696) and data type object\n",
      "Procesando estación 460...\n",
      "Error procesando estación 460: Unable to allocate 902. MiB for an array with shape (14, 8448696) and data type object\n",
      "Procesando estación 461...\n",
      "Error procesando estación 461: Unable to allocate 902. MiB for an array with shape (14, 8448696) and data type object\n",
      "Procesando estación 462...\n",
      "Error procesando estación 462: Unable to allocate 902. MiB for an array with shape (14, 8448696) and data type object\n",
      "Procesando estación 464...\n",
      "Error procesando estación 464: Unable to allocate 902. MiB for an array with shape (14, 8448696) and data type object\n",
      "Procesando estación 465...\n",
      "Error procesando estación 465: Unable to allocate 902. MiB for an array with shape (14, 8448696) and data type object\n",
      "Procesando estación 466...\n",
      "Error procesando estación 466: Unable to allocate 902. MiB for an array with shape (14, 8448696) and data type object\n",
      "Procesando estación 467...\n",
      "Error procesando estación 467: Unable to allocate 902. MiB for an array with shape (14, 8448696) and data type object\n",
      "Procesando estación 468...\n",
      "Error procesando estación 468: Unable to allocate 902. MiB for an array with shape (14, 8448696) and data type object\n",
      "Procesando estación 469...\n",
      "Error procesando estación 469: Unable to allocate 902. MiB for an array with shape (14, 8448696) and data type object\n",
      "Procesando estación 471...\n",
      "Error procesando estación 471: Unable to allocate 902. MiB for an array with shape (14, 8448696) and data type object\n",
      "Procesando estación 472...\n",
      "Error procesando estación 472: Unable to allocate 902. MiB for an array with shape (14, 8448696) and data type object\n",
      "Procesando estación 473...\n",
      "Error procesando estación 473: Unable to allocate 902. MiB for an array with shape (14, 8448696) and data type object\n",
      "Procesando estación 474...\n",
      "Error procesando estación 474: Unable to allocate 902. MiB for an array with shape (14, 8448696) and data type object\n",
      "Procesando estación 475...\n",
      "Error procesando estación 475: Unable to allocate 902. MiB for an array with shape (14, 8448696) and data type object\n",
      "Procesando estación 476...\n",
      "Error procesando estación 476: Unable to allocate 902. MiB for an array with shape (14, 8448696) and data type object\n",
      "Procesando estación 477...\n",
      "Error procesando estación 477: Unable to allocate 902. MiB for an array with shape (14, 8448696) and data type object\n",
      "Procesando estación 478...\n",
      "Error procesando estación 478: Unable to allocate 902. MiB for an array with shape (14, 8448696) and data type object\n",
      "Procesando estación 479...\n",
      "Error procesando estación 479: Unable to allocate 902. MiB for an array with shape (14, 8448696) and data type object\n",
      "Procesando estación 480...\n",
      "Error procesando estación 480: Unable to allocate 902. MiB for an array with shape (14, 8448696) and data type object\n",
      "Procesando estación 481...\n",
      "Error procesando estación 481: Unable to allocate 902. MiB for an array with shape (14, 8448696) and data type object\n",
      "Procesando estación 482...\n",
      "Error procesando estación 482: Unable to allocate 902. MiB for an array with shape (14, 8448696) and data type object\n",
      "Procesando estación 483...\n",
      "Error procesando estación 483: Unable to allocate 902. MiB for an array with shape (14, 8448696) and data type object\n",
      "Procesando estación 484...\n",
      "Error procesando estación 484: Unable to allocate 902. MiB for an array with shape (14, 8448696) and data type object\n",
      "Procesando estación 485...\n",
      "Error procesando estación 485: Unable to allocate 902. MiB for an array with shape (14, 8448696) and data type object\n",
      "Procesando estación 486...\n",
      "Error procesando estación 486: Unable to allocate 902. MiB for an array with shape (14, 8448696) and data type object\n",
      "Procesando estación 487...\n",
      "Error procesando estación 487: Unable to allocate 902. MiB for an array with shape (14, 8448696) and data type object\n",
      "Procesando estación 488...\n",
      "Error procesando estación 488: Unable to allocate 902. MiB for an array with shape (14, 8448696) and data type object\n",
      "Procesando estación 489...\n",
      "Error procesando estación 489: Unable to allocate 902. MiB for an array with shape (14, 8448696) and data type object\n",
      "Procesando estación 490...\n",
      "Error procesando estación 490: Unable to allocate 902. MiB for an array with shape (14, 8448696) and data type object\n",
      "Procesando estación 491...\n",
      "Error procesando estación 491: Unable to allocate 902. MiB for an array with shape (14, 8448696) and data type object\n",
      "Procesando estación 492...\n",
      "Error procesando estación 492: Unable to allocate 902. MiB for an array with shape (14, 8448696) and data type object\n",
      "Procesando estación 493...\n",
      "Error procesando estación 493: Unable to allocate 902. MiB for an array with shape (14, 8448696) and data type object\n",
      "Procesando estación 494...\n",
      "Error procesando estación 494: Unable to allocate 902. MiB for an array with shape (14, 8448696) and data type object\n",
      "Procesando estación 496...\n",
      "Error procesando estación 496: Unable to allocate 902. MiB for an array with shape (14, 8448696) and data type object\n",
      "Procesando estación 497...\n",
      "Error procesando estación 497: Unable to allocate 902. MiB for an array with shape (14, 8448696) and data type object\n",
      "Procesando estación 498...\n",
      "Error procesando estación 498: Unable to allocate 902. MiB for an array with shape (14, 8448696) and data type object\n",
      "Procesando estación 499...\n",
      "Error procesando estación 499: Unable to allocate 902. MiB for an array with shape (14, 8448696) and data type object\n",
      "Procesando estación 500...\n",
      "Error procesando estación 500: Unable to allocate 902. MiB for an array with shape (14, 8448696) and data type object\n",
      "Procesando estación 501...\n",
      "Error procesando estación 501: Unable to allocate 902. MiB for an array with shape (14, 8448696) and data type object\n",
      "Procesando estación 502...\n",
      "Error procesando estación 502: Unable to allocate 902. MiB for an array with shape (14, 8448696) and data type object\n",
      "Procesando estación 503...\n",
      "Error procesando estación 503: Unable to allocate 902. MiB for an array with shape (14, 8448696) and data type object\n",
      "Procesando estación 504...\n",
      "Error procesando estación 504: Unable to allocate 902. MiB for an array with shape (14, 8448696) and data type object\n",
      "Procesando estación 505...\n",
      "Error procesando estación 505: Unable to allocate 902. MiB for an array with shape (14, 8448696) and data type object\n",
      "Procesando estación 506...\n",
      "Error procesando estación 506: Unable to allocate 902. MiB for an array with shape (14, 8448696) and data type object\n",
      "Procesando estación 507...\n",
      "Error procesando estación 507: Unable to allocate 902. MiB for an array with shape (14, 8448696) and data type object\n",
      "Procesando estación 508...\n",
      "Error procesando estación 508: Unable to allocate 902. MiB for an array with shape (14, 8448696) and data type object\n",
      "Procesando estación 509...\n",
      "Error procesando estación 509: Unable to allocate 902. MiB for an array with shape (14, 8448696) and data type object\n",
      "Procesando estación 511...\n",
      "Error procesando estación 511: Unable to allocate 902. MiB for an array with shape (14, 8448696) and data type object\n",
      "Procesando estación 512...\n",
      "Error procesando estación 512: Unable to allocate 902. MiB for an array with shape (14, 8448696) and data type object\n",
      "Procesando estación 513...\n",
      "Error procesando estación 513: Unable to allocate 902. MiB for an array with shape (14, 8448696) and data type object\n",
      "Procesando estación 515...\n",
      "Error procesando estación 515: Unable to allocate 902. MiB for an array with shape (14, 8448696) and data type object\n",
      "Procesando estación 516...\n",
      "Error procesando estación 516: Unable to allocate 902. MiB for an array with shape (14, 8448696) and data type object\n",
      "Procesando estación 517...\n",
      "Error procesando estación 517: Unable to allocate 902. MiB for an array with shape (14, 8448696) and data type object\n",
      "Procesando estación 518...\n",
      "Error procesando estación 518: Unable to allocate 902. MiB for an array with shape (14, 8448696) and data type object\n",
      "Procesando estación 519...\n",
      "Error procesando estación 519: Unable to allocate 902. MiB for an array with shape (14, 8448696) and data type object\n",
      "Procesando estación 520...\n",
      "Error procesando estación 520: Unable to allocate 902. MiB for an array with shape (14, 8448696) and data type object\n",
      "Procesando estación 521...\n",
      "Error procesando estación 521: Unable to allocate 902. MiB for an array with shape (14, 8448696) and data type object\n",
      "Procesando estación 522...\n",
      "Error procesando estación 522: Unable to allocate 902. MiB for an array with shape (14, 8448696) and data type object\n",
      "Procesando estación 523...\n",
      "Error procesando estación 523: Unable to allocate 902. MiB for an array with shape (14, 8448696) and data type object\n",
      "Procesando estación 524...\n",
      "Error procesando estación 524: Unable to allocate 902. MiB for an array with shape (14, 8448696) and data type object\n",
      "Procesando estación 525...\n",
      "Error procesando estación 525: Unable to allocate 902. MiB for an array with shape (14, 8448696) and data type object\n",
      "Procesando estación 526...\n",
      "Error procesando estación 526: Unable to allocate 902. MiB for an array with shape (14, 8448696) and data type object\n",
      "Procesando estación 527...\n",
      "Error procesando estación 527: Unable to allocate 902. MiB for an array with shape (14, 8448696) and data type object\n",
      "Procesando estación 528...\n",
      "Error procesando estación 528: Unable to allocate 902. MiB for an array with shape (14, 8448696) and data type object\n",
      "Procesando estación 529...\n",
      "Error procesando estación 529: Unable to allocate 902. MiB for an array with shape (14, 8448696) and data type object\n",
      "Procesando estación 530...\n",
      "Error procesando estación 530: Unable to allocate 902. MiB for an array with shape (14, 8448696) and data type object\n",
      "Procesando estación 531...\n",
      "Error procesando estación 531: Unable to allocate 902. MiB for an array with shape (14, 8448696) and data type object\n",
      "Procesando estación 532...\n",
      "Error procesando estación 532: Unable to allocate 902. MiB for an array with shape (14, 8448696) and data type object\n",
      "Procesando estación 533...\n",
      "Error procesando estación 533: Unable to allocate 902. MiB for an array with shape (14, 8448696) and data type object\n",
      "Procesando estación 534...\n",
      "Error procesando estación 534: Unable to allocate 902. MiB for an array with shape (14, 8448696) and data type object\n",
      "Procesando estación 535...\n",
      "Error procesando estación 535: Unable to allocate 902. MiB for an array with shape (14, 8448696) and data type object\n",
      "Procesando estación 536...\n",
      "Error procesando estación 536: Unable to allocate 902. MiB for an array with shape (14, 8448696) and data type object\n",
      "Procesando estación 537...\n",
      "Error procesando estación 537: Unable to allocate 902. MiB for an array with shape (14, 8448696) and data type object\n",
      "Procesando estación 538...\n",
      "Error procesando estación 538: Unable to allocate 902. MiB for an array with shape (14, 8448696) and data type object\n",
      "Procesando estación 539...\n",
      "Error procesando estación 539: Unable to allocate 902. MiB for an array with shape (14, 8448696) and data type object\n",
      "Procesando estación 540...\n",
      "Error procesando estación 540: Unable to allocate 902. MiB for an array with shape (14, 8448696) and data type object\n",
      "Procesando estación 541...\n",
      "Error procesando estación 541: Unable to allocate 902. MiB for an array with shape (14, 8448696) and data type object\n",
      "Procesando estación 542...\n",
      "Error procesando estación 542: Unable to allocate 902. MiB for an array with shape (14, 8448696) and data type object\n",
      "Procesando estación 543...\n",
      "Error procesando estación 543: Unable to allocate 902. MiB for an array with shape (14, 8448696) and data type object\n",
      "Procesando estación 544...\n",
      "Error procesando estación 544: Unable to allocate 902. MiB for an array with shape (14, 8448696) and data type object\n",
      "Procesando estación 545...\n",
      "Error procesando estación 545: Unable to allocate 902. MiB for an array with shape (14, 8448696) and data type object\n",
      "Procesando estación 546...\n",
      "Error procesando estación 546: Unable to allocate 902. MiB for an array with shape (14, 8448696) and data type object\n",
      "Procesando estación 547...\n",
      "Error procesando estación 547: Unable to allocate 902. MiB for an array with shape (14, 8448696) and data type object\n",
      "Procesando estación 548...\n",
      "Error procesando estación 548: Unable to allocate 902. MiB for an array with shape (14, 8448696) and data type object\n",
      "Procesando estación 549...\n",
      "Error procesando estación 549: Unable to allocate 902. MiB for an array with shape (14, 8448696) and data type object\n",
      "Procesando estación 550...\n",
      "Error procesando estación 550: Unable to allocate 902. MiB for an array with shape (14, 8448696) and data type object\n",
      "Procesando estación 551...\n",
      "Error procesando estación 551: Unable to allocate 902. MiB for an array with shape (14, 8448696) and data type object\n",
      "Procesando estación 552...\n",
      "Error procesando estación 552: Unable to allocate 902. MiB for an array with shape (14, 8448696) and data type object\n",
      "Procesando estación 553...\n",
      "Error procesando estación 553: Unable to allocate 902. MiB for an array with shape (14, 8448696) and data type object\n",
      "Procesando estación 554...\n",
      "Error procesando estación 554: Unable to allocate 902. MiB for an array with shape (14, 8448696) and data type object\n",
      "Procesando estación 556...\n",
      "Error procesando estación 556: Unable to allocate 902. MiB for an array with shape (14, 8448696) and data type object\n"
     ]
    }
   ],
   "source": [
    "lista_estaciones = list(count.keys())\n",
    "print(lista_estaciones)\n",
    "\n",
    "importlib.reload(cd)\n",
    "datasets_train = cd.generar_dataset_multiple_estaciones(train_clean, lista_estaciones)"
   ]
  },
  {
   "cell_type": "code",
   "execution_count": null,
   "id": "cc79f3b3",
   "metadata": {
    "vscode": {
     "languageId": "perl"
    }
   },
   "outputs": [],
   "source": [
    "importlib.reload(cd)\n",
    "datasets_val = cd.generar_dataset_multiple_estaciones(val_clean, lista_estaciones)\n",
    "datasets_test = cd.generar_dataset_multiple_estaciones(test_clean, lista_estaciones)"
   ]
  },
  {
   "cell_type": "code",
   "execution_count": 82,
   "id": "05acaec3",
   "metadata": {
    "vscode": {
     "languageId": "perl"
    }
   },
   "outputs": [
    {
     "ename": "NameError",
     "evalue": "name 'datasets_val' is not defined",
     "output_type": "error",
     "traceback": [
      "\u001b[1;31m---------------------------------------------------------------------------\u001b[0m",
      "\u001b[1;31mNameError\u001b[0m                                 Traceback (most recent call last)",
      "Cell \u001b[1;32mIn[82], line 5\u001b[0m\n\u001b[0;32m      2\u001b[0m \u001b[38;5;28;01mfor\u001b[39;00m i, dataset \u001b[38;5;129;01min\u001b[39;00m \u001b[38;5;28menumerate\u001b[39m(datasets_train):\n\u001b[0;32m      3\u001b[0m     dataset\u001b[38;5;241m.\u001b[39mto_csv(os\u001b[38;5;241m.\u001b[39mpath\u001b[38;5;241m.\u001b[39mjoin(BASE_DIR, \u001b[38;5;124m'\u001b[39m\u001b[38;5;124m..\u001b[39m\u001b[38;5;124m'\u001b[39m, \u001b[38;5;124m'\u001b[39m\u001b[38;5;124mdata\u001b[39m\u001b[38;5;124m'\u001b[39m, \u001b[38;5;124m'\u001b[39m\u001b[38;5;124mprocessed\u001b[39m\u001b[38;5;124m'\u001b[39m, \u001b[38;5;124m'\u001b[39m\u001b[38;5;124mfeatures1\u001b[39m\u001b[38;5;124m'\u001b[39m, \u001b[38;5;124m'\u001b[39m\u001b[38;5;124mtrain\u001b[39m\u001b[38;5;124m'\u001b[39m, \u001b[38;5;124mf\u001b[39m\u001b[38;5;124m'\u001b[39m\u001b[38;5;124mdataset_train_\u001b[39m\u001b[38;5;132;01m{\u001b[39;00mi\u001b[38;5;241m+\u001b[39m\u001b[38;5;241m1\u001b[39m\u001b[38;5;132;01m}\u001b[39;00m\u001b[38;5;124m.csv\u001b[39m\u001b[38;5;124m'\u001b[39m), index\u001b[38;5;241m=\u001b[39m\u001b[38;5;28;01mFalse\u001b[39;00m)\n\u001b[1;32m----> 5\u001b[0m \u001b[38;5;28;01mfor\u001b[39;00m i, dataset \u001b[38;5;129;01min\u001b[39;00m \u001b[38;5;28menumerate\u001b[39m(datasets_val):\n\u001b[0;32m      6\u001b[0m     dataset\u001b[38;5;241m.\u001b[39mto_csv(os\u001b[38;5;241m.\u001b[39mpath\u001b[38;5;241m.\u001b[39mjoin(BASE_DIR, \u001b[38;5;124m'\u001b[39m\u001b[38;5;124m..\u001b[39m\u001b[38;5;124m'\u001b[39m, \u001b[38;5;124m'\u001b[39m\u001b[38;5;124mdata\u001b[39m\u001b[38;5;124m'\u001b[39m, \u001b[38;5;124m'\u001b[39m\u001b[38;5;124mprocessed\u001b[39m\u001b[38;5;124m'\u001b[39m, \u001b[38;5;124m'\u001b[39m\u001b[38;5;124mfeatures1\u001b[39m\u001b[38;5;124m'\u001b[39m, \u001b[38;5;124m'\u001b[39m\u001b[38;5;124mvalidation\u001b[39m\u001b[38;5;124m'\u001b[39m, \u001b[38;5;124mf\u001b[39m\u001b[38;5;124m'\u001b[39m\u001b[38;5;124mdataset_val_\u001b[39m\u001b[38;5;132;01m{\u001b[39;00mi\u001b[38;5;241m+\u001b[39m\u001b[38;5;241m1\u001b[39m\u001b[38;5;132;01m}\u001b[39;00m\u001b[38;5;124m.csv\u001b[39m\u001b[38;5;124m'\u001b[39m), index\u001b[38;5;241m=\u001b[39m\u001b[38;5;28;01mFalse\u001b[39;00m)\n\u001b[0;32m      8\u001b[0m \u001b[38;5;28;01mfor\u001b[39;00m i, dataset \u001b[38;5;129;01min\u001b[39;00m \u001b[38;5;28menumerate\u001b[39m(datasets_test):\n",
      "\u001b[1;31mNameError\u001b[0m: name 'datasets_val' is not defined"
     ]
    }
   ],
   "source": [
    "# guardamos los datasets\n",
    "for i, dataset in enumerate(datasets_train):\n",
    "    dataset.to_csv(os.path.join(BASE_DIR, '..', 'data', 'processed', 'features1', 'train', f'dataset_train_{i+1}.csv'), index=False)\n",
    "\n",
    "for i, dataset in enumerate(datasets_val):\n",
    "    dataset.to_csv(os.path.join(BASE_DIR, '..', 'data', 'processed', 'features1', 'validation', f'dataset_val_{i+1}.csv'), index=False)\n",
    "\n",
    "for i, dataset in enumerate(datasets_test):\n",
    "    dataset.to_csv(os.path.join(BASE_DIR, '..', 'data', 'processed', 'features1', 'test', f'dataset_test_{i+1}.csv'), index=False)"
   ]
  }
 ],
 "metadata": {
  "kernelspec": {
   "display_name": "base",
   "language": "python",
   "name": "python3"
  },
  "language_info": {
   "codemirror_mode": {
    "name": "ipython",
    "version": 3
   },
   "file_extension": ".py",
   "mimetype": "text/x-python",
   "name": "python",
   "nbconvert_exporter": "python",
   "pygments_lexer": "ipython3",
   "version": "3.12.4"
  }
 },
 "nbformat": 4,
 "nbformat_minor": 5
}
