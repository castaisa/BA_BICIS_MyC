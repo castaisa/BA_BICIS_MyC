{
 "cells": [
  {
   "cell_type": "markdown",
   "metadata": {},
   "source": [
    "# Preprocesamiento de los datos"
   ]
  },
  {
   "cell_type": "code",
   "execution_count": 2,
   "id": "2c6891db",
   "metadata": {},
   "outputs": [],
   "source": [
    "import numpy as np\n",
    "import pandas as pd\n",
    "import matplotlib.pyplot as plt\n",
    "import seaborn as sns\n",
    "import os\n",
    "import importlib"
   ]
  },
  {
   "cell_type": "code",
   "execution_count": 3,
   "id": "39f2924b",
   "metadata": {},
   "outputs": [],
   "source": [
    "import basic_preprocessing as bp"
   ]
  },
  {
   "cell_type": "markdown",
   "id": "a12a414a",
   "metadata": {},
   "source": [
    "## Parte 1: Limpieza de datos\n",
    "### Usuarios\n",
    "Cambios para limpiar los datos de usuarios:\n",
    "- eliminar la última columna que no esta en 2024\n",
    "- pasar al mismo formato (sacar comillas donde corresponde)\n",
    "- eliminar primera fila con los nombres de las features\n",
    "- cortar hasta agosto 2024"
   ]
  },
  {
   "cell_type": "code",
   "execution_count": 5,
   "id": "9dfb92f6",
   "metadata": {
    "vscode": {
     "languageId": "perl"
    }
   },
   "outputs": [],
   "source": [
    "# Definimos los paths para los archivos de usuarios de cada año usando os.path.join\n",
    "BASE_DIR = os.getcwd()\n",
    "\n",
    "usuarios_2023_path = os.path.join(BASE_DIR, '..', 'data', 'raw', 'usuarios', 'usuarios_ecobici_2023.csv')\n",
    "usuarios_2022_path = os.path.join(BASE_DIR, '..', 'data', 'raw', 'usuarios', 'usuarios_ecobici_2022.csv')\n",
    "usuarios_2021_path = os.path.join(BASE_DIR, '..', 'data', 'raw', 'usuarios', 'usuarios_ecobici_2021.csv')\n",
    "usuarios_2020_path = os.path.join(BASE_DIR, '..', 'data', 'raw', 'usuarios', 'usuarios_ecobici_2020.csv')\n",
    "usuarios_2024_path = os.path.join(BASE_DIR, '..', 'data', 'raw', 'usuarios', 'usuarios_ecobici_2024.csv')"
   ]
  },
  {
   "cell_type": "code",
   "execution_count": 7,
   "id": "97840035",
   "metadata": {
    "vscode": {
     "languageId": "perl"
    }
   },
   "outputs": [
    {
     "name": "stderr",
     "output_type": "stream",
     "text": [
      "c:\\Users\\felic\\OneDrive\\Documentos\\GitHub\\TPsM-todos\\BA_BICIS_MyC\\src_data\\basic_preprocessing.py:5: DtypeWarning: Columns (2) have mixed types. Specify dtype option on import or set low_memory=False.\n",
      "  df = pd.read_csv(csv_path)\n"
     ]
    }
   ],
   "source": [
    "importlib.reload(bp)\n",
    "df_users, users_cut = bp.unite_usuarios(\n",
    "    usuarios_2024_path,\n",
    "    usuarios_2023_path,\n",
    "    usuarios_2022_path,\n",
    "    usuarios_2021_path,\n",
    "    usuarios_2020_path\n",
    ")\n",
    "\n",
    "# guardamos df_users en un archivo csv\n",
    "df_users.to_csv(os.path.join(BASE_DIR, '..', 'data', 'clean', 'usuarios_ecobici.csv'), index=False)"
   ]
  },
  {
   "cell_type": "markdown",
   "id": "464f0bc4",
   "metadata": {},
   "source": [
    "### Recorridos\n",
    "\n",
    "Cambios para limpiar los datos del recorrido:\n"
   ]
  },
  {
   "cell_type": "code",
   "execution_count": 6,
   "id": "132f9a4d",
   "metadata": {
    "vscode": {
     "languageId": "perl"
    }
   },
   "outputs": [],
   "source": [
    "#Definimos los paths para los archivos de recorridos de cada año usando os.path.join\n",
    "recorridos_2024_path = os.path.join(BASE_DIR, '..', 'data', 'raw', 'recorridos', 'trips_2024.csv')\n",
    "recorridos_2023_path = os.path.join(BASE_DIR, '..', 'data', 'raw', 'recorridos', 'trips_2023.csv')\n",
    "recorridos_2022_path = os.path.join(BASE_DIR, '..', 'data', 'raw', 'recorridos', 'trips_2022.csv')\n",
    "recorridos_2021_path = os.path.join(BASE_DIR, '..', 'data', 'raw', 'recorridos', 'trips_2021.csv')\n",
    "recorridos_2020_path = os.path.join(BASE_DIR, '..', 'data', 'raw', 'recorridos', 'trips_2020.csv')"
   ]
  },
  {
   "cell_type": "code",
   "execution_count": null,
   "metadata": {
    "vscode": {
     "languageId": "perl"
    }
   },
   "outputs": [
    {
     "name": "stderr",
     "output_type": "stream",
     "text": [
      "/Users/isabelcastaneda/Desktop/Machine Learning Udesa/proyecto_final/BA_BICIS_MyC/src_data/basic_preprocessing.py:87: DtypeWarning: Columns (17,18) have mixed types. Specify dtype option on import or set low_memory=False.\n",
      "  df_2021 = pd.read_csv(csv_2021)\n"
     ]
    }
   ],
   "source": [
    "importlib.reload(bp)\n",
    "df_recs = bp.limpiar_recorridos(\n",
    "    recorridos_2024_path,\n",
    "    recorridos_2023_path,\n",
    "    recorridos_2022_path,\n",
    "    recorridos_2021_path,\n",
    "    recorridos_2020_path\n",
    ")\n",
    "\n",
    "# guardamos df_recs en un archivo csv\n",
    "df_recs.to_csv(os.path.join(BASE_DIR, '..', 'data', 'clean', 'recorridos_ecobici.csv'), index=False)"
   ]
  }
 ],
 "metadata": {
  "kernelspec": {
   "display_name": "base",
   "language": "python",
   "name": "python3"
  },
  "language_info": {
   "codemirror_mode": {
    "name": "ipython",
    "version": 3
   },
   "file_extension": ".py",
   "mimetype": "text/x-python",
   "name": "python",
   "nbconvert_exporter": "python",
   "pygments_lexer": "ipython3",
   "version": "3.12.2"
  }
 },
 "nbformat": 4,
 "nbformat_minor": 5
}
