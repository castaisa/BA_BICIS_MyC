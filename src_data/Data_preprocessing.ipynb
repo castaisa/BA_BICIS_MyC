{
 "cells": [
  {
   "cell_type": "markdown",
   "metadata": {},
   "source": [
    "# Preprocesamiento de los datos"
   ]
  },
  {
   "cell_type": "code",
   "execution_count": null,
   "id": "2c6891db",
   "metadata": {},
   "outputs": [],
   "source": [
    "import numpy as np\n",
    "import pandas as pd\n",
    "import matplotlib.pyplot as plt\n",
    "import seaborn as sns"
   ]
  },
  {
   "cell_type": "markdown",
   "id": "a12a414a",
   "metadata": {},
   "source": [
    "Preprocesamos los datos de usuarios:\n",
    "- eliminar la última columna qu eno esta en 2024\n",
    "- pasar al mismo formato (sacar comillas donde corresponde)\n",
    "- eliminar primera filea de features"
   ]
  },
  {
   "cell_type": "code",
   "execution_count": null,
   "id": "1f2d7ba5",
   "metadata": {},
   "outputs": [],
   "source": []
  }
 ],
 "metadata": {
  "kernelspec": {
   "display_name": "base",
   "language": "python",
   "name": "python3"
  },
  "language_info": {
   "name": "python",
   "version": "3.12.4"
  }
 },
 "nbformat": 4,
 "nbformat_minor": 5
}
