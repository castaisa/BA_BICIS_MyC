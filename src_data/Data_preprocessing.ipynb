{
 "cells": [
  {
   "cell_type": "markdown",
   "metadata": {},
   "source": [
    "# Preprocesamiento de los datos"
   ]
  },
  {
   "cell_type": "code",
   "execution_count": 15,
   "id": "2c6891db",
   "metadata": {},
   "outputs": [],
   "source": [
    "import numpy as np\n",
    "import pandas as pd\n",
    "import matplotlib.pyplot as plt\n",
    "import seaborn as sns\n",
    "import os\n",
    "import importlib"
   ]
  },
  {
   "cell_type": "code",
   "execution_count": 16,
   "metadata": {},
   "outputs": [],
   "source": [
    "import basic_preprocessing as bp"
   ]
  },
  {
   "cell_type": "markdown",
   "id": "a12a414a",
   "metadata": {},
   "source": [
    "### Usuarios\n",
    "Preprocesamos los datos de usuarios:\n",
    "- eliminar la última columna qu eno esta en 2024\n",
    "- pasar al mismo formato (sacar comillas donde corresponde)\n",
    "- eliminar primera filea de features"
   ]
  },
  {
   "cell_type": "code",
   "execution_count": 14,
   "metadata": {
    "vscode": {
     "languageId": "perl"
    }
   },
   "outputs": [],
   "source": [
    "# Definimos los paths para los archivos de usuarios de cada año usando os.path.join\n",
    "BASE_DIR = os.getcwd()\n",
    "\n",
    "usuarios_2023_path = os.path.join(BASE_DIR, '..', 'data', 'raw', 'usuarios', 'usuarios_ecobici_2023.csv')\n",
    "usuarios_2022_path = os.path.join(BASE_DIR, '..', 'data', 'raw', 'usuarios', 'usuarios_ecobici_2022.csv')\n",
    "usuarios_2021_path = os.path.join(BASE_DIR, '..', 'data', 'raw', 'usuarios', 'usuarios_ecobici_2021.csv')\n",
    "usuarios_2020_path = os.path.join(BASE_DIR, '..', 'data', 'raw', 'usuarios', 'usuarios_ecobici_2020.csv')\n",
    "usuarios_2024_path = os.path.join(BASE_DIR, '..', 'data', 'raw', 'usuarios', 'usuarios_ecobici_2024.csv')"
   ]
  },
  {
   "cell_type": "code",
   "execution_count": null,
   "metadata": {
    "vscode": {
     "languageId": "perl"
    }
   },
   "outputs": [
    {
     "name": "stderr",
     "output_type": "stream",
     "text": [
      "c:\\Users\\felic\\OneDrive\\Documentos\\GitHub\\TPsM-todos\\BA_BICIS_MyC\\src_data\\basic_preprocessing.py:5: DtypeWarning: Columns (2) have mixed types. Specify dtype option on import or set low_memory=False.\n",
      "  df = pd.read_csv(csv_path)\n"
     ]
    }
   ],
   "source": [
    "importlib.reload(bp)\n",
    "df_combined = bp.unite_usuarios(\n",
    "    usuarios_2024_path,\n",
    "    usuarios_2023_path,\n",
    "    usuarios_2022_path,\n",
    "    usuarios_2021_path,\n",
    "    usuarios_2020_path\n",
    ")\n",
    "\n",
    "# usar solo los datos hasta agosto de 2024"
   ]
  }
 ],
 "metadata": {
  "kernelspec": {
   "display_name": "base",
   "language": "python",
   "name": "python3"
  },
  "language_info": {
   "codemirror_mode": {
    "name": "ipython",
    "version": 3
   },
   "file_extension": ".py",
   "mimetype": "text/x-python",
   "name": "python",
   "nbconvert_exporter": "python",
   "pygments_lexer": "ipython3",
   "version": "3.12.4"
  }
 },
 "nbformat": 4,
 "nbformat_minor": 5
}
