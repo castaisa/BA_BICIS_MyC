{
 "cells": [
  {
   "cell_type": "markdown",
   "id": "9afadc79",
   "metadata": {},
   "source": [
    "# Features 2\n",
    "Acá probamos diferentes modelos para las features 2.\n",
    "|hora|dia_semana|mes|es_feriado|total_bicis_salieron_global|pct_mujeres_salieron_global|pct_hombres_salieron_global|q1_edad_salieron_global|media_edad_salieron_global|q3_edad_salieron_global|pct_iconic_salieron_global|pct_fit_salieron_global|bicis_salieron_estacion_2| ... | bicis_salieron_estacion_x|llegadas_estacion_2_h1| ...|llegadas_estacion_x_h24|target_estacion_2| ... |target_estacion_x|"
   ]
  },
  {
   "cell_type": "code",
   "execution_count": 10,
   "id": "145d1edc",
   "metadata": {},
   "outputs": [],
   "source": [
    "import numpy as np\n",
    "import matplotlib.pyplot as plt\n",
    "import seaborn as sns\n",
    "import os\n",
    "import pandas as pd\n",
    "import importlib"
   ]
  },
  {
   "cell_type": "code",
   "execution_count": 6,
   "id": "66edf31e",
   "metadata": {},
   "outputs": [],
   "source": [
    "import models_f2 as md2\n",
    "import feature_engineering as fe"
   ]
  },
  {
   "cell_type": "code",
   "execution_count": 7,
   "id": "2dfca353",
   "metadata": {},
   "outputs": [],
   "source": [
    "BASE_DIR = os.getcwd()\n",
    "train_f2_path = os.path.join(BASE_DIR, '..', '..', 'data', 'processed', 'features2', 'train_dataset_features2.csv')\n",
    "val_f2_path = os.path.join(BASE_DIR, '..', '..', 'data', 'processed', 'features2', 'val_dataset_features2.csv')\n",
    "test_f2_path = os.path.join(BASE_DIR, '..', '..','data', 'processed', 'features2', 'test_dataset_features2.csv')"
   ]
  },
  {
   "cell_type": "code",
   "execution_count": 8,
   "id": "2650e09d",
   "metadata": {},
   "outputs": [],
   "source": [
    "train_f2 = pd.read_csv(train_f2_path)\n",
    "val_f2 = pd.read_csv(val_f2_path)\n",
    "test_f2 = pd.read_csv(test_f2_path)"
   ]
  },
  {
   "cell_type": "markdown",
   "id": "ef1d8ca2",
   "metadata": {},
   "source": [
    "Creamos un dataset que solo usa la estación de la facultad de derecho porque es la que más viajes tiene."
   ]
  },
  {
   "cell_type": "code",
   "execution_count": 18,
   "id": "2731cb8e",
   "metadata": {},
   "outputs": [
    {
     "name": "stdout",
     "output_type": "stream",
     "text": [
      "Dataset filtrado: (12108, 5082) → (12108, 402) (estaciones: [202])\n",
      "=== DIVISIÓN DATASET ESTACIÓN 202 ===\n",
      "Shape original: (12108, 402)\n",
      "Features (X): (12108, 40)\n",
      "Target (y): (12108,)\n",
      "Target columna: target_estacion_202\n",
      "Rango de y: 0.00 - 38.00\n",
      "Media de y: 2.81\n",
      "Features incluidos: 40\n",
      "\n",
      "📊 ESTADÍSTICAS DEL TARGET:\n",
      "  - Valores nulos: 0\n",
      "  - Valores cero: 4521\n",
      "  - Percentiles: 25%=0.00, 50%=1.00, 75%=4.00\n",
      "Dataset filtrado: (1950, 4970) → (1950, 394) (estaciones: [202])\n",
      "Dataset dividido estación 202: X(1950, 40), y(1950,)\n",
      "Dataset filtrado: (2037, 5096) → (2037, 403) (estaciones: [202])\n",
      "Dataset dividido estación 202: X(2037, 40), y(2037,)\n"
     ]
    }
   ],
   "source": [
    "# 202\n",
    "importlib.reload(fe)\n",
    "df_filtrado_train_202 = fe.filtrar_dataset_por_estaciones(train_f2, [202], verbose=False)\n",
    "X_train_202, y_train_202, feature_names_train_202 = fe.dividir_dataset_estacion(df_filtrado_train_202, 202)\n",
    "\n",
    "df_filtrado_val_202 = fe.filtrar_dataset_por_estaciones(val_f2, [202], verbose=False)\n",
    "X_val_202, y_val_202, feature_names_val_202 = fe.dividir_dataset_estacion(df_filtrado_val_202, 202, verbose=False)\n",
    "\n",
    "df_filtrado_test_202 = fe.filtrar_dataset_por_estaciones(test_f2, [202], verbose=False)\n",
    "X_test_202, y_test_202, feature_names_test_202 = fe.dividir_dataset_estacion(df_filtrado_test_202, 202, verbose=False)\n",
    "\n"
   ]
  },
  {
   "cell_type": "markdown",
   "id": "4626ecd1",
   "metadata": {},
   "source": [
    "# Modelos básicos\n",
    "Corremos modelos básicos con hiperparámetros arbitrarios para ver como es la situación actual. Mostramos para cada modelo las métricas."
   ]
  },
  {
   "cell_type": "code",
   "execution_count": null,
   "id": "69b8c276",
   "metadata": {},
   "outputs": [],
   "source": []
  },
  {
   "cell_type": "markdown",
   "id": "ddcb9b14",
   "metadata": {},
   "source": [
    "# Visualización de las features 2\n",
    "Hacemos PCA y visualizamos, imprimimos estadísticas descriptivas y graficamos las distribuciones de las features. Cualquier cosa que ayude."
   ]
  },
  {
   "cell_type": "code",
   "execution_count": null,
   "id": "b9945a68",
   "metadata": {},
   "outputs": [],
   "source": []
  },
  {
   "cell_type": "markdown",
   "id": "1c169d16",
   "metadata": {},
   "source": [
    "# Feature engineering\n",
    "Acomodamos features, relacionamos, sacamos, reducimos la dimensionalidad, etc. para mejorar el modelo en base a lo que vimos en la visualización."
   ]
  },
  {
   "cell_type": "code",
   "execution_count": null,
   "id": "fe70e52c",
   "metadata": {},
   "outputs": [],
   "source": []
  },
  {
   "cell_type": "markdown",
   "id": "b332eb92",
   "metadata": {},
   "source": [
    "# Cross validation\n",
    "Elegimos los óptimos hiperparámetros."
   ]
  },
  {
   "cell_type": "code",
   "execution_count": null,
   "id": "9709aa8a",
   "metadata": {},
   "outputs": [],
   "source": []
  },
  {
   "cell_type": "markdown",
   "id": "3a07cdc8",
   "metadata": {},
   "source": [
    "# Entrenamientos finales\n",
    "Entrenamos los modelos finales con los hiperparámetros óptimos y guardamos los resultados."
   ]
  },
  {
   "cell_type": "code",
   "execution_count": null,
   "id": "641f9c8e",
   "metadata": {},
   "outputs": [],
   "source": []
  }
 ],
 "metadata": {
  "kernelspec": {
   "display_name": "base",
   "language": "python",
   "name": "python3"
  },
  "language_info": {
   "codemirror_mode": {
    "name": "ipython",
    "version": 3
   },
   "file_extension": ".py",
   "mimetype": "text/x-python",
   "name": "python",
   "nbconvert_exporter": "python",
   "pygments_lexer": "ipython3",
   "version": "3.12.4"
  }
 },
 "nbformat": 4,
 "nbformat_minor": 5
}
